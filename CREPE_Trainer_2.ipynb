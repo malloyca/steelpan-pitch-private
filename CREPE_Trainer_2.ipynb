{
  "nbformat": 4,
  "nbformat_minor": 2,
  "metadata": {
    "language_info": {
      "codemirror_mode": {
        "name": "ipython",
        "version": 3
      },
      "file_extension": ".py",
      "mimetype": "text/x-python",
      "name": "python",
      "nbconvert_exporter": "python",
      "pygments_lexer": "ipython3",
      "version": "3.8.8"
    },
    "orig_nbformat": 4,
    "kernelspec": {
      "name": "python3",
      "display_name": "Python 3.8.8 64-bit ('tf': conda)"
    },
    "interpreter": {
      "hash": "e92005438139a4419431294f52efbb345a0cf152313ea7bfec8e749b14196e5a"
    },
    "colab": {
      "name": "Copy of CREPE_Trainer.ipynb",
      "provenance": [],
      "collapsed_sections": []
    }
  },
  "cells": [
    {
      "cell_type": "markdown",
      "source": [
        "# Changes in this version\r\n",
        "* Optimize loading & processing audio for speed\r\n",
        "* Split loading audio into 2 functions"
      ],
      "metadata": {}
    },
    {
      "cell_type": "markdown",
      "source": [
        "# CREPE Trainer\n",
        "\n",
        "This notebook can create CREPE models and train them on steelpan data.\n",
        "\n",
        "To use the notebook as is, download the downsampled audio (\"tiny_16kHz/\") and make sure that the dirpaths for the train and validation sets are correct. Also download the .h5 files from the CREPE repo's \"models\" branch if you want to train from existing weights."
      ],
      "metadata": {
        "id": "XZ5vVsiSNaUN"
      }
    },
    {
      "cell_type": "code",
      "execution_count": 1,
      "source": [
        "import tensorflow as tf\r\n",
        "import numpy as np\r\n",
        "\r\n",
        "print(tf.__version__)\r\n",
        "# This code allows for the GPU to be utilized properly.\r\n",
        "tf.autograph.set_verbosity(0)\r\n",
        "physical_devices = tf.config.list_physical_devices(\"GPU\")\r\n",
        "try:\r\n",
        "    tf.config.experimental.set_memory_growth(physical_devices[0], True)\r\n",
        "except:\r\n",
        "    pass\r\n",
        "\r\n",
        "print(physical_devices)\r\n",
        "print(\"If the above list is empty, then TF won't use any accelerator\")"
      ],
      "outputs": [
        {
          "output_type": "stream",
          "name": "stdout",
          "text": [
            "2.3.0\n",
            "[PhysicalDevice(name='/physical_device:GPU:0', device_type='GPU')]\n",
            "If the above list is empty, then TF won't use any accelerator\n"
          ]
        }
      ],
      "metadata": {
        "id": "GNU0hEyjM7QZ",
        "colab": {
          "base_uri": "https://localhost:8080/"
        },
        "outputId": "9f42496f-9cdd-43c7-ce58-414972f00f60"
      }
    },
    {
      "cell_type": "markdown",
      "source": [
        "## Model builder\r\n",
        "\r\n",
        "This code is modified a bit from the repo as it normally stores the models in a dict, which I think is unnecessary for our purposes.\r\n",
        "\r\n",
        "You can also load weights from an existing .h5 file. I began training by loading the weights of \"model-full.h5\" from the marl/crepe models branch. The weights for the model trained on steelpan data is named \"new-crepe-full.h5\" and is in the Drive folder."
      ],
      "metadata": {
        "id": "0icYDMG8PZ1I"
      }
    },
    {
      "cell_type": "code",
      "execution_count": 2,
      "source": [
        "import os\r\n",
        "\r\n",
        "# store as a global variable, since we only support a few models for now\r\n",
        "models = {\r\n",
        "    'tiny': None,\r\n",
        "    'small': None,\r\n",
        "    'medium': None,\r\n",
        "    'large': None,\r\n",
        "    'full': None\r\n",
        "}\r\n",
        "\r\n",
        "# the model is trained on 16kHz audio\r\n",
        "model_srate = 16000\r\n",
        "model_size = \"medium\"\r\n",
        "\r\n",
        "def make_model(model_capacity, metrics, weights=None):\r\n",
        "    '''\r\n",
        "    model_capacity: tiny, small, medium, large, full\r\n",
        "    weights: path of .h5 weights file\r\n",
        "    '''\r\n",
        "\r\n",
        "    from tensorflow.keras.layers import Input, Reshape, Conv2D, BatchNormalization\r\n",
        "    from tensorflow.keras.layers import MaxPool2D, Dropout, Permute, Flatten, Dense\r\n",
        "    from tensorflow.keras.models import Model\r\n",
        "\r\n",
        "    capacity_multiplier = {\r\n",
        "        'tiny': 4, 'small': 8, 'medium': 16, 'large': 24, 'full': 32\r\n",
        "    }[model_capacity]\r\n",
        "\r\n",
        "    layers = [1, 2, 3, 4, 5, 6]\r\n",
        "    filters = [n * capacity_multiplier for n in [32, 4, 4, 4, 8, 16]]\r\n",
        "    widths = [512, 64, 64, 64, 64, 64]\r\n",
        "    strides = [(4, 1), (1, 1), (1, 1), (1, 1), (1, 1), (1, 1)]\r\n",
        "\r\n",
        "    x = Input(shape=(1024,), name='input', dtype='float32')\r\n",
        "    y = Reshape(target_shape=(1024, 1, 1), name='input-reshape')(x)\r\n",
        "\r\n",
        "    for l, f, w, s in zip(layers, filters, widths, strides):\r\n",
        "        y = Conv2D(f, (w, 1), strides=s, padding='same',\r\n",
        "                    activation='relu', name=\"conv%d\" % l)(y)\r\n",
        "        y = BatchNormalization(name=\"conv%d-BN\" % l)(y)\r\n",
        "        y = MaxPool2D(pool_size=(2, 1), strides=None, padding='valid',\r\n",
        "                        name=\"conv%d-maxpool\" % l)(y)\r\n",
        "        y = Dropout(0.25, name=\"conv%d-dropout\" % l)(y)\r\n",
        "\r\n",
        "    y = Permute((2, 1, 3), name=\"transpose\")(y)\r\n",
        "    y = Flatten(name=\"flatten\")(y)\r\n",
        "    y = Dense(360, activation='sigmoid', name=\"classifier\")(y)\r\n",
        "\r\n",
        "    model = Model(inputs=x, outputs=y)\r\n",
        "\r\n",
        "    if weights != None:\r\n",
        "        model.load_weights(weights)\r\n",
        "    model.compile('adam', 'binary_crossentropy', metrics=metrics)\r\n",
        "\r\n",
        "    models[model_capacity] = model\r\n",
        "\r\n",
        "    return model"
      ],
      "outputs": [],
      "metadata": {
        "id": "pamdqnF5M7Qe"
      }
    },
    {
      "cell_type": "code",
      "execution_count": 3,
      "source": [
        "def db_to_pow(db):\r\n",
        "  return 10**(db / 10)"
      ],
      "outputs": [],
      "metadata": {
        "id": "VDmcMvX3nzD8"
      }
    },
    {
      "cell_type": "code",
      "execution_count": 4,
      "source": [
        "def frame_energy(frame):\r\n",
        "  '''Calculates the average energy for a frame\r\n",
        "    \r\n",
        "    Parameters\r\n",
        "    ----------\r\n",
        "    frame : np.array\r\n",
        "      audio frame in np.float32 format\r\n",
        "\r\n",
        "    Returns\r\n",
        "    -------\r\n",
        "    average_energy : float\r\n",
        "      Average energy level for frame\r\n",
        "  '''\r\n",
        "\r\n",
        "  # Square the sample values to convert to energy values\r\n",
        "  energy = frame**2\r\n",
        "\r\n",
        "  # Sum the energy values to get total energy\r\n",
        "  total_energy = np.sum(energy)\r\n",
        "\r\n",
        "  # Divide by length to get average energy\r\n",
        "  return total_energy / len(frame)"
      ],
      "outputs": [],
      "metadata": {
        "id": "SIx7SuJTnzD8"
      }
    },
    {
      "cell_type": "markdown",
      "source": [
        "## Loading .wav files\n",
        "\n",
        "An issue we might need to discuss is the truncation of the data. Since not all of the steelpan audio is the same length, I've made it so that all the audio is just trimmed to the length of the shortest audio file.\n",
        "\n",
        "To generate the labels, each filename is parsed to get the MIDI pitch. Audio data is returned in a 2D array and labels are returned in a 1D array."
      ],
      "metadata": {
        "id": "vzqsVMpAPmM2"
      }
    },
    {
      "cell_type": "markdown",
      "source": [
        "## Data formatting\n",
        "\n",
        "Audio is formatted according to how CREPE does it, but is formatted into batch format for input into model.fit(). Step size defaults to 10ms like in CREPE.\n",
        "\n",
        "The label data is scaled and encoded into one-hots to fit the model's bucketed output. There are 360 outputs, but only 29 actually appear as labels (MIDI pitches 60-89).\n",
        "\n",
        "Data is being trimmed by dBFS levels, which I've set to -30 for now. Anything -40 and below trims almost nothing, and -30 trims a good amount (I think it does need more tuning).\n",
        "\n",
        "The one-hotted labels have Gaussian blurring applied to them too (as specified in the other notebook)."
      ],
      "metadata": {
        "id": "LUIdeIZOQoTJ"
      }
    },
    {
      "cell_type": "code",
      "execution_count": 5,
      "source": [
        "import soundfile, os\r\n",
        "def process_audio_file(filepath, threshold_pow, step_size=10):\r\n",
        "    '''\r\n",
        "        Processes a single audio file by formatting it into frames and extracting the label.\r\n",
        "\r\n",
        "        Parameters\r\n",
        "        ----------\r\n",
        "        filepath : string\r\n",
        "        Filepath for audio.\r\n",
        "\r\n",
        "        threshold_pow : float\r\n",
        "        Frames with average energy less than this are clipped.\r\n",
        "\r\n",
        "        step_size : int\r\n",
        "        Space between each frame (in milliseconds).\r\n",
        "\r\n",
        "        Returns\r\n",
        "        -------\r\n",
        "        frames : np.array dtype=float\r\n",
        "        The normalized and clipped audio, in frame form.\r\n",
        "\r\n",
        "        labels : int[]\r\n",
        "        The pitch of the audio file, in MIDI. It's duplicated\r\n",
        "        because the model requires one label for each frame.\r\n",
        "    '''\r\n",
        "    audio, _ = soundfile.read(filepath)\r\n",
        "\r\n",
        "    # Format the audio data into frames\r\n",
        "    hop_length = int(model_srate * step_size / 1000)\r\n",
        "    n_frames = 1 + int((len(audio) - 1024) / hop_length)\r\n",
        "    frames = as_strided(audio, shape=(1024, n_frames),\r\n",
        "                        strides=(audio.itemsize, hop_length * audio.itemsize))\r\n",
        "    frames = frames.transpose().copy()\r\n",
        "\r\n",
        "    # Find the first and last frames where levels meet threshold_pow\r\n",
        "    for f in range(len(frames)):\r\n",
        "        if frame_energy(frames[f]) > threshold_pow:\r\n",
        "            start_frame = f\r\n",
        "            break\r\n",
        "\r\n",
        "    for f in range(len(frames) - 1, -1, -1):\r\n",
        "        if frame_energy(frames[f]) > threshold_pow:\r\n",
        "            end_frame = f\r\n",
        "            break\r\n",
        "\r\n",
        "    frames = frames[start_frame:end_frame]\r\n",
        "\r\n",
        "    # Normalize each frame\r\n",
        "    frames -= np.mean(frames, axis=1)[:, np.newaxis]\r\n",
        "    frames /= np.std(frames, axis=1)[:, np.newaxis]\r\n",
        "\r\n",
        "    # Duplicate the label for these frames the set amount of times for the target data\r\n",
        "    labels = [int(os.path.basename(filepath).split(\"_\")[0]) for _ in range(end_frame - start_frame)]\r\n",
        "\r\n",
        "    return frames, labels\r\n",
        "    "
      ],
      "outputs": [],
      "metadata": {}
    },
    {
      "cell_type": "code",
      "execution_count": 6,
      "source": [
        "from os import walk\r\n",
        "import soundfile\r\n",
        "from numpy.lib.stride_tricks import as_strided\r\n",
        "\r\n",
        "def load_audio_batch(dir, threshold_db):\r\n",
        "    '''\r\n",
        "        Loads and processes all audio files from a directory, returning a single\r\n",
        "        array of audio frames and labels. Will load audio from nested dirs as well.\r\n",
        "\r\n",
        "        Parameters\r\n",
        "        ----------\r\n",
        "        dir : string\r\n",
        "        Starting dirpath to load audio from.\r\n",
        "\r\n",
        "        threshold_db : float\r\n",
        "        Frames with average energy less than this are clipped (this is converted dB -> power first).\r\n",
        "\r\n",
        "        Returns\r\n",
        "        -------\r\n",
        "        frames_list : np.array dtype=float\r\n",
        "        Audio frames from all loaded audio files.\r\n",
        "\r\n",
        "        labels_list : np.array dtype=float\r\n",
        "        The labels for the model. It is formatted as a one-hot vector\r\n",
        "        with Gaussian blur applied, so indices closer to the correct\r\n",
        "        index are closer to 1 (e.g. if the correct index is 200 then\r\n",
        "        index 198 might be 0.953 but index 50 might be 0.067).\r\n",
        "    '''\r\n",
        "\r\n",
        "    frames_list = []\r\n",
        "    labels_list = []\r\n",
        "    threshold_pow = db_to_pow(threshold_db)\r\n",
        "\r\n",
        "    for (dirpath, _, filenames) in walk(dir):\r\n",
        "        for filename in filenames:\r\n",
        "            frames, labels = process_audio_file(dirpath + \"/\" + filename, threshold_pow)\r\n",
        "\r\n",
        "            frames_list.append(frames)\r\n",
        "            labels_list += labels\r\n",
        "\r\n",
        "    # Assemble frames from all files into one array\r\n",
        "    frames_list = np.concatenate(frames_list)\r\n",
        "\r\n",
        "    # Convert MIDI to CREPE cents one-hot vector (0-360)\r\n",
        "    labels_list = np.array(tf.one_hot(5 * (np.array(labels_list) - 24), 360))\r\n",
        "\r\n",
        "    # Apply Gaussian blur\r\n",
        "    cents_i = np.arange(360)\r\n",
        "    for i in range(len(labels_list)):\r\n",
        "        cents_true = np.where(labels_list[i] == 1)[0][0]\r\n",
        "        labels_list[i] = np.exp(-((20 *(cents_i - cents_true)) ** 2) / (2 * (25 ** 2)))\r\n",
        "\r\n",
        "    return frames_list, labels_list"
      ],
      "outputs": [],
      "metadata": {
        "id": "UMdS1JKxM7Qf"
      }
    },
    {
      "cell_type": "markdown",
      "source": [
        "## Model + Metrics\n",
        "\n",
        "I only know these three metrics, but there's probably some useful ones that I'm missing."
      ],
      "metadata": {
        "id": "M6wrQ6kqR7L6"
      }
    },
    {
      "cell_type": "code",
      "execution_count": 7,
      "source": [
        "metrics = [\"Accuracy\", \"Precision\", \"Recall\"]\r\n",
        "model = make_model(model_size, metrics, weights=\"model-\" + model_size + \".h5\")\r\n",
        "model.summary()"
      ],
      "outputs": [
        {
          "output_type": "stream",
          "name": "stdout",
          "text": [
            "Model: \"functional_1\"\n",
            "_________________________________________________________________\n",
            "Layer (type)                 Output Shape              Param #   \n",
            "=================================================================\n",
            "input (InputLayer)           [(None, 1024)]            0         \n",
            "_________________________________________________________________\n",
            "input-reshape (Reshape)      (None, 1024, 1, 1)        0         \n",
            "_________________________________________________________________\n",
            "conv1 (Conv2D)               (None, 256, 1, 512)       262656    \n",
            "_________________________________________________________________\n",
            "conv1-BN (BatchNormalization (None, 256, 1, 512)       2048      \n",
            "_________________________________________________________________\n",
            "conv1-maxpool (MaxPooling2D) (None, 128, 1, 512)       0         \n",
            "_________________________________________________________________\n",
            "conv1-dropout (Dropout)      (None, 128, 1, 512)       0         \n",
            "_________________________________________________________________\n",
            "conv2 (Conv2D)               (None, 128, 1, 64)        2097216   \n",
            "_________________________________________________________________\n",
            "conv2-BN (BatchNormalization (None, 128, 1, 64)        256       \n",
            "_________________________________________________________________\n",
            "conv2-maxpool (MaxPooling2D) (None, 64, 1, 64)         0         \n",
            "_________________________________________________________________\n",
            "conv2-dropout (Dropout)      (None, 64, 1, 64)         0         \n",
            "_________________________________________________________________\n",
            "conv3 (Conv2D)               (None, 64, 1, 64)         262208    \n",
            "_________________________________________________________________\n",
            "conv3-BN (BatchNormalization (None, 64, 1, 64)         256       \n",
            "_________________________________________________________________\n",
            "conv3-maxpool (MaxPooling2D) (None, 32, 1, 64)         0         \n",
            "_________________________________________________________________\n",
            "conv3-dropout (Dropout)      (None, 32, 1, 64)         0         \n",
            "_________________________________________________________________\n",
            "conv4 (Conv2D)               (None, 32, 1, 64)         262208    \n",
            "_________________________________________________________________\n",
            "conv4-BN (BatchNormalization (None, 32, 1, 64)         256       \n",
            "_________________________________________________________________\n",
            "conv4-maxpool (MaxPooling2D) (None, 16, 1, 64)         0         \n",
            "_________________________________________________________________\n",
            "conv4-dropout (Dropout)      (None, 16, 1, 64)         0         \n",
            "_________________________________________________________________\n",
            "conv5 (Conv2D)               (None, 16, 1, 128)        524416    \n",
            "_________________________________________________________________\n",
            "conv5-BN (BatchNormalization (None, 16, 1, 128)        512       \n",
            "_________________________________________________________________\n",
            "conv5-maxpool (MaxPooling2D) (None, 8, 1, 128)         0         \n",
            "_________________________________________________________________\n",
            "conv5-dropout (Dropout)      (None, 8, 1, 128)         0         \n",
            "_________________________________________________________________\n",
            "conv6 (Conv2D)               (None, 8, 1, 256)         2097408   \n",
            "_________________________________________________________________\n",
            "conv6-BN (BatchNormalization (None, 8, 1, 256)         1024      \n",
            "_________________________________________________________________\n",
            "conv6-maxpool (MaxPooling2D) (None, 4, 1, 256)         0         \n",
            "_________________________________________________________________\n",
            "conv6-dropout (Dropout)      (None, 4, 1, 256)         0         \n",
            "_________________________________________________________________\n",
            "transpose (Permute)          (None, 1, 4, 256)         0         \n",
            "_________________________________________________________________\n",
            "flatten (Flatten)            (None, 1024)              0         \n",
            "_________________________________________________________________\n",
            "classifier (Dense)           (None, 360)               369000    \n",
            "=================================================================\n",
            "Total params: 5,879,464\n",
            "Trainable params: 5,877,288\n",
            "Non-trainable params: 2,176\n",
            "_________________________________________________________________\n"
          ]
        }
      ],
      "metadata": {
        "id": "r2zhlSGiM7Qg",
        "outputId": "13de043c-c2c7-49f3-8e02-fc9ca571b0ea"
      }
    },
    {
      "cell_type": "markdown",
      "source": [
        "## Loading/Formatting data"
      ],
      "metadata": {
        "id": "uP4v_bqtSMWe"
      }
    },
    {
      "cell_type": "code",
      "execution_count": 8,
      "source": [
        "train, labels = load_audio_batch(\"tiny_16kHz/train\", -60)\r\n",
        "val, val_labels = load_audio_batch(\"tiny_16kHz/validation\", -60)"
      ],
      "outputs": [],
      "metadata": {
        "id": "8M3ZoJIiM7Qh"
      }
    },
    {
      "cell_type": "markdown",
      "source": [
        "## Training\n",
        "\n",
        "Any batch size larger than 256 is slower, and also has trouble fitting into VRAM. 20 epochs was an arbitrary choice, which took roughly an hour and a half on a 1650 super.\n",
        "\n",
        "This also saves the model's weights after training."
      ],
      "metadata": {
        "id": "bbCYJaC4Sio2"
      }
    },
    {
      "cell_type": "code",
      "execution_count": 9,
      "source": [
        "history = model.fit(x=train, y=labels, batch_size=256, epochs=20, validation_data=(val, val_labels))\r\n",
        "model.save_weights('new-crepe-' + model_size + '.h5')"
      ],
      "outputs": [
        {
          "output_type": "stream",
          "name": "stdout",
          "text": [
            "Epoch 1/20\n",
            "  2/300 [..............................] - ETA: 25s - loss: 0.0507 - accuracy: 0.0000e+00 - precision: 0.7580 - recall: 0.0465WARNING:tensorflow:Callbacks method `on_train_batch_end` is slow compared to the batch time (batch time: 0.0490s vs `on_train_batch_end` time: 0.1221s). Check your callbacks.\n",
            "300/300 [==============================] - 54s 179ms/step - loss: 0.0141 - accuracy: 0.0000e+00 - precision: 0.9603 - recall: 0.0697 - val_loss: 0.0099 - val_accuracy: 0.0000e+00 - val_precision: 0.9814 - val_recall: 0.0863\n",
            "Epoch 2/20\n",
            "300/300 [==============================] - 51s 169ms/step - loss: 0.0090 - accuracy: 0.0000e+00 - precision: 0.9901 - recall: 0.0874 - val_loss: 0.0098 - val_accuracy: 0.0000e+00 - val_precision: 0.9897 - val_recall: 0.0877\n",
            "Epoch 3/20\n",
            "300/300 [==============================] - 52s 172ms/step - loss: 0.0086 - accuracy: 0.0000e+00 - precision: 0.9955 - recall: 0.0889 - val_loss: 0.0099 - val_accuracy: 0.0000e+00 - val_precision: 0.9913 - val_recall: 0.0879\n",
            "Epoch 4/20\n",
            "300/300 [==============================] - 51s 170ms/step - loss: 0.0084 - accuracy: 0.0000e+00 - precision: 0.9976 - recall: 0.0896 - val_loss: 0.0098 - val_accuracy: 0.0000e+00 - val_precision: 0.9930 - val_recall: 0.0881\n",
            "Epoch 5/20\n",
            "300/300 [==============================] - 51s 169ms/step - loss: 0.0083 - accuracy: 0.0000e+00 - precision: 0.9981 - recall: 0.0899 - val_loss: 0.0098 - val_accuracy: 0.0000e+00 - val_precision: 0.9925 - val_recall: 0.0884\n",
            "Epoch 6/20\n",
            "300/300 [==============================] - 52s 173ms/step - loss: 0.0082 - accuracy: 0.0000e+00 - precision: 0.9987 - recall: 0.0902 - val_loss: 0.0098 - val_accuracy: 0.0000e+00 - val_precision: 0.9923 - val_recall: 0.0885\n",
            "Epoch 7/20\n",
            "300/300 [==============================] - 51s 169ms/step - loss: 0.0082 - accuracy: 0.0000e+00 - precision: 0.9991 - recall: 0.0903 - val_loss: 0.0098 - val_accuracy: 0.0000e+00 - val_precision: 0.9921 - val_recall: 0.0887\n",
            "Epoch 8/20\n",
            "300/300 [==============================] - 51s 169ms/step - loss: 0.0081 - accuracy: 0.0000e+00 - precision: 0.9991 - recall: 0.0905 - val_loss: 0.0097 - val_accuracy: 0.0000e+00 - val_precision: 0.9938 - val_recall: 0.0888\n",
            "Epoch 9/20\n",
            "300/300 [==============================] - 51s 171ms/step - loss: 0.0081 - accuracy: 0.0000e+00 - precision: 0.9993 - recall: 0.0906 - val_loss: 0.0098 - val_accuracy: 0.0000e+00 - val_precision: 0.9928 - val_recall: 0.0886\n",
            "Epoch 10/20\n",
            "300/300 [==============================] - 50s 167ms/step - loss: 0.0081 - accuracy: 0.0000e+00 - precision: 0.9994 - recall: 0.0906 - val_loss: 0.0097 - val_accuracy: 0.0000e+00 - val_precision: 0.9947 - val_recall: 0.0890\n",
            "Epoch 11/20\n",
            "300/300 [==============================] - 51s 170ms/step - loss: 0.0081 - accuracy: 0.0000e+00 - precision: 0.9993 - recall: 0.0906 - val_loss: 0.0098 - val_accuracy: 0.0000e+00 - val_precision: 0.9939 - val_recall: 0.0889\n",
            "Epoch 12/20\n",
            "300/300 [==============================] - 51s 170ms/step - loss: 0.0081 - accuracy: 0.0000e+00 - precision: 0.9994 - recall: 0.0907 - val_loss: 0.0099 - val_accuracy: 0.0000e+00 - val_precision: 0.9934 - val_recall: 0.0888\n",
            "Epoch 13/20\n",
            "300/300 [==============================] - 53s 176ms/step - loss: 0.0081 - accuracy: 0.0000e+00 - precision: 0.9995 - recall: 0.0907 - val_loss: 0.0097 - val_accuracy: 0.0000e+00 - val_precision: 0.9947 - val_recall: 0.0889\n",
            "Epoch 14/20\n",
            "300/300 [==============================] - 52s 172ms/step - loss: 0.0081 - accuracy: 0.0000e+00 - precision: 0.9997 - recall: 0.0907 - val_loss: 0.0097 - val_accuracy: 0.0000e+00 - val_precision: 0.9962 - val_recall: 0.0891\n",
            "Epoch 15/20\n",
            "300/300 [==============================] - 51s 170ms/step - loss: 0.0081 - accuracy: 0.0000e+00 - precision: 0.9995 - recall: 0.0907 - val_loss: 0.0097 - val_accuracy: 0.0000e+00 - val_precision: 0.9952 - val_recall: 0.0890\n",
            "Epoch 16/20\n",
            "300/300 [==============================] - 50s 168ms/step - loss: 0.0080 - accuracy: 0.0000e+00 - precision: 0.9997 - recall: 0.0908 - val_loss: 0.0097 - val_accuracy: 0.0000e+00 - val_precision: 0.9944 - val_recall: 0.0890\n",
            "Epoch 17/20\n",
            "300/300 [==============================] - 51s 169ms/step - loss: 0.0080 - accuracy: 0.0000e+00 - precision: 0.9997 - recall: 0.0908 - val_loss: 0.0097 - val_accuracy: 0.0000e+00 - val_precision: 0.9946 - val_recall: 0.0892\n",
            "Epoch 18/20\n",
            "300/300 [==============================] - 52s 174ms/step - loss: 0.0080 - accuracy: 0.0000e+00 - precision: 0.9996 - recall: 0.0908 - val_loss: 0.0097 - val_accuracy: 0.0000e+00 - val_precision: 0.9955 - val_recall: 0.0895\n",
            "Epoch 19/20\n",
            "300/300 [==============================] - 50s 166ms/step - loss: 0.0080 - accuracy: 0.0000e+00 - precision: 0.9995 - recall: 0.0908 - val_loss: 0.0097 - val_accuracy: 0.0000e+00 - val_precision: 0.9954 - val_recall: 0.0892\n",
            "Epoch 20/20\n",
            "300/300 [==============================] - 50s 166ms/step - loss: 0.0080 - accuracy: 0.0000e+00 - precision: 0.9999 - recall: 0.0908 - val_loss: 0.0097 - val_accuracy: 0.0000e+00 - val_precision: 0.9960 - val_recall: 0.0894\n"
          ]
        }
      ],
      "metadata": {
        "id": "jyDFC64UM7Qi",
        "outputId": "f50e29f5-1abf-4c3e-b058-1cf47803b544"
      }
    },
    {
      "cell_type": "markdown",
      "source": [
        "## Results\n",
        "\n",
        "This model has pretty normal graphs except for accuracy, which confuses me so much. Please take a look and see if you can find anything wrong with the data formatting or training, as the accuraccy *does* improve over epochs, but starts out at near 0. Precision and Recall are also suspiciously high, at 0.99+ each. \n",
        "\n",
        "It's possible this is simply because I used the wrong metrics, as the model seems to be pretty accurate for individual files from the training/validation set (see below)."
      ],
      "metadata": {
        "id": "T35K66bzTArf"
      }
    },
    {
      "cell_type": "code",
      "execution_count": 10,
      "source": [
        "from matplotlib import pyplot as plt\r\n",
        "def plot(data, labels, x, y):\r\n",
        "    '''Plot statistics. Takes a list of lists and list of labels.'''\r\n",
        "    \r\n",
        "    print(y + \" vs. \" + x)\r\n",
        "    for i in range(len(data)):\r\n",
        "        plt.plot(data[i], label=labels[i])\r\n",
        "    plt.xlabel(x)\r\n",
        "    plt.ylabel(y)\r\n",
        "    plt.legend()\r\n",
        "    plt.show()\r\n",
        "    print()"
      ],
      "outputs": [],
      "metadata": {
        "id": "DsTOkacZM7Qi"
      }
    },
    {
      "cell_type": "code",
      "execution_count": 11,
      "source": [
        "plot((history.history[\"loss\"], ), (\"Loss\", ), \"Epoch\", \"Loss\")\r\n",
        "plot((history.history[\"accuracy\"], history.history[\"precision\"], history.history[\"recall\"], ), (\"Accuracy\", \"Precision\", \"Recall\", ), \"Epoch\", \"Accuracy, Precision, Recall\")"
      ],
      "outputs": [
        {
          "output_type": "stream",
          "name": "stdout",
          "text": [
            "Loss vs. Epoch\n"
          ]
        },
        {
          "output_type": "display_data",
          "data": {
            "image/png": "[encoded data removed]",
            "text/plain": [
              "<Figure size 432x288 with 1 Axes>"
            ]
          },
          "metadata": {
            "needs_background": "light"
          }
        },
        {
          "output_type": "stream",
          "name": "stdout",
          "text": [
            "\n",
            "Accuracy, Precision, Recall vs. Epoch\n"
          ]
        },
        {
          "output_type": "display_data",
          "data": {
            "image/png": "[encoded data removed]",
            "text/plain": [
              "<Figure size 432x288 with 1 Axes>"
            ]
          },
          "metadata": {
            "needs_background": "light"
          }
        },
        {
          "output_type": "stream",
          "name": "stdout",
          "text": [
            "\n"
          ]
        }
      ],
      "metadata": {
        "id": "5eodNFe6M7Qj",
        "outputId": "74354b83-d530-4ff7-ca4e-3f7ab8692b20"
      }
    },
    {
      "cell_type": "markdown",
      "source": [
        "## Testing for individual sound files\n",
        "\n",
        "The model seems to be pretty good for the first couple of seconds, but then becomes very inaccurate as the pitch fades."
      ],
      "metadata": {
        "id": "5kdaOzg3srSD"
      }
    },
    {
      "cell_type": "code",
      "execution_count": 12,
      "source": [
        "import soundfile\r\n",
        "def load_audio(file):\r\n",
        "    wav, sr = soundfile.read(file)\r\n",
        "    return wav, sr"
      ],
      "outputs": [],
      "metadata": {
        "id": "qdMWs4vsM7Qk"
      }
    },
    {
      "cell_type": "code",
      "execution_count": 13,
      "source": [
        "from numpy.lib.stride_tricks import as_strided\r\n",
        "def predict(audio, sr, step_size=10):\r\n",
        "    if len(audio.shape) == 2:\r\n",
        "        audio = audio.mean(1)  # make mono\r\n",
        "    audio = audio.astype(np.float32)\r\n",
        "    if sr != model_srate:\r\n",
        "        # resample audio if necessary\r\n",
        "        from resampy import resample\r\n",
        "        audio = resample(audio, sr, model_srate)\r\n",
        "\r\n",
        "    # make 1024-sample frames of the audio with hop length of 10 milliseconds\r\n",
        "    hop_length = int(model_srate * step_size / 1000)\r\n",
        "    n_frames = 1 + int((len(audio) - 1024) / hop_length)\r\n",
        "    frames = as_strided(audio, shape=(1024, n_frames),\r\n",
        "                        strides=(audio.itemsize, hop_length * audio.itemsize))\r\n",
        "    frames = frames.transpose().copy()\r\n",
        "\r\n",
        "    # normalize each frame -- this is expected by the model\r\n",
        "    frames -= np.mean(frames, axis=1)[:, np.newaxis]\r\n",
        "    frames /= np.std(frames, axis=1)[:, np.newaxis]\r\n",
        "\r\n",
        "    # run prediction and convert the frequency bin weights to Hz\r\n",
        "    return model(frames)"
      ],
      "outputs": [],
      "metadata": {
        "id": "Doqk900asdr_"
      }
    },
    {
      "cell_type": "code",
      "execution_count": 14,
      "source": [
        "def as_midi(pred):\r\n",
        "    # Convert from output buckets back to MIDI\r\n",
        "    midi = (pred.argmax(axis=1) / 5) + 24\r\n",
        "    return midi"
      ],
      "outputs": [],
      "metadata": {
        "id": "ojdkYbBisfIP"
      }
    },
    {
      "cell_type": "markdown",
      "source": [
        "## Steelpan-trained CREPE vs Original CREPE"
      ],
      "metadata": {
        "id": "26CgjLWCtHKw"
      }
    },
    {
      "cell_type": "code",
      "execution_count": 15,
      "source": [
        "import numpy as np\r\n",
        "\r\n",
        "model = make_model(model_size, [], \"new-crepe-\" + model_size + \".h5\")\r\n",
        "wav, sr = load_audio(\"tiny_16kHz/validation/62_train_sample_4.wav\")\r\n",
        "pred = as_midi(predict(wav, sr).numpy())\r\n",
        "print(pred)"
      ],
      "outputs": [
        {
          "output_type": "stream",
          "name": "stdout",
          "text": [
            "[62.  62.  62.  62.  62.  62.  62.  62.  62.  62.  62.  62.  62.  62.\n",
            " 62.  62.  62.  62.  62.  62.  62.  62.  62.  62.  62.  62.  62.  62.\n",
            " 62.  62.  62.  62.  62.  62.  62.  62.  62.  62.  62.  62.  62.  62.\n",
            " 62.  62.  62.  62.  62.  62.  62.  62.  62.  62.  62.  62.  62.  62.\n",
            " 62.  62.  62.  62.  62.  62.  62.  62.  62.  62.  62.  62.  62.  62.\n",
            " 62.  62.  62.  62.  62.  62.  62.  62.  62.  62.  62.  62.  62.  62.\n",
            " 62.  62.  62.  62.  62.  62.  62.  62.  62.  62.  62.  62.  62.  62.\n",
            " 62.  62.  62.  62.  62.  62.  62.  62.  62.  62.  62.  62.  62.  62.\n",
            " 62.  62.  62.  62.  62.  62.  62.  62.  62.  74.  62.  62.  62.  62.\n",
            " 62.  62.  62.  62.  62.  62.  62.  62.  62.  62.  62.  62.  62.  74.\n",
            " 74.  74.  74.  62.  62.  62.  62.  62.  74.  74.  74.  74.  74.  74.\n",
            " 74.  74.  74.  74.  74.  74.  74.  74.  74.  74.  74.  74.  74.  74.\n",
            " 74.  74.  73.8 72.  72.  72.  72.  72.  72.  72.  72.  72.  72.  72.\n",
            " 72.  72.  72.  72.  72.  72.  72.  72.  72.  72.  72.  72.  72.  72.\n",
            " 72.  72.  72.  72.  72.  72.  72.  72.  72.  72.  72.  72.  72.  72.\n",
            " 72.  72.  72.  72.  72.  72.  72.  72.  72.  72.  72.  72.2]\n"
          ]
        }
      ],
      "metadata": {
        "id": "NaXp0A9Dsh1Q",
        "outputId": "592c6432-4c7a-4ab0-c712-049f6928c9fb"
      }
    },
    {
      "cell_type": "code",
      "execution_count": null,
      "source": [],
      "outputs": [],
      "metadata": {}
    }
  ]
}