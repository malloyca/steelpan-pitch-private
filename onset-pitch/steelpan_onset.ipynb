{
  "nbformat": 4,
  "nbformat_minor": 0,
  "metadata": {
    "colab": {
      "provenance": [],
      "machine_shape": "hm",
      "toc_visible": true,
      "authorship_tag": "ABX9TyM/KooQ4J2mGzMNy2e1QyNr",
      "include_colab_link": true
    },
    "kernelspec": {
      "name": "python3",
      "display_name": "Python 3"
    },
    "language_info": {
      "name": "python"
    },
    "gpuClass": "standard",
    "accelerator": "GPU"
  },
  "cells": [
    {
      "cell_type": "markdown",
      "metadata": {
        "id": "view-in-github",
        "colab_type": "text"
      },
      "source": [
        "<a href=\"https://colab.research.google.com/github/malloyca/steelpan-pitch/blob/main/onset-pitch/steelpan_onset.ipynb\" target=\"_parent\"><img src=\"https://colab.research.google.com/assets/colab-badge.svg\" alt=\"Open In Colab\"/></a>"
      ]
    },
    {
      "cell_type": "markdown",
      "source": [
        "# Steelpan Onset-based Pitch Detection\n",
        "\n",
        "For 183rd Meeting of the Acoustical Society of America, December 8, 2022."
      ],
      "metadata": {
        "id": "K4gWdZeIJnG9"
      }
    },
    {
      "cell_type": "markdown",
      "source": [
        "## Todo\n",
        "\n",
        "- Set up associated .csv file to store the performance based on `frame_length` and `hop_size` using pandas\n",
        "- Create chart of estimation data\n",
        "- Create a histogram of error amounts for each method (rounded to nearest MIDI integer / pitch class)\n",
        "  - This will give us insight into the kind of errors each method is making"
      ],
      "metadata": {
        "id": "bPcXtmgQXQ1B"
      }
    },
    {
      "cell_type": "code",
      "source": [
        "!pip install crepe\n",
        "import crepe"
      ],
      "metadata": {
        "colab": {
          "base_uri": "https://localhost:8080/"
        },
        "id": "42kLt07xu5Rx",
        "outputId": "dd0329db-4e94-48ec-8396-094ab27f5c84"
      },
      "execution_count": 1,
      "outputs": [
        {
          "output_type": "stream",
          "name": "stdout",
          "text": [
            "Looking in indexes: https://pypi.org/simple, https://us-python.pkg.dev/colab-wheels/public/simple/\n",
            "Collecting crepe\n",
            "  Downloading crepe-0.0.13.tar.gz (15 kB)\n",
            "  Preparing metadata (setup.py) ... \u001b[?25l\u001b[?25hdone\n",
            "Requirement already satisfied: numpy>=1.14.0 in /usr/local/lib/python3.8/dist-packages (from crepe) (1.22.4)\n",
            "Requirement already satisfied: scipy>=1.0.0 in /usr/local/lib/python3.8/dist-packages (from crepe) (1.7.3)\n",
            "Requirement already satisfied: matplotlib>=2.1.0 in /usr/local/lib/python3.8/dist-packages (from crepe) (3.5.3)\n",
            "Collecting resampy<0.3.0,>=0.2.0\n",
            "  Downloading resampy-0.2.2.tar.gz (323 kB)\n",
            "\u001b[2K     \u001b[90m━━━━━━━━━━━━━━━━━━━━━━━━━━━━━━━━━━━━━━━\u001b[0m \u001b[32m323.4/323.4 KB\u001b[0m \u001b[31m6.5 MB/s\u001b[0m eta \u001b[36m0:00:00\u001b[0m\n",
            "\u001b[?25h  Preparing metadata (setup.py) ... \u001b[?25l\u001b[?25hdone\n",
            "Requirement already satisfied: h5py in /usr/local/lib/python3.8/dist-packages (from crepe) (3.1.0)\n",
            "Collecting hmmlearn<0.3.0,>=0.2.8\n",
            "  Downloading hmmlearn-0.2.8-cp38-cp38-manylinux_2_5_x86_64.manylinux1_x86_64.whl (217 kB)\n",
            "\u001b[2K     \u001b[90m━━━━━━━━━━━━━━━━━━━━━━━━━━━━━━━━━━━━━━\u001b[0m \u001b[32m217.1/217.1 KB\u001b[0m \u001b[31m22.6 MB/s\u001b[0m eta \u001b[36m0:00:00\u001b[0m\n",
            "\u001b[?25hRequirement already satisfied: imageio>=2.3.0 in /usr/local/lib/python3.8/dist-packages (from crepe) (2.9.0)\n",
            "Requirement already satisfied: scikit-learn>=0.16 in /usr/local/lib/python3.8/dist-packages (from crepe) (1.0.2)\n",
            "Requirement already satisfied: pillow in /usr/local/lib/python3.8/dist-packages (from imageio>=2.3.0->crepe) (8.4.0)\n",
            "Requirement already satisfied: fonttools>=4.22.0 in /usr/local/lib/python3.8/dist-packages (from matplotlib>=2.1.0->crepe) (4.38.0)\n",
            "Requirement already satisfied: python-dateutil>=2.7 in /usr/local/lib/python3.8/dist-packages (from matplotlib>=2.1.0->crepe) (2.8.2)\n",
            "Requirement already satisfied: packaging>=20.0 in /usr/local/lib/python3.8/dist-packages (from matplotlib>=2.1.0->crepe) (23.0)\n",
            "Requirement already satisfied: cycler>=0.10 in /usr/local/lib/python3.8/dist-packages (from matplotlib>=2.1.0->crepe) (0.11.0)\n",
            "Requirement already satisfied: kiwisolver>=1.0.1 in /usr/local/lib/python3.8/dist-packages (from matplotlib>=2.1.0->crepe) (1.4.4)\n",
            "Requirement already satisfied: pyparsing>=2.2.1 in /usr/local/lib/python3.8/dist-packages (from matplotlib>=2.1.0->crepe) (3.0.9)\n",
            "Requirement already satisfied: numba>=0.32 in /usr/local/lib/python3.8/dist-packages (from resampy<0.3.0,>=0.2.0->crepe) (0.56.4)\n",
            "Requirement already satisfied: six>=1.3 in /usr/local/lib/python3.8/dist-packages (from resampy<0.3.0,>=0.2.0->crepe) (1.15.0)\n",
            "Requirement already satisfied: joblib>=0.11 in /usr/local/lib/python3.8/dist-packages (from scikit-learn>=0.16->crepe) (1.2.0)\n",
            "Requirement already satisfied: threadpoolctl>=2.0.0 in /usr/local/lib/python3.8/dist-packages (from scikit-learn>=0.16->crepe) (3.1.0)\n",
            "Requirement already satisfied: setuptools in /usr/local/lib/python3.8/dist-packages (from numba>=0.32->resampy<0.3.0,>=0.2.0->crepe) (57.4.0)\n",
            "Requirement already satisfied: importlib-metadata in /usr/local/lib/python3.8/dist-packages (from numba>=0.32->resampy<0.3.0,>=0.2.0->crepe) (6.0.0)\n",
            "Requirement already satisfied: llvmlite<0.40,>=0.39.0dev0 in /usr/local/lib/python3.8/dist-packages (from numba>=0.32->resampy<0.3.0,>=0.2.0->crepe) (0.39.1)\n",
            "Requirement already satisfied: zipp>=0.5 in /usr/local/lib/python3.8/dist-packages (from importlib-metadata->numba>=0.32->resampy<0.3.0,>=0.2.0->crepe) (3.14.0)\n",
            "Building wheels for collected packages: crepe, resampy\n",
            "  Building wheel for crepe (setup.py) ... \u001b[?25l\u001b[?25hdone\n",
            "  Created wheel for crepe: filename=crepe-0.0.13-py3-none-any.whl size=134848712 sha256=5762372e366b5080527afe0e991530798a713bd1963a2861b410c516d3adc83f\n",
            "  Stored in directory: /root/.cache/pip/wheels/d8/68/be/b163712f8f71a6939dbaf4c26bbda6612a1e609b795af7a15e\n",
            "  Building wheel for resampy (setup.py) ... \u001b[?25l\u001b[?25hdone\n",
            "  Created wheel for resampy: filename=resampy-0.2.2-py3-none-any.whl size=320730 sha256=7f438f0295d7a6cbb76cc5920da59ee277581fe34d746b29327d5d0cf4fc6a3d\n",
            "  Stored in directory: /root/.cache/pip/wheels/6f/d1/5d/f13da53b1dcbc2624ff548456c9ffb526c914f53c12c318bb4\n",
            "Successfully built crepe resampy\n",
            "Installing collected packages: resampy, hmmlearn, crepe\n",
            "  Attempting uninstall: resampy\n",
            "    Found existing installation: resampy 0.4.2\n",
            "    Uninstalling resampy-0.4.2:\n",
            "      Successfully uninstalled resampy-0.4.2\n",
            "Successfully installed crepe-0.0.13 hmmlearn-0.2.8 resampy-0.2.2\n"
          ]
        }
      ]
    },
    {
      "cell_type": "code",
      "source": [
        "!pip install essentia\n",
        "import essentia.standard as es"
      ],
      "metadata": {
        "colab": {
          "base_uri": "https://localhost:8080/"
        },
        "id": "M8fjXLVCjCSn",
        "outputId": "8f52fff3-5f81-428a-ff87-563286b7a49d"
      },
      "execution_count": 2,
      "outputs": [
        {
          "output_type": "stream",
          "name": "stdout",
          "text": [
            "Looking in indexes: https://pypi.org/simple, https://us-python.pkg.dev/colab-wheels/public/simple/\n",
            "Collecting essentia\n",
            "  Downloading essentia-2.1b6.dev858-cp38-cp38-manylinux_2_17_x86_64.manylinux2014_x86_64.whl (13.6 MB)\n",
            "\u001b[2K     \u001b[90m━━━━━━━━━━━━━━━━━━━━━━━━━━━━━━━━━━━━━━━━\u001b[0m \u001b[32m13.6/13.6 MB\u001b[0m \u001b[31m68.8 MB/s\u001b[0m eta \u001b[36m0:00:00\u001b[0m\n",
            "\u001b[?25hRequirement already satisfied: numpy>=1.8.2 in /usr/local/lib/python3.8/dist-packages (from essentia) (1.22.4)\n",
            "Requirement already satisfied: six in /usr/local/lib/python3.8/dist-packages (from essentia) (1.15.0)\n",
            "Requirement already satisfied: pyyaml in /usr/local/lib/python3.8/dist-packages (from essentia) (6.0)\n",
            "Installing collected packages: essentia\n",
            "Successfully installed essentia-2.1b6.dev858\n"
          ]
        }
      ]
    },
    {
      "cell_type": "code",
      "source": [
        "!pip install audiomentations\n",
        "from audiomentations import Compose, AddGaussianNoise, PitchShift, HighShelfFilter, PolarityInversion, TimeStretch"
      ],
      "metadata": {
        "colab": {
          "base_uri": "https://localhost:8080/"
        },
        "id": "7Yw12n77Lnke",
        "outputId": "a514ad9c-4e9c-42c9-839b-c25b36425ef8"
      },
      "execution_count": 3,
      "outputs": [
        {
          "output_type": "stream",
          "name": "stdout",
          "text": [
            "Looking in indexes: https://pypi.org/simple, https://us-python.pkg.dev/colab-wheels/public/simple/\n",
            "Collecting audiomentations\n",
            "  Downloading audiomentations-0.28.0-py3-none-any.whl (66 kB)\n",
            "\u001b[?25l     \u001b[90m━━━━━━━━━━━━━━━━━━━━━━━━━━━━━━━━━━━━━━━━\u001b[0m \u001b[32m0.0/66.0 KB\u001b[0m \u001b[31m?\u001b[0m eta \u001b[36m-:--:--\u001b[0m\r\u001b[2K     \u001b[90m━━━━━━━━━━━━━━━━━━━━━━━━━━━━━━━━━━━━━━━━\u001b[0m \u001b[32m66.0/66.0 KB\u001b[0m \u001b[31m2.8 MB/s\u001b[0m eta \u001b[36m0:00:00\u001b[0m\n",
            "\u001b[?25hRequirement already satisfied: scipy<2,>=1.0.0 in /usr/local/lib/python3.8/dist-packages (from audiomentations) (1.7.3)\n",
            "Requirement already satisfied: numpy>=1.13.0 in /usr/local/lib/python3.8/dist-packages (from audiomentations) (1.22.4)\n",
            "Requirement already satisfied: librosa<0.10.0,>0.7.2 in /usr/local/lib/python3.8/dist-packages (from audiomentations) (0.8.1)\n",
            "Requirement already satisfied: scikit-learn!=0.19.0,>=0.14.0 in /usr/local/lib/python3.8/dist-packages (from librosa<0.10.0,>0.7.2->audiomentations) (1.0.2)\n",
            "Requirement already satisfied: soundfile>=0.10.2 in /usr/local/lib/python3.8/dist-packages (from librosa<0.10.0,>0.7.2->audiomentations) (0.12.1)\n",
            "Requirement already satisfied: decorator>=3.0.0 in /usr/local/lib/python3.8/dist-packages (from librosa<0.10.0,>0.7.2->audiomentations) (4.4.2)\n",
            "Requirement already satisfied: resampy>=0.2.2 in /usr/local/lib/python3.8/dist-packages (from librosa<0.10.0,>0.7.2->audiomentations) (0.2.2)\n",
            "Requirement already satisfied: pooch>=1.0 in /usr/local/lib/python3.8/dist-packages (from librosa<0.10.0,>0.7.2->audiomentations) (1.6.0)\n",
            "Requirement already satisfied: numba>=0.43.0 in /usr/local/lib/python3.8/dist-packages (from librosa<0.10.0,>0.7.2->audiomentations) (0.56.4)\n",
            "Requirement already satisfied: packaging>=20.0 in /usr/local/lib/python3.8/dist-packages (from librosa<0.10.0,>0.7.2->audiomentations) (23.0)\n",
            "Requirement already satisfied: audioread>=2.0.0 in /usr/local/lib/python3.8/dist-packages (from librosa<0.10.0,>0.7.2->audiomentations) (3.0.0)\n",
            "Requirement already satisfied: joblib>=0.14 in /usr/local/lib/python3.8/dist-packages (from librosa<0.10.0,>0.7.2->audiomentations) (1.2.0)\n",
            "Requirement already satisfied: setuptools in /usr/local/lib/python3.8/dist-packages (from numba>=0.43.0->librosa<0.10.0,>0.7.2->audiomentations) (57.4.0)\n",
            "Requirement already satisfied: llvmlite<0.40,>=0.39.0dev0 in /usr/local/lib/python3.8/dist-packages (from numba>=0.43.0->librosa<0.10.0,>0.7.2->audiomentations) (0.39.1)\n",
            "Requirement already satisfied: importlib-metadata in /usr/local/lib/python3.8/dist-packages (from numba>=0.43.0->librosa<0.10.0,>0.7.2->audiomentations) (6.0.0)\n",
            "Requirement already satisfied: requests>=2.19.0 in /usr/local/lib/python3.8/dist-packages (from pooch>=1.0->librosa<0.10.0,>0.7.2->audiomentations) (2.25.1)\n",
            "Requirement already satisfied: appdirs>=1.3.0 in /usr/local/lib/python3.8/dist-packages (from pooch>=1.0->librosa<0.10.0,>0.7.2->audiomentations) (1.4.4)\n",
            "Requirement already satisfied: six>=1.3 in /usr/local/lib/python3.8/dist-packages (from resampy>=0.2.2->librosa<0.10.0,>0.7.2->audiomentations) (1.15.0)\n",
            "Requirement already satisfied: threadpoolctl>=2.0.0 in /usr/local/lib/python3.8/dist-packages (from scikit-learn!=0.19.0,>=0.14.0->librosa<0.10.0,>0.7.2->audiomentations) (3.1.0)\n",
            "Requirement already satisfied: cffi>=1.0 in /usr/local/lib/python3.8/dist-packages (from soundfile>=0.10.2->librosa<0.10.0,>0.7.2->audiomentations) (1.15.1)\n",
            "Requirement already satisfied: pycparser in /usr/local/lib/python3.8/dist-packages (from cffi>=1.0->soundfile>=0.10.2->librosa<0.10.0,>0.7.2->audiomentations) (2.21)\n",
            "Requirement already satisfied: idna<3,>=2.5 in /usr/local/lib/python3.8/dist-packages (from requests>=2.19.0->pooch>=1.0->librosa<0.10.0,>0.7.2->audiomentations) (2.10)\n",
            "Requirement already satisfied: certifi>=2017.4.17 in /usr/local/lib/python3.8/dist-packages (from requests>=2.19.0->pooch>=1.0->librosa<0.10.0,>0.7.2->audiomentations) (2022.12.7)\n",
            "Requirement already satisfied: chardet<5,>=3.0.2 in /usr/local/lib/python3.8/dist-packages (from requests>=2.19.0->pooch>=1.0->librosa<0.10.0,>0.7.2->audiomentations) (4.0.0)\n",
            "Requirement already satisfied: urllib3<1.27,>=1.21.1 in /usr/local/lib/python3.8/dist-packages (from requests>=2.19.0->pooch>=1.0->librosa<0.10.0,>0.7.2->audiomentations) (1.24.3)\n",
            "Requirement already satisfied: zipp>=0.5 in /usr/local/lib/python3.8/dist-packages (from importlib-metadata->numba>=0.43.0->librosa<0.10.0,>0.7.2->audiomentations) (3.14.0)\n",
            "Installing collected packages: audiomentations\n",
            "Successfully installed audiomentations-0.28.0\n"
          ]
        }
      ]
    },
    {
      "cell_type": "code",
      "execution_count": 4,
      "metadata": {
        "colab": {
          "base_uri": "https://localhost:8080/"
        },
        "id": "OlFNmf3yJlgL",
        "outputId": "f7cd2104-92f6-41d5-ae4f-6825c07815d2"
      },
      "outputs": [
        {
          "output_type": "stream",
          "name": "stdout",
          "text": [
            "TensorFlow version: 2.11.0\n",
            "[PhysicalDevice(name='/physical_device:CPU:0', device_type='CPU'), PhysicalDevice(name='/physical_device:GPU:0', device_type='GPU')]\n"
          ]
        }
      ],
      "source": [
        "# imports\n",
        "import os\n",
        "from os import walk\n",
        "import numpy as np\n",
        "from numpy.lib.stride_tricks import as_strided\n",
        "import tensorflow as tf\n",
        "import pandas as pd\n",
        "import matplotlib.pyplot as plt\n",
        "import librosa\n",
        "from librosa import display\n",
        "import soundfile as sf\n",
        "from IPython.display import Audio\n",
        "\n",
        "print(f\"TensorFlow version: {tf.__version__}\")\n",
        "\n",
        "physical_devices = tf.config.list_physical_devices()\n",
        "print(physical_devices)"
      ]
    },
    {
      "cell_type": "code",
      "source": [
        "# download the tiny SASSE dataset # TODO: update dataset to newer version\n",
        "!gdown \"1hRfdF0ko2ItGK0y9z4xU_7VQLgRIx4Ql&confirm=t\"\n",
        "!unzip -u -qq '/content/SASSE_tiny_16.zip'"
      ],
      "metadata": {
        "id": "CB0UJjvHKDKv",
        "outputId": "9503603a-e884-49a1-c806-2d8ca24851c1",
        "colab": {
          "base_uri": "https://localhost:8080/"
        }
      },
      "execution_count": 5,
      "outputs": [
        {
          "output_type": "stream",
          "name": "stdout",
          "text": [
            "Downloading...\n",
            "From: https://drive.google.com/uc?id=1hRfdF0ko2ItGK0y9z4xU_7VQLgRIx4Ql&confirm=t\n",
            "To: /content/SASSE_tiny_16.zip\n",
            "100% 40.9M/40.9M [00:00<00:00, 53.3MB/s]\n"
          ]
        }
      ]
    },
    {
      "cell_type": "code",
      "source": [
        "# download the SASSE-16k dataset\n",
        "!gdown \"11volHbUTp1X0NyrtiEgjRtgwivwaw1Bs&confirm=t\"\n",
        "!unzip -u -qq '/content/SASSE_16.zip'"
      ],
      "metadata": {
        "colab": {
          "base_uri": "https://localhost:8080/"
        },
        "id": "d9X1Sy-x8q0d",
        "outputId": "0bf1b0fe-60f2-4f03-e5f2-c0bdc819f521"
      },
      "execution_count": 6,
      "outputs": [
        {
          "output_type": "stream",
          "name": "stdout",
          "text": [
            "Downloading...\n",
            "From: https://drive.google.com/uc?id=11volHbUTp1X0NyrtiEgjRtgwivwaw1Bs&confirm=t\n",
            "To: /content/SASSE_16.zip\n",
            "100% 443M/443M [00:02<00:00, 161MB/s]\n"
          ]
        }
      ]
    },
    {
      "cell_type": "code",
      "source": [
        "# download the SASSE-48k dataset\n",
        "#!gdown \"1U3IfVjQ_xCc7ZqVZpR9oPNAtPfA26CKs&confirm=t\"\n",
        "#!unzip -u -qq '/content/SASSE_48.zip'"
      ],
      "metadata": {
        "id": "KYt3WQQf9OZC"
      },
      "execution_count": 7,
      "outputs": []
    },
    {
      "cell_type": "code",
      "source": [
        "# download the SASSE-16k-augmentation dataset\n",
        "!gdown \"1XBa-tssLSiBQAHziK07JVCIMKH5f41z9&confirm=t\"\n",
        "!unzip -u -qq '/content/SASSE_16_aug.zip'"
      ],
      "metadata": {
        "id": "DWy6mCCixtOG",
        "outputId": "e9480747-818e-4e2c-bdbb-62f181df0269",
        "colab": {
          "base_uri": "https://localhost:8080/"
        }
      },
      "execution_count": 8,
      "outputs": [
        {
          "output_type": "stream",
          "name": "stdout",
          "text": [
            "Downloading...\n",
            "From: https://drive.google.com/uc?id=1XBa-tssLSiBQAHziK07JVCIMKH5f41z9&confirm=t\n",
            "To: /content/SASSE_16_aug.zip\n",
            "100% 263M/263M [00:02<00:00, 114MB/s]\n"
          ]
        }
      ]
    },
    {
      "cell_type": "code",
      "source": [
        "!find . -name '.DS_Store' -print -delete"
      ],
      "metadata": {
        "colab": {
          "base_uri": "https://localhost:8080/"
        },
        "id": "LzBQxtmCJZ25",
        "outputId": "32bf1dc2-9c2b-45e2-ea6a-f1601d31751f"
      },
      "execution_count": 9,
      "outputs": [
        {
          "output_type": "stream",
          "name": "stdout",
          "text": [
            "./SASSE_16/.DS_Store\n"
          ]
        }
      ]
    },
    {
      "cell_type": "code",
      "source": [
        "# download Andy Narell samples\n",
        "#!gdown \"1bVhopy6tvcJKdBCPeHYVa30T8ZceZbx4&confirm=t\"\n",
        "!gdown \"1aP3VmI_-LogjdK0K0-tN_B8j3wHVDuZi&confirm=t\"\n",
        "!unzip -u -qq '/content/Narell_samples_48.zip'"
      ],
      "metadata": {
        "colab": {
          "base_uri": "https://localhost:8080/"
        },
        "id": "ih_-j3LUOJD2",
        "outputId": "58ced100-0296-46c9-ea10-ef57fe834fd8"
      },
      "execution_count": 10,
      "outputs": [
        {
          "output_type": "stream",
          "name": "stdout",
          "text": [
            "Downloading...\n",
            "From: https://drive.google.com/uc?id=1aP3VmI_-LogjdK0K0-tN_B8j3wHVDuZi&confirm=t\n",
            "To: /content/Narell_samples_48.zip\n",
            "100% 961M/961M [00:06<00:00, 149MB/s]\n"
          ]
        }
      ]
    },
    {
      "cell_type": "code",
      "source": [
        "# mount Google Drive\n",
        "from google.colab import drive\n",
        "\n",
        "drive.mount('/content/gdrive/')"
      ],
      "metadata": {
        "id": "Qx1yfI97OvSj",
        "outputId": "cd737dd7-d35a-47db-a59a-af2f4841c2c1",
        "colab": {
          "base_uri": "https://localhost:8080/"
        }
      },
      "execution_count": 11,
      "outputs": [
        {
          "output_type": "stream",
          "name": "stdout",
          "text": [
            "Mounted at /content/gdrive/\n"
          ]
        }
      ]
    },
    {
      "cell_type": "code",
      "source": [
        "nime_folder = '/content/gdrive/MyDrive/Research Projects/NIME - Steelpan-Pitch'"
      ],
      "metadata": {
        "id": "HFb7FBTZPilM"
      },
      "execution_count": 12,
      "outputs": []
    },
    {
      "cell_type": "markdown",
      "source": [
        "# SASS-E Stats\n",
        "\n",
        "Collect here some stats about the SASS-E dataset."
      ],
      "metadata": {
        "id": "-Md9W-LIqZIP"
      }
    },
    {
      "cell_type": "markdown",
      "source": [
        "\n",
        "## Stats:\n",
        "\n",
        "- Total samples: 13,313\n",
        "  - Training samples: 7,931\n",
        "  - Validation samples: 2,680\n",
        "  - Test samples: 2,702"
      ],
      "metadata": {
        "id": "Uz8blTBnqpoL"
      }
    },
    {
      "cell_type": "code",
      "source": [
        "sr = 16000\n",
        "total_len = 0\n",
        "\n",
        "for (dir_path, _, filenames) in os.walk('/content/SASSE_16'):\n",
        "  for filename in filenames:\n",
        "    file_path = os.path.join(dir_path, filename)\n",
        "    audio, _ = librosa.load(file_path, sr=sr)\n",
        "\n",
        "    total_len += len(audio)"
      ],
      "metadata": {
        "id": "QyOXOcMRkfHM"
      },
      "execution_count": null,
      "outputs": []
    },
    {
      "cell_type": "code",
      "source": [
        "total_sec = np.round(total_len / sr, 2)\n",
        "print(f\"Total time (s): {total_sec}\")\n",
        "\n",
        "total_min = total_sec // 60\n",
        "print(f\"Total time (min): {total_min}\")\n",
        "\n",
        "hours = total_min // 60\n",
        "mins = total_min - 60 * hours\n",
        "print(f\"Total time: {hours} hours, {mins} mins\")"
      ],
      "metadata": {
        "colab": {
          "base_uri": "https://localhost:8080/"
        },
        "id": "k8KROmK4lDBa",
        "outputId": "5fbb885b-ecd9-4277-db5c-fdb949a59615"
      },
      "execution_count": null,
      "outputs": [
        {
          "output_type": "stream",
          "name": "stdout",
          "text": [
            "Total time (s): 33951.48\n",
            "Total time (min): 565.0\n",
            "Total time: 9.0 hours, 25.0 mins\n"
          ]
        }
      ]
    },
    {
      "cell_type": "markdown",
      "source": [
        "## Todo:\n",
        "\n",
        "- Evaluate different sizes and save results in dataframe"
      ],
      "metadata": {
        "id": "PfBndh6QqhBN"
      }
    },
    {
      "cell_type": "code",
      "source": [
        "def get_shortest_longest_length(directory):\n",
        "  \n",
        "  total_files = 0\n",
        "\n",
        "  min_len = np.infty\n",
        "  max_len = 0\n",
        "\n",
        "  for (dir_path, _, filenames) in os.walk(directory):\n",
        "    num_files = len(filenames)\n",
        "    for filename in filenames:\n",
        "      file_path = os.path.join(dir_path, filename)\n",
        "      audio, sr = librosa.load(file_path, sr=None)\n",
        "\n",
        "      if len(audio) < min_len:\n",
        "        min_len = len(audio)\n",
        "      if len(audio) > max_len:\n",
        "        max_len = len(audio)\n",
        "\n",
        "      total_files += 1\n",
        "      \n",
        "\n",
        "  \n",
        "  print(f\"Num files processed: {total_files}\")\n",
        "  output = {\n",
        "      'total_files': total_files,\n",
        "      'samplerate': sr,\n",
        "      'shortest sample': min_len,\n",
        "      'longest sample': max_len\n",
        "  }\n",
        "  return output"
      ],
      "metadata": {
        "id": "8ZZybX1Hqg6E"
      },
      "execution_count": null,
      "outputs": []
    },
    {
      "cell_type": "code",
      "source": [
        "get_shortest_longest_length('/content/SASSE_48')"
      ],
      "metadata": {
        "id": "3TkibY_4qg1G",
        "outputId": "de5de2a1-9882-487c-d228-993b28c0184d",
        "colab": {
          "base_uri": "https://localhost:8080/"
        }
      },
      "execution_count": null,
      "outputs": [
        {
          "output_type": "stream",
          "name": "stdout",
          "text": [
            "Num files processed: 13313\n"
          ]
        },
        {
          "output_type": "execute_result",
          "data": {
            "text/plain": [
              "{'total_files': 13313,\n",
              " 'samplerate': 48000,\n",
              " 'shortest sample': 57145,\n",
              " 'longest sample': 597936}"
            ]
          },
          "metadata": {},
          "execution_count": 9
        }
      ]
    },
    {
      "cell_type": "code",
      "source": [
        "# shortest sample length in ms\n",
        "57145 / 48000"
      ],
      "metadata": {
        "id": "e3_OlCsEqgvq",
        "outputId": "0f2df265-849f-406b-d10f-32bfaae3d0bf",
        "colab": {
          "base_uri": "https://localhost:8080/"
        }
      },
      "execution_count": null,
      "outputs": [
        {
          "output_type": "execute_result",
          "data": {
            "text/plain": [
              "1.1905208333333333"
            ]
          },
          "metadata": {},
          "execution_count": 10
        }
      ]
    },
    {
      "cell_type": "code",
      "source": [
        "# longest sample length in ms\n",
        "597936 / 48000"
      ],
      "metadata": {
        "id": "eXLFfWexqgqd",
        "outputId": "0139797c-bd8a-491e-e29f-67042a48c52a",
        "colab": {
          "base_uri": "https://localhost:8080/"
        }
      },
      "execution_count": null,
      "outputs": [
        {
          "output_type": "execute_result",
          "data": {
            "text/plain": [
              "12.457"
            ]
          },
          "metadata": {},
          "execution_count": 11
        }
      ]
    },
    {
      "cell_type": "code",
      "source": [],
      "metadata": {
        "id": "vYdkBoahqgkr"
      },
      "execution_count": null,
      "outputs": []
    },
    {
      "cell_type": "code",
      "source": [],
      "metadata": {
        "id": "YGAYRlw2qgiB"
      },
      "execution_count": null,
      "outputs": []
    },
    {
      "cell_type": "code",
      "source": [],
      "metadata": {
        "id": "2f4-uMa6qgdy"
      },
      "execution_count": null,
      "outputs": []
    },
    {
      "cell_type": "code",
      "source": [],
      "metadata": {
        "id": "0TyennVDqgYg"
      },
      "execution_count": null,
      "outputs": []
    },
    {
      "cell_type": "code",
      "source": [],
      "metadata": {
        "id": "LcbWfZdiqgVa"
      },
      "execution_count": null,
      "outputs": []
    },
    {
      "cell_type": "code",
      "source": [],
      "metadata": {
        "id": "W9Os1VfqqgQE"
      },
      "execution_count": null,
      "outputs": []
    },
    {
      "cell_type": "markdown",
      "source": [
        "# Steelpan Note Transients"
      ],
      "metadata": {
        "id": "Q45Fx-EZlF74"
      }
    },
    {
      "cell_type": "markdown",
      "source": [
        "Let's begin by examining the attack transients of a few steelpan samples."
      ],
      "metadata": {
        "id": "Q9u-xCH5lKho"
      }
    },
    {
      "cell_type": "code",
      "source": [
        "frame_size = 2048\n",
        "sr = 48000\n",
        "attack_time = es.LogAttackTime(sampleRate=sr, startAttackThreshold=0.1, stopAttackThreshold=0.95)"
      ],
      "metadata": {
        "id": "26qc-LMu69-s"
      },
      "execution_count": null,
      "outputs": []
    },
    {
      "cell_type": "code",
      "source": [
        "audio, _ = librosa.load('/content/SASSE_48/validation/60_valid_sample_7.wav', sr=sr)\n",
        "\n",
        "# plot sample\n",
        "fig, ax = plt.subplots(figsize=(8,6))\n",
        "librosa.display.waveshow(audio, sr=sr, ax=ax,\n",
        "                         x_axis='s')\n",
        "ax.set(title='Steelpan note (C3) waveform')\n",
        "plt.show()"
      ],
      "metadata": {
        "id": "9vNHpUuXlKIs",
        "outputId": "c3a24c02-7f56-4778-bfec-f94f05d4afd5",
        "colab": {
          "base_uri": "https://localhost:8080/",
          "height": 404
        }
      },
      "execution_count": null,
      "outputs": [
        {
          "output_type": "display_data",
          "data": {
            "text/plain": [
              "<Figure size 576x432 with 1 Axes>"
            ],
            "image/png": "[encoded data removed]"
          },
          "metadata": {
            "needs_background": "light"
          }
        }
      ]
    },
    {
      "cell_type": "code",
      "source": [
        "lat, attack_start, attack_stop = attack_time(audio)\n",
        "start, stop = int(sr * attack_start), int(sr * attack_stop)\n",
        "\n",
        "#plot first 50 ms\n",
        "fig, ax = plt.subplots(figsize=(8,6))\n",
        "librosa.display.waveshow(audio[:int(0.05*sr)], sr=sr, ax=ax,\n",
        "                         x_axis='s')\n",
        "ax.set(title='First 50 ms of steelpan note')\n",
        "plt.show()"
      ],
      "metadata": {
        "colab": {
          "base_uri": "https://localhost:8080/",
          "height": 404
        },
        "id": "TIrIUScPqG8h",
        "outputId": "15db8581-71c5-4b6c-fb22-3368a1bdd94b"
      },
      "execution_count": null,
      "outputs": [
        {
          "output_type": "display_data",
          "data": {
            "text/plain": [
              "<Figure size 576x432 with 1 Axes>"
            ],
            "image/png": "[encoded data removed]"
          },
          "metadata": {
            "needs_background": "light"
          }
        }
      ]
    },
    {
      "cell_type": "code",
      "source": [
        "# plot attack from 20% to 90% of envelope max value\n",
        "print(f\"Attack length: {(attack_stop - attack_start) * 1000} ms\")\n",
        "print(f\"Number of samples: {int((attack_stop - attack_start)*sr)}\")\n",
        "fig, ax = plt.subplots(figsize=(8,6))\n",
        "librosa.display.waveshow(audio[int(attack_start * sr) : int(attack_stop * sr)],\n",
        "                         sr=sr, ax=ax, x_axis='s')\n",
        "ax.set(title='Attack transient of steelpan note')\n",
        "plt.show()"
      ],
      "metadata": {
        "colab": {
          "base_uri": "https://localhost:8080/",
          "height": 438
        },
        "id": "Rqz6l84zrOw9",
        "outputId": "43125c19-b20f-4332-bb08-72e2df9444a1"
      },
      "execution_count": null,
      "outputs": [
        {
          "output_type": "stream",
          "name": "stdout",
          "text": [
            "Attack length: 15.020834282040596 ms\n",
            "Number of samples: 721\n"
          ]
        },
        {
          "output_type": "display_data",
          "data": {
            "text/plain": [
              "<Figure size 576x432 with 1 Axes>"
            ],
            "image/png": "[encoded data removed]"
          },
          "metadata": {
            "needs_background": "light"
          }
        }
      ]
    },
    {
      "cell_type": "code",
      "source": [
        "print(\"Ground truth: 60\\n\")\n",
        "\n",
        "yin_out = librosa.yin(audio[:frame_size], fmin=librosa.note_to_hz('C2'), fmax=librosa.note_to_hz('C7'))\n",
        "yin_out = librosa.hz_to_midi(yin_out)\n",
        "print(\"Yin pitch estimations\")\n",
        "print(f\"First 50 ms: {np.round(yin_out,2)}\")\n",
        "\n",
        "yin_out = librosa.yin(audio[start:stop], fmin=librosa.note_to_hz('C2'), fmax=librosa.note_to_hz('C7'))\n",
        "yin_out = librosa.hz_to_midi(yin_out)\n",
        "print(f\"Attack transient: {np.round(yin_out, 2)}\")"
      ],
      "metadata": {
        "id": "xOUK5T5MnBaX",
        "outputId": "f68cbc78-b255-4609-d3b2-da5ef0a8331d",
        "colab": {
          "base_uri": "https://localhost:8080/"
        }
      },
      "execution_count": null,
      "outputs": [
        {
          "output_type": "stream",
          "name": "stdout",
          "text": [
            "Ground truth: 60\n",
            "\n",
            "Yin pitch estimations\n",
            "First 50 ms: [47.59 48.48 47.44 46.87 46.75]\n",
            "Attack transient: [46.92 47.33]\n"
          ]
        }
      ]
    },
    {
      "cell_type": "code",
      "source": [
        "print(\"Ground truth: 60\\n\")\n",
        "\n",
        "pyin_out, _, _ = librosa.pyin(audio[:frame_size], fmin=librosa.note_to_hz('C2'), fmax=librosa.note_to_hz('C7'))\n",
        "pyin_out = librosa.hz_to_midi(pyin_out)\n",
        "print(\"pYin pitch estimations\")\n",
        "print(f\"First 50ms: {pyin_out}\")\n",
        "\n",
        "pyin_out, _, _ = librosa.pyin(audio[start:stop], fmin=librosa.note_to_hz('C2'), fmax=librosa.note_to_hz('C7'))\n",
        "pyin_out = librosa.hz_to_midi(pyin_out)\n",
        "print(f\"Attack transient: {pyin_out}\")"
      ],
      "metadata": {
        "id": "GTzJ7im_oj6n",
        "outputId": "231b7dc6-1178-4298-dc53-9b2c1f4259f7",
        "colab": {
          "base_uri": "https://localhost:8080/"
        }
      },
      "execution_count": null,
      "outputs": [
        {
          "output_type": "stream",
          "name": "stdout",
          "text": [
            "Ground truth: 60\n",
            "\n",
            "pYin pitch estimations\n",
            "First 50ms: [ nan 48.5 47.4 46.9 46.7]\n",
            "Attack transient: [nan nan]\n"
          ]
        }
      ]
    },
    {
      "cell_type": "code",
      "source": [
        "print(\"Ground truth: 60\\n\")\n",
        "\n",
        "time, crepe_pred, _, _ = crepe.predict(audio, sr, viterbi=True)\n",
        "crepe_pred = librosa.hz_to_midi(crepe_pred)\n",
        "print(\"Crepe pitch estimations\")\n",
        "print(f\"First 50 ms: {np.round(crepe_pred,2)}\")\n",
        "\n",
        "time, crepe_pred, _, _ = crepe.predict(audio[start:stop], sr, viterbi=True)\n",
        "crepe_pred = librosa.hz_to_midi(crepe_pred)\n",
        "print(f\"Attack transient: {np.round(crepe_pred,2)}\")"
      ],
      "metadata": {
        "colab": {
          "base_uri": "https://localhost:8080/"
        },
        "id": "174Pv228v1kA",
        "outputId": "5588aeb6-91c5-41d8-81aa-76032981fb46"
      },
      "execution_count": null,
      "outputs": [
        {
          "output_type": "stream",
          "name": "stdout",
          "text": [
            "Ground truth: 60\n",
            "\n",
            "8/8 [==============================] - 9s 102ms/step\n",
            "Crepe pitch estimations\n",
            "First 50 ms: [60.65 60.51 60.46 60.42 60.32 60.36 60.46 60.46 60.4  60.27 60.18 60.16\n",
            " 60.14 60.12 60.14 60.15 60.14 60.12 60.09 60.08 60.09 60.11 60.13 60.13\n",
            " 60.12 60.09 60.09 60.09 60.11 60.11 60.11 60.11 60.09 60.06 60.07 60.09\n",
            " 60.09 60.09 60.08 60.08 60.07 60.08 60.08 60.1  60.08 60.08 60.07 60.07\n",
            " 60.08 60.09 60.1  60.09 60.08 60.07 60.07 60.07 60.11 60.12 60.12 60.1\n",
            " 60.08 60.08 60.08 60.08 60.09 60.08 60.06 60.07 60.07 60.08 60.08 60.08\n",
            " 60.07 60.07 60.06 60.07 60.08 60.09 60.07 60.06 60.07 60.07 60.06 60.08\n",
            " 60.08 60.07 60.06 60.06 60.07 60.08 60.07 60.06 60.07 60.06 60.07 60.08\n",
            " 60.1  60.08 60.07 60.07 60.07 60.07 60.09 60.09 60.1  60.07 60.06 60.07\n",
            " 60.09 60.08 60.09 60.08 60.07 60.09 60.1  60.1  60.08 60.07 60.07 60.08\n",
            " 60.07 60.09 60.08 60.07 60.07 60.07 60.06 60.06 60.07 60.1  60.08 60.07\n",
            " 60.07 60.07 60.09 60.09 60.06 60.07 60.08 60.1  60.1  60.09 60.1  60.09\n",
            " 60.07 60.07 60.07 60.07 60.1  60.12 60.11 60.08 60.05 60.05 60.07 60.06\n",
            " 60.06 60.12 60.14 60.14 60.1  60.08 59.99 59.99 60.07 60.23 60.3  60.24\n",
            " 60.06 60.07 60.05 59.97 59.98 59.99 60.02 60.09 60.15 60.17 60.02 60.12\n",
            " 60.16 60.04 59.98 60.   60.02 60.06 60.12 59.91 59.78 59.77 59.75 60.01\n",
            " 60.11 60.17 60.33 60.24 60.08 60.14 59.73 59.44 59.93 59.74 59.86 58.18\n",
            " 56.11 56.18 57.01 58.6  59.93 60.73 60.   59.95 58.58 56.79 56.3  56.28\n",
            " 54.52 52.37 49.66 47.81 47.63 47.56 47.39 47.47 47.52 47.49 47.6  47.48\n",
            " 47.7  47.45 46.99 46.22 44.42 42.94 42.99]\n",
            "1/1 [==============================] - 0s 316ms/step\n",
            "Attack transient: [60.85 60.67]\n"
          ]
        }
      ]
    },
    {
      "cell_type": "markdown",
      "source": [
        "### What this shows\n",
        "\n",
        "What the tests show for performing this on just the attack portion as determined by Essentia is that accuracy on such a small section is difficult and the algorithms clearly rely on longer contexts for accuracy. This is especially true for CREPE since it operates only on 1024 sample frames at 16 kHz, which is 64 ms long."
      ],
      "metadata": {
        "id": "LvPWo1BbvSCt"
      }
    },
    {
      "cell_type": "markdown",
      "source": [
        "## What if we look at the audio in reverse?"
      ],
      "metadata": {
        "id": "yzY0HbGRgjB0"
      }
    },
    {
      "cell_type": "code",
      "source": [
        "audio_rev = audio[::-1]\n",
        "\n",
        "time, crepe_pred, _, _ = crepe.predict(audio_rev, sr, viterbi=True)\n",
        "crepe_pred = librosa.hz_to_midi(crepe_pred)\n",
        "print(f\"50 ms: {np.round(crepe_pred,2)}\")\n",
        "\n",
        "#plot first 50 ms\n",
        "fig, ax = plt.subplots()\n",
        "librosa.display.waveshow(audio_rev, sr=sr, ax=ax)\n",
        "plt.show()"
      ],
      "metadata": {
        "colab": {
          "base_uri": "https://localhost:8080/",
          "height": 690
        },
        "id": "idDzTzZLytb8",
        "outputId": "f788c40a-14ec-41cb-e53e-e753ad9dec39"
      },
      "execution_count": null,
      "outputs": [
        {
          "output_type": "stream",
          "name": "stdout",
          "text": [
            "8/8 [==============================] - 0s 44ms/step\n",
            "50 ms: [55.63 55.53 54.5  53.96 53.08 52.61 52.05 51.39 50.87 50.03 48.37 47.3\n",
            " 47.77 47.66 47.98 47.92 47.78 47.64 49.17 50.85 51.99 53.65 54.84 54.87\n",
            " 54.94 54.88 54.92 55.02 56.5  56.3  56.65 58.   59.65 59.89 59.73 59.54\n",
            " 59.37 59.81 60.16 60.18 60.16 60.07 60.28 60.01 59.71 59.79 59.91 60.01\n",
            " 60.08 60.07 60.01 60.03 59.99 60.06 60.02 59.98 60.09 60.12 60.07 60.01\n",
            " 59.98 60.01 60.01 60.   59.95 60.1  60.27 60.36 60.27 60.09 60.01 59.98\n",
            " 60.03 60.05 60.11 60.15 60.11 60.11 60.08 60.07 60.04 60.02 60.04 60.07\n",
            " 60.09 60.11 60.1  60.07 60.05 60.06 60.06 60.07 60.07 60.07 60.09 60.08\n",
            " 60.07 60.06 60.05 60.07 60.06 60.05 60.05 60.06 60.07 60.08 60.06 60.05\n",
            " 60.04 60.05 60.07 60.06 60.07 60.07 60.07 60.07 60.06 60.04 60.08 60.08\n",
            " 60.1  60.08 60.08 60.06 60.08 60.06 60.08 60.06 60.06 60.05 60.06 60.07\n",
            " 60.07 60.06 60.06 60.05 60.05 60.06 60.07 60.06 60.07 60.05 60.06 60.05\n",
            " 60.06 60.06 60.05 60.05 60.05 60.05 60.06 60.06 60.06 60.06 60.05 60.04\n",
            " 60.05 60.06 60.07 60.07 60.06 60.05 60.05 60.06 60.06 60.07 60.07 60.06\n",
            " 60.05 60.06 60.07 60.07 60.08 60.07 60.06 60.07 60.09 60.11 60.11 60.08\n",
            " 60.07 60.05 60.06 60.07 60.08 60.08 60.08 60.05 60.06 60.07 60.06 60.08\n",
            " 60.08 60.07 60.06 60.06 60.06 60.09 60.07 60.09 60.07 60.07 60.06 60.08\n",
            " 60.09 60.11 60.1  60.09 60.09 60.09 60.1  60.12 60.12 60.12 60.11 60.08\n",
            " 60.09 60.1  60.13 60.15 60.15 60.15 60.15 60.15 60.18 60.24 60.33 60.49\n",
            " 60.5  60.41 60.37 60.35 60.39 60.35 60.33]\n"
          ]
        },
        {
          "output_type": "stream",
          "name": "stderr",
          "text": [
            "/usr/local/lib/python3.8/dist-packages/librosa/util/utils.py:198: UserWarning: librosa.util.frame called with axis=-1 on a non-contiguous input. This will result in a copy.\n",
            "  warnings.warn(\n"
          ]
        },
        {
          "output_type": "display_data",
          "data": {
            "text/plain": [
              "<Figure size 432x288 with 1 Axes>"
            ],
            "image/png": "[encoded data removed]"
          },
          "metadata": {
            "needs_background": "light"
          }
        }
      ]
    },
    {
      "cell_type": "markdown",
      "source": [
        "### Thoughts on bi-directional analysis\n",
        "\n",
        "Interestingly, what this cell shows is that doing pitch detection in reverse gives different results. My intuition is that this could be caused by one of two things:\n",
        "1. You are just catching the audio at different points. This would be similar to changing the start point of the analysis.\n",
        "  - I'm leaning against this, however, since you'd think that the results would still be similar. The beginnings and endings of the two prediction arrays vary quite a bit, however. This leads me to my second hypothesis:\n",
        "2. That since this is probabilistic (it uses the Viterbi algorithm) - and thus dependent on previous predictions - the direction of the processing affects the output values. The question then becomes, can we improve pitch detection results by performing bi-directional analysis?\n",
        "  - An initial test of this would be to analyze an annotated dataset both forwards and backwards and then combining/averaging that data somehow. Another intersting approach would be to build a pitch detection architecture that does the bi-directional analysis by default.\n",
        "  - The unfortunate limitation of this method would be that it really only works for offline analysis."
      ],
      "metadata": {
        "id": "Ww5c_rg8z_9O"
      }
    },
    {
      "cell_type": "code",
      "source": [
        "audio_02, sr = librosa.load('/content/SASSE_48/validation/65_valid_sample_33.wav')\n",
        "\n",
        "#plot first 50 ms\n",
        "fig, ax = plt.subplots()\n",
        "librosa.display.waveshow(audio_02[:int(0.05*sr)], sr=sr, ax=ax)\n",
        "plt.show()"
      ],
      "metadata": {
        "id": "pDCMR1I-lKFr",
        "outputId": "e7a9423f-6104-43a2-e741-8624a83d07d0",
        "colab": {
          "base_uri": "https://localhost:8080/",
          "height": 279
        }
      },
      "execution_count": null,
      "outputs": [
        {
          "output_type": "display_data",
          "data": {
            "text/plain": [
              "<Figure size 432x288 with 1 Axes>"
            ],
            "image/png": "[encoded data removed]"
          },
          "metadata": {
            "needs_background": "light"
          }
        }
      ]
    },
    {
      "cell_type": "code",
      "source": [
        "yin_out = librosa.yin(audio_02[:frame_size], fmin=librosa.note_to_hz('C2'), fmax=librosa.note_to_hz('C7'))\n",
        "yin_out = librosa.hz_to_midi(yin_out)\n",
        "print(np.round(yin_out,2))"
      ],
      "metadata": {
        "id": "jfaYyAzNlKC4",
        "outputId": "c82f2a12-03a8-4b6b-9a6b-72504ee1a38a",
        "colab": {
          "base_uri": "https://localhost:8080/"
        }
      },
      "execution_count": null,
      "outputs": [
        {
          "output_type": "stream",
          "name": "stdout",
          "text": [
            "[65.26 65.33 65.25 65.1  65.01]\n"
          ]
        }
      ]
    },
    {
      "cell_type": "code",
      "source": [
        "pyin_out, _, _ = librosa.pyin(audio_02[:frame_size], fmin=librosa.note_to_hz('C2'), fmax=librosa.note_to_hz('C7'))\n",
        "pyin_out = librosa.hz_to_midi(pyin_out)\n",
        "print(pyin_out)"
      ],
      "metadata": {
        "id": "t2W_wVsjlKAD",
        "outputId": "4a97277d-dfd0-422b-ee08-6ad96e21072b",
        "colab": {
          "base_uri": "https://localhost:8080/"
        }
      },
      "execution_count": null,
      "outputs": [
        {
          "output_type": "stream",
          "name": "stdout",
          "text": [
            "[ nan 65.3 65.2 65.1 65. ]\n"
          ]
        }
      ]
    },
    {
      "cell_type": "code",
      "source": [
        "time, crepe_pred, _, _ = crepe.predict(audio_02[:frame_size], sr, viterbi=True)\n",
        "crepe_pred = librosa.hz_to_midi(crepe_pred)\n",
        "print(np.round(crepe_pred,2))"
      ],
      "metadata": {
        "colab": {
          "base_uri": "https://localhost:8080/"
        },
        "id": "JmF0VMG5wTqt",
        "outputId": "ac813b0f-9adc-41f0-ca2b-6fc5ffd19706"
      },
      "execution_count": null,
      "outputs": [
        {
          "output_type": "stream",
          "name": "stdout",
          "text": [
            "1/1 [==============================] - 0s 432ms/step\n",
            "[65.04 65.02 65.07 65.04 64.99 65.01 65.01 65.   65.   64.98]\n"
          ]
        }
      ]
    },
    {
      "cell_type": "code",
      "source": [
        "audio_03, sr = librosa.load('/content/SASSE_48/validation/70_valid_sample_86.wav')\n",
        "\n",
        "#plot first 50 ms\n",
        "fig, ax = plt.subplots()\n",
        "librosa.display.waveshow(audio_03[:int(0.05*sr)], sr=sr, ax=ax)\n",
        "plt.show()"
      ],
      "metadata": {
        "id": "gGBFkOMRlJ9R",
        "outputId": "a7f2c78a-fa50-4549-c4cc-f61511706b2e",
        "colab": {
          "base_uri": "https://localhost:8080/",
          "height": 279
        }
      },
      "execution_count": null,
      "outputs": [
        {
          "output_type": "display_data",
          "data": {
            "text/plain": [
              "<Figure size 432x288 with 1 Axes>"
            ],
            "image/png": "[encoded data removed]"
          },
          "metadata": {
            "needs_background": "light"
          }
        }
      ]
    },
    {
      "cell_type": "code",
      "source": [
        "yin_out = librosa.yin(audio_03[:frame_size], fmin=librosa.note_to_hz('C2'), fmax=librosa.note_to_hz('C7'))\n",
        "yin_out = librosa.hz_to_midi(yin_out)\n",
        "print(np.round(yin_out,2))"
      ],
      "metadata": {
        "id": "Obrf-AQclJ6c",
        "outputId": "7f2094e8-567d-46f2-aec4-e1bcd4f1c685",
        "colab": {
          "base_uri": "https://localhost:8080/"
        }
      },
      "execution_count": null,
      "outputs": [
        {
          "output_type": "stream",
          "name": "stdout",
          "text": [
            "[70.06 70.17 70.06 70.05 70.06]\n"
          ]
        }
      ]
    },
    {
      "cell_type": "code",
      "source": [
        "pyin_out, _, _ = librosa.pyin(audio_03[:frame_size], fmin=librosa.note_to_hz('C2'), fmax=librosa.note_to_hz('C7'))\n",
        "pyin_out = librosa.hz_to_midi(pyin_out)\n",
        "print(pyin_out)"
      ],
      "metadata": {
        "id": "oEShzD_4lJ3z",
        "outputId": "54c52f86-3462-4bb5-9189-1df0689aebcb",
        "colab": {
          "base_uri": "https://localhost:8080/"
        }
      },
      "execution_count": null,
      "outputs": [
        {
          "output_type": "stream",
          "name": "stdout",
          "text": [
            "[ nan 70.2 70.1 70.  70.1]\n"
          ]
        }
      ]
    },
    {
      "cell_type": "code",
      "source": [
        "time, crepe_pred, _, _ = crepe.predict(audio_03[:frame_size], sr, viterbi=True)\n",
        "crepe_pred = librosa.hz_to_midi(crepe_pred)\n",
        "print(np.round(crepe_pred,2))"
      ],
      "metadata": {
        "colab": {
          "base_uri": "https://localhost:8080/"
        },
        "id": "_0idg-0KwcuL",
        "outputId": "2738f832-3855-457a-ca59-14b56784a986"
      },
      "execution_count": null,
      "outputs": [
        {
          "output_type": "stream",
          "name": "stdout",
          "text": [
            "1/1 [==============================] - 0s 17ms/step\n",
            "[70.07 70.03 70.03 70.05 70.04 70.05 70.05 70.03 70.   70.  ]\n"
          ]
        }
      ]
    },
    {
      "cell_type": "code",
      "source": [
        "audio_04, sr = librosa.load('/content/SASSE_48/validation/71_valid_sample_19.wav')\n",
        "\n",
        "#plot first 50 ms\n",
        "fig, ax = plt.subplots()\n",
        "librosa.display.waveshow(audio_03[:int(0.05*sr)], sr=sr, ax=ax)\n",
        "plt.show()"
      ],
      "metadata": {
        "id": "JmSgai2slJ0-",
        "colab": {
          "base_uri": "https://localhost:8080/",
          "height": 279
        },
        "outputId": "f77ac4b6-d1f8-4e5d-a040-9562b4fbb141"
      },
      "execution_count": null,
      "outputs": [
        {
          "output_type": "display_data",
          "data": {
            "text/plain": [
              "<Figure size 432x288 with 1 Axes>"
            ],
            "image/png": "[encoded data removed]"
          },
          "metadata": {
            "needs_background": "light"
          }
        }
      ]
    },
    {
      "cell_type": "code",
      "source": [
        "yin_out = librosa.yin(audio_04[:frame_size], fmin=librosa.note_to_hz('C2'), fmax=librosa.note_to_hz('C7'))\n",
        "yin_out = librosa.hz_to_midi(yin_out)\n",
        "print(np.round(yin_out,2))"
      ],
      "metadata": {
        "id": "lTGjyMNclJyK",
        "colab": {
          "base_uri": "https://localhost:8080/"
        },
        "outputId": "230f5ac7-9208-4873-ddc7-ba3fdf1d7aab"
      },
      "execution_count": null,
      "outputs": [
        {
          "output_type": "stream",
          "name": "stdout",
          "text": [
            "[71.15 71.26 71.14 71.06 71.07]\n"
          ]
        }
      ]
    },
    {
      "cell_type": "code",
      "source": [
        "pyin_out, _, _ = librosa.pyin(audio_04[:frame_size], fmin=librosa.note_to_hz('C2'), fmax=librosa.note_to_hz('C7'))\n",
        "pyin_out = librosa.hz_to_midi(pyin_out)\n",
        "print(pyin_out)"
      ],
      "metadata": {
        "id": "rGR26feplJvM",
        "colab": {
          "base_uri": "https://localhost:8080/"
        },
        "outputId": "82a0ccb9-0800-4f06-f2ab-dfe7bc6477f4"
      },
      "execution_count": null,
      "outputs": [
        {
          "output_type": "stream",
          "name": "stdout",
          "text": [
            "[ nan 71.3 71.1 71.1 71.1]\n"
          ]
        }
      ]
    },
    {
      "cell_type": "code",
      "source": [
        "time, crepe_pred, _, _ = crepe.predict(audio_04[:frame_size], sr, viterbi=True)\n",
        "crepe_pred = librosa.hz_to_midi(crepe_pred)\n",
        "print(np.round(crepe_pred,2))"
      ],
      "metadata": {
        "id": "VEBNX-HwlJlV",
        "colab": {
          "base_uri": "https://localhost:8080/"
        },
        "outputId": "9df9aff1-54b0-415f-dff1-5defef7137f8"
      },
      "execution_count": null,
      "outputs": [
        {
          "output_type": "stream",
          "name": "stdout",
          "text": [
            "1/1 [==============================] - 0s 19ms/step\n",
            "[71.24 71.13 71.11 71.08 71.06 71.06 71.04 71.03 71.02 71.03]\n"
          ]
        }
      ]
    },
    {
      "cell_type": "markdown",
      "source": [
        "## Average attack transient length"
      ],
      "metadata": {
        "id": "QIMJAxWXf0bO"
      }
    },
    {
      "cell_type": "code",
      "source": [
        "calc_avg_transient = True"
      ],
      "metadata": {
        "id": "eBGDjf8if4OS"
      },
      "execution_count": null,
      "outputs": []
    },
    {
      "cell_type": "code",
      "source": [
        "dir = '/content/SASSE_48/train'\n",
        "sr = 48000\n",
        "total_attack_time = 0\n",
        "num_files = 0\n",
        "\n",
        "attack_time = es.LogAttackTime(sampleRate=sr, startAttackThreshold=0.1, stopAttackThreshold=0.9)\n",
        "\n",
        "if calc_avg_transient:\n",
        "  for (dir_path, _, filenames) in os.walk(dir):\n",
        "      num_files = len(filenames)\n",
        "      for filename in filenames:\n",
        "        file_path = os.path.join(dir_path, filename)\n",
        "\n",
        "        audio, _ = librosa.load(file_path, sr=sr)\n",
        "        _, attack_start, attack_stop = attack_time(audio)\n",
        "        attack_length = attack_stop - attack_start\n",
        "        \n",
        "        total_attack_time += attack_length\n",
        "        num_files += 1\n",
        "\n",
        "print(f\"Average attack length: {total_attack_time / num_files} s\")\n",
        "print(f\"Average attack length: {total_attack_time * 1000 / num_files} ms\")"
      ],
      "metadata": {
        "colab": {
          "base_uri": "https://localhost:8080/"
        },
        "id": "8FFzptBef4Kc",
        "outputId": "899bddff-e277-4f23-cda3-89c9c1d1942b"
      },
      "execution_count": null,
      "outputs": [
        {
          "output_type": "stream",
          "name": "stdout",
          "text": [
            "Average attack length: 0.008026080411385358 s\n",
            "Average attack length: 8.026080411385356 ms\n"
          ]
        }
      ]
    },
    {
      "cell_type": "code",
      "source": [
        "print(num_files)"
      ],
      "metadata": {
        "colab": {
          "base_uri": "https://localhost:8080/"
        },
        "id": "aeSaVPPrf3-F",
        "outputId": "8d5f0a1b-8376-4d27-db77-d5ec74d6b02e"
      },
      "execution_count": null,
      "outputs": [
        {
          "output_type": "stream",
          "name": "stdout",
          "text": [
            "15862\n"
          ]
        }
      ]
    },
    {
      "cell_type": "code",
      "source": [
        "# count number of files in SASSE\n",
        "for (dir_path, _, filenames) in os.walk('/content/SASSE_48/train'):\n",
        "  num_files = len(filenames)\n",
        "  print(f\"Training set: {num_files}\")\n",
        "\n",
        "for (dir_path, _, filenames) in os.walk('/content/SASSE_48/validation'):\n",
        "  num_files = len(filenames)\n",
        "  print(f\"Validation set: {num_files}\")\n",
        "\n",
        "for (dir_path, _, filenames) in os.walk('/content/SASSE_48/test'):\n",
        "  num_files = len(filenames)\n",
        "  print(f\"Test set: {num_files}\")"
      ],
      "metadata": {
        "colab": {
          "base_uri": "https://localhost:8080/"
        },
        "id": "sJ19nfXemux2",
        "outputId": "f8860c46-6127-4ccb-9ba9-969569184e26"
      },
      "execution_count": null,
      "outputs": [
        {
          "output_type": "stream",
          "name": "stdout",
          "text": [
            "Training set: 7931\n",
            "Validation set: 2680\n",
            "Test set: 2702\n"
          ]
        }
      ]
    },
    {
      "cell_type": "markdown",
      "source": [
        "# Evaluating Yin, pYin, and CRéPE"
      ],
      "metadata": {
        "id": "MHoies5-tbjP"
      }
    },
    {
      "cell_type": "markdown",
      "source": [
        "## Load dataframe\n",
        "\n",
        "Load the csv file stored on Github and convert it to a Pandas dataframe for adding new data to."
      ],
      "metadata": {
        "id": "sWE30VLuSNNu"
      }
    },
    {
      "cell_type": "code",
      "source": [
        "# prep\n",
        "csv_path = 'https://raw.githubusercontent.com/malloyca/steelpan-pitch/main/onset-pitch/steelpan_pitch_onset_evaluation.csv'\n",
        "evaluation_df = pd.read_csv(csv_path)"
      ],
      "metadata": {
        "id": "aTpfc-klXBna"
      },
      "execution_count": null,
      "outputs": []
    },
    {
      "cell_type": "code",
      "source": [
        "evaluation_df.head()"
      ],
      "metadata": {
        "id": "Nz60Hawea0Ry",
        "outputId": "58b93511-cd77-46e5-d5f0-4f05583841e5",
        "colab": {
          "base_uri": "https://localhost:8080/",
          "height": 254
        }
      },
      "execution_count": null,
      "outputs": [
        {
          "output_type": "execute_result",
          "data": {
            "text/plain": [
              "   Unnamed: 0                  dataset  algo samplerate frame_length hop_size  \\\n",
              "0           0      SASSE_16/validation   yin      16000         1024      512   \n",
              "1           1  ['SASSE_16/validation']   yin    [16000]       [1024]    [160]   \n",
              "2           2      SASSE_16/validation  pyin      16000         1024      512   \n",
              "3           3      SASSE_16/validation  pyin      16000         1024      160   \n",
              "\n",
              "  smp_length frames_analyzed                 rpa50                rpa50_std  \\\n",
              "0       0.05            5360    0.7716417910447761     0.009403242525833003   \n",
              "1     [0.05]         [16080]  [0.7916044776119403]  [0.0052529000655192485]   \n",
              "2       0.05            5102    0.8806350450803606      0.00744406269642824   \n",
              "3       0.05           15523    0.8659408619467887    0.0044848543911409225   \n",
              "\n",
              "                  rpa25               rpa25_std                  rpa10  \\\n",
              "0    0.6076492537313433    0.010937679141602884    0.27705223880597013   \n",
              "1  [0.5893656716417911]  [0.006362398548675664]  [0.28389303482587064]   \n",
              "2    0.7473539788318306     0.00997684047136621     0.5270482163857311   \n",
              "3    0.6726792501449462    0.006176561978807632     0.4504928171100947   \n",
              "\n",
              "              rpa10_std                 rca50               rca50_std  \\\n",
              "0  0.010025262287911754    0.7792910447761194    0.009290118923286805   \n",
              "1  [0.0058313236126906]  [0.8026119402985075]  [0.005147710004731096]   \n",
              "2  0.011463235871759634    0.8833790670325362    0.007369455971710193   \n",
              "3  0.006549175696554466    0.8747020550151389    0.004357707408094822   \n",
              "\n",
              "                  rca25               rca25_std                 rca10  \\\n",
              "0     0.621455223880597    0.010864881735361235   0.30522388059701494   \n",
              "1  [0.6080845771144279]  [0.006313628112001445]  [0.3231965174129353]   \n",
              "2    0.7538220305762446    0.009890827468799167    0.5564484515876127   \n",
              "3    0.6899439541325775    0.006088117533576466   0.49301037170650003   \n",
              "\n",
              "                rca10_std  \n",
              "0     0.01031556807277578  \n",
              "1  [0.006048747483391886]  \n",
              "2    0.011406650629166112  \n",
              "3    0.006580874135730589  "
            ],
            "text/html": [
              "\n",
              "  <div id=\"df-8c7e7cd7-f03a-4f12-a972-885b3c256f14\">\n",
              "    <div class=\"colab-df-container\">\n",
              "      <div>\n",
              "<style scoped>\n",
              "    .dataframe tbody tr th:only-of-type {\n",
              "        vertical-align: middle;\n",
              "    }\n",
              "\n",
              "    .dataframe tbody tr th {\n",
              "        vertical-align: top;\n",
              "    }\n",
              "\n",
              "    .dataframe thead th {\n",
              "        text-align: right;\n",
              "    }\n",
              "</style>\n",
              "<table border=\"1\" class=\"dataframe\">\n",
              "  <thead>\n",
              "    <tr style=\"text-align: right;\">\n",
              "      <th></th>\n",
              "      <th>Unnamed: 0</th>\n",
              "      <th>dataset</th>\n",
              "      <th>algo</th>\n",
              "      <th>samplerate</th>\n",
              "      <th>frame_length</th>\n",
              "      <th>hop_size</th>\n",
              "      <th>smp_length</th>\n",
              "      <th>frames_analyzed</th>\n",
              "      <th>rpa50</th>\n",
              "      <th>rpa50_std</th>\n",
              "      <th>rpa25</th>\n",
              "      <th>rpa25_std</th>\n",
              "      <th>rpa10</th>\n",
              "      <th>rpa10_std</th>\n",
              "      <th>rca50</th>\n",
              "      <th>rca50_std</th>\n",
              "      <th>rca25</th>\n",
              "      <th>rca25_std</th>\n",
              "      <th>rca10</th>\n",
              "      <th>rca10_std</th>\n",
              "    </tr>\n",
              "  </thead>\n",
              "  <tbody>\n",
              "    <tr>\n",
              "      <th>0</th>\n",
              "      <td>0</td>\n",
              "      <td>SASSE_16/validation</td>\n",
              "      <td>yin</td>\n",
              "      <td>16000</td>\n",
              "      <td>1024</td>\n",
              "      <td>512</td>\n",
              "      <td>0.05</td>\n",
              "      <td>5360</td>\n",
              "      <td>0.7716417910447761</td>\n",
              "      <td>0.009403242525833003</td>\n",
              "      <td>0.6076492537313433</td>\n",
              "      <td>0.010937679141602884</td>\n",
              "      <td>0.27705223880597013</td>\n",
              "      <td>0.010025262287911754</td>\n",
              "      <td>0.7792910447761194</td>\n",
              "      <td>0.009290118923286805</td>\n",
              "      <td>0.621455223880597</td>\n",
              "      <td>0.010864881735361235</td>\n",
              "      <td>0.30522388059701494</td>\n",
              "      <td>0.01031556807277578</td>\n",
              "    </tr>\n",
              "    <tr>\n",
              "      <th>1</th>\n",
              "      <td>1</td>\n",
              "      <td>['SASSE_16/validation']</td>\n",
              "      <td>yin</td>\n",
              "      <td>[16000]</td>\n",
              "      <td>[1024]</td>\n",
              "      <td>[160]</td>\n",
              "      <td>[0.05]</td>\n",
              "      <td>[16080]</td>\n",
              "      <td>[0.7916044776119403]</td>\n",
              "      <td>[0.0052529000655192485]</td>\n",
              "      <td>[0.5893656716417911]</td>\n",
              "      <td>[0.006362398548675664]</td>\n",
              "      <td>[0.28389303482587064]</td>\n",
              "      <td>[0.0058313236126906]</td>\n",
              "      <td>[0.8026119402985075]</td>\n",
              "      <td>[0.005147710004731096]</td>\n",
              "      <td>[0.6080845771144279]</td>\n",
              "      <td>[0.006313628112001445]</td>\n",
              "      <td>[0.3231965174129353]</td>\n",
              "      <td>[0.006048747483391886]</td>\n",
              "    </tr>\n",
              "    <tr>\n",
              "      <th>2</th>\n",
              "      <td>2</td>\n",
              "      <td>SASSE_16/validation</td>\n",
              "      <td>pyin</td>\n",
              "      <td>16000</td>\n",
              "      <td>1024</td>\n",
              "      <td>512</td>\n",
              "      <td>0.05</td>\n",
              "      <td>5102</td>\n",
              "      <td>0.8806350450803606</td>\n",
              "      <td>0.00744406269642824</td>\n",
              "      <td>0.7473539788318306</td>\n",
              "      <td>0.00997684047136621</td>\n",
              "      <td>0.5270482163857311</td>\n",
              "      <td>0.011463235871759634</td>\n",
              "      <td>0.8833790670325362</td>\n",
              "      <td>0.007369455971710193</td>\n",
              "      <td>0.7538220305762446</td>\n",
              "      <td>0.009890827468799167</td>\n",
              "      <td>0.5564484515876127</td>\n",
              "      <td>0.011406650629166112</td>\n",
              "    </tr>\n",
              "    <tr>\n",
              "      <th>3</th>\n",
              "      <td>3</td>\n",
              "      <td>SASSE_16/validation</td>\n",
              "      <td>pyin</td>\n",
              "      <td>16000</td>\n",
              "      <td>1024</td>\n",
              "      <td>160</td>\n",
              "      <td>0.05</td>\n",
              "      <td>15523</td>\n",
              "      <td>0.8659408619467887</td>\n",
              "      <td>0.0044848543911409225</td>\n",
              "      <td>0.6726792501449462</td>\n",
              "      <td>0.006176561978807632</td>\n",
              "      <td>0.4504928171100947</td>\n",
              "      <td>0.006549175696554466</td>\n",
              "      <td>0.8747020550151389</td>\n",
              "      <td>0.004357707408094822</td>\n",
              "      <td>0.6899439541325775</td>\n",
              "      <td>0.006088117533576466</td>\n",
              "      <td>0.49301037170650003</td>\n",
              "      <td>0.006580874135730589</td>\n",
              "    </tr>\n",
              "  </tbody>\n",
              "</table>\n",
              "</div>\n",
              "      <button class=\"colab-df-convert\" onclick=\"convertToInteractive('df-8c7e7cd7-f03a-4f12-a972-885b3c256f14')\"\n",
              "              title=\"Convert this dataframe to an interactive table.\"\n",
              "              style=\"display:none;\">\n",
              "        \n",
              "  <svg xmlns=\"http://www.w3.org/2000/svg\" height=\"24px\"viewBox=\"0 0 24 24\"\n",
              "       width=\"24px\">\n",
              "    <path d=\"M0 0h24v24H0V0z\" fill=\"none\"/>\n",
              "    <path d=\"M18.56 5.44l.94 2.06.94-2.06 2.06-.94-2.06-.94-.94-2.06-.94 2.06-2.06.94zm-11 1L8.5 8.5l.94-2.06 2.06-.94-2.06-.94L8.5 2.5l-.94 2.06-2.06.94zm10 10l.94 2.06.94-2.06 2.06-.94-2.06-.94-.94-2.06-.94 2.06-2.06.94z\"/><path d=\"M17.41 7.96l-1.37-1.37c-.4-.4-.92-.59-1.43-.59-.52 0-1.04.2-1.43.59L10.3 9.45l-7.72 7.72c-.78.78-.78 2.05 0 2.83L4 21.41c.39.39.9.59 1.41.59.51 0 1.02-.2 1.41-.59l7.78-7.78 2.81-2.81c.8-.78.8-2.07 0-2.86zM5.41 20L4 18.59l7.72-7.72 1.47 1.35L5.41 20z\"/>\n",
              "  </svg>\n",
              "      </button>\n",
              "      \n",
              "  <style>\n",
              "    .colab-df-container {\n",
              "      display:flex;\n",
              "      flex-wrap:wrap;\n",
              "      gap: 12px;\n",
              "    }\n",
              "\n",
              "    .colab-df-convert {\n",
              "      background-color: #E8F0FE;\n",
              "      border: none;\n",
              "      border-radius: 50%;\n",
              "      cursor: pointer;\n",
              "      display: none;\n",
              "      fill: #1967D2;\n",
              "      height: 32px;\n",
              "      padding: 0 0 0 0;\n",
              "      width: 32px;\n",
              "    }\n",
              "\n",
              "    .colab-df-convert:hover {\n",
              "      background-color: #E2EBFA;\n",
              "      box-shadow: 0px 1px 2px rgba(60, 64, 67, 0.3), 0px 1px 3px 1px rgba(60, 64, 67, 0.15);\n",
              "      fill: #174EA6;\n",
              "    }\n",
              "\n",
              "    [theme=dark] .colab-df-convert {\n",
              "      background-color: #3B4455;\n",
              "      fill: #D2E3FC;\n",
              "    }\n",
              "\n",
              "    [theme=dark] .colab-df-convert:hover {\n",
              "      background-color: #434B5C;\n",
              "      box-shadow: 0px 1px 3px 1px rgba(0, 0, 0, 0.15);\n",
              "      filter: drop-shadow(0px 1px 2px rgba(0, 0, 0, 0.3));\n",
              "      fill: #FFFFFF;\n",
              "    }\n",
              "  </style>\n",
              "\n",
              "      <script>\n",
              "        const buttonEl =\n",
              "          document.querySelector('#df-8c7e7cd7-f03a-4f12-a972-885b3c256f14 button.colab-df-convert');\n",
              "        buttonEl.style.display =\n",
              "          google.colab.kernel.accessAllowed ? 'block' : 'none';\n",
              "\n",
              "        async function convertToInteractive(key) {\n",
              "          const element = document.querySelector('#df-8c7e7cd7-f03a-4f12-a972-885b3c256f14');\n",
              "          const dataTable =\n",
              "            await google.colab.kernel.invokeFunction('convertToInteractive',\n",
              "                                                     [key], {});\n",
              "          if (!dataTable) return;\n",
              "\n",
              "          const docLinkHtml = 'Like what you see? Visit the ' +\n",
              "            '<a target=\"_blank\" href=https://colab.research.google.com/notebooks/data_table.ipynb>data table notebook</a>'\n",
              "            + ' to learn more about interactive tables.';\n",
              "          element.innerHTML = '';\n",
              "          dataTable['output_type'] = 'display_data';\n",
              "          await google.colab.output.renderOutput(dataTable, element);\n",
              "          const docLink = document.createElement('div');\n",
              "          docLink.innerHTML = docLinkHtml;\n",
              "          element.appendChild(docLink);\n",
              "        }\n",
              "      </script>\n",
              "    </div>\n",
              "  </div>\n",
              "  "
            ]
          },
          "metadata": {},
          "execution_count": 10
        }
      ]
    },
    {
      "cell_type": "markdown",
      "source": [
        "## YIN evaluation"
      ],
      "metadata": {
        "id": "jf-SZCZyVL4Q"
      }
    },
    {
      "cell_type": "code",
      "source": [
        "# use this to enable/disable yin evaluation\n",
        "evaluate_yin = False\n",
        "\n",
        "dataset_name = 'SASSE_16/validation'\n",
        "dataset_path = '/content/SASSE_16/validation'\n",
        "samplerate = 16000\n",
        "frame_size = 1024\n",
        "hop_size = frame_size // 2\n",
        "#hop_size = 160\n",
        "attack_length = 0.05 # seconds"
      ],
      "metadata": {
        "id": "g46XQm0_UiDQ"
      },
      "execution_count": null,
      "outputs": []
    },
    {
      "cell_type": "code",
      "source": [
        "def get_yin_estimation(sample_path, samplerate, target, frame_size, hop_size,\n",
        "                       attack_length=0.05):\n",
        "  \n",
        "  # load sample\n",
        "  loader = es.MonoLoader(filename=sample_path, sampleRate=samplerate)\n",
        "  audio = loader()\n",
        "\n",
        "  # trim the sample to the first 50 ms\n",
        "  start_stop = es.StartStopSilence(threshold=-60)\n",
        "  start_frame, stop_frame = 0, 0\n",
        "  for frame in es.FrameGenerator(audio, frame_size, hop_size):\n",
        "    start_frame, stop_frame = start_stop(frame)\n",
        "\n",
        "  start_time = float(start_frame * hop_size) / float(samplerate)\n",
        "  frame_length = frame_size / samplerate\n",
        "  end_time = start_time + attack_length #+ frame_length # pad the attack length by frame_length\n",
        "  \n",
        "  # trim audio\n",
        "  trimmer = es.Trimmer(startTime=start_time, endTime=end_time,\n",
        "                       sampleRate=samplerate)\n",
        "  trimmed_audio = trimmer(audio)\n",
        "\n",
        "  # get yin pitch estimations\n",
        "  pitch_estimations = librosa.yin(trimmed_audio, fmin=librosa.note_to_hz('C2'),\n",
        "                                  fmax=librosa.note_to_hz('C7'), sr=samplerate,\n",
        "                                  frame_length=frame_size, hop_length=hop_size)\n",
        "  \n",
        "  # filter out NaNs\n",
        "  pitch_estimations = pitch_estimations[~np.isnan(pitch_estimations)]\n",
        "\n",
        "  # populate array of target values to match size of estimations array\n",
        "  targets = [float(target)] * pitch_estimations.shape[0]\n",
        "\n",
        "  return pitch_estimations, targets"
      ],
      "metadata": {
        "id": "Tcq1GWEGtpui"
      },
      "execution_count": null,
      "outputs": []
    },
    {
      "cell_type": "code",
      "source": [
        "# test to make sure it's working\n",
        "get_yin_estimation('/content/SASSE_tiny_16/train/60_train_sample_101.wav',\n",
        "                   samplerate=16000, target=60, frame_size=frame_size, hop_size=512)"
      ],
      "metadata": {
        "colab": {
          "base_uri": "https://localhost:8080/"
        },
        "id": "POXGvToRP0NJ",
        "outputId": "0b3f6cab-2a62-4f3f-d7ac-ae35c69c42d2"
      },
      "execution_count": null,
      "outputs": [
        {
          "output_type": "execute_result",
          "data": {
            "text/plain": [
              "(array([261.16396013, 261.54450673]), [60.0, 60.0])"
            ]
          },
          "metadata": {},
          "execution_count": 166
        }
      ]
    },
    {
      "cell_type": "code",
      "source": [
        "def process_folder_yin(directory, samplerate, frame_size, hop_size,\n",
        "                        attack_length=0.05):\n",
        "  folder_pitches = []\n",
        "  folder_targets = []\n",
        "  file_count = 0\n",
        "  count = 0\n",
        "\n",
        "  for (dir_path, _, filenames) in os.walk(directory):\n",
        "    num_files = len(filenames)\n",
        "    for filename in filenames:\n",
        "      file_path = os.path.join(dir_path, filename)\n",
        "\n",
        "      # in my formatting, the target is given by the first numbers in the filename\n",
        "      target = filename.split(\"_\")[0]\n",
        "      pitches, targets = get_yin_estimation(file_path, samplerate=samplerate,\n",
        "                                            target=target,\n",
        "                                            frame_size=frame_size,\n",
        "                                            hop_size=hop_size,\n",
        "                                            attack_length=attack_length)\n",
        "      \n",
        "      folder_pitches.append(pitches)\n",
        "      folder_targets.append(targets)\n",
        "\n",
        "      file_count += 1\n",
        "      if (file_count % 100) == 0:\n",
        "        print(f'Progress: {file_count}/{num_files}')\n",
        "\n",
        "  folder_pitches = np.concatenate(folder_pitches)\n",
        "  folder_targets = np.concatenate(folder_targets)\n",
        "  print(f\"Num files processed: {file_count}\")\n",
        "  return folder_pitches, folder_targets"
      ],
      "metadata": {
        "id": "vDLvIvkDtpns"
      },
      "execution_count": null,
      "outputs": []
    },
    {
      "cell_type": "code",
      "source": [
        "if evaluate_yin:\n",
        "  yin_estimates, yin_targets = process_folder_yin(dataset_path, samplerate=16000,\n",
        "                                                  frame_size=frame_size, hop_size=hop_size,\n",
        "                                                  attack_length=attack_length)"
      ],
      "metadata": {
        "id": "A_uI2AQHYU0u",
        "outputId": "dd5d82f8-1bab-49e3-bf87-15278fc4a1ae",
        "colab": {
          "base_uri": "https://localhost:8080/"
        }
      },
      "execution_count": null,
      "outputs": [
        {
          "output_type": "stream",
          "name": "stdout",
          "text": [
            "Progress: 100/2680\n",
            "Progress: 200/2680\n",
            "Progress: 300/2680\n",
            "Progress: 400/2680\n",
            "Progress: 500/2680\n",
            "Progress: 600/2680\n",
            "Progress: 700/2680\n",
            "Progress: 800/2680\n",
            "Progress: 900/2680\n",
            "Progress: 1000/2680\n",
            "Progress: 1100/2680\n",
            "Progress: 1200/2680\n",
            "Progress: 1300/2680\n",
            "Progress: 1400/2680\n",
            "Progress: 1500/2680\n",
            "Progress: 1600/2680\n",
            "Progress: 1700/2680\n",
            "Progress: 1800/2680\n",
            "Progress: 1900/2680\n",
            "Progress: 2000/2680\n",
            "Progress: 2100/2680\n",
            "Progress: 2200/2680\n",
            "Progress: 2300/2680\n",
            "Progress: 2400/2680\n",
            "Progress: 2500/2680\n",
            "Progress: 2600/2680\n",
            "Num files processed: 2680\n"
          ]
        }
      ]
    },
    {
      "cell_type": "code",
      "source": [
        "if evaluate_yin:\n",
        "  print(yin_estimates.shape, yin_targets.shape)"
      ],
      "metadata": {
        "id": "V_b3Ed0ytjlF",
        "outputId": "e715f410-13de-44c8-a9ef-67a394b74972",
        "colab": {
          "base_uri": "https://localhost:8080/"
        }
      },
      "execution_count": null,
      "outputs": [
        {
          "output_type": "stream",
          "name": "stdout",
          "text": [
            "(16080,) (16080,)\n"
          ]
        }
      ]
    },
    {
      "cell_type": "markdown",
      "source": [
        "### Raw pitch accuracy"
      ],
      "metadata": {
        "id": "-STEIan-mGk_"
      }
    },
    {
      "cell_type": "code",
      "source": [
        "evaluation_df.head()"
      ],
      "metadata": {
        "id": "d8B6VVgZSKLw",
        "outputId": "b7f28719-cc58-4d38-a733-3d52c5c04c44",
        "colab": {
          "base_uri": "https://localhost:8080/",
          "height": 80
        }
      },
      "execution_count": null,
      "outputs": [
        {
          "output_type": "execute_result",
          "data": {
            "text/plain": [
              "               dataset  algo  samplerate  frame_length  hop_size  smp_length  \\\n",
              "0  SASSE_16/validation  True       16000          1024       512        0.05   \n",
              "\n",
              "   frames_analyzed     rpa50  rpa50_std     rpa25  rpa25_std     rpa10  \\\n",
              "0             5360  0.771642   0.009403  0.607649   0.010938  0.277052   \n",
              "\n",
              "   rpa10_std     rca50  rca50_std     rca25  rca25_std     rca10  rca10_std  \n",
              "0   0.010025  0.779291    0.00929  0.621455   0.010865  0.305224   0.010316  "
            ],
            "text/html": [
              "\n",
              "  <div id=\"df-b54a3a0b-9f68-45b1-9927-e62b8b697f70\">\n",
              "    <div class=\"colab-df-container\">\n",
              "      <div>\n",
              "<style scoped>\n",
              "    .dataframe tbody tr th:only-of-type {\n",
              "        vertical-align: middle;\n",
              "    }\n",
              "\n",
              "    .dataframe tbody tr th {\n",
              "        vertical-align: top;\n",
              "    }\n",
              "\n",
              "    .dataframe thead th {\n",
              "        text-align: right;\n",
              "    }\n",
              "</style>\n",
              "<table border=\"1\" class=\"dataframe\">\n",
              "  <thead>\n",
              "    <tr style=\"text-align: right;\">\n",
              "      <th></th>\n",
              "      <th>dataset</th>\n",
              "      <th>algo</th>\n",
              "      <th>samplerate</th>\n",
              "      <th>frame_length</th>\n",
              "      <th>hop_size</th>\n",
              "      <th>smp_length</th>\n",
              "      <th>frames_analyzed</th>\n",
              "      <th>rpa50</th>\n",
              "      <th>rpa50_std</th>\n",
              "      <th>rpa25</th>\n",
              "      <th>rpa25_std</th>\n",
              "      <th>rpa10</th>\n",
              "      <th>rpa10_std</th>\n",
              "      <th>rca50</th>\n",
              "      <th>rca50_std</th>\n",
              "      <th>rca25</th>\n",
              "      <th>rca25_std</th>\n",
              "      <th>rca10</th>\n",
              "      <th>rca10_std</th>\n",
              "    </tr>\n",
              "  </thead>\n",
              "  <tbody>\n",
              "    <tr>\n",
              "      <th>0</th>\n",
              "      <td>SASSE_16/validation</td>\n",
              "      <td>True</td>\n",
              "      <td>16000</td>\n",
              "      <td>1024</td>\n",
              "      <td>512</td>\n",
              "      <td>0.05</td>\n",
              "      <td>5360</td>\n",
              "      <td>0.771642</td>\n",
              "      <td>0.009403</td>\n",
              "      <td>0.607649</td>\n",
              "      <td>0.010938</td>\n",
              "      <td>0.277052</td>\n",
              "      <td>0.010025</td>\n",
              "      <td>0.779291</td>\n",
              "      <td>0.00929</td>\n",
              "      <td>0.621455</td>\n",
              "      <td>0.010865</td>\n",
              "      <td>0.305224</td>\n",
              "      <td>0.010316</td>\n",
              "    </tr>\n",
              "  </tbody>\n",
              "</table>\n",
              "</div>\n",
              "      <button class=\"colab-df-convert\" onclick=\"convertToInteractive('df-b54a3a0b-9f68-45b1-9927-e62b8b697f70')\"\n",
              "              title=\"Convert this dataframe to an interactive table.\"\n",
              "              style=\"display:none;\">\n",
              "        \n",
              "  <svg xmlns=\"http://www.w3.org/2000/svg\" height=\"24px\"viewBox=\"0 0 24 24\"\n",
              "       width=\"24px\">\n",
              "    <path d=\"M0 0h24v24H0V0z\" fill=\"none\"/>\n",
              "    <path d=\"M18.56 5.44l.94 2.06.94-2.06 2.06-.94-2.06-.94-.94-2.06-.94 2.06-2.06.94zm-11 1L8.5 8.5l.94-2.06 2.06-.94-2.06-.94L8.5 2.5l-.94 2.06-2.06.94zm10 10l.94 2.06.94-2.06 2.06-.94-2.06-.94-.94-2.06-.94 2.06-2.06.94z\"/><path d=\"M17.41 7.96l-1.37-1.37c-.4-.4-.92-.59-1.43-.59-.52 0-1.04.2-1.43.59L10.3 9.45l-7.72 7.72c-.78.78-.78 2.05 0 2.83L4 21.41c.39.39.9.59 1.41.59.51 0 1.02-.2 1.41-.59l7.78-7.78 2.81-2.81c.8-.78.8-2.07 0-2.86zM5.41 20L4 18.59l7.72-7.72 1.47 1.35L5.41 20z\"/>\n",
              "  </svg>\n",
              "      </button>\n",
              "      \n",
              "  <style>\n",
              "    .colab-df-container {\n",
              "      display:flex;\n",
              "      flex-wrap:wrap;\n",
              "      gap: 12px;\n",
              "    }\n",
              "\n",
              "    .colab-df-convert {\n",
              "      background-color: #E8F0FE;\n",
              "      border: none;\n",
              "      border-radius: 50%;\n",
              "      cursor: pointer;\n",
              "      display: none;\n",
              "      fill: #1967D2;\n",
              "      height: 32px;\n",
              "      padding: 0 0 0 0;\n",
              "      width: 32px;\n",
              "    }\n",
              "\n",
              "    .colab-df-convert:hover {\n",
              "      background-color: #E2EBFA;\n",
              "      box-shadow: 0px 1px 2px rgba(60, 64, 67, 0.3), 0px 1px 3px 1px rgba(60, 64, 67, 0.15);\n",
              "      fill: #174EA6;\n",
              "    }\n",
              "\n",
              "    [theme=dark] .colab-df-convert {\n",
              "      background-color: #3B4455;\n",
              "      fill: #D2E3FC;\n",
              "    }\n",
              "\n",
              "    [theme=dark] .colab-df-convert:hover {\n",
              "      background-color: #434B5C;\n",
              "      box-shadow: 0px 1px 3px 1px rgba(0, 0, 0, 0.15);\n",
              "      filter: drop-shadow(0px 1px 2px rgba(0, 0, 0, 0.3));\n",
              "      fill: #FFFFFF;\n",
              "    }\n",
              "  </style>\n",
              "\n",
              "      <script>\n",
              "        const buttonEl =\n",
              "          document.querySelector('#df-b54a3a0b-9f68-45b1-9927-e62b8b697f70 button.colab-df-convert');\n",
              "        buttonEl.style.display =\n",
              "          google.colab.kernel.accessAllowed ? 'block' : 'none';\n",
              "\n",
              "        async function convertToInteractive(key) {\n",
              "          const element = document.querySelector('#df-b54a3a0b-9f68-45b1-9927-e62b8b697f70');\n",
              "          const dataTable =\n",
              "            await google.colab.kernel.invokeFunction('convertToInteractive',\n",
              "                                                     [key], {});\n",
              "          if (!dataTable) return;\n",
              "\n",
              "          const docLinkHtml = 'Like what you see? Visit the ' +\n",
              "            '<a target=\"_blank\" href=https://colab.research.google.com/notebooks/data_table.ipynb>data table notebook</a>'\n",
              "            + ' to learn more about interactive tables.';\n",
              "          element.innerHTML = '';\n",
              "          dataTable['output_type'] = 'display_data';\n",
              "          await google.colab.output.renderOutput(dataTable, element);\n",
              "          const docLink = document.createElement('div');\n",
              "          docLink.innerHTML = docLinkHtml;\n",
              "          element.appendChild(docLink);\n",
              "        }\n",
              "      </script>\n",
              "    </div>\n",
              "  </div>\n",
              "  "
            ]
          },
          "metadata": {},
          "execution_count": 170
        }
      ]
    },
    {
      "cell_type": "code",
      "source": [
        "if evaluate_yin:\n",
        "  yin_rpa_50_matches = np.where(np.abs(librosa.hz_to_midi(yin_estimates) - yin_targets) < 0.5)\n",
        "  yin_rpa_25_matches = np.where(np.abs(librosa.hz_to_midi(yin_estimates) - yin_targets) < 0.25)\n",
        "  yin_rpa_10_matches = np.where(np.abs(librosa.hz_to_midi(yin_estimates) - yin_targets) < 0.1)"
      ],
      "metadata": {
        "id": "sPydjU4BX3MF"
      },
      "execution_count": null,
      "outputs": []
    },
    {
      "cell_type": "code",
      "source": [
        "if evaluate_yin:\n",
        "  yin_rpa_50 = yin_rpa_50_matches[0].shape[0] / len(yin_targets)\n",
        "  print(f\"50 cent raw pitch accuracy: {yin_rpa_50}\")\n",
        "  yin_rpa_25 = yin_rpa_25_matches[0].shape[0] / len(yin_targets)\n",
        "  print(f\"25 cent raw pitch accuracy: {yin_rpa_25}\")\n",
        "  yin_rpa_10 = yin_rpa_10_matches[0].shape[0] / len(yin_targets)\n",
        "  print(f\"10 cent raw pitch accuracy: {yin_rpa_10}\")"
      ],
      "metadata": {
        "id": "mE6GSXm0X3Jc",
        "outputId": "21f9a645-7e1c-49bc-e81a-4c2eaef196ea",
        "colab": {
          "base_uri": "https://localhost:8080/"
        }
      },
      "execution_count": null,
      "outputs": [
        {
          "output_type": "stream",
          "name": "stdout",
          "text": [
            "50 cent raw pitch accuracy: 0.7916044776119403\n",
            "25 cent raw pitch accuracy: 0.5893656716417911\n",
            "10 cent raw pitch accuracy: 0.28389303482587064\n"
          ]
        }
      ]
    },
    {
      "cell_type": "markdown",
      "source": [
        "I got this method of calculating the confidence interval from [Machine Learning Mastery](https://machinelearningmastery.com/confidence-intervals-for-machine-learning/). These calculations are made for a 95% confidence interval."
      ],
      "metadata": {
        "id": "EhCm5GDpUFbt"
      }
    },
    {
      "cell_type": "code",
      "source": [
        "if evaluate_yin:\n",
        "  yin_rpa_50_conf_int = 1.64 * np.sqrt( (yin_rpa_50 * (1 - yin_rpa_50))  / len(yin_targets))\n",
        "  print(f\"50 cent rpa std: {yin_rpa_50_conf_int}\")\n",
        "  yin_rpa_25_conf_int = 1.64 * np.sqrt( (yin_rpa_25 * (1 - yin_rpa_25))  / len(yin_targets))\n",
        "  print(f\"25 cent rpa std: {yin_rpa_25_conf_int}\")\n",
        "  yin_rpa_10_conf_int = 1.64 * np.sqrt( (yin_rpa_10 * (1 - yin_rpa_10))  / len(yin_targets))\n",
        "  print(f\"10 cent rpa std: {yin_rpa_10_conf_int}\")\n",
        "\n",
        "\n",
        "  #yin_rpa_diffs = np.abs(librosa.hz_to_midi(yin_estimates) - yin_targets)\n",
        "\n",
        "  #yin_rpa_50_std = np.where(np.abs(yin_rpa_diffs) > 0.5, yin_rpa_diffs, 0)\n",
        "  #print(f\"50 cent rpa std: {yin_rpa_50_std.std()}\")\n",
        "  #yin_rpa_25_std = np.where(np.abs(yin_rpa_diffs) > 0.25, yin_rpa_diffs, 0)\n",
        "  #print(f\"25 cent rpa std: {yin_rpa_25_std.std()}\")\n",
        "  #yin_rpa_10_std = np.where(np.abs(yin_rpa_diffs) > 0.1, yin_rpa_diffs, 0)\n",
        "  #print(f\"10 cent rpa std: {yin_rpa_10_std.std()}\")"
      ],
      "metadata": {
        "colab": {
          "base_uri": "https://localhost:8080/"
        },
        "id": "MqtDh9grzvEF",
        "outputId": "cd14729c-2f58-4f78-8c13-587aefff5552"
      },
      "execution_count": null,
      "outputs": [
        {
          "output_type": "stream",
          "name": "stdout",
          "text": [
            "50 cent rpa std: 0.0052529000655192485\n",
            "25 cent rpa std: 0.006362398548675664\n",
            "10 cent rpa std: 0.0058313236126906\n"
          ]
        }
      ]
    },
    {
      "cell_type": "markdown",
      "source": [
        "### Raw chroma accuracy"
      ],
      "metadata": {
        "id": "ZQ9dZcZ-mI-K"
      }
    },
    {
      "cell_type": "code",
      "source": [
        "if evaluate_yin:\n",
        "  # offset by 0.5 to account for [11.5,12.5] as the octave error range when taking the modulo\n",
        "  yin_rca_50_matches = np.where(np.fmod( np.abs(librosa.hz_to_midi(yin_estimates) - yin_targets + 0.5), 12 ) < 1.0)\n",
        "  yin_rca_25_matches = np.where(np.fmod( np.abs(librosa.hz_to_midi(yin_estimates) - yin_targets + 0.25), 12 ) < 0.5)\n",
        "  yin_rca_10_matches = np.where(np.fmod( np.abs(librosa.hz_to_midi(yin_estimates) - yin_targets + 0.1), 12 ) < 0.2)"
      ],
      "metadata": {
        "id": "DXoRt76fmL7U"
      },
      "execution_count": null,
      "outputs": []
    },
    {
      "cell_type": "code",
      "source": [
        "if evaluate_yin:\n",
        "  yin_rca_50 = yin_rca_50_matches[0].shape[0] / len(yin_targets)\n",
        "  print(f\"50 cent raw chroma accuracy: {yin_rca_50}\")\n",
        "  yin_rca_25 = yin_rca_25_matches[0].shape[0] / len(yin_targets)\n",
        "  print(f\"25 cent raw chroma accuracy: {yin_rca_25}\")\n",
        "  yin_rca_10 = yin_rca_10_matches[0].shape[0] / len(yin_targets)\n",
        "  print(f\"10 cent raw chroma accuracy: {yin_rca_10}\")"
      ],
      "metadata": {
        "id": "S5kL2lMPmLye",
        "outputId": "bb5ec7b4-1920-4c7a-aa22-c6f987a53937",
        "colab": {
          "base_uri": "https://localhost:8080/"
        }
      },
      "execution_count": null,
      "outputs": [
        {
          "output_type": "stream",
          "name": "stdout",
          "text": [
            "50 cent raw chroma accuracy: 0.8026119402985075\n",
            "25 cent raw chroma accuracy: 0.6080845771144279\n",
            "10 cent raw chroma accuracy: 0.3231965174129353\n"
          ]
        }
      ]
    },
    {
      "cell_type": "code",
      "source": [
        "if evaluate_yin:\n",
        "  yin_rca_50_conf_int = 1.64 * np.sqrt( (yin_rca_50 * (1 - yin_rca_50))  / len(yin_targets))\n",
        "  print(f\"50 cent rca std: {yin_rca_50_conf_int}\")\n",
        "  yin_rca_25_conf_int = 1.64 * np.sqrt( (yin_rca_25 * (1 - yin_rca_25))  / len(yin_targets))\n",
        "  print(f\"25 cent rca std: {yin_rca_25_conf_int}\")\n",
        "  yin_rca_10_conf_int = 1.64 * np.sqrt( (yin_rca_10 * (1 - yin_rca_10))  / len(yin_targets))\n",
        "  print(f\"10 cent rca std: {yin_rca_10_conf_int}\")\n",
        "\n",
        "  #yin_rca_50_diffs = np.fmod(np.abs(librosa.hz_to_midi(yin_estimates) - yin_targets + 0.5), 12)\n",
        "  #yin_rca_25_diffs = np.fmod(np.abs(librosa.hz_to_midi(yin_estimates) - yin_targets + 0.25), 12)\n",
        "  #yin_rca_10_diffs = np.fmod(np.abs(librosa.hz_to_midi(yin_estimates) - yin_targets + 0.1), 12)\n",
        "\n",
        "  #yin_rca_50_std = np.where(yin_rca_50_diffs > 1.0, yin_rca_50_diffs, 0)\n",
        "  #print(f\"50 cent rca std: {yin_rca_50_std.std()}\")\n",
        "  #yin_rca_25_std = np.where(yin_rca_25_diffs > 0.5, yin_rca_25_diffs, 0)\n",
        "  #print(f\"25 cent rca std: {yin_rca_25_std.std()}\")\n",
        "  #yin_rca_10_std = np.where(yin_rca_10_diffs > 0.2, yin_rca_10_diffs, 0)\n",
        "  #print(f\"10 cent rca std: {yin_rca_10_std.std()}\")\n"
      ],
      "metadata": {
        "colab": {
          "base_uri": "https://localhost:8080/"
        },
        "id": "Ed5yVTr12ux_",
        "outputId": "386a8f99-1948-4bfb-d7cf-0bd17d479b9a"
      },
      "execution_count": null,
      "outputs": [
        {
          "output_type": "stream",
          "name": "stdout",
          "text": [
            "50 cent rca std: 0.005147710004731096\n",
            "25 cent rca std: 0.006313628112001445\n",
            "10 cent rca std: 0.006048747483391886\n"
          ]
        }
      ]
    },
    {
      "cell_type": "markdown",
      "source": [
        "### Saving the data"
      ],
      "metadata": {
        "id": "2zV-qNwzUvKJ"
      }
    },
    {
      "cell_type": "code",
      "source": [
        "# change to True to save this to the df\n",
        "save_yin_eval = False"
      ],
      "metadata": {
        "id": "DwQHO6VJSpvb"
      },
      "execution_count": null,
      "outputs": []
    },
    {
      "cell_type": "code",
      "source": [
        "evaluation_df.head()"
      ],
      "metadata": {
        "id": "9fMX5G_7MDa7",
        "outputId": "e76c499d-ff8b-40d1-c998-25a0596342be",
        "colab": {
          "base_uri": "https://localhost:8080/",
          "height": 80
        }
      },
      "execution_count": null,
      "outputs": [
        {
          "output_type": "execute_result",
          "data": {
            "text/plain": [
              "               dataset  algo  samplerate  frame_length  hop_size  smp_length  \\\n",
              "0  SASSE_16/validation  True       16000          1024       512        0.05   \n",
              "\n",
              "   frames_analyzed     rpa50  rpa50_std     rpa25  rpa25_std     rpa10  \\\n",
              "0             5360  0.771642   0.009403  0.607649   0.010938  0.277052   \n",
              "\n",
              "   rpa10_std     rca50  rca50_std     rca25  rca25_std     rca10  rca10_std  \n",
              "0   0.010025  0.779291    0.00929  0.621455   0.010865  0.305224   0.010316  "
            ],
            "text/html": [
              "\n",
              "  <div id=\"df-d2ae11f6-8a8c-4fa5-9f50-1a8a31dae867\">\n",
              "    <div class=\"colab-df-container\">\n",
              "      <div>\n",
              "<style scoped>\n",
              "    .dataframe tbody tr th:only-of-type {\n",
              "        vertical-align: middle;\n",
              "    }\n",
              "\n",
              "    .dataframe tbody tr th {\n",
              "        vertical-align: top;\n",
              "    }\n",
              "\n",
              "    .dataframe thead th {\n",
              "        text-align: right;\n",
              "    }\n",
              "</style>\n",
              "<table border=\"1\" class=\"dataframe\">\n",
              "  <thead>\n",
              "    <tr style=\"text-align: right;\">\n",
              "      <th></th>\n",
              "      <th>dataset</th>\n",
              "      <th>algo</th>\n",
              "      <th>samplerate</th>\n",
              "      <th>frame_length</th>\n",
              "      <th>hop_size</th>\n",
              "      <th>smp_length</th>\n",
              "      <th>frames_analyzed</th>\n",
              "      <th>rpa50</th>\n",
              "      <th>rpa50_std</th>\n",
              "      <th>rpa25</th>\n",
              "      <th>rpa25_std</th>\n",
              "      <th>rpa10</th>\n",
              "      <th>rpa10_std</th>\n",
              "      <th>rca50</th>\n",
              "      <th>rca50_std</th>\n",
              "      <th>rca25</th>\n",
              "      <th>rca25_std</th>\n",
              "      <th>rca10</th>\n",
              "      <th>rca10_std</th>\n",
              "    </tr>\n",
              "  </thead>\n",
              "  <tbody>\n",
              "    <tr>\n",
              "      <th>0</th>\n",
              "      <td>SASSE_16/validation</td>\n",
              "      <td>True</td>\n",
              "      <td>16000</td>\n",
              "      <td>1024</td>\n",
              "      <td>512</td>\n",
              "      <td>0.05</td>\n",
              "      <td>5360</td>\n",
              "      <td>0.771642</td>\n",
              "      <td>0.009403</td>\n",
              "      <td>0.607649</td>\n",
              "      <td>0.010938</td>\n",
              "      <td>0.277052</td>\n",
              "      <td>0.010025</td>\n",
              "      <td>0.779291</td>\n",
              "      <td>0.00929</td>\n",
              "      <td>0.621455</td>\n",
              "      <td>0.010865</td>\n",
              "      <td>0.305224</td>\n",
              "      <td>0.010316</td>\n",
              "    </tr>\n",
              "  </tbody>\n",
              "</table>\n",
              "</div>\n",
              "      <button class=\"colab-df-convert\" onclick=\"convertToInteractive('df-d2ae11f6-8a8c-4fa5-9f50-1a8a31dae867')\"\n",
              "              title=\"Convert this dataframe to an interactive table.\"\n",
              "              style=\"display:none;\">\n",
              "        \n",
              "  <svg xmlns=\"http://www.w3.org/2000/svg\" height=\"24px\"viewBox=\"0 0 24 24\"\n",
              "       width=\"24px\">\n",
              "    <path d=\"M0 0h24v24H0V0z\" fill=\"none\"/>\n",
              "    <path d=\"M18.56 5.44l.94 2.06.94-2.06 2.06-.94-2.06-.94-.94-2.06-.94 2.06-2.06.94zm-11 1L8.5 8.5l.94-2.06 2.06-.94-2.06-.94L8.5 2.5l-.94 2.06-2.06.94zm10 10l.94 2.06.94-2.06 2.06-.94-2.06-.94-.94-2.06-.94 2.06-2.06.94z\"/><path d=\"M17.41 7.96l-1.37-1.37c-.4-.4-.92-.59-1.43-.59-.52 0-1.04.2-1.43.59L10.3 9.45l-7.72 7.72c-.78.78-.78 2.05 0 2.83L4 21.41c.39.39.9.59 1.41.59.51 0 1.02-.2 1.41-.59l7.78-7.78 2.81-2.81c.8-.78.8-2.07 0-2.86zM5.41 20L4 18.59l7.72-7.72 1.47 1.35L5.41 20z\"/>\n",
              "  </svg>\n",
              "      </button>\n",
              "      \n",
              "  <style>\n",
              "    .colab-df-container {\n",
              "      display:flex;\n",
              "      flex-wrap:wrap;\n",
              "      gap: 12px;\n",
              "    }\n",
              "\n",
              "    .colab-df-convert {\n",
              "      background-color: #E8F0FE;\n",
              "      border: none;\n",
              "      border-radius: 50%;\n",
              "      cursor: pointer;\n",
              "      display: none;\n",
              "      fill: #1967D2;\n",
              "      height: 32px;\n",
              "      padding: 0 0 0 0;\n",
              "      width: 32px;\n",
              "    }\n",
              "\n",
              "    .colab-df-convert:hover {\n",
              "      background-color: #E2EBFA;\n",
              "      box-shadow: 0px 1px 2px rgba(60, 64, 67, 0.3), 0px 1px 3px 1px rgba(60, 64, 67, 0.15);\n",
              "      fill: #174EA6;\n",
              "    }\n",
              "\n",
              "    [theme=dark] .colab-df-convert {\n",
              "      background-color: #3B4455;\n",
              "      fill: #D2E3FC;\n",
              "    }\n",
              "\n",
              "    [theme=dark] .colab-df-convert:hover {\n",
              "      background-color: #434B5C;\n",
              "      box-shadow: 0px 1px 3px 1px rgba(0, 0, 0, 0.15);\n",
              "      filter: drop-shadow(0px 1px 2px rgba(0, 0, 0, 0.3));\n",
              "      fill: #FFFFFF;\n",
              "    }\n",
              "  </style>\n",
              "\n",
              "      <script>\n",
              "        const buttonEl =\n",
              "          document.querySelector('#df-d2ae11f6-8a8c-4fa5-9f50-1a8a31dae867 button.colab-df-convert');\n",
              "        buttonEl.style.display =\n",
              "          google.colab.kernel.accessAllowed ? 'block' : 'none';\n",
              "\n",
              "        async function convertToInteractive(key) {\n",
              "          const element = document.querySelector('#df-d2ae11f6-8a8c-4fa5-9f50-1a8a31dae867');\n",
              "          const dataTable =\n",
              "            await google.colab.kernel.invokeFunction('convertToInteractive',\n",
              "                                                     [key], {});\n",
              "          if (!dataTable) return;\n",
              "\n",
              "          const docLinkHtml = 'Like what you see? Visit the ' +\n",
              "            '<a target=\"_blank\" href=https://colab.research.google.com/notebooks/data_table.ipynb>data table notebook</a>'\n",
              "            + ' to learn more about interactive tables.';\n",
              "          element.innerHTML = '';\n",
              "          dataTable['output_type'] = 'display_data';\n",
              "          await google.colab.output.renderOutput(dataTable, element);\n",
              "          const docLink = document.createElement('div');\n",
              "          docLink.innerHTML = docLinkHtml;\n",
              "          element.appendChild(docLink);\n",
              "        }\n",
              "      </script>\n",
              "    </div>\n",
              "  </div>\n",
              "  "
            ]
          },
          "metadata": {},
          "execution_count": 178
        }
      ]
    },
    {
      "cell_type": "code",
      "source": [
        "# add data to dataframe\n",
        "if evaluate_yin:\n",
        "  if save_yin_eval:\n",
        "    df_row = {\n",
        "        'dataset': dataset_name,\n",
        "        'algo': 'yin',\n",
        "        'samplerate': samplerate,\n",
        "        'frame_length': frame_size,\n",
        "        'hop_size': hop_size,\n",
        "        'smp_length': attack_length,\n",
        "        'frames_analyzed': yin_estimates.shape[0],\n",
        "        'rpa50': yin_rpa_50,\n",
        "        'rpa50_std': yin_rpa_50_conf_int,\n",
        "        'rpa25': yin_rpa_25,\n",
        "        'rpa25_std': yin_rpa_25_conf_int,\n",
        "        'rpa10': yin_rpa_10,\n",
        "        'rpa10_std': yin_rpa_10_conf_int,\n",
        "        'rca50': yin_rca_50,\n",
        "        'rca50_std': yin_rca_50_conf_int,\n",
        "        'rca25': yin_rca_25,\n",
        "        'rca25_std': yin_rca_25_conf_int,\n",
        "        'rca10': yin_rca_10,\n",
        "        'rca10_std': yin_rca_10_conf_int\n",
        "    }\n",
        "\n",
        "    #evaluation_df = pd.DataFrame.from_dict(df_row, orient='columns')\n",
        "    evaluation_df = evaluation_df.append(df_row, ignore_index=True)\n",
        "    save_yin_eval = False"
      ],
      "metadata": {
        "id": "saLasz9npGLH"
      },
      "execution_count": null,
      "outputs": []
    },
    {
      "cell_type": "code",
      "source": [
        "evaluation_df.tail()"
      ],
      "metadata": {
        "id": "Lb7MPxejUx0i",
        "outputId": "ded289c5-20e8-457c-f038-35a87014f345",
        "colab": {
          "base_uri": "https://localhost:8080/",
          "height": 175
        }
      },
      "execution_count": null,
      "outputs": [
        {
          "output_type": "execute_result",
          "data": {
            "text/plain": [
              "                 dataset algo samplerate frame_length hop_size smp_length  \\\n",
              "0    SASSE_16/validation  yin      16000         1024      512       0.05   \n",
              "1  [SASSE_16/validation]  yin    [16000]       [1024]    [160]     [0.05]   \n",
              "\n",
              "  frames_analyzed                 rpa50                rpa50_std  \\\n",
              "0            5360              0.771642                 0.009403   \n",
              "1         [16080]  [0.7916044776119403]  [0.0052529000655192485]   \n",
              "\n",
              "                  rpa25               rpa25_std                  rpa10  \\\n",
              "0              0.607649                0.010938               0.277052   \n",
              "1  [0.5893656716417911]  [0.006362398548675664]  [0.28389303482587064]   \n",
              "\n",
              "              rpa10_std                 rca50               rca50_std  \\\n",
              "0              0.010025              0.779291                 0.00929   \n",
              "1  [0.0058313236126906]  [0.8026119402985075]  [0.005147710004731096]   \n",
              "\n",
              "                  rca25               rca25_std                 rca10  \\\n",
              "0              0.621455                0.010865              0.305224   \n",
              "1  [0.6080845771144279]  [0.006313628112001445]  [0.3231965174129353]   \n",
              "\n",
              "                rca10_std  \n",
              "0                0.010316  \n",
              "1  [0.006048747483391886]  "
            ],
            "text/html": [
              "\n",
              "  <div id=\"df-984534a6-9e89-4d72-9f62-ea8a8c04bea0\">\n",
              "    <div class=\"colab-df-container\">\n",
              "      <div>\n",
              "<style scoped>\n",
              "    .dataframe tbody tr th:only-of-type {\n",
              "        vertical-align: middle;\n",
              "    }\n",
              "\n",
              "    .dataframe tbody tr th {\n",
              "        vertical-align: top;\n",
              "    }\n",
              "\n",
              "    .dataframe thead th {\n",
              "        text-align: right;\n",
              "    }\n",
              "</style>\n",
              "<table border=\"1\" class=\"dataframe\">\n",
              "  <thead>\n",
              "    <tr style=\"text-align: right;\">\n",
              "      <th></th>\n",
              "      <th>dataset</th>\n",
              "      <th>algo</th>\n",
              "      <th>samplerate</th>\n",
              "      <th>frame_length</th>\n",
              "      <th>hop_size</th>\n",
              "      <th>smp_length</th>\n",
              "      <th>frames_analyzed</th>\n",
              "      <th>rpa50</th>\n",
              "      <th>rpa50_std</th>\n",
              "      <th>rpa25</th>\n",
              "      <th>rpa25_std</th>\n",
              "      <th>rpa10</th>\n",
              "      <th>rpa10_std</th>\n",
              "      <th>rca50</th>\n",
              "      <th>rca50_std</th>\n",
              "      <th>rca25</th>\n",
              "      <th>rca25_std</th>\n",
              "      <th>rca10</th>\n",
              "      <th>rca10_std</th>\n",
              "    </tr>\n",
              "  </thead>\n",
              "  <tbody>\n",
              "    <tr>\n",
              "      <th>0</th>\n",
              "      <td>SASSE_16/validation</td>\n",
              "      <td>yin</td>\n",
              "      <td>16000</td>\n",
              "      <td>1024</td>\n",
              "      <td>512</td>\n",
              "      <td>0.05</td>\n",
              "      <td>5360</td>\n",
              "      <td>0.771642</td>\n",
              "      <td>0.009403</td>\n",
              "      <td>0.607649</td>\n",
              "      <td>0.010938</td>\n",
              "      <td>0.277052</td>\n",
              "      <td>0.010025</td>\n",
              "      <td>0.779291</td>\n",
              "      <td>0.00929</td>\n",
              "      <td>0.621455</td>\n",
              "      <td>0.010865</td>\n",
              "      <td>0.305224</td>\n",
              "      <td>0.010316</td>\n",
              "    </tr>\n",
              "    <tr>\n",
              "      <th>1</th>\n",
              "      <td>[SASSE_16/validation]</td>\n",
              "      <td>yin</td>\n",
              "      <td>[16000]</td>\n",
              "      <td>[1024]</td>\n",
              "      <td>[160]</td>\n",
              "      <td>[0.05]</td>\n",
              "      <td>[16080]</td>\n",
              "      <td>[0.7916044776119403]</td>\n",
              "      <td>[0.0052529000655192485]</td>\n",
              "      <td>[0.5893656716417911]</td>\n",
              "      <td>[0.006362398548675664]</td>\n",
              "      <td>[0.28389303482587064]</td>\n",
              "      <td>[0.0058313236126906]</td>\n",
              "      <td>[0.8026119402985075]</td>\n",
              "      <td>[0.005147710004731096]</td>\n",
              "      <td>[0.6080845771144279]</td>\n",
              "      <td>[0.006313628112001445]</td>\n",
              "      <td>[0.3231965174129353]</td>\n",
              "      <td>[0.006048747483391886]</td>\n",
              "    </tr>\n",
              "  </tbody>\n",
              "</table>\n",
              "</div>\n",
              "      <button class=\"colab-df-convert\" onclick=\"convertToInteractive('df-984534a6-9e89-4d72-9f62-ea8a8c04bea0')\"\n",
              "              title=\"Convert this dataframe to an interactive table.\"\n",
              "              style=\"display:none;\">\n",
              "        \n",
              "  <svg xmlns=\"http://www.w3.org/2000/svg\" height=\"24px\"viewBox=\"0 0 24 24\"\n",
              "       width=\"24px\">\n",
              "    <path d=\"M0 0h24v24H0V0z\" fill=\"none\"/>\n",
              "    <path d=\"M18.56 5.44l.94 2.06.94-2.06 2.06-.94-2.06-.94-.94-2.06-.94 2.06-2.06.94zm-11 1L8.5 8.5l.94-2.06 2.06-.94-2.06-.94L8.5 2.5l-.94 2.06-2.06.94zm10 10l.94 2.06.94-2.06 2.06-.94-2.06-.94-.94-2.06-.94 2.06-2.06.94z\"/><path d=\"M17.41 7.96l-1.37-1.37c-.4-.4-.92-.59-1.43-.59-.52 0-1.04.2-1.43.59L10.3 9.45l-7.72 7.72c-.78.78-.78 2.05 0 2.83L4 21.41c.39.39.9.59 1.41.59.51 0 1.02-.2 1.41-.59l7.78-7.78 2.81-2.81c.8-.78.8-2.07 0-2.86zM5.41 20L4 18.59l7.72-7.72 1.47 1.35L5.41 20z\"/>\n",
              "  </svg>\n",
              "      </button>\n",
              "      \n",
              "  <style>\n",
              "    .colab-df-container {\n",
              "      display:flex;\n",
              "      flex-wrap:wrap;\n",
              "      gap: 12px;\n",
              "    }\n",
              "\n",
              "    .colab-df-convert {\n",
              "      background-color: #E8F0FE;\n",
              "      border: none;\n",
              "      border-radius: 50%;\n",
              "      cursor: pointer;\n",
              "      display: none;\n",
              "      fill: #1967D2;\n",
              "      height: 32px;\n",
              "      padding: 0 0 0 0;\n",
              "      width: 32px;\n",
              "    }\n",
              "\n",
              "    .colab-df-convert:hover {\n",
              "      background-color: #E2EBFA;\n",
              "      box-shadow: 0px 1px 2px rgba(60, 64, 67, 0.3), 0px 1px 3px 1px rgba(60, 64, 67, 0.15);\n",
              "      fill: #174EA6;\n",
              "    }\n",
              "\n",
              "    [theme=dark] .colab-df-convert {\n",
              "      background-color: #3B4455;\n",
              "      fill: #D2E3FC;\n",
              "    }\n",
              "\n",
              "    [theme=dark] .colab-df-convert:hover {\n",
              "      background-color: #434B5C;\n",
              "      box-shadow: 0px 1px 3px 1px rgba(0, 0, 0, 0.15);\n",
              "      filter: drop-shadow(0px 1px 2px rgba(0, 0, 0, 0.3));\n",
              "      fill: #FFFFFF;\n",
              "    }\n",
              "  </style>\n",
              "\n",
              "      <script>\n",
              "        const buttonEl =\n",
              "          document.querySelector('#df-984534a6-9e89-4d72-9f62-ea8a8c04bea0 button.colab-df-convert');\n",
              "        buttonEl.style.display =\n",
              "          google.colab.kernel.accessAllowed ? 'block' : 'none';\n",
              "\n",
              "        async function convertToInteractive(key) {\n",
              "          const element = document.querySelector('#df-984534a6-9e89-4d72-9f62-ea8a8c04bea0');\n",
              "          const dataTable =\n",
              "            await google.colab.kernel.invokeFunction('convertToInteractive',\n",
              "                                                     [key], {});\n",
              "          if (!dataTable) return;\n",
              "\n",
              "          const docLinkHtml = 'Like what you see? Visit the ' +\n",
              "            '<a target=\"_blank\" href=https://colab.research.google.com/notebooks/data_table.ipynb>data table notebook</a>'\n",
              "            + ' to learn more about interactive tables.';\n",
              "          element.innerHTML = '';\n",
              "          dataTable['output_type'] = 'display_data';\n",
              "          await google.colab.output.renderOutput(dataTable, element);\n",
              "          const docLink = document.createElement('div');\n",
              "          docLink.innerHTML = docLinkHtml;\n",
              "          element.appendChild(docLink);\n",
              "        }\n",
              "      </script>\n",
              "    </div>\n",
              "  </div>\n",
              "  "
            ]
          },
          "metadata": {},
          "execution_count": 186
        }
      ]
    },
    {
      "cell_type": "markdown",
      "source": [
        "## pYin evaluation"
      ],
      "metadata": {
        "id": "Njqv7MeDhTRG"
      }
    },
    {
      "cell_type": "code",
      "source": [
        "# use this to enable/disable pyin evaluation\n",
        "evaluate_pyin = True\n",
        "\n",
        "dataset_name = 'SASSE_16/validation'\n",
        "dataset_path = '/content/SASSE_16/validation'\n",
        "samplerate = 16000\n",
        "frame_size = 128\n",
        "#hop_size = frame_size // 2\n",
        "hop_size = 64\n",
        "onset = False\n",
        "attack_length = 0.05 # seconds"
      ],
      "metadata": {
        "id": "rv1f62wFU2qJ"
      },
      "execution_count": null,
      "outputs": []
    },
    {
      "cell_type": "code",
      "source": [
        "def get_pyin_estimation(sample_path, samplerate, target, frame_size, hop_size,\n",
        "                        attack_length=0.05):\n",
        "\n",
        "  # load sample\n",
        "  loader = es.MonoLoader(filename=sample_path, sampleRate=samplerate)\n",
        "  audio = loader()\n",
        "\n",
        "  # trim the sample to the first 50 ms\n",
        "  start_stop = es.StartStopSilence(threshold=-60)\n",
        "  start_frame, stop_frame = 0, 0\n",
        "  for frame in es.FrameGenerator(audio, frame_size, hop_size):\n",
        "    start_frame, stop_frame = start_stop(frame)\n",
        "\n",
        "  start_time = float(start_frame * hop_size) / float(samplerate)\n",
        "  bonus_time = hop_size / samplerate\n",
        "  #end_time = start_time + attack_length + bonus_time\n",
        "  end_time = float(stop_frame * hop_size) / float(samplerate)\n",
        "\n",
        "  # trim audio\n",
        "  trimmer = es.Trimmer(startTime=start_time, endTime=end_time,\n",
        "                       sampleRate=samplerate)\n",
        "  trimmed_audio = trimmer(audio)\n",
        "\n",
        "  # get pyin pitch estimations\n",
        "  pitch_estimations, _, _ = librosa.pyin(trimmed_audio, fmin=librosa.note_to_hz('C2'),\n",
        "                               fmax=librosa.note_to_hz('C7'), sr=samplerate,\n",
        "                               frame_length=frame_size, hop_length=hop_size)\n",
        "  \n",
        "  # filter out NaNs\n",
        "  pitch_estimations = pitch_estimations[~np.isnan(pitch_estimations)]\n",
        "  \n",
        "  # populate array of target values to match size of estimations array\n",
        "  targets = [float(target)] * pitch_estimations.shape[0]\n",
        "\n",
        "  return pitch_estimations, targets"
      ],
      "metadata": {
        "id": "tTDlChUJtjgg"
      },
      "execution_count": 23,
      "outputs": []
    },
    {
      "cell_type": "code",
      "source": [
        "# test to make sure it's working\n",
        "get_pyin_estimation('/content/SASSE_tiny_16/train/60_train_sample_101.wav',\n",
        "                   samplerate=16000, target=60, frame_size=1024, hop_size=512)"
      ],
      "metadata": {
        "colab": {
          "base_uri": "https://localhost:8080/"
        },
        "id": "bG7gLR91Ru7O",
        "outputId": "0a3f56d3-6958-4940-f9b9-4aedcc094b3c"
      },
      "execution_count": null,
      "outputs": [
        {
          "output_type": "execute_result",
          "data": {
            "text/plain": [
              "(array([261.6255653 , 263.14114678, 261.6255653 , 263.14114678,\n",
              "        263.14114678, 263.14114678, 263.14114678, 261.6255653 ,\n",
              "        263.14114678, 263.14114678, 261.6255653 , 263.14114678,\n",
              "        263.14114678, 263.14114678, 261.6255653 , 261.6255653 ,\n",
              "        261.6255653 , 261.6255653 , 261.6255653 , 261.6255653 ,\n",
              "        261.6255653 , 261.6255653 , 261.6255653 , 261.6255653 ,\n",
              "        261.6255653 , 261.6255653 , 261.6255653 , 261.6255653 ,\n",
              "        261.6255653 , 261.6255653 , 261.6255653 , 261.6255653 ,\n",
              "        261.6255653 , 258.62053938, 260.11871293, 261.6255653 ,\n",
              "        261.6255653 , 261.6255653 , 263.14114678, 261.6255653 ,\n",
              "        263.14114678, 261.6255653 , 260.11871293, 261.6255653 ,\n",
              "        261.6255653 , 263.14114678, 261.6255653 , 263.14114678,\n",
              "        261.6255653 , 260.11871293]),\n",
              " [60.0,\n",
              "  60.0,\n",
              "  60.0,\n",
              "  60.0,\n",
              "  60.0,\n",
              "  60.0,\n",
              "  60.0,\n",
              "  60.0,\n",
              "  60.0,\n",
              "  60.0,\n",
              "  60.0,\n",
              "  60.0,\n",
              "  60.0,\n",
              "  60.0,\n",
              "  60.0,\n",
              "  60.0,\n",
              "  60.0,\n",
              "  60.0,\n",
              "  60.0,\n",
              "  60.0,\n",
              "  60.0,\n",
              "  60.0,\n",
              "  60.0,\n",
              "  60.0,\n",
              "  60.0,\n",
              "  60.0,\n",
              "  60.0,\n",
              "  60.0,\n",
              "  60.0,\n",
              "  60.0,\n",
              "  60.0,\n",
              "  60.0,\n",
              "  60.0,\n",
              "  60.0,\n",
              "  60.0,\n",
              "  60.0,\n",
              "  60.0,\n",
              "  60.0,\n",
              "  60.0,\n",
              "  60.0,\n",
              "  60.0,\n",
              "  60.0,\n",
              "  60.0,\n",
              "  60.0,\n",
              "  60.0,\n",
              "  60.0,\n",
              "  60.0,\n",
              "  60.0,\n",
              "  60.0,\n",
              "  60.0])"
            ]
          },
          "metadata": {},
          "execution_count": 195
        }
      ]
    },
    {
      "cell_type": "code",
      "source": [
        "def process_folder_pyin(directory, samplerate, frame_size, hop_size,\n",
        "                        attack_length=0.05):\n",
        "  folder_pitches = []\n",
        "  folder_targets = []\n",
        "  file_count = 0\n",
        "  count = 0\n",
        "\n",
        "  for (dir_path, _, filenames) in os.walk(directory):\n",
        "    num_files = len(filenames)\n",
        "    for filename in filenames:\n",
        "      file_path = os.path.join(dir_path, filename)\n",
        "\n",
        "      # in my formatting, the target is given by the first numbers in the filename\n",
        "      target = filename.split(\"_\")[0]\n",
        "      pitches, targets = get_pyin_estimation(file_path, samplerate=samplerate,\n",
        "                                             target=target,\n",
        "                                             frame_size=frame_size,\n",
        "                                             hop_size=hop_size,\n",
        "                                             attack_length=attack_length)\n",
        "      \n",
        "      folder_pitches.append(pitches)\n",
        "      folder_targets.append(targets)\n",
        "\n",
        "      file_count += 1\n",
        "      if file_count % 100 == 0:\n",
        "        print(f'Progress: {file_count}/{num_files}')\n",
        "\n",
        "  folder_pitches = np.concatenate(folder_pitches)\n",
        "  folder_targets = np.concatenate(folder_targets)\n",
        "  print(f\"Num files processed: {file_count}\")\n",
        "  return folder_pitches, folder_targets"
      ],
      "metadata": {
        "id": "dNgBc0BLtjRF"
      },
      "execution_count": null,
      "outputs": []
    },
    {
      "cell_type": "code",
      "source": [
        "if evaluate_pyin:\n",
        "  pyin_estimates, pyin_targets = process_folder_pyin(dataset_path, samplerate=16000,\n",
        "                                                    frame_size=frame_size, hop_size=hop_size,\n",
        "                                                    attack_length=attack_length)"
      ],
      "metadata": {
        "id": "OFcCCT6nIggo",
        "outputId": "6a59ddcb-1fff-4227-d000-60a1e589d0ff",
        "colab": {
          "base_uri": "https://localhost:8080/"
        }
      },
      "execution_count": null,
      "outputs": [
        {
          "output_type": "stream",
          "name": "stdout",
          "text": [
            "Progress: 100/2680\n",
            "Progress: 200/2680\n",
            "Progress: 300/2680\n",
            "Progress: 400/2680\n",
            "Progress: 500/2680\n",
            "Progress: 600/2680\n",
            "Progress: 700/2680\n",
            "Progress: 800/2680\n",
            "Progress: 900/2680\n",
            "Progress: 1000/2680\n",
            "Progress: 1100/2680\n",
            "Progress: 1200/2680\n",
            "Progress: 1300/2680\n",
            "Progress: 1400/2680\n",
            "Progress: 1500/2680\n",
            "Progress: 1600/2680\n",
            "Progress: 1700/2680\n",
            "Progress: 1800/2680\n",
            "Progress: 1900/2680\n",
            "Progress: 2000/2680\n",
            "Progress: 2100/2680\n",
            "Progress: 2200/2680\n",
            "Progress: 2300/2680\n",
            "Progress: 2400/2680\n",
            "Progress: 2500/2680\n",
            "Progress: 2600/2680\n",
            "Num files processed: 2680\n"
          ]
        }
      ]
    },
    {
      "cell_type": "code",
      "source": [
        "if evaluate_pyin:\n",
        "  print(pyin_estimates.shape, pyin_targets.shape)"
      ],
      "metadata": {
        "id": "M7-2jqZ1IgcK",
        "outputId": "aeb00539-32c8-41c2-dd5f-45fc6f3838f6",
        "colab": {
          "base_uri": "https://localhost:8080/"
        }
      },
      "execution_count": null,
      "outputs": [
        {
          "output_type": "stream",
          "name": "stdout",
          "text": [
            "(555966,) (555966,)\n"
          ]
        }
      ]
    },
    {
      "cell_type": "markdown",
      "source": [
        "### Raw pitch accuracy"
      ],
      "metadata": {
        "id": "dCcUcTiDrXKg"
      }
    },
    {
      "cell_type": "code",
      "source": [
        "if evaluate_pyin:\n",
        "  pyin_rpa_50_matches = np.where(np.abs(librosa.hz_to_midi(pyin_estimates) - pyin_targets) < 0.5)\n",
        "  pyin_rpa_25_matches = np.where(np.abs(librosa.hz_to_midi(pyin_estimates) - pyin_targets) < 0.25)\n",
        "  pyin_rpa_10_matches = np.where(np.abs(librosa.hz_to_midi(pyin_estimates) - pyin_targets) < 0.1)"
      ],
      "metadata": {
        "id": "lokHKqYNIgOj"
      },
      "execution_count": null,
      "outputs": []
    },
    {
      "cell_type": "code",
      "source": [
        "if evaluate_pyin:\n",
        "  pyin_rpa_50 = pyin_rpa_50_matches[0].shape[0] / len(pyin_targets)\n",
        "  print(f\"50 cent accuracy: {pyin_rpa_50}\")\n",
        "  pyin_rpa_25 = pyin_rpa_25_matches[0].shape[0] / len(pyin_targets)\n",
        "  print(f\"25 cent accuracy: {pyin_rpa_25}\")\n",
        "  pyin_rpa_10 = pyin_rpa_10_matches[0].shape[0] / len(pyin_targets)\n",
        "  print(f\"10 cent accuracy: {pyin_rpa_10}\")"
      ],
      "metadata": {
        "id": "LZ3Kbmn3QvPB",
        "outputId": "190369f3-ea2e-4977-9d45-1ac6b5806369",
        "colab": {
          "base_uri": "https://localhost:8080/"
        }
      },
      "execution_count": null,
      "outputs": [
        {
          "output_type": "stream",
          "name": "stdout",
          "text": [
            "50 cent accuracy: 0.7614998039448455\n",
            "25 cent accuracy: 0.6877416964346741\n",
            "10 cent accuracy: 0.5226758470841742\n"
          ]
        }
      ]
    },
    {
      "cell_type": "code",
      "source": [
        "if evaluate_pyin:\n",
        "  pyin_rpa_50_conf_int = 1.64 * np.sqrt( (pyin_rpa_50 * (1 - pyin_rpa_50))  / len(pyin_targets))\n",
        "  print(f\"50 cent rpa std: {pyin_rpa_50_conf_int}\")\n",
        "  pyin_rpa_25_conf_int = 1.64 * np.sqrt( (pyin_rpa_25 * (1 - pyin_rpa_25))  / len(pyin_targets))\n",
        "  print(f\"25 cent rpa std: {pyin_rpa_25_conf_int}\")\n",
        "  pyin_rpa_10_conf_int = 1.64 * np.sqrt( (pyin_rpa_10 * (1 - pyin_rpa_10))  / len(pyin_targets))\n",
        "  print(f\"10 cent rpa std: {pyin_rpa_10_conf_int}\")"
      ],
      "metadata": {
        "id": "_WupxcBZ3f-8",
        "outputId": "321333a2-7246-4bf7-c432-0a7235eb1c28",
        "colab": {
          "base_uri": "https://localhost:8080/"
        }
      },
      "execution_count": null,
      "outputs": [
        {
          "output_type": "stream",
          "name": "stdout",
          "text": [
            "50 cent rpa std: 0.000937343990904893\n",
            "25 cent rpa std: 0.001019270388005953\n",
            "10 cent rpa std: 0.0010986077353507214\n"
          ]
        }
      ]
    },
    {
      "cell_type": "markdown",
      "source": [
        "### Raw chroma accuracy"
      ],
      "metadata": {
        "id": "Rpt5r8hbrj4R"
      }
    },
    {
      "cell_type": "code",
      "source": [
        "if evaluate_pyin:\n",
        "  # offset by 0.5 to account for [11.5,12.5] as the octave error range when taking the modulo\n",
        "  pyin_rca_50_matches = np.where(np.fmod( np.abs(librosa.hz_to_midi(pyin_estimates) - pyin_targets + 0.5), 12 ) < 1.0)\n",
        "  pyin_rca_25_matches = np.where(np.fmod( np.abs(librosa.hz_to_midi(pyin_estimates) - pyin_targets + 0.25), 12 ) < 0.5)\n",
        "  pyin_rca_10_matches = np.where(np.fmod( np.abs(librosa.hz_to_midi(pyin_estimates) - pyin_targets + 0.1), 12 ) < 0.2)"
      ],
      "metadata": {
        "id": "D1uT3QT9rje4"
      },
      "execution_count": null,
      "outputs": []
    },
    {
      "cell_type": "code",
      "source": [
        "if evaluate_pyin:\n",
        "  pyin_rca_50 = pyin_rca_50_matches[0].shape[0] / len(pyin_targets)\n",
        "  print(f\"50 cent raw chroma accuracy: {pyin_rca_50}\")\n",
        "  pyin_rca_25 = pyin_rca_25_matches[0].shape[0] / len(pyin_targets)\n",
        "  print(f\"25 cent raw chroma accuracy: {pyin_rca_25}\")\n",
        "  pyin_rca_10 = pyin_rca_10_matches[0].shape[0] / len(pyin_targets)\n",
        "  print(f\"10 cent raw chroma accuracy: {pyin_rca_10}\")"
      ],
      "metadata": {
        "id": "jImw3NjPrv1O",
        "outputId": "fd9596cb-212b-42d4-9d25-abfbb4d0e245",
        "colab": {
          "base_uri": "https://localhost:8080/"
        }
      },
      "execution_count": null,
      "outputs": [
        {
          "output_type": "stream",
          "name": "stdout",
          "text": [
            "50 cent raw chroma accuracy: 0.773653424849721\n",
            "25 cent raw chroma accuracy: 0.7125759488889608\n",
            "10 cent raw chroma accuracy: 0.5887068633693427\n"
          ]
        }
      ]
    },
    {
      "cell_type": "code",
      "source": [
        "if evaluate_pyin:\n",
        "  pyin_rca_50_conf_int = 1.64 * np.sqrt( (pyin_rca_50 * (1 - pyin_rca_50))  / len(pyin_targets))\n",
        "  print(f\"50 cent rca std: {pyin_rca_50_conf_int}\")\n",
        "  pyin_rca_25_conf_int = 1.64 * np.sqrt( (pyin_rca_25 * (1 - pyin_rca_25))  / len(pyin_targets))\n",
        "  print(f\"25 cent rca std: {pyin_rca_25_conf_int}\")\n",
        "  pyin_rca_10_conf_int = 1.64 * np.sqrt( (pyin_rca_10 * (1 - pyin_rca_10))  / len(pyin_targets))\n",
        "  print(f\"10 cent rca std: {pyin_rca_10_conf_int}\")"
      ],
      "metadata": {
        "id": "BVyOdPQc3uRw",
        "outputId": "86cb7c1f-8882-4b04-9e0e-06c9c716dde3",
        "colab": {
          "base_uri": "https://localhost:8080/"
        }
      },
      "execution_count": null,
      "outputs": [
        {
          "output_type": "stream",
          "name": "stdout",
          "text": [
            "50 cent rca std: 0.0009204070179967847\n",
            "25 cent rca std: 0.0009953982307713601\n",
            "10 cent rca std: 0.0010822934051962553\n"
          ]
        }
      ]
    },
    {
      "cell_type": "markdown",
      "source": [
        "### Saving the data"
      ],
      "metadata": {
        "id": "fn4yuQrYZt-5"
      }
    },
    {
      "cell_type": "code",
      "source": [
        "# change to True to save this to the df\n",
        "save_pyin_eval = False"
      ],
      "metadata": {
        "id": "qwcZCgS_VhK8"
      },
      "execution_count": null,
      "outputs": []
    },
    {
      "cell_type": "code",
      "source": [
        "evaluation_df.head()"
      ],
      "metadata": {
        "id": "LRo9OscZOaz1",
        "outputId": "6a4dc2ae-9d9c-4c03-e509-e5625ff2b5ce",
        "colab": {
          "base_uri": "https://localhost:8080/",
          "height": 206
        }
      },
      "execution_count": null,
      "outputs": [
        {
          "output_type": "execute_result",
          "data": {
            "text/plain": [
              "                 dataset  algo samplerate frame_length hop_size smp_length  \\\n",
              "0    SASSE_16/validation   yin      16000         1024      512       0.05   \n",
              "1  [SASSE_16/validation]   yin    [16000]       [1024]    [160]     [0.05]   \n",
              "2    SASSE_16/validation  pyin      16000         1024      512       0.05   \n",
              "\n",
              "  frames_analyzed                 rpa50                rpa50_std  \\\n",
              "0            5360              0.771642                 0.009403   \n",
              "1         [16080]  [0.7916044776119403]  [0.0052529000655192485]   \n",
              "2            5102              0.880635                 0.007444   \n",
              "\n",
              "                  rpa25               rpa25_std                  rpa10  \\\n",
              "0              0.607649                0.010938               0.277052   \n",
              "1  [0.5893656716417911]  [0.006362398548675664]  [0.28389303482587064]   \n",
              "2              0.747354                0.009977               0.527048   \n",
              "\n",
              "              rpa10_std                 rca50               rca50_std  \\\n",
              "0              0.010025              0.779291                 0.00929   \n",
              "1  [0.0058313236126906]  [0.8026119402985075]  [0.005147710004731096]   \n",
              "2              0.011463              0.883379                0.007369   \n",
              "\n",
              "                  rca25               rca25_std                 rca10  \\\n",
              "0              0.621455                0.010865              0.305224   \n",
              "1  [0.6080845771144279]  [0.006313628112001445]  [0.3231965174129353]   \n",
              "2              0.753822                0.009891              0.556448   \n",
              "\n",
              "                rca10_std  \n",
              "0                0.010316  \n",
              "1  [0.006048747483391886]  \n",
              "2                0.011407  "
            ],
            "text/html": [
              "\n",
              "  <div id=\"df-baed3dc0-31aa-482f-b526-ca7618dfabdc\">\n",
              "    <div class=\"colab-df-container\">\n",
              "      <div>\n",
              "<style scoped>\n",
              "    .dataframe tbody tr th:only-of-type {\n",
              "        vertical-align: middle;\n",
              "    }\n",
              "\n",
              "    .dataframe tbody tr th {\n",
              "        vertical-align: top;\n",
              "    }\n",
              "\n",
              "    .dataframe thead th {\n",
              "        text-align: right;\n",
              "    }\n",
              "</style>\n",
              "<table border=\"1\" class=\"dataframe\">\n",
              "  <thead>\n",
              "    <tr style=\"text-align: right;\">\n",
              "      <th></th>\n",
              "      <th>dataset</th>\n",
              "      <th>algo</th>\n",
              "      <th>samplerate</th>\n",
              "      <th>frame_length</th>\n",
              "      <th>hop_size</th>\n",
              "      <th>smp_length</th>\n",
              "      <th>frames_analyzed</th>\n",
              "      <th>rpa50</th>\n",
              "      <th>rpa50_std</th>\n",
              "      <th>rpa25</th>\n",
              "      <th>rpa25_std</th>\n",
              "      <th>rpa10</th>\n",
              "      <th>rpa10_std</th>\n",
              "      <th>rca50</th>\n",
              "      <th>rca50_std</th>\n",
              "      <th>rca25</th>\n",
              "      <th>rca25_std</th>\n",
              "      <th>rca10</th>\n",
              "      <th>rca10_std</th>\n",
              "    </tr>\n",
              "  </thead>\n",
              "  <tbody>\n",
              "    <tr>\n",
              "      <th>0</th>\n",
              "      <td>SASSE_16/validation</td>\n",
              "      <td>yin</td>\n",
              "      <td>16000</td>\n",
              "      <td>1024</td>\n",
              "      <td>512</td>\n",
              "      <td>0.05</td>\n",
              "      <td>5360</td>\n",
              "      <td>0.771642</td>\n",
              "      <td>0.009403</td>\n",
              "      <td>0.607649</td>\n",
              "      <td>0.010938</td>\n",
              "      <td>0.277052</td>\n",
              "      <td>0.010025</td>\n",
              "      <td>0.779291</td>\n",
              "      <td>0.00929</td>\n",
              "      <td>0.621455</td>\n",
              "      <td>0.010865</td>\n",
              "      <td>0.305224</td>\n",
              "      <td>0.010316</td>\n",
              "    </tr>\n",
              "    <tr>\n",
              "      <th>1</th>\n",
              "      <td>[SASSE_16/validation]</td>\n",
              "      <td>yin</td>\n",
              "      <td>[16000]</td>\n",
              "      <td>[1024]</td>\n",
              "      <td>[160]</td>\n",
              "      <td>[0.05]</td>\n",
              "      <td>[16080]</td>\n",
              "      <td>[0.7916044776119403]</td>\n",
              "      <td>[0.0052529000655192485]</td>\n",
              "      <td>[0.5893656716417911]</td>\n",
              "      <td>[0.006362398548675664]</td>\n",
              "      <td>[0.28389303482587064]</td>\n",
              "      <td>[0.0058313236126906]</td>\n",
              "      <td>[0.8026119402985075]</td>\n",
              "      <td>[0.005147710004731096]</td>\n",
              "      <td>[0.6080845771144279]</td>\n",
              "      <td>[0.006313628112001445]</td>\n",
              "      <td>[0.3231965174129353]</td>\n",
              "      <td>[0.006048747483391886]</td>\n",
              "    </tr>\n",
              "    <tr>\n",
              "      <th>2</th>\n",
              "      <td>SASSE_16/validation</td>\n",
              "      <td>pyin</td>\n",
              "      <td>16000</td>\n",
              "      <td>1024</td>\n",
              "      <td>512</td>\n",
              "      <td>0.05</td>\n",
              "      <td>5102</td>\n",
              "      <td>0.880635</td>\n",
              "      <td>0.007444</td>\n",
              "      <td>0.747354</td>\n",
              "      <td>0.009977</td>\n",
              "      <td>0.527048</td>\n",
              "      <td>0.011463</td>\n",
              "      <td>0.883379</td>\n",
              "      <td>0.007369</td>\n",
              "      <td>0.753822</td>\n",
              "      <td>0.009891</td>\n",
              "      <td>0.556448</td>\n",
              "      <td>0.011407</td>\n",
              "    </tr>\n",
              "  </tbody>\n",
              "</table>\n",
              "</div>\n",
              "      <button class=\"colab-df-convert\" onclick=\"convertToInteractive('df-baed3dc0-31aa-482f-b526-ca7618dfabdc')\"\n",
              "              title=\"Convert this dataframe to an interactive table.\"\n",
              "              style=\"display:none;\">\n",
              "        \n",
              "  <svg xmlns=\"http://www.w3.org/2000/svg\" height=\"24px\"viewBox=\"0 0 24 24\"\n",
              "       width=\"24px\">\n",
              "    <path d=\"M0 0h24v24H0V0z\" fill=\"none\"/>\n",
              "    <path d=\"M18.56 5.44l.94 2.06.94-2.06 2.06-.94-2.06-.94-.94-2.06-.94 2.06-2.06.94zm-11 1L8.5 8.5l.94-2.06 2.06-.94-2.06-.94L8.5 2.5l-.94 2.06-2.06.94zm10 10l.94 2.06.94-2.06 2.06-.94-2.06-.94-.94-2.06-.94 2.06-2.06.94z\"/><path d=\"M17.41 7.96l-1.37-1.37c-.4-.4-.92-.59-1.43-.59-.52 0-1.04.2-1.43.59L10.3 9.45l-7.72 7.72c-.78.78-.78 2.05 0 2.83L4 21.41c.39.39.9.59 1.41.59.51 0 1.02-.2 1.41-.59l7.78-7.78 2.81-2.81c.8-.78.8-2.07 0-2.86zM5.41 20L4 18.59l7.72-7.72 1.47 1.35L5.41 20z\"/>\n",
              "  </svg>\n",
              "      </button>\n",
              "      \n",
              "  <style>\n",
              "    .colab-df-container {\n",
              "      display:flex;\n",
              "      flex-wrap:wrap;\n",
              "      gap: 12px;\n",
              "    }\n",
              "\n",
              "    .colab-df-convert {\n",
              "      background-color: #E8F0FE;\n",
              "      border: none;\n",
              "      border-radius: 50%;\n",
              "      cursor: pointer;\n",
              "      display: none;\n",
              "      fill: #1967D2;\n",
              "      height: 32px;\n",
              "      padding: 0 0 0 0;\n",
              "      width: 32px;\n",
              "    }\n",
              "\n",
              "    .colab-df-convert:hover {\n",
              "      background-color: #E2EBFA;\n",
              "      box-shadow: 0px 1px 2px rgba(60, 64, 67, 0.3), 0px 1px 3px 1px rgba(60, 64, 67, 0.15);\n",
              "      fill: #174EA6;\n",
              "    }\n",
              "\n",
              "    [theme=dark] .colab-df-convert {\n",
              "      background-color: #3B4455;\n",
              "      fill: #D2E3FC;\n",
              "    }\n",
              "\n",
              "    [theme=dark] .colab-df-convert:hover {\n",
              "      background-color: #434B5C;\n",
              "      box-shadow: 0px 1px 3px 1px rgba(0, 0, 0, 0.15);\n",
              "      filter: drop-shadow(0px 1px 2px rgba(0, 0, 0, 0.3));\n",
              "      fill: #FFFFFF;\n",
              "    }\n",
              "  </style>\n",
              "\n",
              "      <script>\n",
              "        const buttonEl =\n",
              "          document.querySelector('#df-baed3dc0-31aa-482f-b526-ca7618dfabdc button.colab-df-convert');\n",
              "        buttonEl.style.display =\n",
              "          google.colab.kernel.accessAllowed ? 'block' : 'none';\n",
              "\n",
              "        async function convertToInteractive(key) {\n",
              "          const element = document.querySelector('#df-baed3dc0-31aa-482f-b526-ca7618dfabdc');\n",
              "          const dataTable =\n",
              "            await google.colab.kernel.invokeFunction('convertToInteractive',\n",
              "                                                     [key], {});\n",
              "          if (!dataTable) return;\n",
              "\n",
              "          const docLinkHtml = 'Like what you see? Visit the ' +\n",
              "            '<a target=\"_blank\" href=https://colab.research.google.com/notebooks/data_table.ipynb>data table notebook</a>'\n",
              "            + ' to learn more about interactive tables.';\n",
              "          element.innerHTML = '';\n",
              "          dataTable['output_type'] = 'display_data';\n",
              "          await google.colab.output.renderOutput(dataTable, element);\n",
              "          const docLink = document.createElement('div');\n",
              "          docLink.innerHTML = docLinkHtml;\n",
              "          element.appendChild(docLink);\n",
              "        }\n",
              "      </script>\n",
              "    </div>\n",
              "  </div>\n",
              "  "
            ]
          },
          "metadata": {},
          "execution_count": 216
        }
      ]
    },
    {
      "cell_type": "code",
      "source": [
        "evaluation_df = evaluation_df.reset_index(drop=True)"
      ],
      "metadata": {
        "id": "lzvstiYldVHo"
      },
      "execution_count": null,
      "outputs": []
    },
    {
      "cell_type": "code",
      "source": [
        "# add data to dataframe\n",
        "if evaluate_pyin:\n",
        "  if save_pyin_eval:\n",
        "    df_row = {\n",
        "        'dataset': dataset_name,\n",
        "        'algo': 'pyin',\n",
        "        'samplerate': samplerate,\n",
        "        'frame_length': frame_size,\n",
        "        'hop_size': hop_size,\n",
        "        'smp_length': attack_length,\n",
        "        'frames_analyzed': pyin_estimates.shape[0],\n",
        "        'rpa50': pyin_rpa_50,\n",
        "        'rpa50_std': pyin_rpa_50_conf_int,\n",
        "        'rpa25': pyin_rpa_25,\n",
        "        'rpa25_std': pyin_rpa_25_conf_int,\n",
        "        'rpa10': pyin_rpa_10,\n",
        "        'rpa10_std': pyin_rpa_10_conf_int,\n",
        "        'rca50': pyin_rca_50,\n",
        "        'rca50_std': pyin_rca_50_conf_int,\n",
        "        'rca25': pyin_rca_25,\n",
        "        'rca25_std': pyin_rca_25_conf_int,\n",
        "        'rca10': pyin_rca_10,\n",
        "        'rca10_std': pyin_rca_10_conf_int\n",
        "    }\n",
        "\n",
        "    evaluation_df = evaluation_df.append(df_row, ignore_index=True)\n",
        "    save_pyin_eval = False\n",
        "\n",
        "    "
      ],
      "metadata": {
        "id": "o8nxqmqbVg4v"
      },
      "execution_count": null,
      "outputs": []
    },
    {
      "cell_type": "code",
      "source": [
        "evaluation_df.tail()"
      ],
      "metadata": {
        "id": "GROB9khyWS6d",
        "outputId": "a220d424-2213-42b2-a6ee-fd86600fd2f9",
        "colab": {
          "base_uri": "https://localhost:8080/",
          "height": 237
        }
      },
      "execution_count": null,
      "outputs": [
        {
          "output_type": "execute_result",
          "data": {
            "text/plain": [
              "                 dataset  algo samplerate frame_length hop_size smp_length  \\\n",
              "0    SASSE_16/validation   yin      16000         1024      512       0.05   \n",
              "1  [SASSE_16/validation]   yin    [16000]       [1024]    [160]     [0.05]   \n",
              "2    SASSE_16/validation  pyin      16000         1024      512       0.05   \n",
              "3    SASSE_16/validation  pyin      16000         1024      160       0.05   \n",
              "\n",
              "  frames_analyzed                 rpa50                rpa50_std  \\\n",
              "0            5360              0.771642                 0.009403   \n",
              "1         [16080]  [0.7916044776119403]  [0.0052529000655192485]   \n",
              "2            5102              0.880635                 0.007444   \n",
              "3           15523              0.865941                 0.004485   \n",
              "\n",
              "                  rpa25               rpa25_std                  rpa10  \\\n",
              "0              0.607649                0.010938               0.277052   \n",
              "1  [0.5893656716417911]  [0.006362398548675664]  [0.28389303482587064]   \n",
              "2              0.747354                0.009977               0.527048   \n",
              "3              0.672679                0.006177               0.450493   \n",
              "\n",
              "              rpa10_std                 rca50               rca50_std  \\\n",
              "0              0.010025              0.779291                 0.00929   \n",
              "1  [0.0058313236126906]  [0.8026119402985075]  [0.005147710004731096]   \n",
              "2              0.011463              0.883379                0.007369   \n",
              "3              0.006549              0.874702                0.004358   \n",
              "\n",
              "                  rca25               rca25_std                 rca10  \\\n",
              "0              0.621455                0.010865              0.305224   \n",
              "1  [0.6080845771144279]  [0.006313628112001445]  [0.3231965174129353]   \n",
              "2              0.753822                0.009891              0.556448   \n",
              "3              0.689944                0.006088               0.49301   \n",
              "\n",
              "                rca10_std  \n",
              "0                0.010316  \n",
              "1  [0.006048747483391886]  \n",
              "2                0.011407  \n",
              "3                0.006581  "
            ],
            "text/html": [
              "\n",
              "  <div id=\"df-791f0006-d958-400f-a2cc-2b90e9559031\">\n",
              "    <div class=\"colab-df-container\">\n",
              "      <div>\n",
              "<style scoped>\n",
              "    .dataframe tbody tr th:only-of-type {\n",
              "        vertical-align: middle;\n",
              "    }\n",
              "\n",
              "    .dataframe tbody tr th {\n",
              "        vertical-align: top;\n",
              "    }\n",
              "\n",
              "    .dataframe thead th {\n",
              "        text-align: right;\n",
              "    }\n",
              "</style>\n",
              "<table border=\"1\" class=\"dataframe\">\n",
              "  <thead>\n",
              "    <tr style=\"text-align: right;\">\n",
              "      <th></th>\n",
              "      <th>dataset</th>\n",
              "      <th>algo</th>\n",
              "      <th>samplerate</th>\n",
              "      <th>frame_length</th>\n",
              "      <th>hop_size</th>\n",
              "      <th>smp_length</th>\n",
              "      <th>frames_analyzed</th>\n",
              "      <th>rpa50</th>\n",
              "      <th>rpa50_std</th>\n",
              "      <th>rpa25</th>\n",
              "      <th>rpa25_std</th>\n",
              "      <th>rpa10</th>\n",
              "      <th>rpa10_std</th>\n",
              "      <th>rca50</th>\n",
              "      <th>rca50_std</th>\n",
              "      <th>rca25</th>\n",
              "      <th>rca25_std</th>\n",
              "      <th>rca10</th>\n",
              "      <th>rca10_std</th>\n",
              "    </tr>\n",
              "  </thead>\n",
              "  <tbody>\n",
              "    <tr>\n",
              "      <th>0</th>\n",
              "      <td>SASSE_16/validation</td>\n",
              "      <td>yin</td>\n",
              "      <td>16000</td>\n",
              "      <td>1024</td>\n",
              "      <td>512</td>\n",
              "      <td>0.05</td>\n",
              "      <td>5360</td>\n",
              "      <td>0.771642</td>\n",
              "      <td>0.009403</td>\n",
              "      <td>0.607649</td>\n",
              "      <td>0.010938</td>\n",
              "      <td>0.277052</td>\n",
              "      <td>0.010025</td>\n",
              "      <td>0.779291</td>\n",
              "      <td>0.00929</td>\n",
              "      <td>0.621455</td>\n",
              "      <td>0.010865</td>\n",
              "      <td>0.305224</td>\n",
              "      <td>0.010316</td>\n",
              "    </tr>\n",
              "    <tr>\n",
              "      <th>1</th>\n",
              "      <td>[SASSE_16/validation]</td>\n",
              "      <td>yin</td>\n",
              "      <td>[16000]</td>\n",
              "      <td>[1024]</td>\n",
              "      <td>[160]</td>\n",
              "      <td>[0.05]</td>\n",
              "      <td>[16080]</td>\n",
              "      <td>[0.7916044776119403]</td>\n",
              "      <td>[0.0052529000655192485]</td>\n",
              "      <td>[0.5893656716417911]</td>\n",
              "      <td>[0.006362398548675664]</td>\n",
              "      <td>[0.28389303482587064]</td>\n",
              "      <td>[0.0058313236126906]</td>\n",
              "      <td>[0.8026119402985075]</td>\n",
              "      <td>[0.005147710004731096]</td>\n",
              "      <td>[0.6080845771144279]</td>\n",
              "      <td>[0.006313628112001445]</td>\n",
              "      <td>[0.3231965174129353]</td>\n",
              "      <td>[0.006048747483391886]</td>\n",
              "    </tr>\n",
              "    <tr>\n",
              "      <th>2</th>\n",
              "      <td>SASSE_16/validation</td>\n",
              "      <td>pyin</td>\n",
              "      <td>16000</td>\n",
              "      <td>1024</td>\n",
              "      <td>512</td>\n",
              "      <td>0.05</td>\n",
              "      <td>5102</td>\n",
              "      <td>0.880635</td>\n",
              "      <td>0.007444</td>\n",
              "      <td>0.747354</td>\n",
              "      <td>0.009977</td>\n",
              "      <td>0.527048</td>\n",
              "      <td>0.011463</td>\n",
              "      <td>0.883379</td>\n",
              "      <td>0.007369</td>\n",
              "      <td>0.753822</td>\n",
              "      <td>0.009891</td>\n",
              "      <td>0.556448</td>\n",
              "      <td>0.011407</td>\n",
              "    </tr>\n",
              "    <tr>\n",
              "      <th>3</th>\n",
              "      <td>SASSE_16/validation</td>\n",
              "      <td>pyin</td>\n",
              "      <td>16000</td>\n",
              "      <td>1024</td>\n",
              "      <td>160</td>\n",
              "      <td>0.05</td>\n",
              "      <td>15523</td>\n",
              "      <td>0.865941</td>\n",
              "      <td>0.004485</td>\n",
              "      <td>0.672679</td>\n",
              "      <td>0.006177</td>\n",
              "      <td>0.450493</td>\n",
              "      <td>0.006549</td>\n",
              "      <td>0.874702</td>\n",
              "      <td>0.004358</td>\n",
              "      <td>0.689944</td>\n",
              "      <td>0.006088</td>\n",
              "      <td>0.49301</td>\n",
              "      <td>0.006581</td>\n",
              "    </tr>\n",
              "  </tbody>\n",
              "</table>\n",
              "</div>\n",
              "      <button class=\"colab-df-convert\" onclick=\"convertToInteractive('df-791f0006-d958-400f-a2cc-2b90e9559031')\"\n",
              "              title=\"Convert this dataframe to an interactive table.\"\n",
              "              style=\"display:none;\">\n",
              "        \n",
              "  <svg xmlns=\"http://www.w3.org/2000/svg\" height=\"24px\"viewBox=\"0 0 24 24\"\n",
              "       width=\"24px\">\n",
              "    <path d=\"M0 0h24v24H0V0z\" fill=\"none\"/>\n",
              "    <path d=\"M18.56 5.44l.94 2.06.94-2.06 2.06-.94-2.06-.94-.94-2.06-.94 2.06-2.06.94zm-11 1L8.5 8.5l.94-2.06 2.06-.94-2.06-.94L8.5 2.5l-.94 2.06-2.06.94zm10 10l.94 2.06.94-2.06 2.06-.94-2.06-.94-.94-2.06-.94 2.06-2.06.94z\"/><path d=\"M17.41 7.96l-1.37-1.37c-.4-.4-.92-.59-1.43-.59-.52 0-1.04.2-1.43.59L10.3 9.45l-7.72 7.72c-.78.78-.78 2.05 0 2.83L4 21.41c.39.39.9.59 1.41.59.51 0 1.02-.2 1.41-.59l7.78-7.78 2.81-2.81c.8-.78.8-2.07 0-2.86zM5.41 20L4 18.59l7.72-7.72 1.47 1.35L5.41 20z\"/>\n",
              "  </svg>\n",
              "      </button>\n",
              "      \n",
              "  <style>\n",
              "    .colab-df-container {\n",
              "      display:flex;\n",
              "      flex-wrap:wrap;\n",
              "      gap: 12px;\n",
              "    }\n",
              "\n",
              "    .colab-df-convert {\n",
              "      background-color: #E8F0FE;\n",
              "      border: none;\n",
              "      border-radius: 50%;\n",
              "      cursor: pointer;\n",
              "      display: none;\n",
              "      fill: #1967D2;\n",
              "      height: 32px;\n",
              "      padding: 0 0 0 0;\n",
              "      width: 32px;\n",
              "    }\n",
              "\n",
              "    .colab-df-convert:hover {\n",
              "      background-color: #E2EBFA;\n",
              "      box-shadow: 0px 1px 2px rgba(60, 64, 67, 0.3), 0px 1px 3px 1px rgba(60, 64, 67, 0.15);\n",
              "      fill: #174EA6;\n",
              "    }\n",
              "\n",
              "    [theme=dark] .colab-df-convert {\n",
              "      background-color: #3B4455;\n",
              "      fill: #D2E3FC;\n",
              "    }\n",
              "\n",
              "    [theme=dark] .colab-df-convert:hover {\n",
              "      background-color: #434B5C;\n",
              "      box-shadow: 0px 1px 3px 1px rgba(0, 0, 0, 0.15);\n",
              "      filter: drop-shadow(0px 1px 2px rgba(0, 0, 0, 0.3));\n",
              "      fill: #FFFFFF;\n",
              "    }\n",
              "  </style>\n",
              "\n",
              "      <script>\n",
              "        const buttonEl =\n",
              "          document.querySelector('#df-791f0006-d958-400f-a2cc-2b90e9559031 button.colab-df-convert');\n",
              "        buttonEl.style.display =\n",
              "          google.colab.kernel.accessAllowed ? 'block' : 'none';\n",
              "\n",
              "        async function convertToInteractive(key) {\n",
              "          const element = document.querySelector('#df-791f0006-d958-400f-a2cc-2b90e9559031');\n",
              "          const dataTable =\n",
              "            await google.colab.kernel.invokeFunction('convertToInteractive',\n",
              "                                                     [key], {});\n",
              "          if (!dataTable) return;\n",
              "\n",
              "          const docLinkHtml = 'Like what you see? Visit the ' +\n",
              "            '<a target=\"_blank\" href=https://colab.research.google.com/notebooks/data_table.ipynb>data table notebook</a>'\n",
              "            + ' to learn more about interactive tables.';\n",
              "          element.innerHTML = '';\n",
              "          dataTable['output_type'] = 'display_data';\n",
              "          await google.colab.output.renderOutput(dataTable, element);\n",
              "          const docLink = document.createElement('div');\n",
              "          docLink.innerHTML = docLinkHtml;\n",
              "          element.appendChild(docLink);\n",
              "        }\n",
              "      </script>\n",
              "    </div>\n",
              "  </div>\n",
              "  "
            ]
          },
          "metadata": {},
          "execution_count": 219
        }
      ]
    },
    {
      "cell_type": "code",
      "source": [],
      "metadata": {
        "id": "E_CFA_nb7HUe"
      },
      "execution_count": null,
      "outputs": []
    },
    {
      "cell_type": "markdown",
      "source": [
        "## CRéPE Evaluation"
      ],
      "metadata": {
        "id": "iy8bqCnNx01_"
      }
    },
    {
      "cell_type": "code",
      "source": [
        "# use this to enable/disable crepe evaluation\n",
        "evaluate_crepe = True\n",
        "\n",
        "dataset_name = 'SASSE_16/validation'\n",
        "dataset_path = '/content/SASSE_16/validation'\n",
        "samplerate = 16000\n",
        "frame_size = 1024 # this must be 1024 for crepe\n",
        "step_size = 10\n",
        "hop_size = int(samplerate * step_size / 1000)\n",
        "model_capacity = 'full' # other options: 'large' 'medium' 'small' 'tiny'\n",
        "attack_length = 0.05 # seconds"
      ],
      "metadata": {
        "id": "VtGH-dmNVGgW"
      },
      "execution_count": null,
      "outputs": []
    },
    {
      "cell_type": "code",
      "source": [
        "def get_crepe_estimation(sample_path, samplerate, target, frame_size, hop_size,\n",
        "                         attack_length=0.05, model_capacity='full', viterbi=False,\n",
        "                         step_size=10):\n",
        "\n",
        "  # load sample\n",
        "  loader = es.MonoLoader(filename=sample_path, sampleRate=samplerate)\n",
        "  audio = loader()\n",
        "\n",
        "  # trim the sample to the first 50 ms\n",
        "  start_stop = es.StartStopSilence(threshold=-60)\n",
        "  start_frame, stop_frame = 0, 0\n",
        "  for frame in es.FrameGenerator(audio, frame_size, hop_size):\n",
        "    start_frame, stop_frame = start_stop(frame)\n",
        "\n",
        "  start_time = float(start_frame * hop_size) / float(samplerate)\n",
        "  #end_time = start_time + attack_length\n",
        "  end_time = float(stop_frame * hop_size) / float(samplerate)\n",
        "\n",
        "  # trim audio\n",
        "  trimmer = es.Trimmer(startTime=start_time, endTime=end_time,\n",
        "                       sampleRate=samplerate)\n",
        "  trimmed_audio = trimmer(audio)\n",
        "\n",
        "  # get crepe pitch estimations\n",
        "  times, crepe_pred, _, _ = crepe.predict(trimmed_audio, sr=samplerate,\n",
        "                                          model_capacity=model_capacity,\n",
        "                                          viterbi=viterbi, step_size=step_size,\n",
        "                                          verbose=0)\n",
        "  \n",
        "  # filter out NaNs\n",
        "  crepe_pred = crepe_pred[~np.isnan(crepe_pred)]\n",
        "  \n",
        "  # populate array of target values to match size of estimations array\n",
        "  targets = [float(target)] * crepe_pred.shape[0]\n",
        "\n",
        "  return crepe_pred, targets"
      ],
      "metadata": {
        "id": "Hm99rrk0IgFf"
      },
      "execution_count": 47,
      "outputs": []
    },
    {
      "cell_type": "code",
      "source": [
        "def process_folder_crepe(directory, samplerate, frame_size, hop_size,\n",
        "                         attack_length=0.05, model_capacity='full', viterbi=False,\n",
        "                         step_size=10):\n",
        "  folder_pitches = []\n",
        "  folder_targets = []\n",
        "  file_count = 0\n",
        "  count = 0\n",
        "\n",
        "  for (dir_path, _, filenames) in os.walk(directory):\n",
        "    num_files = len(filenames)\n",
        "    for filename in filenames:\n",
        "      file_path = os.path.join(dir_path, filename)\n",
        "\n",
        "      # in my formatting, the target is given by the first numbers in the filename\n",
        "      target = filename.split(\"_\")[0]\n",
        "      pitches, targets = get_crepe_estimation(file_path, samplerate=samplerate,\n",
        "                                              target=target,\n",
        "                                              frame_size=frame_size,\n",
        "                                              hop_size=hop_size,\n",
        "                                              attack_length=attack_length,\n",
        "                                              viterbi=viterbi,\n",
        "                                              step_size=step_size)\n",
        "      \n",
        "      folder_pitches.append(pitches)\n",
        "      folder_targets.append(targets)\n",
        "\n",
        "      file_count += 1\n",
        "      if (file_count % 100) == 0:\n",
        "        print(f'Progress: {file_count}/{num_files}')\n",
        "\n",
        "  folder_pitches = np.concatenate(folder_pitches)\n",
        "  folder_targets = np.concatenate(folder_targets)\n",
        "  print(f\"Num files processed: {file_count}\")\n",
        "  return folder_pitches, folder_targets"
      ],
      "metadata": {
        "id": "n0d77Kc-IgCJ"
      },
      "execution_count": null,
      "outputs": []
    },
    {
      "cell_type": "code",
      "source": [
        "if evaluate_crepe:\n",
        "  crepe_estimates, crepe_targets = process_folder_crepe(dataset_path,\n",
        "                                                        samplerate=16000,\n",
        "                                                        frame_size=frame_size,\n",
        "                                                        hop_size=hop_size,\n",
        "                                                        attack_length=attack_length,\n",
        "                                                        model_capacity=model_capacity,\n",
        "                                                        viterbi=True,\n",
        "                                                        step_size=step_size)"
      ],
      "metadata": {
        "id": "XxyjRgAYzvhq",
        "outputId": "26b370aa-0bbb-4dc0-b167-eb45bcbc524e",
        "colab": {
          "base_uri": "https://localhost:8080/"
        }
      },
      "execution_count": null,
      "outputs": [
        {
          "output_type": "stream",
          "name": "stdout",
          "text": [
            "Progress: 100/2680\n",
            "Progress: 200/2680\n",
            "Progress: 300/2680\n",
            "Progress: 400/2680\n",
            "Progress: 500/2680\n",
            "Progress: 600/2680\n",
            "Progress: 700/2680\n",
            "Progress: 800/2680\n",
            "Progress: 900/2680\n",
            "Progress: 1000/2680\n",
            "Progress: 1100/2680\n",
            "Progress: 1200/2680\n",
            "Progress: 1300/2680\n",
            "Progress: 1400/2680\n",
            "Progress: 1500/2680\n",
            "Progress: 1600/2680\n",
            "Progress: 1700/2680\n",
            "Progress: 1800/2680\n",
            "Progress: 1900/2680\n",
            "Progress: 2000/2680\n",
            "Progress: 2100/2680\n",
            "Progress: 2200/2680\n",
            "Progress: 2300/2680\n",
            "Progress: 2400/2680\n",
            "Progress: 2500/2680\n",
            "Progress: 2600/2680\n",
            "Num files processed: 2680\n"
          ]
        }
      ]
    },
    {
      "cell_type": "code",
      "source": [
        "if evaluate_crepe:\n",
        "  print(crepe_estimates.shape, crepe_targets.shape)"
      ],
      "metadata": {
        "id": "tDW88NoatjMO",
        "outputId": "06dd1722-2e9c-43cf-90e2-54713ec1827c",
        "colab": {
          "base_uri": "https://localhost:8080/"
        }
      },
      "execution_count": null,
      "outputs": [
        {
          "output_type": "stream",
          "name": "stdout",
          "text": [
            "(239847,) (239847,)\n"
          ]
        }
      ]
    },
    {
      "cell_type": "markdown",
      "source": [
        "### Raw pitch accuracy"
      ],
      "metadata": {
        "id": "TPj7iPiRvRyo"
      }
    },
    {
      "cell_type": "code",
      "source": [
        "if evaluate_crepe:\n",
        "  crepe_rpa_50_matches = np.where(np.abs(librosa.hz_to_midi(crepe_estimates) - crepe_targets) < 0.5)\n",
        "  crepe_rpa_25_matches = np.where(np.abs(librosa.hz_to_midi(crepe_estimates) - crepe_targets) < 0.25)\n",
        "  crepe_rpa_10_matches = np.where(np.abs(librosa.hz_to_midi(crepe_estimates) - crepe_targets) < 0.1)"
      ],
      "metadata": {
        "id": "dWMhZl-FzqqK"
      },
      "execution_count": null,
      "outputs": []
    },
    {
      "cell_type": "code",
      "source": [
        "if evaluate_crepe:\n",
        "  crepe_rpa_50 = crepe_rpa_50_matches[0].shape[0] / len(crepe_targets)\n",
        "  print(f\"50 cent accuracy: {crepe_rpa_50}\")\n",
        "  crepe_rpa_25 = crepe_rpa_25_matches[0].shape[0] / len(crepe_targets)\n",
        "  print(f\"25 cent accuracy: {crepe_rpa_25}\")\n",
        "  crepe_rpa_10 = crepe_rpa_10_matches[0].shape[0] / len(crepe_targets)\n",
        "  print(f\"10 cent accuracy: {crepe_rpa_10}\")"
      ],
      "metadata": {
        "id": "9TZC03zU3Kzs",
        "outputId": "4d416ce6-fea8-4c40-8874-6b0e6dd6f65a",
        "colab": {
          "base_uri": "https://localhost:8080/"
        }
      },
      "execution_count": null,
      "outputs": [
        {
          "output_type": "stream",
          "name": "stdout",
          "text": [
            "50 cent accuracy: 0.7383456953808053\n",
            "25 cent accuracy: 0.7273720330043736\n",
            "10 cent accuracy: 0.6263826522741581\n"
          ]
        }
      ]
    },
    {
      "cell_type": "code",
      "source": [
        "if evaluate_crepe:\n",
        "  crepe_rpa_50_conf_int = 1.64 * np.sqrt( (crepe_rpa_50 * (1 - crepe_rpa_50))  / len(crepe_targets))\n",
        "  print(f\"50 cent rpa std: {crepe_rpa_50_conf_int}\")\n",
        "  crepe_rpa_25_conf_int = 1.64 * np.sqrt( (crepe_rpa_25 * (1 - crepe_rpa_25))  / len(crepe_targets))\n",
        "  print(f\"25 cent rpa std: {crepe_rpa_25_conf_int}\")\n",
        "  crepe_rpa_10_conf_int = 1.64 * np.sqrt( (crepe_rpa_10 * (1 - crepe_rpa_10))  / len(crepe_targets))\n",
        "  print(f\"10 cent rpa std: {crepe_rpa_10_conf_int}\")"
      ],
      "metadata": {
        "id": "kEMPBn994OZI",
        "outputId": "baf14433-bce0-4250-fe84-be2f53b21484",
        "colab": {
          "base_uri": "https://localhost:8080/"
        }
      },
      "execution_count": null,
      "outputs": [
        {
          "output_type": "stream",
          "name": "stdout",
          "text": [
            "50 cent rpa std: 0.0014718736087457483\n",
            "25 cent rpa std: 0.0014912147973927296\n",
            "10 cent rpa std: 0.0016199815931367879\n"
          ]
        }
      ]
    },
    {
      "cell_type": "markdown",
      "source": [
        "### Raw chroma accuracy"
      ],
      "metadata": {
        "id": "VrPDRT_9vYzu"
      }
    },
    {
      "cell_type": "code",
      "source": [
        "if evaluate_crepe:\n",
        "  # offset by 0.5 to account for [11.5,12.5] as the octave error range when taking the modulo\n",
        "  crepe_rca_50_matches = np.where(np.fmod( np.abs(librosa.hz_to_midi(crepe_estimates) - crepe_targets + 0.5), 12 ) < 1.0)\n",
        "  crepe_rca_25_matches = np.where(np.fmod( np.abs(librosa.hz_to_midi(crepe_estimates) - crepe_targets + 0.25), 12 ) < 0.5)\n",
        "  crepe_rca_10_matches = np.where(np.fmod( np.abs(librosa.hz_to_midi(crepe_estimates) - crepe_targets + 0.1), 12 ) < 0.2)"
      ],
      "metadata": {
        "id": "F89CBfzXzqed"
      },
      "execution_count": null,
      "outputs": []
    },
    {
      "cell_type": "code",
      "source": [
        "if evaluate_crepe:\n",
        "  crepe_rca_50 = crepe_rca_50_matches[0].shape[0] / len(crepe_targets)\n",
        "  print(f\"50 cent accuracy: {crepe_rca_50}\")\n",
        "  crepe_rca_25 = crepe_rca_25_matches[0].shape[0] / len(crepe_targets)\n",
        "  print(f\"25 cent accuracy: {crepe_rca_25}\")\n",
        "  crepe_rca_10 = crepe_rca_10_matches[0].shape[0] / len(crepe_targets)\n",
        "  print(f\"10 cent accuracy: {crepe_rca_10}\")"
      ],
      "metadata": {
        "id": "0bfAXYXNti6S",
        "outputId": "f2b9a32f-fb89-4426-b6a5-6f029940e13c",
        "colab": {
          "base_uri": "https://localhost:8080/"
        }
      },
      "execution_count": null,
      "outputs": [
        {
          "output_type": "stream",
          "name": "stdout",
          "text": [
            "50 cent accuracy: 0.773259619674209\n",
            "25 cent accuracy: 0.7611060384328343\n",
            "10 cent accuracy: 0.6679674959453318\n"
          ]
        }
      ]
    },
    {
      "cell_type": "code",
      "source": [
        "if evaluate_crepe:\n",
        "  crepe_rca_50_conf_int = 1.64 * np.sqrt( (crepe_rca_50 * (1 - crepe_rca_50))  / len(crepe_targets))\n",
        "  print(f\"50 cent rca std: {crepe_rca_50_conf_int}\")\n",
        "  crepe_rca_25_conf_int = 1.64 * np.sqrt( (crepe_rca_25 * (1 - crepe_rca_25))  / len(crepe_targets))\n",
        "  print(f\"25 cent rca std: {crepe_rca_25_conf_int}\")\n",
        "  crepe_rca_10_conf_int = 1.64 * np.sqrt( (crepe_rca_10 * (1 - crepe_rca_10))  / len(crepe_targets))\n",
        "  print(f\"10 cent rca std: {crepe_rca_10_conf_int}\")"
      ],
      "metadata": {
        "id": "ZHTC139d364t",
        "outputId": "d04590cb-43fe-4682-e5bc-cdff1e3ac7f5",
        "colab": {
          "base_uri": "https://localhost:8080/"
        }
      },
      "execution_count": null,
      "outputs": [
        {
          "output_type": "stream",
          "name": "stdout",
          "text": [
            "50 cent rca std: 0.0014021801148919614\n",
            "25 cent rca std: 0.001427913411486438\n",
            "10 cent rca std: 0.0015770471137107973\n"
          ]
        }
      ]
    },
    {
      "cell_type": "markdown",
      "source": [
        "### Saving the data"
      ],
      "metadata": {
        "id": "EZjdjhGzaMeG"
      }
    },
    {
      "cell_type": "code",
      "source": [
        "# change to True to save this to the df\n",
        "save_crepe_eval = False"
      ],
      "metadata": {
        "id": "abpPDfCUXYMC"
      },
      "execution_count": null,
      "outputs": []
    },
    {
      "cell_type": "code",
      "source": [
        "evaluation_df.head()"
      ],
      "metadata": {
        "id": "grvFw3KZRE3u",
        "outputId": "dad6a93f-a0a2-4427-a3eb-3ce350b21db6",
        "colab": {
          "base_uri": "https://localhost:8080/",
          "height": 254
        }
      },
      "execution_count": null,
      "outputs": [
        {
          "output_type": "execute_result",
          "data": {
            "text/plain": [
              "   Unnamed: 0                  dataset  algo samplerate frame_length hop_size  \\\n",
              "0           0      SASSE_16/validation   yin      16000         1024      512   \n",
              "1           1  ['SASSE_16/validation']   yin    [16000]       [1024]    [160]   \n",
              "2           2      SASSE_16/validation  pyin      16000         1024      512   \n",
              "3           3      SASSE_16/validation  pyin      16000         1024      160   \n",
              "\n",
              "  smp_length frames_analyzed                 rpa50                rpa50_std  \\\n",
              "0       0.05            5360    0.7716417910447761     0.009403242525833003   \n",
              "1     [0.05]         [16080]  [0.7916044776119403]  [0.0052529000655192485]   \n",
              "2       0.05            5102    0.8806350450803606      0.00744406269642824   \n",
              "3       0.05           15523    0.8659408619467887    0.0044848543911409225   \n",
              "\n",
              "                  rpa25               rpa25_std                  rpa10  \\\n",
              "0    0.6076492537313433    0.010937679141602884    0.27705223880597013   \n",
              "1  [0.5893656716417911]  [0.006362398548675664]  [0.28389303482587064]   \n",
              "2    0.7473539788318306     0.00997684047136621     0.5270482163857311   \n",
              "3    0.6726792501449462    0.006176561978807632     0.4504928171100947   \n",
              "\n",
              "              rpa10_std                 rca50               rca50_std  \\\n",
              "0  0.010025262287911754    0.7792910447761194    0.009290118923286805   \n",
              "1  [0.0058313236126906]  [0.8026119402985075]  [0.005147710004731096]   \n",
              "2  0.011463235871759634    0.8833790670325362    0.007369455971710193   \n",
              "3  0.006549175696554466    0.8747020550151389    0.004357707408094822   \n",
              "\n",
              "                  rca25               rca25_std                 rca10  \\\n",
              "0     0.621455223880597    0.010864881735361235   0.30522388059701494   \n",
              "1  [0.6080845771144279]  [0.006313628112001445]  [0.3231965174129353]   \n",
              "2    0.7538220305762446    0.009890827468799167    0.5564484515876127   \n",
              "3    0.6899439541325775    0.006088117533576466   0.49301037170650003   \n",
              "\n",
              "                rca10_std  \n",
              "0     0.01031556807277578  \n",
              "1  [0.006048747483391886]  \n",
              "2    0.011406650629166112  \n",
              "3    0.006580874135730589  "
            ],
            "text/html": [
              "\n",
              "  <div id=\"df-b5b197cf-d97d-4831-9cc9-cb16fd3a0af9\">\n",
              "    <div class=\"colab-df-container\">\n",
              "      <div>\n",
              "<style scoped>\n",
              "    .dataframe tbody tr th:only-of-type {\n",
              "        vertical-align: middle;\n",
              "    }\n",
              "\n",
              "    .dataframe tbody tr th {\n",
              "        vertical-align: top;\n",
              "    }\n",
              "\n",
              "    .dataframe thead th {\n",
              "        text-align: right;\n",
              "    }\n",
              "</style>\n",
              "<table border=\"1\" class=\"dataframe\">\n",
              "  <thead>\n",
              "    <tr style=\"text-align: right;\">\n",
              "      <th></th>\n",
              "      <th>Unnamed: 0</th>\n",
              "      <th>dataset</th>\n",
              "      <th>algo</th>\n",
              "      <th>samplerate</th>\n",
              "      <th>frame_length</th>\n",
              "      <th>hop_size</th>\n",
              "      <th>smp_length</th>\n",
              "      <th>frames_analyzed</th>\n",
              "      <th>rpa50</th>\n",
              "      <th>rpa50_std</th>\n",
              "      <th>rpa25</th>\n",
              "      <th>rpa25_std</th>\n",
              "      <th>rpa10</th>\n",
              "      <th>rpa10_std</th>\n",
              "      <th>rca50</th>\n",
              "      <th>rca50_std</th>\n",
              "      <th>rca25</th>\n",
              "      <th>rca25_std</th>\n",
              "      <th>rca10</th>\n",
              "      <th>rca10_std</th>\n",
              "    </tr>\n",
              "  </thead>\n",
              "  <tbody>\n",
              "    <tr>\n",
              "      <th>0</th>\n",
              "      <td>0</td>\n",
              "      <td>SASSE_16/validation</td>\n",
              "      <td>yin</td>\n",
              "      <td>16000</td>\n",
              "      <td>1024</td>\n",
              "      <td>512</td>\n",
              "      <td>0.05</td>\n",
              "      <td>5360</td>\n",
              "      <td>0.7716417910447761</td>\n",
              "      <td>0.009403242525833003</td>\n",
              "      <td>0.6076492537313433</td>\n",
              "      <td>0.010937679141602884</td>\n",
              "      <td>0.27705223880597013</td>\n",
              "      <td>0.010025262287911754</td>\n",
              "      <td>0.7792910447761194</td>\n",
              "      <td>0.009290118923286805</td>\n",
              "      <td>0.621455223880597</td>\n",
              "      <td>0.010864881735361235</td>\n",
              "      <td>0.30522388059701494</td>\n",
              "      <td>0.01031556807277578</td>\n",
              "    </tr>\n",
              "    <tr>\n",
              "      <th>1</th>\n",
              "      <td>1</td>\n",
              "      <td>['SASSE_16/validation']</td>\n",
              "      <td>yin</td>\n",
              "      <td>[16000]</td>\n",
              "      <td>[1024]</td>\n",
              "      <td>[160]</td>\n",
              "      <td>[0.05]</td>\n",
              "      <td>[16080]</td>\n",
              "      <td>[0.7916044776119403]</td>\n",
              "      <td>[0.0052529000655192485]</td>\n",
              "      <td>[0.5893656716417911]</td>\n",
              "      <td>[0.006362398548675664]</td>\n",
              "      <td>[0.28389303482587064]</td>\n",
              "      <td>[0.0058313236126906]</td>\n",
              "      <td>[0.8026119402985075]</td>\n",
              "      <td>[0.005147710004731096]</td>\n",
              "      <td>[0.6080845771144279]</td>\n",
              "      <td>[0.006313628112001445]</td>\n",
              "      <td>[0.3231965174129353]</td>\n",
              "      <td>[0.006048747483391886]</td>\n",
              "    </tr>\n",
              "    <tr>\n",
              "      <th>2</th>\n",
              "      <td>2</td>\n",
              "      <td>SASSE_16/validation</td>\n",
              "      <td>pyin</td>\n",
              "      <td>16000</td>\n",
              "      <td>1024</td>\n",
              "      <td>512</td>\n",
              "      <td>0.05</td>\n",
              "      <td>5102</td>\n",
              "      <td>0.8806350450803606</td>\n",
              "      <td>0.00744406269642824</td>\n",
              "      <td>0.7473539788318306</td>\n",
              "      <td>0.00997684047136621</td>\n",
              "      <td>0.5270482163857311</td>\n",
              "      <td>0.011463235871759634</td>\n",
              "      <td>0.8833790670325362</td>\n",
              "      <td>0.007369455971710193</td>\n",
              "      <td>0.7538220305762446</td>\n",
              "      <td>0.009890827468799167</td>\n",
              "      <td>0.5564484515876127</td>\n",
              "      <td>0.011406650629166112</td>\n",
              "    </tr>\n",
              "    <tr>\n",
              "      <th>3</th>\n",
              "      <td>3</td>\n",
              "      <td>SASSE_16/validation</td>\n",
              "      <td>pyin</td>\n",
              "      <td>16000</td>\n",
              "      <td>1024</td>\n",
              "      <td>160</td>\n",
              "      <td>0.05</td>\n",
              "      <td>15523</td>\n",
              "      <td>0.8659408619467887</td>\n",
              "      <td>0.0044848543911409225</td>\n",
              "      <td>0.6726792501449462</td>\n",
              "      <td>0.006176561978807632</td>\n",
              "      <td>0.4504928171100947</td>\n",
              "      <td>0.006549175696554466</td>\n",
              "      <td>0.8747020550151389</td>\n",
              "      <td>0.004357707408094822</td>\n",
              "      <td>0.6899439541325775</td>\n",
              "      <td>0.006088117533576466</td>\n",
              "      <td>0.49301037170650003</td>\n",
              "      <td>0.006580874135730589</td>\n",
              "    </tr>\n",
              "  </tbody>\n",
              "</table>\n",
              "</div>\n",
              "      <button class=\"colab-df-convert\" onclick=\"convertToInteractive('df-b5b197cf-d97d-4831-9cc9-cb16fd3a0af9')\"\n",
              "              title=\"Convert this dataframe to an interactive table.\"\n",
              "              style=\"display:none;\">\n",
              "        \n",
              "  <svg xmlns=\"http://www.w3.org/2000/svg\" height=\"24px\"viewBox=\"0 0 24 24\"\n",
              "       width=\"24px\">\n",
              "    <path d=\"M0 0h24v24H0V0z\" fill=\"none\"/>\n",
              "    <path d=\"M18.56 5.44l.94 2.06.94-2.06 2.06-.94-2.06-.94-.94-2.06-.94 2.06-2.06.94zm-11 1L8.5 8.5l.94-2.06 2.06-.94-2.06-.94L8.5 2.5l-.94 2.06-2.06.94zm10 10l.94 2.06.94-2.06 2.06-.94-2.06-.94-.94-2.06-.94 2.06-2.06.94z\"/><path d=\"M17.41 7.96l-1.37-1.37c-.4-.4-.92-.59-1.43-.59-.52 0-1.04.2-1.43.59L10.3 9.45l-7.72 7.72c-.78.78-.78 2.05 0 2.83L4 21.41c.39.39.9.59 1.41.59.51 0 1.02-.2 1.41-.59l7.78-7.78 2.81-2.81c.8-.78.8-2.07 0-2.86zM5.41 20L4 18.59l7.72-7.72 1.47 1.35L5.41 20z\"/>\n",
              "  </svg>\n",
              "      </button>\n",
              "      \n",
              "  <style>\n",
              "    .colab-df-container {\n",
              "      display:flex;\n",
              "      flex-wrap:wrap;\n",
              "      gap: 12px;\n",
              "    }\n",
              "\n",
              "    .colab-df-convert {\n",
              "      background-color: #E8F0FE;\n",
              "      border: none;\n",
              "      border-radius: 50%;\n",
              "      cursor: pointer;\n",
              "      display: none;\n",
              "      fill: #1967D2;\n",
              "      height: 32px;\n",
              "      padding: 0 0 0 0;\n",
              "      width: 32px;\n",
              "    }\n",
              "\n",
              "    .colab-df-convert:hover {\n",
              "      background-color: #E2EBFA;\n",
              "      box-shadow: 0px 1px 2px rgba(60, 64, 67, 0.3), 0px 1px 3px 1px rgba(60, 64, 67, 0.15);\n",
              "      fill: #174EA6;\n",
              "    }\n",
              "\n",
              "    [theme=dark] .colab-df-convert {\n",
              "      background-color: #3B4455;\n",
              "      fill: #D2E3FC;\n",
              "    }\n",
              "\n",
              "    [theme=dark] .colab-df-convert:hover {\n",
              "      background-color: #434B5C;\n",
              "      box-shadow: 0px 1px 3px 1px rgba(0, 0, 0, 0.15);\n",
              "      filter: drop-shadow(0px 1px 2px rgba(0, 0, 0, 0.3));\n",
              "      fill: #FFFFFF;\n",
              "    }\n",
              "  </style>\n",
              "\n",
              "      <script>\n",
              "        const buttonEl =\n",
              "          document.querySelector('#df-b5b197cf-d97d-4831-9cc9-cb16fd3a0af9 button.colab-df-convert');\n",
              "        buttonEl.style.display =\n",
              "          google.colab.kernel.accessAllowed ? 'block' : 'none';\n",
              "\n",
              "        async function convertToInteractive(key) {\n",
              "          const element = document.querySelector('#df-b5b197cf-d97d-4831-9cc9-cb16fd3a0af9');\n",
              "          const dataTable =\n",
              "            await google.colab.kernel.invokeFunction('convertToInteractive',\n",
              "                                                     [key], {});\n",
              "          if (!dataTable) return;\n",
              "\n",
              "          const docLinkHtml = 'Like what you see? Visit the ' +\n",
              "            '<a target=\"_blank\" href=https://colab.research.google.com/notebooks/data_table.ipynb>data table notebook</a>'\n",
              "            + ' to learn more about interactive tables.';\n",
              "          element.innerHTML = '';\n",
              "          dataTable['output_type'] = 'display_data';\n",
              "          await google.colab.output.renderOutput(dataTable, element);\n",
              "          const docLink = document.createElement('div');\n",
              "          docLink.innerHTML = docLinkHtml;\n",
              "          element.appendChild(docLink);\n",
              "        }\n",
              "      </script>\n",
              "    </div>\n",
              "  </div>\n",
              "  "
            ]
          },
          "metadata": {},
          "execution_count": 23
        }
      ]
    },
    {
      "cell_type": "code",
      "source": [
        "# add data to dataframe\n",
        "if evaluate_crepe:\n",
        "  if save_crepe_eval:\n",
        "    df_row = {\n",
        "        'dataset': dataset_name,\n",
        "        'algo': 'crepe',\n",
        "        'samplerate': samplerate,\n",
        "        'frame_length': frame_size,\n",
        "        'hop_size': hop_size,\n",
        "        'smp_length': attack_length,\n",
        "        'frames_analyzed': crepe_estimates.shape[0],\n",
        "        'rpa50': crepe_rpa_50,\n",
        "        'rpa50_std': crepe_rpa_50_conf_int,\n",
        "        'rpa25': crepe_rpa_25,\n",
        "        'rpa25_std': crepe_rpa_25_conf_int,\n",
        "        'rpa10': crepe_rpa_10,\n",
        "        'rpa10_std': crepe_rpa_10_conf_int,\n",
        "        'rca50': crepe_rca_50,\n",
        "        'rca50_std': crepe_rca_50_conf_int,\n",
        "        'rca25': crepe_rca_25,\n",
        "        'rca25_std': crepe_rca_25_conf_int,\n",
        "        'rca10': crepe_rca_10,\n",
        "        'rca10_std': crepe_rca_10_conf_int\n",
        "    }\n",
        "\n",
        "    evaluation_df = evaluation_df.append(df_row, ignore_index=True)\n",
        "    save_crepe_eval = False"
      ],
      "metadata": {
        "id": "_dEe58b_XYG0"
      },
      "execution_count": null,
      "outputs": []
    },
    {
      "cell_type": "code",
      "source": [
        "evaluation_df.tail()"
      ],
      "metadata": {
        "id": "naoKosK_XYCQ",
        "outputId": "3b69b058-28f7-45cd-8aaf-a3bcdb7fba7b",
        "colab": {
          "base_uri": "https://localhost:8080/",
          "height": 285
        }
      },
      "execution_count": null,
      "outputs": [
        {
          "output_type": "execute_result",
          "data": {
            "text/plain": [
              "   Unnamed: 0                  dataset   algo samplerate frame_length  \\\n",
              "0         0.0      SASSE_16/validation    yin      16000         1024   \n",
              "1         1.0  ['SASSE_16/validation']    yin    [16000]       [1024]   \n",
              "2         2.0      SASSE_16/validation   pyin      16000         1024   \n",
              "3         3.0      SASSE_16/validation   pyin      16000         1024   \n",
              "4         NaN      SASSE_16/validation  crepe      16000         1024   \n",
              "\n",
              "  hop_size smp_length frames_analyzed                 rpa50  \\\n",
              "0      512       0.05            5360    0.7716417910447761   \n",
              "1    [160]     [0.05]         [16080]  [0.7916044776119403]   \n",
              "2      512       0.05            5102    0.8806350450803606   \n",
              "3      160       0.05           15523    0.8659408619467887   \n",
              "4      160       0.05           16080              0.899316   \n",
              "\n",
              "                 rpa50_std                 rpa25               rpa25_std  \\\n",
              "0     0.009403242525833003    0.6076492537313433    0.010937679141602884   \n",
              "1  [0.0052529000655192485]  [0.5893656716417911]  [0.006362398548675664]   \n",
              "2      0.00744406269642824    0.7473539788318306     0.00997684047136621   \n",
              "3    0.0044848543911409225    0.6726792501449462    0.006176561978807632   \n",
              "4                 0.003892              0.813806                0.005034   \n",
              "\n",
              "                   rpa10             rpa10_std                 rca50  \\\n",
              "0    0.27705223880597013  0.010025262287911754    0.7792910447761194   \n",
              "1  [0.28389303482587064]  [0.0058313236126906]  [0.8026119402985075]   \n",
              "2     0.5270482163857311  0.011463235871759634    0.8833790670325362   \n",
              "3     0.4504928171100947  0.006549175696554466    0.8747020550151389   \n",
              "4               0.552861               0.00643               0.90454   \n",
              "\n",
              "                rca50_std                 rca25               rca25_std  \\\n",
              "0    0.009290118923286805     0.621455223880597    0.010864881735361235   \n",
              "1  [0.005147710004731096]  [0.6080845771144279]  [0.006313628112001445]   \n",
              "2    0.007369455971710193    0.7538220305762446    0.009890827468799167   \n",
              "3    0.004357707408094822    0.6899439541325775    0.006088117533576466   \n",
              "4                  0.0038              0.822948                0.004937   \n",
              "\n",
              "                  rca10               rca10_std  \n",
              "0   0.30522388059701494     0.01031556807277578  \n",
              "1  [0.3231965174129353]  [0.006048747483391886]  \n",
              "2    0.5564484515876127    0.011406650629166112  \n",
              "3   0.49301037170650003    0.006580874135730589  \n",
              "4               0.59148                0.006357  "
            ],
            "text/html": [
              "\n",
              "  <div id=\"df-f29f10a4-6dd1-440a-ab3e-6c88619560f4\">\n",
              "    <div class=\"colab-df-container\">\n",
              "      <div>\n",
              "<style scoped>\n",
              "    .dataframe tbody tr th:only-of-type {\n",
              "        vertical-align: middle;\n",
              "    }\n",
              "\n",
              "    .dataframe tbody tr th {\n",
              "        vertical-align: top;\n",
              "    }\n",
              "\n",
              "    .dataframe thead th {\n",
              "        text-align: right;\n",
              "    }\n",
              "</style>\n",
              "<table border=\"1\" class=\"dataframe\">\n",
              "  <thead>\n",
              "    <tr style=\"text-align: right;\">\n",
              "      <th></th>\n",
              "      <th>Unnamed: 0</th>\n",
              "      <th>dataset</th>\n",
              "      <th>algo</th>\n",
              "      <th>samplerate</th>\n",
              "      <th>frame_length</th>\n",
              "      <th>hop_size</th>\n",
              "      <th>smp_length</th>\n",
              "      <th>frames_analyzed</th>\n",
              "      <th>rpa50</th>\n",
              "      <th>rpa50_std</th>\n",
              "      <th>rpa25</th>\n",
              "      <th>rpa25_std</th>\n",
              "      <th>rpa10</th>\n",
              "      <th>rpa10_std</th>\n",
              "      <th>rca50</th>\n",
              "      <th>rca50_std</th>\n",
              "      <th>rca25</th>\n",
              "      <th>rca25_std</th>\n",
              "      <th>rca10</th>\n",
              "      <th>rca10_std</th>\n",
              "    </tr>\n",
              "  </thead>\n",
              "  <tbody>\n",
              "    <tr>\n",
              "      <th>0</th>\n",
              "      <td>0.0</td>\n",
              "      <td>SASSE_16/validation</td>\n",
              "      <td>yin</td>\n",
              "      <td>16000</td>\n",
              "      <td>1024</td>\n",
              "      <td>512</td>\n",
              "      <td>0.05</td>\n",
              "      <td>5360</td>\n",
              "      <td>0.7716417910447761</td>\n",
              "      <td>0.009403242525833003</td>\n",
              "      <td>0.6076492537313433</td>\n",
              "      <td>0.010937679141602884</td>\n",
              "      <td>0.27705223880597013</td>\n",
              "      <td>0.010025262287911754</td>\n",
              "      <td>0.7792910447761194</td>\n",
              "      <td>0.009290118923286805</td>\n",
              "      <td>0.621455223880597</td>\n",
              "      <td>0.010864881735361235</td>\n",
              "      <td>0.30522388059701494</td>\n",
              "      <td>0.01031556807277578</td>\n",
              "    </tr>\n",
              "    <tr>\n",
              "      <th>1</th>\n",
              "      <td>1.0</td>\n",
              "      <td>['SASSE_16/validation']</td>\n",
              "      <td>yin</td>\n",
              "      <td>[16000]</td>\n",
              "      <td>[1024]</td>\n",
              "      <td>[160]</td>\n",
              "      <td>[0.05]</td>\n",
              "      <td>[16080]</td>\n",
              "      <td>[0.7916044776119403]</td>\n",
              "      <td>[0.0052529000655192485]</td>\n",
              "      <td>[0.5893656716417911]</td>\n",
              "      <td>[0.006362398548675664]</td>\n",
              "      <td>[0.28389303482587064]</td>\n",
              "      <td>[0.0058313236126906]</td>\n",
              "      <td>[0.8026119402985075]</td>\n",
              "      <td>[0.005147710004731096]</td>\n",
              "      <td>[0.6080845771144279]</td>\n",
              "      <td>[0.006313628112001445]</td>\n",
              "      <td>[0.3231965174129353]</td>\n",
              "      <td>[0.006048747483391886]</td>\n",
              "    </tr>\n",
              "    <tr>\n",
              "      <th>2</th>\n",
              "      <td>2.0</td>\n",
              "      <td>SASSE_16/validation</td>\n",
              "      <td>pyin</td>\n",
              "      <td>16000</td>\n",
              "      <td>1024</td>\n",
              "      <td>512</td>\n",
              "      <td>0.05</td>\n",
              "      <td>5102</td>\n",
              "      <td>0.8806350450803606</td>\n",
              "      <td>0.00744406269642824</td>\n",
              "      <td>0.7473539788318306</td>\n",
              "      <td>0.00997684047136621</td>\n",
              "      <td>0.5270482163857311</td>\n",
              "      <td>0.011463235871759634</td>\n",
              "      <td>0.8833790670325362</td>\n",
              "      <td>0.007369455971710193</td>\n",
              "      <td>0.7538220305762446</td>\n",
              "      <td>0.009890827468799167</td>\n",
              "      <td>0.5564484515876127</td>\n",
              "      <td>0.011406650629166112</td>\n",
              "    </tr>\n",
              "    <tr>\n",
              "      <th>3</th>\n",
              "      <td>3.0</td>\n",
              "      <td>SASSE_16/validation</td>\n",
              "      <td>pyin</td>\n",
              "      <td>16000</td>\n",
              "      <td>1024</td>\n",
              "      <td>160</td>\n",
              "      <td>0.05</td>\n",
              "      <td>15523</td>\n",
              "      <td>0.8659408619467887</td>\n",
              "      <td>0.0044848543911409225</td>\n",
              "      <td>0.6726792501449462</td>\n",
              "      <td>0.006176561978807632</td>\n",
              "      <td>0.4504928171100947</td>\n",
              "      <td>0.006549175696554466</td>\n",
              "      <td>0.8747020550151389</td>\n",
              "      <td>0.004357707408094822</td>\n",
              "      <td>0.6899439541325775</td>\n",
              "      <td>0.006088117533576466</td>\n",
              "      <td>0.49301037170650003</td>\n",
              "      <td>0.006580874135730589</td>\n",
              "    </tr>\n",
              "    <tr>\n",
              "      <th>4</th>\n",
              "      <td>NaN</td>\n",
              "      <td>SASSE_16/validation</td>\n",
              "      <td>crepe</td>\n",
              "      <td>16000</td>\n",
              "      <td>1024</td>\n",
              "      <td>160</td>\n",
              "      <td>0.05</td>\n",
              "      <td>16080</td>\n",
              "      <td>0.899316</td>\n",
              "      <td>0.003892</td>\n",
              "      <td>0.813806</td>\n",
              "      <td>0.005034</td>\n",
              "      <td>0.552861</td>\n",
              "      <td>0.00643</td>\n",
              "      <td>0.90454</td>\n",
              "      <td>0.0038</td>\n",
              "      <td>0.822948</td>\n",
              "      <td>0.004937</td>\n",
              "      <td>0.59148</td>\n",
              "      <td>0.006357</td>\n",
              "    </tr>\n",
              "  </tbody>\n",
              "</table>\n",
              "</div>\n",
              "      <button class=\"colab-df-convert\" onclick=\"convertToInteractive('df-f29f10a4-6dd1-440a-ab3e-6c88619560f4')\"\n",
              "              title=\"Convert this dataframe to an interactive table.\"\n",
              "              style=\"display:none;\">\n",
              "        \n",
              "  <svg xmlns=\"http://www.w3.org/2000/svg\" height=\"24px\"viewBox=\"0 0 24 24\"\n",
              "       width=\"24px\">\n",
              "    <path d=\"M0 0h24v24H0V0z\" fill=\"none\"/>\n",
              "    <path d=\"M18.56 5.44l.94 2.06.94-2.06 2.06-.94-2.06-.94-.94-2.06-.94 2.06-2.06.94zm-11 1L8.5 8.5l.94-2.06 2.06-.94-2.06-.94L8.5 2.5l-.94 2.06-2.06.94zm10 10l.94 2.06.94-2.06 2.06-.94-2.06-.94-.94-2.06-.94 2.06-2.06.94z\"/><path d=\"M17.41 7.96l-1.37-1.37c-.4-.4-.92-.59-1.43-.59-.52 0-1.04.2-1.43.59L10.3 9.45l-7.72 7.72c-.78.78-.78 2.05 0 2.83L4 21.41c.39.39.9.59 1.41.59.51 0 1.02-.2 1.41-.59l7.78-7.78 2.81-2.81c.8-.78.8-2.07 0-2.86zM5.41 20L4 18.59l7.72-7.72 1.47 1.35L5.41 20z\"/>\n",
              "  </svg>\n",
              "      </button>\n",
              "      \n",
              "  <style>\n",
              "    .colab-df-container {\n",
              "      display:flex;\n",
              "      flex-wrap:wrap;\n",
              "      gap: 12px;\n",
              "    }\n",
              "\n",
              "    .colab-df-convert {\n",
              "      background-color: #E8F0FE;\n",
              "      border: none;\n",
              "      border-radius: 50%;\n",
              "      cursor: pointer;\n",
              "      display: none;\n",
              "      fill: #1967D2;\n",
              "      height: 32px;\n",
              "      padding: 0 0 0 0;\n",
              "      width: 32px;\n",
              "    }\n",
              "\n",
              "    .colab-df-convert:hover {\n",
              "      background-color: #E2EBFA;\n",
              "      box-shadow: 0px 1px 2px rgba(60, 64, 67, 0.3), 0px 1px 3px 1px rgba(60, 64, 67, 0.15);\n",
              "      fill: #174EA6;\n",
              "    }\n",
              "\n",
              "    [theme=dark] .colab-df-convert {\n",
              "      background-color: #3B4455;\n",
              "      fill: #D2E3FC;\n",
              "    }\n",
              "\n",
              "    [theme=dark] .colab-df-convert:hover {\n",
              "      background-color: #434B5C;\n",
              "      box-shadow: 0px 1px 3px 1px rgba(0, 0, 0, 0.15);\n",
              "      filter: drop-shadow(0px 1px 2px rgba(0, 0, 0, 0.3));\n",
              "      fill: #FFFFFF;\n",
              "    }\n",
              "  </style>\n",
              "\n",
              "      <script>\n",
              "        const buttonEl =\n",
              "          document.querySelector('#df-f29f10a4-6dd1-440a-ab3e-6c88619560f4 button.colab-df-convert');\n",
              "        buttonEl.style.display =\n",
              "          google.colab.kernel.accessAllowed ? 'block' : 'none';\n",
              "\n",
              "        async function convertToInteractive(key) {\n",
              "          const element = document.querySelector('#df-f29f10a4-6dd1-440a-ab3e-6c88619560f4');\n",
              "          const dataTable =\n",
              "            await google.colab.kernel.invokeFunction('convertToInteractive',\n",
              "                                                     [key], {});\n",
              "          if (!dataTable) return;\n",
              "\n",
              "          const docLinkHtml = 'Like what you see? Visit the ' +\n",
              "            '<a target=\"_blank\" href=https://colab.research.google.com/notebooks/data_table.ipynb>data table notebook</a>'\n",
              "            + ' to learn more about interactive tables.';\n",
              "          element.innerHTML = '';\n",
              "          dataTable['output_type'] = 'display_data';\n",
              "          await google.colab.output.renderOutput(dataTable, element);\n",
              "          const docLink = document.createElement('div');\n",
              "          docLink.innerHTML = docLinkHtml;\n",
              "          element.appendChild(docLink);\n",
              "        }\n",
              "      </script>\n",
              "    </div>\n",
              "  </div>\n",
              "  "
            ]
          },
          "metadata": {},
          "execution_count": 25
        }
      ]
    },
    {
      "cell_type": "code",
      "source": [
        "evaluation_df.to_csv('steelpan_pitch_onset_evaluation.csv')"
      ],
      "metadata": {
        "id": "zkqme9gwRYdK"
      },
      "execution_count": null,
      "outputs": []
    },
    {
      "cell_type": "markdown",
      "source": [
        "# CRéPE-style network"
      ],
      "metadata": {
        "id": "A16_AKxUOzeh"
      }
    },
    {
      "cell_type": "markdown",
      "source": [
        "## Data Augmentation\n",
        "\n",
        "Hopefully this will generalize better if I do some data augmentation."
      ],
      "metadata": {
        "id": "Dqvev7VBqfrQ"
      }
    },
    {
      "cell_type": "code",
      "source": [
        "# add white noise\n",
        "# probably want values in the range of 0.01 - 0.1\n",
        "def add_noise(signal, noise_factor):\n",
        "  noise = np.random.normal(0, signal.std(), signal.size)\n",
        "  augmented_signal = signal + noise * noise_factor\n",
        "  return augmented_signal"
      ],
      "metadata": {
        "id": "p97XE1PeqfDM"
      },
      "execution_count": null,
      "outputs": []
    },
    {
      "cell_type": "code",
      "source": [
        "# stretch signal\n",
        "# probably want values in the range 0.8 - 1.2\n",
        "def time_stretch(signal, stretch_factor):\n",
        "  return librosa.effects.time_stretch(signal, stretch_factor)"
      ],
      "metadata": {
        "id": "GgUG4T0_sLMY"
      },
      "execution_count": null,
      "outputs": []
    },
    {
      "cell_type": "code",
      "source": [
        "# pitch shift\n",
        "# pitch shift in 20 cent increments\n",
        "def pitch_shift(signal, sr, n_cents):\n",
        "  return librosa.effects.pitch_shift(signal, sr, n_cents, 60)"
      ],
      "metadata": {
        "id": "sql_x31gsKhE"
      },
      "execution_count": null,
      "outputs": []
    },
    {
      "cell_type": "code",
      "source": [
        "# polarity inversion\n",
        "def invert_polarity(signal):\n",
        "  return signal * -1"
      ],
      "metadata": {
        "id": "JRfvGAdKsKSq"
      },
      "execution_count": null,
      "outputs": []
    },
    {
      "cell_type": "markdown",
      "source": [
        "### Augment SASSE_16 through pitch shifting\n",
        "\n"
      ],
      "metadata": {
        "id": "CaOadUYKRlpc"
      }
    },
    {
      "cell_type": "code",
      "source": [
        "AUG_PATH = '/content/SASSE_16_aug'\n",
        "if not os.path.exists(AUG_PATH):\n",
        "  os.makedirs(AUG_PATH)"
      ],
      "metadata": {
        "id": "FKlQgqlpXM1Q"
      },
      "execution_count": null,
      "outputs": []
    },
    {
      "cell_type": "code",
      "source": [
        "# for clearing augmentation folder\n",
        "for root, dirs, files in os.walk(AUG_PATH, topdown=False):\n",
        "  for name in files:\n",
        "    os.remove(os.path.join(root, name))"
      ],
      "metadata": {
        "id": "mmEqSgqfdGxG"
      },
      "execution_count": null,
      "outputs": []
    },
    {
      "cell_type": "code",
      "source": [
        "sr = 16000\n",
        "aug_count = 0\n",
        "num_shifts_per_sample = 1\n",
        "\n",
        "for (dir_path, _, filenames) in os.walk('/content/SASSE_16/train'):\n",
        "  num_files = len(filenames)\n",
        "  \n",
        "  for filename in filenames:\n",
        "    file_path = os.path.join(dir_path, filename)\n",
        "    orig_target = filename.split(\"_\")[0]\n",
        "\n",
        "    orig_audio, _ = librosa.load(file_path, sr=sr)\n",
        "\n",
        "    for _ in range(num_shifts_per_sample):\n",
        "      shift_bins = np.random.randint(-10, 10)\n",
        "      if shift_bins == 0:\n",
        "        shift_bins += 1\n",
        "\n",
        "      new_target = float(orig_target) + (shift_bins * 0.2)\n",
        "      shift_audio = pitch_shift(orig_audio, sr, shift_bins)\n",
        "\n",
        "      new_filename = f\"{new_target}_aug_train_sample_{aug_count}.wav\"\n",
        "      new_file_path = os.path.join(AUG_PATH, new_filename)\n",
        "      aug_count += 1\n",
        "\n",
        "      sf.write(new_file_path, shift_audio, sr)\n",
        "\n",
        "      if aug_count % 100 == 0:\n",
        "        print(f\"Progress: {aug_count} / {num_files * num_shifts_per_sample}\")"
      ],
      "metadata": {
        "colab": {
          "base_uri": "https://localhost:8080/"
        },
        "id": "h8vncRUHRsjD",
        "outputId": "9aaf4214-0c16-4c44-82de-1c9c0baaa4a4"
      },
      "execution_count": null,
      "outputs": [
        {
          "output_type": "stream",
          "name": "stdout",
          "text": [
            "Progress: 100 / 7931\n",
            "Progress: 200 / 7931\n",
            "Progress: 300 / 7931\n",
            "Progress: 400 / 7931\n",
            "Progress: 500 / 7931\n",
            "Progress: 600 / 7931\n",
            "Progress: 700 / 7931\n",
            "Progress: 800 / 7931\n",
            "Progress: 900 / 7931\n",
            "Progress: 1000 / 7931\n",
            "Progress: 1100 / 7931\n",
            "Progress: 1200 / 7931\n",
            "Progress: 1300 / 7931\n",
            "Progress: 1400 / 7931\n",
            "Progress: 1500 / 7931\n",
            "Progress: 1600 / 7931\n",
            "Progress: 1700 / 7931\n",
            "Progress: 1800 / 7931\n",
            "Progress: 1900 / 7931\n",
            "Progress: 2000 / 7931\n",
            "Progress: 2100 / 7931\n",
            "Progress: 2200 / 7931\n",
            "Progress: 2300 / 7931\n",
            "Progress: 2400 / 7931\n",
            "Progress: 2500 / 7931\n",
            "Progress: 2600 / 7931\n",
            "Progress: 2700 / 7931\n",
            "Progress: 2800 / 7931\n",
            "Progress: 2900 / 7931\n",
            "Progress: 3000 / 7931\n",
            "Progress: 3100 / 7931\n",
            "Progress: 3200 / 7931\n",
            "Progress: 3300 / 7931\n",
            "Progress: 3400 / 7931\n",
            "Progress: 3500 / 7931\n",
            "Progress: 3600 / 7931\n",
            "Progress: 3700 / 7931\n",
            "Progress: 3800 / 7931\n",
            "Progress: 3900 / 7931\n",
            "Progress: 4000 / 7931\n",
            "Progress: 4100 / 7931\n",
            "Progress: 4200 / 7931\n",
            "Progress: 4300 / 7931\n",
            "Progress: 4400 / 7931\n",
            "Progress: 4500 / 7931\n",
            "Progress: 4600 / 7931\n",
            "Progress: 4700 / 7931\n",
            "Progress: 4800 / 7931\n",
            "Progress: 4900 / 7931\n",
            "Progress: 5000 / 7931\n",
            "Progress: 5100 / 7931\n",
            "Progress: 5200 / 7931\n",
            "Progress: 5300 / 7931\n",
            "Progress: 5400 / 7931\n",
            "Progress: 5500 / 7931\n",
            "Progress: 5600 / 7931\n",
            "Progress: 5700 / 7931\n",
            "Progress: 5800 / 7931\n",
            "Progress: 5900 / 7931\n",
            "Progress: 6000 / 7931\n",
            "Progress: 6100 / 7931\n",
            "Progress: 6200 / 7931\n",
            "Progress: 6300 / 7931\n",
            "Progress: 6400 / 7931\n",
            "Progress: 6500 / 7931\n",
            "Progress: 6600 / 7931\n",
            "Progress: 6700 / 7931\n",
            "Progress: 6800 / 7931\n",
            "Progress: 6900 / 7931\n",
            "Progress: 7000 / 7931\n",
            "Progress: 7100 / 7931\n",
            "Progress: 7200 / 7931\n",
            "Progress: 7300 / 7931\n",
            "Progress: 7400 / 7931\n",
            "Progress: 7500 / 7931\n",
            "Progress: 7600 / 7931\n",
            "Progress: 7700 / 7931\n",
            "Progress: 7800 / 7931\n",
            "Progress: 7900 / 7931\n"
          ]
        }
      ]
    },
    {
      "cell_type": "code",
      "source": [
        "!zip -r -q /content/SASSE_16_aug.zip /content/SASSE_16_aug"
      ],
      "metadata": {
        "id": "DZMH7s41RsCj"
      },
      "execution_count": null,
      "outputs": []
    },
    {
      "cell_type": "code",
      "source": [],
      "metadata": {
        "id": "8-5gFXtdRr8c"
      },
      "execution_count": null,
      "outputs": []
    },
    {
      "cell_type": "markdown",
      "source": [
        "### Audiomentations"
      ],
      "metadata": {
        "id": "1Qf3Z88iNMPS"
      }
    },
    {
      "cell_type": "code",
      "source": [
        "augment = Compose([\n",
        "    #PitchShift(min_semitones=[-0.05,0.05], max_semitones=[-2.0,2.0], p=0.5),\n",
        "    TimeStretch(min_rate=0.8, max_rate=1.25,\n",
        "                leave_length_unchanged=False, p=0.5),\n",
        "    HighShelfFilter(min_center_freq=500, max_center_freq=7500,\n",
        "                    min_gain_db=-12, max_db_gain=12,\n",
        "                    min_q=0.1, max_q=0.9, p=0.5),\n",
        "    AddGaussianNoise(min_amplitude=0.01, max_amplitude=0.1, p=0.5),\n",
        "    PolarityInversion(p=0.5),\n",
        "])"
      ],
      "metadata": {
        "id": "MTryO6I_sKFQ"
      },
      "execution_count": null,
      "outputs": []
    },
    {
      "cell_type": "code",
      "source": [],
      "metadata": {
        "id": "Vd0hbOfsNO_L"
      },
      "execution_count": null,
      "outputs": []
    },
    {
      "cell_type": "code",
      "source": [],
      "metadata": {
        "id": "6voqjOE1NOxS"
      },
      "execution_count": null,
      "outputs": []
    },
    {
      "cell_type": "code",
      "source": [],
      "metadata": {
        "id": "A2SjjEpMsJwN"
      },
      "execution_count": null,
      "outputs": []
    },
    {
      "cell_type": "markdown",
      "source": [
        "## Model Builder"
      ],
      "metadata": {
        "id": "4v9CkCCcO3So"
      }
    },
    {
      "cell_type": "code",
      "source": [
        "models = {\n",
        "    'tiny': None,\n",
        "    'small': None,\n",
        "    'medium': None,\n",
        "    'large': None,\n",
        "    'full': None\n",
        "}\n",
        "\n",
        "# the model is trained on 16 kHz audio for now # TODO: upgrade to a higher samplerate\n",
        "#model_samplerate = 1600\n",
        "\n",
        "def make_model(model_capacity, metrics, frame_size,\n",
        "               compensate=False, weights=None):\n",
        "  '''\n",
        "  model_capacity: tiny, small, medium, large, full\n",
        "  weights: path of .h5 weight file\n",
        "  '''\n",
        "\n",
        "  from tensorflow.keras.layers import Input, Reshape, Conv2D, BatchNormalization\n",
        "  from tensorflow.keras.layers import MaxPool2D, Dropout, Permute, Flatten, Dense\n",
        "  from tensorflow.keras.models import Model\n",
        "\n",
        "  capacity_multiplier = {\n",
        "      'tiny': 4, 'small': 8, 'medium': 16, 'large': 24, 'full': 32\n",
        "  }[model_capacity]\n",
        "\n",
        "  first_stride = 4\n",
        "  if frame_size == 512:\n",
        "    first_stride = 2\n",
        "  elif frame_size < 512:\n",
        "    first_stride = 1\n",
        "\n",
        "  # for consistency in testing\n",
        "  first_stride = 1\n",
        "\n",
        "  layers = [1, 2, 3, 4, 5, 6]\n",
        "  filters = [n * capacity_multiplier for n in [32, 4, 4, 4, 8, 16]]\n",
        "  widths = [64, 16, 16, 8, 4, 4]\n",
        "  #strides = [(4,1), (1,1), (1,1), (1,1), (1,1), (1,1)] # original\n",
        "  strides = [(first_stride,1), (1,1), (1,1), (1,1), (1,1), (1,1)]\n",
        "  pools = [2, 2, 2, 2, 1, 1]\n",
        "\n",
        "  x = Input(shape=(frame_size,), name='input', dtype='float32')\n",
        "  y = Reshape(target_shape=(frame_size, 1, 1), name='input-reshape')(x)\n",
        "\n",
        "  for l, f, w, s in zip(layers, filters, widths, strides):\n",
        "    y = Conv2D(f, (w, 1), strides=s, padding='same',\n",
        "               activation='relu', name=\"conv%d\" % l)(y)\n",
        "    y = BatchNormalization(name=\"conv%d-BN\" % l)(y)\n",
        "    y = MaxPool2D(pool_size=(2, 1), strides=None, padding='valid',\n",
        "                  name=\"conv%d-maxpool\" % l)(y)\n",
        "    y = Dropout(0.25, name=\"conv%d-dropout\" % l)(y)\n",
        "\n",
        "  y = Permute((2, 1, 3), name=\"transpose\")(y)\n",
        "  y = Flatten(name=\"flatten\")(y)\n",
        "  y = Dense(360, activation='sigmoid', name=\"classifier\")(y)\n",
        "\n",
        "  model = Model(inputs=x, outputs=y)\n",
        "\n",
        "  if weights != None:\n",
        "    model.load_weights(weights)\n",
        "  model.compile(tf.keras.optimizers.Adam(learning_rate=0.0002),\n",
        "                'binary_crossentropy', metrics=metrics)\n",
        "  \n",
        "  models[model_capacity] = model\n",
        "\n",
        "  return model"
      ],
      "metadata": {
        "id": "UzftyuMuOHgx"
      },
      "execution_count": null,
      "outputs": []
    },
    {
      "cell_type": "code",
      "source": [
        "# todo - Just use Librosa's db_to_power instead?\n",
        "def db_to_pow(db):\n",
        "  '''Convert from dB to power'''\n",
        "  return 10**(db / 10)\n",
        "\n",
        "\n",
        "def frame_energy(frame):\n",
        "  '''Calculates the average energy for a frame\n",
        "    \n",
        "    Parameters\n",
        "    ----------\n",
        "    frame : np.array\n",
        "      audio frame in np.float32 format\n",
        "\n",
        "    Returns\n",
        "    -------\n",
        "    average_energy : float\n",
        "      Average energy level for frame\n",
        "  '''\n",
        "\n",
        "  # Square the sample values to convert to energy values\n",
        "  energy = frame**2\n",
        "\n",
        "  # Sum the energy values to get total energy\n",
        "  total_energy = np.sum(energy)\n",
        "\n",
        "  # Divide by length to get average energy\n",
        "  return total_energy / len(frame)"
      ],
      "metadata": {
        "id": "z3aNDeWLhg7X"
      },
      "execution_count": null,
      "outputs": []
    },
    {
      "cell_type": "code",
      "source": [
        "def process_audio_file(filepath, samplerate=16000, threshold_pow=1e-06,\n",
        "                       frame_size=1024, step_size=5, onset=True,\n",
        "                       onset_length=0.05):\n",
        "  '''\n",
        "  Processes a single audio file by formatting it into frames and extracting the label.\n",
        "  \n",
        "  Parameters\n",
        "  ----------\n",
        "  filepath : string\n",
        "  Filepath for audio.\n",
        "\n",
        "  threshold_pow : float\n",
        "  Frames with average energy less than this are clipped.\n",
        "\n",
        "  frame_size : int\n",
        "  Number of samples per audio frame\n",
        "\n",
        "  step_size : float\n",
        "  Space between each frame (in milliseconds).\n",
        "\n",
        "  onset : bool\n",
        "  Flag to process only the onsets\n",
        "\n",
        "  onset_length : float\n",
        "  Amount of time to consider as the onset (s)\n",
        "\n",
        "  Returns\n",
        "  -------\n",
        "  frames : np.array dtype=float\n",
        "  The normalized and clipped audio, in frame form.\n",
        "\n",
        "  labels : int[]\n",
        "  The pitch of the audio file, in MIDI. It's duplicated\n",
        "  because the model requires one label for each frame.\n",
        "  '''\n",
        "\n",
        "  '''loader = es.MonoLoader(filename=filepath, sampleRate=samplerate)\n",
        "  audio = loader()\n",
        "\n",
        "  # trim the audio to the first 50 ms\n",
        "  start_stop = es.StartStopSilence(threshold=threshold_pow)\n",
        "  start_frame, stop_frame = 0, 0\n",
        "  for frame in es.FrameGenerator(audio, frame_size, step_size):\n",
        "    start_frame, stop_frame = start_stop(frame)\n",
        "\n",
        "  start_time = float(start_frame * step_size) / float(samplerate)\n",
        "  end_time = start_time + onset_length\n",
        "\n",
        "  # time audio\n",
        "  trimmer = es.Trimmer(startTime=start_time, endTime=end_time)\n",
        "  trimmed_audio = trimmer(audio)'''\n",
        "\n",
        "  audio, _ = librosa.load(filepath, sr=samplerate)\n",
        "\n",
        "  # Format the audio into frames for Crepe\n",
        "  hop_length = int(samplerate * step_size / 1000)\n",
        "  n_frames = 1 + int((len(audio) - frame_size) / hop_length)\n",
        "  frames = as_strided(audio, shape=(frame_size, n_frames),\n",
        "                      strides=(audio.itemsize, hop_length * audio.itemsize))\n",
        "  frames = frames.transpose().copy()\n",
        "\n",
        "  # Find the first frame where the levels meet threshold_pow\n",
        "  for f in range(len(frames)):\n",
        "    if frame_energy(frames[f]) > threshold_pow:\n",
        "      start_frame = f\n",
        "      break\n",
        "  \n",
        "  if onset:\n",
        "    end_frame = f + int(onset_length * 1000 / step_size)\n",
        "  else:\n",
        "    for f in range(len(frames) - 1, -1, -1):\n",
        "      if frame_energy(frames[f]) > threshold_pow:\n",
        "        end_frame = f + 1\n",
        "        break\n",
        "\n",
        "  frames = frames[start_frame:end_frame]\n",
        "\n",
        "  # Normalize each frame\n",
        "  frames -= np.mean(frames, axis=1)[:, np.newaxis]\n",
        "  frames /= np.std(frames, axis=1)[:, np.newaxis]\n",
        "\n",
        "  # Prep labels\n",
        "  labels = [float(os.path.basename(filepath).split(\"_\")[0]) for _ in range(end_frame - start_frame)]\n",
        "\n",
        "  return frames, labels"
      ],
      "metadata": {
        "id": "vDKHROskPrS0"
      },
      "execution_count": null,
      "outputs": []
    },
    {
      "cell_type": "code",
      "source": [
        "f, l = process_audio_file('/content/SASSE_tiny_16/train/60_train_sample_101.wav', step_size=2)\n",
        "print(len(l))"
      ],
      "metadata": {
        "colab": {
          "base_uri": "https://localhost:8080/"
        },
        "id": "NZh2MpqaYlCN",
        "outputId": "a9ccf9da-f828-49ba-d8aa-f8ee2141df40"
      },
      "execution_count": null,
      "outputs": [
        {
          "output_type": "stream",
          "name": "stdout",
          "text": [
            "25\n"
          ]
        }
      ]
    },
    {
      "cell_type": "code",
      "source": [
        "f, l = process_audio_file('/content/SASSE_16_aug/59.8_aug_train_sample_1030.wav', step_size=2)\n",
        "print(l)"
      ],
      "metadata": {
        "colab": {
          "base_uri": "https://localhost:8080/"
        },
        "id": "x9Rp83RRjlzG",
        "outputId": "b3bbb5f9-6077-4e32-d0b2-12e1e261e239"
      },
      "execution_count": null,
      "outputs": [
        {
          "output_type": "stream",
          "name": "stdout",
          "text": [
            "[59.8, 59.8, 59.8, 59.8, 59.8, 59.8, 59.8, 59.8, 59.8, 59.8, 59.8, 59.8, 59.8, 59.8, 59.8, 59.8, 59.8, 59.8, 59.8, 59.8, 59.8, 59.8, 59.8, 59.8, 59.8]\n"
          ]
        }
      ]
    },
    {
      "cell_type": "code",
      "source": [
        "def load_audio_batch(dir, samplerate=16000, threshold_db=-60, frame_size=1024,\n",
        "                     step_size=5, onset=True, onset_length=0.05, blur=True):\n",
        "  '''\n",
        "    Loads and processes all audio files from a directory, returning a single\n",
        "    array of audio frames and labels. Will load audio from nested dirs as well.\n",
        "\n",
        "    Parameters\n",
        "    ----------\n",
        "    dir : string\n",
        "    Starting dirpath to load audio from.\n",
        "\n",
        "    threshold_db : float\n",
        "    Frames with average energy less than this are clipped (this is converted dB -> power first).\n",
        "\n",
        "    Returns\n",
        "    -------\n",
        "    frames_list : np.array dtype=float\n",
        "    Audio frames from all loaded audio files.\n",
        "\n",
        "    labels_list : np.array dtype=float\n",
        "    The labels for the model. It is formatted as a one-hot vector\n",
        "    with Gaussian blur applied, so indices closer to the correct\n",
        "    index are closer to 1 (e.g. if the correct index is 200 then\n",
        "    index 198 might be 0.953 but index 50 might be 0.067).\n",
        "  '''\n",
        "\n",
        "  frames_list = []\n",
        "  labels_list = []\n",
        "  threshold_pow = db_to_pow(threshold_db)\n",
        "\n",
        "  for (dirpath, _, filenames) in walk(dir):\n",
        "    for filename in filenames:\n",
        "      frames, labels = process_audio_file(dirpath + \"/\" + filename,\n",
        "                                          samplerate=samplerate,\n",
        "                                          threshold_pow=threshold_pow,\n",
        "                                          frame_size=frame_size,\n",
        "                                          step_size=step_size,\n",
        "                                          onset=onset,\n",
        "                                          onset_length=onset_length)\n",
        "\n",
        "      frames_list.append(frames)\n",
        "      labels_list += labels\n",
        "\n",
        "  # assemble frames from all files into one array\n",
        "  frames_list = np.concatenate(frames_list)\n",
        "\n",
        "  # convert MIDI to Crepe cents one-hot vector (0-360)\n",
        "  with tf.device('/cpu:0'):\n",
        "    labels_list = np.array(tf.one_hot(5 * (np.array(labels_list) - 24), 360))\n",
        "\n",
        "  # apply Gaussian blur\n",
        "  if blur == True:\n",
        "    cents_i = np.arange(360)\n",
        "    for i in range(len(labels_list)):\n",
        "      cents_true = np.where(labels_list[i] == 1)[0][0]\n",
        "      labels_list[i] = np.exp(-((20 *(cents_i - cents_true)) ** 2) / (2 * (25 ** 2)))\n",
        "\n",
        "  return frames_list, labels_list"
      ],
      "metadata": {
        "id": "c6jLMAXdysUX"
      },
      "execution_count": null,
      "outputs": []
    },
    {
      "cell_type": "code",
      "source": [
        "# select model attributes\n",
        "# options: 'tiny', 'small', 'medium', 'large', 'full'\n",
        "samplerate = 16000\n",
        "model_size = 'medium'\n",
        "frame_size = 1024\n",
        "train_step_size = 20\n",
        "compensate = False\n",
        "\n",
        "onset = False\n",
        "attack_length = 0.05"
      ],
      "metadata": {
        "id": "IohEb-gA4qM0"
      },
      "execution_count": null,
      "outputs": []
    },
    {
      "cell_type": "code",
      "source": [
        "# set up model\n",
        "metrics = \"Accuracy\"\n",
        "model = make_model(model_size, frame_size=frame_size,\n",
        "                   metrics=metrics, compensate=compensate)\n",
        "model.summary()"
      ],
      "metadata": {
        "id": "UHAGCprwysJ9",
        "outputId": "df472e0d-ff80-4e7c-9db6-f667eabfd097",
        "colab": {
          "base_uri": "https://localhost:8080/"
        }
      },
      "execution_count": null,
      "outputs": [
        {
          "output_type": "stream",
          "name": "stdout",
          "text": [
            "Model: \"model\"\n",
            "_________________________________________________________________\n",
            " Layer (type)                Output Shape              Param #   \n",
            "=================================================================\n",
            " input (InputLayer)          [(None, 1024)]            0         \n",
            "                                                                 \n",
            " input-reshape (Reshape)     (None, 1024, 1, 1)        0         \n",
            "                                                                 \n",
            " conv1 (Conv2D)              (None, 1024, 1, 512)      33280     \n",
            "                                                                 \n",
            " conv1-BN (BatchNormalizatio  (None, 1024, 1, 512)     2048      \n",
            " n)                                                              \n",
            "                                                                 \n",
            " conv1-maxpool (MaxPooling2D  (None, 512, 1, 512)      0         \n",
            " )                                                               \n",
            "                                                                 \n",
            " conv1-dropout (Dropout)     (None, 512, 1, 512)       0         \n",
            "                                                                 \n",
            " conv2 (Conv2D)              (None, 512, 1, 64)        524352    \n",
            "                                                                 \n",
            " conv2-BN (BatchNormalizatio  (None, 512, 1, 64)       256       \n",
            " n)                                                              \n",
            "                                                                 \n",
            " conv2-maxpool (MaxPooling2D  (None, 256, 1, 64)       0         \n",
            " )                                                               \n",
            "                                                                 \n",
            " conv2-dropout (Dropout)     (None, 256, 1, 64)        0         \n",
            "                                                                 \n",
            " conv3 (Conv2D)              (None, 256, 1, 64)        65600     \n",
            "                                                                 \n",
            " conv3-BN (BatchNormalizatio  (None, 256, 1, 64)       256       \n",
            " n)                                                              \n",
            "                                                                 \n",
            " conv3-maxpool (MaxPooling2D  (None, 128, 1, 64)       0         \n",
            " )                                                               \n",
            "                                                                 \n",
            " conv3-dropout (Dropout)     (None, 128, 1, 64)        0         \n",
            "                                                                 \n",
            " conv4 (Conv2D)              (None, 128, 1, 64)        32832     \n",
            "                                                                 \n",
            " conv4-BN (BatchNormalizatio  (None, 128, 1, 64)       256       \n",
            " n)                                                              \n",
            "                                                                 \n",
            " conv4-maxpool (MaxPooling2D  (None, 64, 1, 64)        0         \n",
            " )                                                               \n",
            "                                                                 \n",
            " conv4-dropout (Dropout)     (None, 64, 1, 64)         0         \n",
            "                                                                 \n",
            " conv5 (Conv2D)              (None, 64, 1, 128)        32896     \n",
            "                                                                 \n",
            " conv5-BN (BatchNormalizatio  (None, 64, 1, 128)       512       \n",
            " n)                                                              \n",
            "                                                                 \n",
            " conv5-maxpool (MaxPooling2D  (None, 32, 1, 128)       0         \n",
            " )                                                               \n",
            "                                                                 \n",
            " conv5-dropout (Dropout)     (None, 32, 1, 128)        0         \n",
            "                                                                 \n",
            " conv6 (Conv2D)              (None, 32, 1, 256)        131328    \n",
            "                                                                 \n",
            " conv6-BN (BatchNormalizatio  (None, 32, 1, 256)       1024      \n",
            " n)                                                              \n",
            "                                                                 \n",
            " conv6-maxpool (MaxPooling2D  (None, 16, 1, 256)       0         \n",
            " )                                                               \n",
            "                                                                 \n",
            " conv6-dropout (Dropout)     (None, 16, 1, 256)        0         \n",
            "                                                                 \n",
            " transpose (Permute)         (None, 1, 16, 256)        0         \n",
            "                                                                 \n",
            " flatten (Flatten)           (None, 4096)              0         \n",
            "                                                                 \n",
            " classifier (Dense)          (None, 360)               1474920   \n",
            "                                                                 \n",
            "=================================================================\n",
            "Total params: 2,299,560\n",
            "Trainable params: 2,297,384\n",
            "Non-trainable params: 2,176\n",
            "_________________________________________________________________\n"
          ]
        }
      ]
    },
    {
      "cell_type": "code",
      "source": [
        "# load model from Google Drive\n",
        "model_path = '/content/gdrive/MyDrive/Research Projects/NIME - Steelpan-Pitch/steelpan_onset_size-medium_samplerate-16000_frame_size-1024_model.h5'\n",
        "model = tf.keras.models.load_model(model_path)"
      ],
      "metadata": {
        "id": "KuXFYM51Ve5I"
      },
      "execution_count": null,
      "outputs": []
    },
    {
      "cell_type": "code",
      "source": [
        "model.summary()"
      ],
      "metadata": {
        "id": "PkhRbqK_V-LD",
        "outputId": "c8f074a3-4779-45b4-9419-ee4504bbaa50",
        "colab": {
          "base_uri": "https://localhost:8080/"
        }
      },
      "execution_count": null,
      "outputs": [
        {
          "output_type": "stream",
          "name": "stdout",
          "text": [
            "Model: \"model\"\n",
            "_________________________________________________________________\n",
            " Layer (type)                Output Shape              Param #   \n",
            "=================================================================\n",
            " input (InputLayer)          [(None, 1024)]            0         \n",
            "                                                                 \n",
            " input-reshape (Reshape)     (None, 1024, 1, 1)        0         \n",
            "                                                                 \n",
            " conv1 (Conv2D)              (None, 1024, 1, 512)      33280     \n",
            "                                                                 \n",
            " conv1-BN (BatchNormalizatio  (None, 1024, 1, 512)     2048      \n",
            " n)                                                              \n",
            "                                                                 \n",
            " conv1-maxpool (MaxPooling2D  (None, 512, 1, 512)      0         \n",
            " )                                                               \n",
            "                                                                 \n",
            " conv1-dropout (Dropout)     (None, 512, 1, 512)       0         \n",
            "                                                                 \n",
            " conv2 (Conv2D)              (None, 512, 1, 64)        524352    \n",
            "                                                                 \n",
            " conv2-BN (BatchNormalizatio  (None, 512, 1, 64)       256       \n",
            " n)                                                              \n",
            "                                                                 \n",
            " conv2-maxpool (MaxPooling2D  (None, 256, 1, 64)       0         \n",
            " )                                                               \n",
            "                                                                 \n",
            " conv2-dropout (Dropout)     (None, 256, 1, 64)        0         \n",
            "                                                                 \n",
            " conv3 (Conv2D)              (None, 256, 1, 64)        65600     \n",
            "                                                                 \n",
            " conv3-BN (BatchNormalizatio  (None, 256, 1, 64)       256       \n",
            " n)                                                              \n",
            "                                                                 \n",
            " conv3-maxpool (MaxPooling2D  (None, 128, 1, 64)       0         \n",
            " )                                                               \n",
            "                                                                 \n",
            " conv3-dropout (Dropout)     (None, 128, 1, 64)        0         \n",
            "                                                                 \n",
            " conv4 (Conv2D)              (None, 128, 1, 64)        32832     \n",
            "                                                                 \n",
            " conv4-BN (BatchNormalizatio  (None, 128, 1, 64)       256       \n",
            " n)                                                              \n",
            "                                                                 \n",
            " conv4-maxpool (MaxPooling2D  (None, 64, 1, 64)        0         \n",
            " )                                                               \n",
            "                                                                 \n",
            " conv4-dropout (Dropout)     (None, 64, 1, 64)         0         \n",
            "                                                                 \n",
            " conv5 (Conv2D)              (None, 64, 1, 128)        32896     \n",
            "                                                                 \n",
            " conv5-BN (BatchNormalizatio  (None, 64, 1, 128)       512       \n",
            " n)                                                              \n",
            "                                                                 \n",
            " conv5-maxpool (MaxPooling2D  (None, 32, 1, 128)       0         \n",
            " )                                                               \n",
            "                                                                 \n",
            " conv5-dropout (Dropout)     (None, 32, 1, 128)        0         \n",
            "                                                                 \n",
            " conv6 (Conv2D)              (None, 32, 1, 256)        131328    \n",
            "                                                                 \n",
            " conv6-BN (BatchNormalizatio  (None, 32, 1, 256)       1024      \n",
            " n)                                                              \n",
            "                                                                 \n",
            " conv6-maxpool (MaxPooling2D  (None, 16, 1, 256)       0         \n",
            " )                                                               \n",
            "                                                                 \n",
            " conv6-dropout (Dropout)     (None, 16, 1, 256)        0         \n",
            "                                                                 \n",
            " transpose (Permute)         (None, 1, 16, 256)        0         \n",
            "                                                                 \n",
            " flatten (Flatten)           (None, 4096)              0         \n",
            "                                                                 \n",
            " classifier (Dense)          (None, 360)               1474920   \n",
            "                                                                 \n",
            "=================================================================\n",
            "Total params: 2,299,560\n",
            "Trainable params: 2,297,384\n",
            "Non-trainable params: 2,176\n",
            "_________________________________________________________________\n"
          ]
        }
      ]
    },
    {
      "cell_type": "markdown",
      "source": [
        "## Load and format datasets"
      ],
      "metadata": {
        "id": "mkHUv2XlbMKG"
      }
    },
    {
      "cell_type": "code",
      "source": [
        "train_augment = True"
      ],
      "metadata": {
        "id": "8VjH5Jv3e8pN"
      },
      "execution_count": null,
      "outputs": []
    },
    {
      "cell_type": "code",
      "source": [
        "if samplerate == 16000:\n",
        "  x_train, y_train = load_audio_batch(\n",
        "      '/content/SASSE_16/train', samplerate=samplerate, frame_size=frame_size,\n",
        "      step_size=train_step_size, blur=True,\n",
        "      onset=onset)\n",
        "  if train_augment:\n",
        "    x_train_aug, y_train_aug = load_audio_batch(\n",
        "        '/content/SASSE_16_aug', samplerate=samplerate, frame_size=frame_size,\n",
        "        step_size=train_step_size, blur=True,\n",
        "        onset=onset\n",
        "    )\n",
        "    x_train = np.concatenate((x_train, x_train_aug))\n",
        "    y_train = np.concatenate((y_train, y_train_aug))\n",
        "  \n",
        "  x_val, y_val = load_audio_batch(\n",
        "      '/content/SASSE_16/validation', samplerate=samplerate, \n",
        "      frame_size=frame_size, step_size=train_step_size, blur=False,\n",
        "      onset=onset)\n",
        "  \n",
        "  train_dataset = 'SASSE_16/train'\n",
        "  model_samplerate = 16000\n",
        "\n",
        "elif samplerate == 48000:\n",
        "  x_train, y_train = load_audio_batch(\n",
        "      '/content/SASSE_48/train', samplerate=samplerate, frame_size=frame_size,\n",
        "      step_size=train_step_size, blur=True,\n",
        "      onset=onset)\n",
        "  x_val, y_val = load_audio_batch(\n",
        "      '/content/SASSE_48/validation', samplerate=samplerate, \n",
        "      frame_size=frame_size, step_size=train_step_size, blur=False,\n",
        "      onset=onset)\n",
        "  \n",
        "  train_dataset = 'SASSE_48/train'\n",
        "  model_samplerate = 48000"
      ],
      "metadata": {
        "id": "1xXCZjMpyr6Y"
      },
      "execution_count": null,
      "outputs": []
    },
    {
      "cell_type": "code",
      "source": [
        "print(f\"Training sets' shapes: {x_train.shape}, {y_train.shape}\")\n",
        "print(f\"Validation sets' shapes: {x_val.shape}, {y_val.shape}\")"
      ],
      "metadata": {
        "colab": {
          "base_uri": "https://localhost:8080/"
        },
        "id": "ZjLJb9IOslcQ",
        "outputId": "324dcf2c-ec61-403f-e485-a45937df2e19"
      },
      "execution_count": null,
      "outputs": [
        {
          "output_type": "stream",
          "name": "stdout",
          "text": [
            "Training sets' shapes: (672792, 1024), (672792, 360)\n",
            "Validation sets' shapes: (116251, 1024), (116251, 360)\n"
          ]
        }
      ]
    },
    {
      "cell_type": "code",
      "source": [
        "del x_train_aug"
      ],
      "metadata": {
        "id": "numTHJUr3gog"
      },
      "execution_count": null,
      "outputs": []
    },
    {
      "cell_type": "code",
      "source": [
        "del y_train_aug"
      ],
      "metadata": {
        "id": "RS0QGU9R3l-u"
      },
      "execution_count": null,
      "outputs": []
    },
    {
      "cell_type": "markdown",
      "source": [
        "## Training"
      ],
      "metadata": {
        "id": "7o2GWVwLgZvu"
      }
    },
    {
      "cell_type": "code",
      "source": [
        "# load unfinished Steelpan-Pitch NIME net\n",
        "#nime_model_path = '/content/gdrive/MyDrive/Research Projects/NIME - Steelpan-Pitch/steelpan_onset_size-medium_samplerate-16000_frame_size-512_model.h5'\n",
        "#model = tf.keras.models.load_model(nime_model_path)\n",
        "#model.summary()"
      ],
      "metadata": {
        "id": "gIZbLcWQekle"
      },
      "execution_count": null,
      "outputs": []
    },
    {
      "cell_type": "code",
      "source": [
        "batch_size = 128"
      ],
      "metadata": {
        "id": "FpGkkN6byrk_"
      },
      "execution_count": null,
      "outputs": []
    },
    {
      "cell_type": "code",
      "source": [
        "early_stopping = tf.keras.callbacks.EarlyStopping(\n",
        "    monitor='val_loss',\n",
        "    min_delta=0.00005,\n",
        "    patience=5,\n",
        "    mode='min'\n",
        ")\n",
        "\n",
        "checkpoints = tf.keras.callbacks.ModelCheckpoint(\n",
        "    filepath='steelpan_onset_checkpoint.hdf5',\n",
        "    monitor='val_Accuracy',\n",
        "    mode='max',\n",
        "    #save_best_only=True,\n",
        ")\n",
        "\n",
        "callbacks = [early_stopping, checkpoints]"
      ],
      "metadata": {
        "id": "gGHPH07Xyre_"
      },
      "execution_count": null,
      "outputs": []
    },
    {
      "cell_type": "code",
      "source": [
        "history = model.fit(x=x_train, y=y_train, batch_size=batch_size, epochs=100,\n",
        "                    validation_data=(x_val, y_val),\n",
        "                    callbacks=callbacks)"
      ],
      "metadata": {
        "id": "L8VmWL4ayrYP",
        "colab": {
          "base_uri": "https://localhost:8080/"
        },
        "outputId": "b073a9bf-16d5-41f4-a390-6b47d0e52d42"
      },
      "execution_count": null,
      "outputs": [
        {
          "output_type": "stream",
          "name": "stdout",
          "text": [
            "Epoch 1/100\n",
            "5257/5257 [==============================] - 648s 121ms/step - loss: 0.0090 - Accuracy: 0.9248 - val_loss: 0.0105 - val_Accuracy: 0.9857\n",
            "Epoch 2/100\n",
            "5257/5257 [==============================] - 633s 120ms/step - loss: 0.0088 - Accuracy: 0.9452 - val_loss: 0.0100 - val_Accuracy: 0.9854\n",
            "Epoch 3/100\n",
            "5257/5257 [==============================] - 632s 120ms/step - loss: 0.0087 - Accuracy: 0.9557 - val_loss: 0.0097 - val_Accuracy: 0.9872\n",
            "Epoch 4/100\n",
            "5257/5257 [==============================] - 632s 120ms/step - loss: 0.0086 - Accuracy: 0.9623 - val_loss: 0.0097 - val_Accuracy: 0.9849\n",
            "Epoch 5/100\n",
            "5257/5257 [==============================] - 631s 120ms/step - loss: 0.0086 - Accuracy: 0.9674 - val_loss: 0.0098 - val_Accuracy: 0.9891\n",
            "Epoch 6/100\n",
            "5257/5257 [==============================] - 632s 120ms/step - loss: 0.0085 - Accuracy: 0.9701 - val_loss: 0.0098 - val_Accuracy: 0.9876\n",
            "Epoch 7/100\n",
            "5257/5257 [==============================] - 631s 120ms/step - loss: 0.0085 - Accuracy: 0.9733 - val_loss: 0.0095 - val_Accuracy: 0.9891\n",
            "Epoch 8/100\n",
            "5257/5257 [==============================] - 631s 120ms/step - loss: 0.0084 - Accuracy: 0.9750 - val_loss: 0.0097 - val_Accuracy: 0.9894\n",
            "Epoch 9/100\n",
            "5257/5257 [==============================] - 632s 120ms/step - loss: 0.0084 - Accuracy: 0.9763 - val_loss: 0.0094 - val_Accuracy: 0.9894\n",
            "Epoch 10/100\n",
            "5257/5257 [==============================] - 631s 120ms/step - loss: 0.0084 - Accuracy: 0.9784 - val_loss: 0.0098 - val_Accuracy: 0.9901\n",
            "Epoch 11/100\n",
            "5257/5257 [==============================] - 631s 120ms/step - loss: 0.0084 - Accuracy: 0.9795 - val_loss: 0.0097 - val_Accuracy: 0.9901\n",
            "Epoch 12/100\n",
            "5257/5257 [==============================] - 631s 120ms/step - loss: 0.0083 - Accuracy: 0.9803 - val_loss: 0.0095 - val_Accuracy: 0.9909\n",
            "Epoch 13/100\n",
            "5257/5257 [==============================] - 631s 120ms/step - loss: 0.0083 - Accuracy: 0.9810 - val_loss: 0.0097 - val_Accuracy: 0.9904\n",
            "Epoch 14/100\n",
            "5257/5257 [==============================] - 631s 120ms/step - loss: 0.0083 - Accuracy: 0.9820 - val_loss: 0.0095 - val_Accuracy: 0.9909\n"
          ]
        }
      ]
    },
    {
      "cell_type": "code",
      "source": [
        "# re-load the best performing weights and save them with the details\n",
        "model.load_weights('/content/steelpan_onset_checkpoint.hdf5')\n",
        "model.save_weights(f'steelpan_onset_size-{model_size}_samplerate-{samplerate}_frame_size-{frame_size}_weights.h5')\n",
        "model.save(f'steelpan_onset_size-{model_size}_samplerate-{samplerate}_frame_size-{frame_size}_model.h5')"
      ],
      "metadata": {
        "id": "GS24jYOincmM"
      },
      "execution_count": null,
      "outputs": []
    },
    {
      "cell_type": "code",
      "source": [
        "model_name = f'steelpan_onset_size-{model_size}_samplerate-{samplerate}_frame_size-{frame_size}_model.h5'\n",
        "save_path = os.path.join(nime_folder, model_name)\n",
        "model.save(save_path)"
      ],
      "metadata": {
        "id": "Q7SJEWHxREul"
      },
      "execution_count": null,
      "outputs": []
    },
    {
      "cell_type": "markdown",
      "source": [
        "## Training History\n",
        "\n",
        "Let's plot the training accuracies and losses."
      ],
      "metadata": {
        "id": "ypKGzqLVOog5"
      }
    },
    {
      "cell_type": "code",
      "source": [
        "plt.figure(figsize=(8,6))\n",
        "plt.plot(history.history['Accuracy'], label='Training accuracy')\n",
        "plt.plot(history.history['val_Accuracy'], label='Val accuracy')\n",
        "plt.title('model accuracy')\n",
        "plt.ylabel('accuracy')\n",
        "plt.xlabel('epoch')\n",
        "plt.legend(fontsize=12)\n",
        "\n",
        "plt.savefig(f\"steelpan_onset_size-{model_size}_compensate-{compensate}_samplerate-{samplerate}_frame_size-{frame_size}_accuracy.png\")\n",
        "\n",
        "plt.show()"
      ],
      "metadata": {
        "id": "0h9YzP6dPTy8",
        "outputId": "9fe1aeef-e0a1-41df-aa6d-9e408e96cb7e",
        "colab": {
          "base_uri": "https://localhost:8080/",
          "height": 404
        }
      },
      "execution_count": null,
      "outputs": [
        {
          "output_type": "display_data",
          "data": {
            "text/plain": [
              "<Figure size 576x432 with 1 Axes>"
            ],
            "image/png": "[encoded data removed]"
          },
          "metadata": {
            "needs_background": "light"
          }
        }
      ]
    },
    {
      "cell_type": "code",
      "source": [
        "plt.figure(figsize=(8,6))\n",
        "plt.plot(history.history['loss'], label='Training loss')\n",
        "plt.plot(history.history['val_loss'], label='Val loss')\n",
        "plt.title('model loss')\n",
        "plt.ylabel('loss')\n",
        "plt.xlabel('epoch')\n",
        "plt.legend(fontsize=12)\n",
        "\n",
        "plt.savefig(f\"steelpan_onset_size-{model_size}_compensate-{compensate}_samplerate-{samplerate}_frame_size-{frame_size}_loss.png\")\n",
        "\n",
        "plt.show()"
      ],
      "metadata": {
        "id": "9m3OIs3IOsut",
        "outputId": "342682e5-1e49-497b-8b75-3db2a551f52a",
        "colab": {
          "base_uri": "https://localhost:8080/",
          "height": 404
        }
      },
      "execution_count": null,
      "outputs": [
        {
          "output_type": "display_data",
          "data": {
            "text/plain": [
              "<Figure size 576x432 with 1 Axes>"
            ],
            "image/png": "[encoded data removed]"
          },
          "metadata": {
            "needs_background": "light"
          }
        }
      ]
    },
    {
      "cell_type": "code",
      "source": [],
      "metadata": {
        "id": "EGKUBynfOskl"
      },
      "execution_count": null,
      "outputs": []
    },
    {
      "cell_type": "code",
      "source": [],
      "metadata": {
        "id": "kddtdCbZOsfy"
      },
      "execution_count": null,
      "outputs": []
    },
    {
      "cell_type": "code",
      "source": [],
      "metadata": {
        "id": "CBLOuhfLOsbi"
      },
      "execution_count": null,
      "outputs": []
    },
    {
      "cell_type": "markdown",
      "source": [
        "## Evaluation of the trained model"
      ],
      "metadata": {
        "id": "Fv-yHHLi3yQD"
      }
    },
    {
      "cell_type": "code",
      "source": [
        "if train_dataset == 'SASSE_16/train':\n",
        "  dataset_name = 'SASSE_16/test'\n",
        "  dataset_path = '/content/SASSE_16/test'\n",
        "elif train_dataset == 'SASSE_48/train':\n",
        "  dataset_name = 'SASSE_48/test'\n",
        "  dataset_path = '/content/SASSE_48/test'\n",
        "else:\n",
        "  raise Exception(\"train_dataset not properly defined\")"
      ],
      "metadata": {
        "id": "vm5Lwootcn4P"
      },
      "execution_count": null,
      "outputs": []
    },
    {
      "cell_type": "code",
      "source": [
        "samplerate = 16000\n",
        "frame_size = frame_size # this must be 1024 for crepe\n",
        "eval_step_size = 32\n",
        "hop_size = int(samplerate * eval_step_size / 1000)\n",
        "model_capacity = model_size # other options: 'full' 'large' 'medium' 'small' 'tiny'\n",
        "attack_length = 0.05 # 20 ms"
      ],
      "metadata": {
        "id": "jdm-8jZQozt1"
      },
      "execution_count": null,
      "outputs": []
    },
    {
      "cell_type": "code",
      "source": [
        "def steelpan_crepe_pred(file_path, model_samplerate, frame_size=1024,\n",
        "                        step_size=10, onset=True, onset_length=0.05,\n",
        "                        threshold_pow=1e-06):\n",
        "  \n",
        "  audio, _ = librosa.load(file_path, sr=model_samplerate)\n",
        "  audio = audio.astype(np.float32)\n",
        "\n",
        "  # Format the audio into frames\n",
        "  hop_length = int(samplerate * step_size / 1000)\n",
        "  n_frames = 1 + int((len(audio) - frame_size) / hop_length)\n",
        "  frames = as_strided(audio, shape=(frame_size, n_frames),\n",
        "                      strides=(audio.itemsize, hop_length * audio.itemsize))\n",
        "  frames = frames.transpose().copy()\n",
        "\n",
        "  # Find the first frame where the levels meet threshold_pow\n",
        "  for f in range(len(frames)):\n",
        "    if frame_energy(frames[f]) > threshold_pow:\n",
        "      start_frame = f\n",
        "      break\n",
        "  \n",
        "  # truncate to onset or when audio dips below threshold\n",
        "  if onset:\n",
        "    end_frame = f + int(onset_length * 1000 / step_size)\n",
        "  else:\n",
        "    for f in range(len(frames) - 1, -1, -1):\n",
        "      if frame_energy(frames[f]) > threshold_pow:\n",
        "        end_frame = f + 1\n",
        "        break\n",
        "\n",
        "  frames = frames[start_frame:end_frame]\n",
        "\n",
        "  # normalize each frame\n",
        "  frames -= np.mean(frames, axis=1)[:, np.newaxis]\n",
        "  frames /= np.std(frames, axis=1)[:, np.newaxis]\n",
        "\n",
        "  # get model activations\n",
        "  activations = model(frames).numpy()\n",
        "  cents = []\n",
        "  \n",
        "  # prep cents mapping\n",
        "  # Replaced the number from Crepe because that calibrates predictions to be\n",
        "  # about 50 cents flat. I wonder if they set their bins up differently than\n",
        "  # I did...\n",
        "  cents_mapping = (np.linspace(0, 7180, 360) + 2051.1487628680297) #1997.3794084376191)\n",
        "\n",
        "  for i in range(activations.shape[0]):\n",
        "    salience = activations[i, :]\n",
        "\n",
        "    # convert to local average in cents\n",
        "    center = int(np.argmax(salience))\n",
        "    start = max(0, center - 4)\n",
        "    end = min(len(salience), center + 5)\n",
        "    salience = salience[start:end]\n",
        "    product_sum = np.sum(salience * cents_mapping[start:end])\n",
        "    weight_sum = np.sum(salience)\n",
        "    ratio = product_sum / weight_sum\n",
        "    cents.append(ratio)\n",
        "\n",
        "  cents = np.array(cents)\n",
        "  frequency = 10 * 2 ** (cents / 1200)\n",
        "  frequency[np.isnan(frequency)] = 0\n",
        "\n",
        "  return frequency"
      ],
      "metadata": {
        "id": "WWaDfiAsyrJS"
      },
      "execution_count": null,
      "outputs": []
    },
    {
      "cell_type": "code",
      "source": [
        "model_prediction = steelpan_crepe_pred(\n",
        "    '/content/SASSE_16/validation/60_valid_sample_1.wav',\n",
        "    model_samplerate=samplerate, frame_size=frame_size, step_size=10,\n",
        "    onset=onset)\n",
        "print(librosa.hz_to_midi(model_prediction))"
      ],
      "metadata": {
        "id": "_1e6ZAm_P1uG",
        "colab": {
          "base_uri": "https://localhost:8080/"
        },
        "outputId": "e065d0d4-2add-44c1-f733-3cc5d9c744cd"
      },
      "execution_count": null,
      "outputs": [
        {
          "output_type": "stream",
          "name": "stdout",
          "text": [
            "[60.11166516 60.07547543 60.0547462  60.02609845 60.00824902 60.00162532\n",
            " 60.00313811 60.00222345 60.00122038 60.00189072 60.00558696 59.99750109\n",
            " 59.999882   59.99681739 60.0023014  60.00654282 60.00476613 60.00931017\n",
            " 60.00977223 60.01068912 60.00289296 60.00551182 60.00949292 60.00292293\n",
            " 60.00379247 59.99738518 59.99298649 59.99965868 59.99886252 59.9986234\n",
            " 60.00176444 59.99886584 59.99626901 60.00295973 59.9971317  60.00078625\n",
            " 59.99624418 59.99446655 59.99275227 59.9968968  60.00191709 60.00168603\n",
            " 60.00194842 60.00056013 60.00703169 60.00866259 60.00431253 60.00201328\n",
            " 60.01085838 60.00308844 60.00835882 60.01243861 60.02613911 60.02888064\n",
            " 60.0332157  60.02360711 60.034858   60.01464183 60.01545818 60.01365632\n",
            " 60.00329837 60.0018433  59.99413331 59.99433705 59.99234914 59.99236024\n",
            " 59.98940675 59.98865928 59.99205347 59.99375374 60.00085906 60.00158885\n",
            " 60.0010113  59.99886436 60.00314156 60.00480666 60.00167191 60.00875562\n",
            " 60.00307536 60.01001386 60.00677461 60.00890431 60.00244083 59.99540226\n",
            " 60.00237833 60.00287171 60.00395392 60.01278605 60.01117821 60.01174738\n",
            " 60.00885704 60.00885979 60.02238876 60.00888704 60.01875605 60.01908147\n",
            " 60.01096793 60.01314357 60.00504278 59.9994984  60.00147893 59.99954218\n",
            " 59.99443489 60.00950519 60.01437186 60.0192395  59.98673669 59.98142564\n",
            " 60.00105205 60.00649581 60.01629909 60.02098246 60.03977338 60.0201123\n",
            " 60.0186526  60.02657245 60.00120882 60.00895211 60.00813068 60.00245181\n",
            " 60.0054535  59.99407101 59.99494619 59.99866741 59.98895741 60.01362173\n",
            " 60.00803388 60.02421205 60.02212284 60.00476195 60.0080937  60.0166506\n",
            " 59.99130393 60.03143876 60.05331729 60.06953416 60.03547385 60.01728227\n",
            " 60.03412301 60.02218022 60.02392081 60.01942548 60.02310653 60.01415277\n",
            " 60.00035759 60.00357553 60.00426431 59.99880401 60.00835597 59.99795728\n",
            " 60.00325529 60.00129565 60.0032569  59.99666062 60.004151   60.00744733\n",
            " 60.01292763 60.00503646 60.02569761 60.03757853 60.02633405 60.05164394\n",
            " 60.05204566 60.06586716 60.09385146 60.12111458 60.0990727  60.10598886\n",
            " 60.07955518 60.07096956 60.06771071 60.06142832 60.01851558 60.02213583\n",
            " 60.01150262 60.01140876 60.01274666 60.00155086 60.00572722 60.02497738\n",
            " 60.02095272 60.04291374 60.03772937 60.04272232 60.03342331 60.03122254\n",
            " 60.03023861]\n"
          ]
        }
      ]
    },
    {
      "cell_type": "code",
      "source": [
        "def process_folder_model(directory, samplerate, frame_size, \n",
        "                         onset=True, onset_length=0.05,\n",
        "                         step_size=10):\n",
        "  folder_pitches = []\n",
        "  folder_targets = []\n",
        "  file_count = 0\n",
        "  count = 0\n",
        "\n",
        "  for (dir_path, _, filenames) in os.walk(directory):\n",
        "    num_files = len(filenames)\n",
        "    for filename in filenames:\n",
        "      file_path = os.path.join(dir_path, filename)\n",
        "\n",
        "      # in my formatting, the target is given by the first numbers in the filename\n",
        "      target = float(filename.split(\"_\")[0])\n",
        "      estimations = steelpan_crepe_pred(file_path, model_samplerate=samplerate,\n",
        "                                        frame_size=frame_size,\n",
        "                                        step_size=step_size,\n",
        "                                        onset=onset,\n",
        "                                        onset_length=onset_length,\n",
        "                                        threshold_pow=1e-06)\n",
        "      \n",
        "      folder_pitches.append(estimations)\n",
        "      targets = [target for _ in range(len(estimations))]\n",
        "      folder_targets.append(targets)\n",
        "\n",
        "      file_count += 1\n",
        "      if file_count % 100 == 0:\n",
        "        print(f'Progress: {file_count}/{num_files}')\n",
        "\n",
        "  folder_pitches = np.concatenate(folder_pitches)\n",
        "  folder_targets = np.concatenate(folder_targets)\n",
        "  print(f\"Num files processed: {file_count}\")\n",
        "  return folder_pitches, folder_targets"
      ],
      "metadata": {
        "id": "ek8QrRzTtOhv"
      },
      "execution_count": null,
      "outputs": []
    },
    {
      "cell_type": "code",
      "source": [
        "if samplerate == 16000:\n",
        "  model_estimates, model_targets = process_folder_model(\n",
        "      dataset_path,\n",
        "      samplerate=model_samplerate,\n",
        "      frame_size=frame_size,\n",
        "      onset=onset,\n",
        "      onset_length=attack_length,\n",
        "      step_size=eval_step_size)\n",
        "elif samplerate == 48000:\n",
        "  model_estimates, model_targets = process_folder_model(\n",
        "      dataset_path,\n",
        "      samplerate=model_samplerate,\n",
        "      frame_size=frame_size,\n",
        "      onset=onset,\n",
        "      onset_length=attack_length,\n",
        "      step_size=eval_step_size)"
      ],
      "metadata": {
        "colab": {
          "base_uri": "https://localhost:8080/"
        },
        "id": "3k1olDK1tOd5",
        "outputId": "58a12578-189f-4a0f-df3d-149d68805141"
      },
      "execution_count": null,
      "outputs": [
        {
          "output_type": "stream",
          "name": "stdout",
          "text": [
            "Progress: 100/2702\n",
            "Progress: 200/2702\n",
            "Progress: 300/2702\n",
            "Progress: 400/2702\n",
            "Progress: 500/2702\n",
            "Progress: 600/2702\n",
            "Progress: 700/2702\n",
            "Progress: 800/2702\n",
            "Progress: 900/2702\n",
            "Progress: 1000/2702\n",
            "Progress: 1100/2702\n",
            "Progress: 1200/2702\n",
            "Progress: 1300/2702\n",
            "Progress: 1400/2702\n",
            "Progress: 1500/2702\n",
            "Progress: 1600/2702\n",
            "Progress: 1700/2702\n",
            "Progress: 1800/2702\n",
            "Progress: 1900/2702\n",
            "Progress: 2000/2702\n",
            "Progress: 2100/2702\n",
            "Progress: 2200/2702\n",
            "Progress: 2300/2702\n",
            "Progress: 2400/2702\n",
            "Progress: 2500/2702\n",
            "Progress: 2600/2702\n",
            "Progress: 2700/2702\n",
            "Num files processed: 2702\n"
          ]
        }
      ]
    },
    {
      "cell_type": "code",
      "source": [
        "print(model_estimates.shape, model_targets.shape)"
      ],
      "metadata": {
        "colab": {
          "base_uri": "https://localhost:8080/"
        },
        "id": "kD9E7yxMtOad",
        "outputId": "fb64a71e-b48a-40b3-e52a-725a7dd10f81"
      },
      "execution_count": null,
      "outputs": [
        {
          "output_type": "stream",
          "name": "stdout",
          "text": [
            "(73277,) (73277,)\n"
          ]
        }
      ]
    },
    {
      "cell_type": "markdown",
      "source": [
        "### Raw pitch accuracy"
      ],
      "metadata": {
        "id": "67tRZa08pdVK"
      }
    },
    {
      "cell_type": "code",
      "source": [
        "model_rpa_50_matches = np.where(np.abs(librosa.hz_to_midi(model_estimates) - model_targets) < 0.5)\n",
        "model_rpa_25_matches = np.where(np.abs(librosa.hz_to_midi(model_estimates) - model_targets) < 0.25)\n",
        "model_rpa_10_matches = np.where(np.abs(librosa.hz_to_midi(model_estimates) - model_targets) < 0.1)"
      ],
      "metadata": {
        "id": "9oRhzmpQG7dp"
      },
      "execution_count": null,
      "outputs": []
    },
    {
      "cell_type": "code",
      "source": [
        "model_rpa_50 = model_rpa_50_matches[0].shape[0] / len(model_targets)\n",
        "print(f\"50 cent accuracy: {model_rpa_50}\")\n",
        "model_rpa_25 = model_rpa_25_matches[0].shape[0] / len(model_targets)\n",
        "print(f\"25 cent accuracy: {model_rpa_25}\")\n",
        "model_rpa_10 = model_rpa_10_matches[0].shape[0] / len(model_targets)\n",
        "print(f\"10 cent accuracy: {model_rpa_10}\")"
      ],
      "metadata": {
        "id": "G7HRC1YXIN3d",
        "colab": {
          "base_uri": "https://localhost:8080/"
        },
        "outputId": "e842141f-c882-45af-e9d5-541ef91b19b2"
      },
      "execution_count": null,
      "outputs": [
        {
          "output_type": "stream",
          "name": "stdout",
          "text": [
            "50 cent accuracy: 0.9993313045020948\n",
            "25 cent accuracy: 0.9993040108083028\n",
            "10 cent accuracy: 0.9894100468086848\n"
          ]
        }
      ]
    },
    {
      "cell_type": "code",
      "source": [
        "model_rpa_50_conf_int = 1.64 * np.sqrt( (model_rpa_50 * (1 - model_rpa_50))  / len(model_targets))\n",
        "print(f\"50 cent rpa std: {model_rpa_50_conf_int}\")\n",
        "model_rpa_25_conf_int = 1.64 * np.sqrt( (model_rpa_25 * (1 - model_rpa_25))  / len(model_targets))\n",
        "print(f\"25 cent rpa std: {model_rpa_25_conf_int}\")\n",
        "model_rpa_10_conf_int = 1.64 * np.sqrt( (model_rpa_10 * (1 - model_rpa_10))  / len(model_targets))\n",
        "print(f\"10 cent rpa std: {model_rpa_10_conf_int}\")"
      ],
      "metadata": {
        "id": "vbBRrpoDsyZp",
        "outputId": "916e1ef7-38a7-47a2-9e68-defa31e2b2af",
        "colab": {
          "base_uri": "https://localhost:8080/"
        }
      },
      "execution_count": null,
      "outputs": [
        {
          "output_type": "stream",
          "name": "stdout",
          "text": [
            "50 cent rpa std: 0.00015661341274835825\n",
            "25 cent rpa std: 0.00015977545779253957\n",
            "10 cent rpa std: 0.0006201477693791285\n"
          ]
        }
      ]
    },
    {
      "cell_type": "markdown",
      "source": [
        "### Raw chroma accuracy"
      ],
      "metadata": {
        "id": "hK0r16tMp_vL"
      }
    },
    {
      "cell_type": "code",
      "source": [
        "# offset by -0.5 to account for [11.5,12.5] is the octave error range\n",
        "model_rca_50_matches = np.where(np.fmod( np.abs(librosa.hz_to_midi(model_estimates) - model_targets + 0.5), 12 ) < 1.0)\n",
        "model_rca_25_matches = np.where(np.fmod( np.abs(librosa.hz_to_midi(model_estimates) - model_targets + 0.25), 12 ) < 0.5)\n",
        "model_rca_10_matches = np.where(np.fmod( np.abs(librosa.hz_to_midi(model_estimates) - model_targets + 0.1), 12 ) < 0.2)"
      ],
      "metadata": {
        "id": "Qv6_Bdkiydge"
      },
      "execution_count": null,
      "outputs": []
    },
    {
      "cell_type": "code",
      "source": [
        "model_rca_50 = model_rca_50_matches[0].shape[0] / len(model_targets)\n",
        "print(f\"50 cent accuracy: {model_rca_50}\")\n",
        "model_rca_25 = model_rca_25_matches[0].shape[0] / len(model_targets)\n",
        "print(f\"25 cent accuracy: {model_rca_25}\")\n",
        "model_rca_10 = model_rca_10_matches[0].shape[0] / len(model_targets)\n",
        "print(f\"10 cent accuracy: {model_rca_10}\")"
      ],
      "metadata": {
        "id": "wk8yb1t2qJFR",
        "outputId": "87455451-4eb6-4343-89f6-1bc2a966c3ae",
        "colab": {
          "base_uri": "https://localhost:8080/"
        }
      },
      "execution_count": null,
      "outputs": [
        {
          "output_type": "stream",
          "name": "stdout",
          "text": [
            "50 cent accuracy: 0.999426832430367\n",
            "25 cent accuracy: 0.9993995387365749\n",
            "10 cent accuracy: 0.9964791135008256\n"
          ]
        }
      ]
    },
    {
      "cell_type": "code",
      "source": [
        "model_rca_50_conf_int = 1.64 * np.sqrt( (model_rca_50 * (1 - model_rca_50))  / len(model_targets))\n",
        "print(f\"50 cent rca std: {model_rca_50_conf_int}\")\n",
        "model_rca_25_conf_int = 1.64 * np.sqrt( (model_rca_25 * (1 - model_rca_25))  / len(model_targets))\n",
        "print(f\"25 cent rca std: {model_rca_25_conf_int}\")\n",
        "model_rca_10_conf_int = 1.64 * np.sqrt( (model_rca_10 * (1 - model_rca_10))  / len(model_targets))\n",
        "print(f\"10 cent rca std: {model_rca_10_conf_int}\")"
      ],
      "metadata": {
        "id": "HY2urMfs41om",
        "outputId": "ec87abd1-a040-4585-fc5a-7c4461a1a73d",
        "colab": {
          "base_uri": "https://localhost:8080/"
        }
      },
      "execution_count": null,
      "outputs": [
        {
          "output_type": "stream",
          "name": "stdout",
          "text": [
            "50 cent rca std: 0.00014500277546135575\n",
            "25 cent rca std: 0.00014841304576065952\n",
            "10 cent rca std: 0.00035885592431644586\n"
          ]
        }
      ]
    },
    {
      "cell_type": "markdown",
      "source": [
        "## Collate data"
      ],
      "metadata": {
        "id": "XKS-KCxXbe3x"
      }
    },
    {
      "cell_type": "code",
      "source": [
        "if onset:\n",
        "  model_data = {\n",
        "      'train_dataset': [train_dataset],\n",
        "      'model_capacity': [model_capacity],\n",
        "      'train_step_size': [train_step_size],\n",
        "      'compensate': [compensate],\n",
        "      'model_samplerate': [model_samplerate],\n",
        "      'eval_dataset': [dataset_name],\n",
        "      'frame_length': [frame_size],\n",
        "      'eval_step_size': [eval_step_size],\n",
        "      'smp_length': [attack_length],\n",
        "      'frames_analyzed': [model_estimates.shape[0]],\n",
        "      'rpa50': [model_rpa_50],\n",
        "      'rpa50_std': [model_rpa_50_conf_int],\n",
        "      'rpa25': [model_rpa_25],\n",
        "      'rpa25_std': [model_rpa_25_conf_int],\n",
        "      'rpa10': [model_rpa_10],\n",
        "      'rpa10_std': [model_rpa_10_conf_int],\n",
        "      'rca50': [model_rca_50],\n",
        "      'rca50_std': [model_rca_50_conf_int],\n",
        "      'rca25': [model_rca_25],\n",
        "      'rca25_std': [model_rca_25_conf_int],\n",
        "      'rca10': [model_rca_10],\n",
        "      'rca10_std': [model_rca_10_conf_int],\n",
        "  }\n",
        "else:\n",
        "  model_data = {\n",
        "      'train_dataset': [train_dataset],\n",
        "      'model_capacity': [model_capacity],\n",
        "      'train_step_size': [train_step_size],\n",
        "      'compensate': [compensate],\n",
        "      'model_samplerate': [model_samplerate],\n",
        "      'eval_dataset': [dataset_name],\n",
        "      'frame_length': [frame_size],\n",
        "      'eval_step_size': [eval_step_size],\n",
        "      'smp_length': ['full'],\n",
        "      'frames_analyzed': [model_estimates.shape[0]],\n",
        "      'rpa50': [model_rpa_50],\n",
        "      'rpa50_std': [model_rpa_50_conf_int],\n",
        "      'rpa25': [model_rpa_25],\n",
        "      'rpa25_std': [model_rpa_25_conf_int],\n",
        "      'rpa10': [model_rpa_10],\n",
        "      'rpa10_std': [model_rpa_10_conf_int],\n",
        "      'rca50': [model_rca_50],\n",
        "      'rca50_std': [model_rca_50_conf_int],\n",
        "      'rca25': [model_rca_25],\n",
        "      'rca25_std': [model_rca_25_conf_int],\n",
        "      'rca10': [model_rca_10],\n",
        "      'rca10_std': [model_rca_10_conf_int],\n",
        "  }"
      ],
      "metadata": {
        "id": "xbiJZMFsbhUg"
      },
      "execution_count": null,
      "outputs": []
    },
    {
      "cell_type": "code",
      "source": [
        "model_data"
      ],
      "metadata": {
        "id": "wjkWLVULbhFj",
        "outputId": "5ac2da45-baef-4258-9fc7-b56467046891",
        "colab": {
          "base_uri": "https://localhost:8080/"
        }
      },
      "execution_count": null,
      "outputs": [
        {
          "output_type": "execute_result",
          "data": {
            "text/plain": [
              "{'train_dataset': ['SASSE_16/train'],\n",
              " 'model_capacity': ['medium'],\n",
              " 'train_step_size': [4],\n",
              " 'compensate': [False],\n",
              " 'model_samplerate': [16000],\n",
              " 'eval_dataset': ['SASSE_16/test'],\n",
              " 'frame_length': [128],\n",
              " 'eval_step_size': [5],\n",
              " 'smp_length': ['full'],\n",
              " 'frames_analyzed': [489741],\n",
              " 'rpa50': [0.981792416808068],\n",
              " 'rpa50_std': [0.0003133261226075393],\n",
              " 'rpa25': [0.976130240269857],\n",
              " 'rpa25_std': [0.0003577161299749535],\n",
              " 'rpa10': [0.9487953836823954],\n",
              " 'rpa10_std': [0.0005165370237474396],\n",
              " 'rca50': [0.992222419605465],\n",
              " 'rca50_std': [0.00020586730944998738],\n",
              " 'rca25': [0.988079413404228],\n",
              " 'rca25_std': [0.0002543345466876934],\n",
              " 'rca10': [0.9703578013684785],\n",
              " 'rca10_std': [0.0003974493340898432]}"
            ]
          },
          "metadata": {},
          "execution_count": 87
        }
      ]
    },
    {
      "cell_type": "code",
      "source": [
        "model_eval_df = pd.DataFrame.from_dict(model_data)"
      ],
      "metadata": {
        "id": "vclXazPubg7g"
      },
      "execution_count": null,
      "outputs": []
    },
    {
      "cell_type": "code",
      "source": [
        "model_eval_df.head()"
      ],
      "metadata": {
        "id": "7xrDl_QUbgxE",
        "outputId": "bd068273-efe4-48dd-d217-8236f1e4d2e0",
        "colab": {
          "base_uri": "https://localhost:8080/",
          "height": 173
        }
      },
      "execution_count": null,
      "outputs": [
        {
          "output_type": "execute_result",
          "data": {
            "text/plain": [
              "    train_dataset model_capacity  train_step_size  compensate  \\\n",
              "0  SASSE_16/train         medium                4       False   \n",
              "\n",
              "   model_samplerate   eval_dataset  frame_length  eval_step_size smp_length  \\\n",
              "0             16000  SASSE_16/test           128               5       full   \n",
              "\n",
              "   frames_analyzed  ...    rpa25  rpa25_std     rpa10  rpa10_std     rca50  \\\n",
              "0           489741  ...  0.97613   0.000358  0.948795   0.000517  0.992222   \n",
              "\n",
              "   rca50_std     rca25  rca25_std     rca10  rca10_std  \n",
              "0   0.000206  0.988079   0.000254  0.970358   0.000397  \n",
              "\n",
              "[1 rows x 22 columns]"
            ],
            "text/html": [
              "\n",
              "  <div id=\"df-5111b998-6a5c-41fd-9a06-1f2f3924172c\">\n",
              "    <div class=\"colab-df-container\">\n",
              "      <div>\n",
              "<style scoped>\n",
              "    .dataframe tbody tr th:only-of-type {\n",
              "        vertical-align: middle;\n",
              "    }\n",
              "\n",
              "    .dataframe tbody tr th {\n",
              "        vertical-align: top;\n",
              "    }\n",
              "\n",
              "    .dataframe thead th {\n",
              "        text-align: right;\n",
              "    }\n",
              "</style>\n",
              "<table border=\"1\" class=\"dataframe\">\n",
              "  <thead>\n",
              "    <tr style=\"text-align: right;\">\n",
              "      <th></th>\n",
              "      <th>train_dataset</th>\n",
              "      <th>model_capacity</th>\n",
              "      <th>train_step_size</th>\n",
              "      <th>compensate</th>\n",
              "      <th>model_samplerate</th>\n",
              "      <th>eval_dataset</th>\n",
              "      <th>frame_length</th>\n",
              "      <th>eval_step_size</th>\n",
              "      <th>smp_length</th>\n",
              "      <th>frames_analyzed</th>\n",
              "      <th>...</th>\n",
              "      <th>rpa25</th>\n",
              "      <th>rpa25_std</th>\n",
              "      <th>rpa10</th>\n",
              "      <th>rpa10_std</th>\n",
              "      <th>rca50</th>\n",
              "      <th>rca50_std</th>\n",
              "      <th>rca25</th>\n",
              "      <th>rca25_std</th>\n",
              "      <th>rca10</th>\n",
              "      <th>rca10_std</th>\n",
              "    </tr>\n",
              "  </thead>\n",
              "  <tbody>\n",
              "    <tr>\n",
              "      <th>0</th>\n",
              "      <td>SASSE_16/train</td>\n",
              "      <td>medium</td>\n",
              "      <td>4</td>\n",
              "      <td>False</td>\n",
              "      <td>16000</td>\n",
              "      <td>SASSE_16/test</td>\n",
              "      <td>128</td>\n",
              "      <td>5</td>\n",
              "      <td>full</td>\n",
              "      <td>489741</td>\n",
              "      <td>...</td>\n",
              "      <td>0.97613</td>\n",
              "      <td>0.000358</td>\n",
              "      <td>0.948795</td>\n",
              "      <td>0.000517</td>\n",
              "      <td>0.992222</td>\n",
              "      <td>0.000206</td>\n",
              "      <td>0.988079</td>\n",
              "      <td>0.000254</td>\n",
              "      <td>0.970358</td>\n",
              "      <td>0.000397</td>\n",
              "    </tr>\n",
              "  </tbody>\n",
              "</table>\n",
              "<p>1 rows × 22 columns</p>\n",
              "</div>\n",
              "      <button class=\"colab-df-convert\" onclick=\"convertToInteractive('df-5111b998-6a5c-41fd-9a06-1f2f3924172c')\"\n",
              "              title=\"Convert this dataframe to an interactive table.\"\n",
              "              style=\"display:none;\">\n",
              "        \n",
              "  <svg xmlns=\"http://www.w3.org/2000/svg\" height=\"24px\"viewBox=\"0 0 24 24\"\n",
              "       width=\"24px\">\n",
              "    <path d=\"M0 0h24v24H0V0z\" fill=\"none\"/>\n",
              "    <path d=\"M18.56 5.44l.94 2.06.94-2.06 2.06-.94-2.06-.94-.94-2.06-.94 2.06-2.06.94zm-11 1L8.5 8.5l.94-2.06 2.06-.94-2.06-.94L8.5 2.5l-.94 2.06-2.06.94zm10 10l.94 2.06.94-2.06 2.06-.94-2.06-.94-.94-2.06-.94 2.06-2.06.94z\"/><path d=\"M17.41 7.96l-1.37-1.37c-.4-.4-.92-.59-1.43-.59-.52 0-1.04.2-1.43.59L10.3 9.45l-7.72 7.72c-.78.78-.78 2.05 0 2.83L4 21.41c.39.39.9.59 1.41.59.51 0 1.02-.2 1.41-.59l7.78-7.78 2.81-2.81c.8-.78.8-2.07 0-2.86zM5.41 20L4 18.59l7.72-7.72 1.47 1.35L5.41 20z\"/>\n",
              "  </svg>\n",
              "      </button>\n",
              "      \n",
              "  <style>\n",
              "    .colab-df-container {\n",
              "      display:flex;\n",
              "      flex-wrap:wrap;\n",
              "      gap: 12px;\n",
              "    }\n",
              "\n",
              "    .colab-df-convert {\n",
              "      background-color: #E8F0FE;\n",
              "      border: none;\n",
              "      border-radius: 50%;\n",
              "      cursor: pointer;\n",
              "      display: none;\n",
              "      fill: #1967D2;\n",
              "      height: 32px;\n",
              "      padding: 0 0 0 0;\n",
              "      width: 32px;\n",
              "    }\n",
              "\n",
              "    .colab-df-convert:hover {\n",
              "      background-color: #E2EBFA;\n",
              "      box-shadow: 0px 1px 2px rgba(60, 64, 67, 0.3), 0px 1px 3px 1px rgba(60, 64, 67, 0.15);\n",
              "      fill: #174EA6;\n",
              "    }\n",
              "\n",
              "    [theme=dark] .colab-df-convert {\n",
              "      background-color: #3B4455;\n",
              "      fill: #D2E3FC;\n",
              "    }\n",
              "\n",
              "    [theme=dark] .colab-df-convert:hover {\n",
              "      background-color: #434B5C;\n",
              "      box-shadow: 0px 1px 3px 1px rgba(0, 0, 0, 0.15);\n",
              "      filter: drop-shadow(0px 1px 2px rgba(0, 0, 0, 0.3));\n",
              "      fill: #FFFFFF;\n",
              "    }\n",
              "  </style>\n",
              "\n",
              "      <script>\n",
              "        const buttonEl =\n",
              "          document.querySelector('#df-5111b998-6a5c-41fd-9a06-1f2f3924172c button.colab-df-convert');\n",
              "        buttonEl.style.display =\n",
              "          google.colab.kernel.accessAllowed ? 'block' : 'none';\n",
              "\n",
              "        async function convertToInteractive(key) {\n",
              "          const element = document.querySelector('#df-5111b998-6a5c-41fd-9a06-1f2f3924172c');\n",
              "          const dataTable =\n",
              "            await google.colab.kernel.invokeFunction('convertToInteractive',\n",
              "                                                     [key], {});\n",
              "          if (!dataTable) return;\n",
              "\n",
              "          const docLinkHtml = 'Like what you see? Visit the ' +\n",
              "            '<a target=\"_blank\" href=https://colab.research.google.com/notebooks/data_table.ipynb>data table notebook</a>'\n",
              "            + ' to learn more about interactive tables.';\n",
              "          element.innerHTML = '';\n",
              "          dataTable['output_type'] = 'display_data';\n",
              "          await google.colab.output.renderOutput(dataTable, element);\n",
              "          const docLink = document.createElement('div');\n",
              "          docLink.innerHTML = docLinkHtml;\n",
              "          element.appendChild(docLink);\n",
              "        }\n",
              "      </script>\n",
              "    </div>\n",
              "  </div>\n",
              "  "
            ]
          },
          "metadata": {},
          "execution_count": 89
        }
      ]
    },
    {
      "cell_type": "code",
      "source": [],
      "metadata": {
        "id": "pkirtKKYbgm7"
      },
      "execution_count": null,
      "outputs": []
    },
    {
      "cell_type": "markdown",
      "source": [
        "### Save to dataframe\n",
        "\n",
        "**TODO:**\n",
        "- Set this up to load the model eval csv from Github\n",
        "- Append new data and then output a new csv file for upload to Github"
      ],
      "metadata": {
        "id": "RW2AsHrnsezC"
      }
    },
    {
      "cell_type": "code",
      "source": [
        "model_eval_df.to_csv('steelpan_pitch_onset_model_eval.csv')"
      ],
      "metadata": {
        "id": "OH09tudTs5XF"
      },
      "execution_count": null,
      "outputs": []
    },
    {
      "cell_type": "code",
      "source": [
        "pd.DataFrame.from_dict(model.history.history).to_csv(\n",
        "    f'steelpan_onset_size-{model_size}_compensate-{compensate}_samplerate-{samplerate}_frame_size-{frame_size}_history.csv', index=False)"
      ],
      "metadata": {
        "id": "W6LrXyEZuv7k"
      },
      "execution_count": null,
      "outputs": []
    },
    {
      "cell_type": "code",
      "source": [],
      "metadata": {
        "id": "ecvDTugFyE-i"
      },
      "execution_count": null,
      "outputs": []
    },
    {
      "cell_type": "markdown",
      "source": [
        "# Generalization\n",
        "\n",
        "This section is to show that Steelpan-Pitch generalizes to othe steelpan audio."
      ],
      "metadata": {
        "id": "L2lkZYNCO7eM"
      }
    },
    {
      "cell_type": "code",
      "source": [
        "sr = 16000\n",
        "narell_audio, _ = librosa.load('/content/Andy Narell Tenor Pan 2.wav', sr=sr)"
      ],
      "metadata": {
        "id": "eJKfGiZSO_Oo"
      },
      "execution_count": 14,
      "outputs": []
    },
    {
      "cell_type": "code",
      "source": [
        "# plot the audio file\n",
        "fig, ax = plt.subplots(figsize=(12,8))\n",
        "display.waveshow(narell_audio, sr=sr, ax=ax)\n",
        "ax.set(title='Steelpan hits - full file')\n",
        "\n",
        "plt.show()"
      ],
      "metadata": {
        "colab": {
          "base_uri": "https://localhost:8080/",
          "height": 513
        },
        "id": "PDtxqaUDPGQv",
        "outputId": "3f848c93-0450-41e3-fe82-df1393565ee3"
      },
      "execution_count": 15,
      "outputs": [
        {
          "output_type": "display_data",
          "data": {
            "text/plain": [
              "<Figure size 864x576 with 1 Axes>"
            ],
            "image/png": "[encoded data removed]"
          },
          "metadata": {
            "needs_background": "light"
          }
        }
      ]
    },
    {
      "cell_type": "code",
      "source": [
        "non_mute_sections = librosa.effects.split(narell_audio, top_db=30,\n",
        "                                          frame_length=4096,\n",
        "                                          hop_length=1024)"
      ],
      "metadata": {
        "id": "ASRjeezLPGKU"
      },
      "execution_count": 16,
      "outputs": []
    },
    {
      "cell_type": "code",
      "source": [
        "print(len(non_mute_sections))"
      ],
      "metadata": {
        "colab": {
          "base_uri": "https://localhost:8080/"
        },
        "id": "9qpG4PKlPGDt",
        "outputId": "dc5986a3-1255-4de7-b345-e1a4e051bc7f"
      },
      "execution_count": 17,
      "outputs": [
        {
          "output_type": "stream",
          "name": "stdout",
          "text": [
            "232\n"
          ]
        }
      ]
    },
    {
      "cell_type": "code",
      "source": [
        "rand_i = np.random.randint(232, size=3)\n",
        "r1 = rand_i[0]\n",
        "r2 = rand_i[1]\n",
        "r3 = rand_i[2]\n",
        "\n",
        "split_1, _ = librosa.effects.trim(\n",
        "    narell_audio[non_mute_sections[0][0]:non_mute_sections[0][1]],\n",
        "    top_db=24,\n",
        "    frame_length=128,\n",
        "    hop_length=64\n",
        "    )\n",
        "split_2, _ = librosa.effects.trim(\n",
        "    narell_audio[non_mute_sections[10][0]:non_mute_sections[10][1]],\n",
        "    top_db=24,\n",
        "    frame_length=128,\n",
        "    hop_length=64\n",
        "    )\n",
        "split_3, _ = librosa.effects.trim(\n",
        "    narell_audio[non_mute_sections[231][0]:non_mute_sections[231][1]],\n",
        "    top_db=24,\n",
        "    frame_length=128,\n",
        "    hop_length=64\n",
        "    )\n",
        "\n",
        "# plot a few of the hits\n",
        "fig, ax = plt.subplots(nrows=3, figsize=(12,16))\n",
        "display.waveshow(split_1, sr=sr, ax=ax[0])\n",
        "ax[0].set(title='Split 1')\n",
        "\n",
        "display.waveshow(split_2, sr=sr, ax=ax[1])\n",
        "ax[1].set(title='Split 2')\n",
        "\n",
        "display.waveshow(split_3, sr=sr, ax=ax[2])\n",
        "ax[2].set(title='Split 3')\n",
        "\n",
        "plt.show()"
      ],
      "metadata": {
        "colab": {
          "base_uri": "https://localhost:8080/",
          "height": 948
        },
        "id": "iRK5nL2nPF7M",
        "outputId": "9382a477-a2d6-4d7a-d073-26fb0a236250"
      },
      "execution_count": 18,
      "outputs": [
        {
          "output_type": "display_data",
          "data": {
            "text/plain": [
              "<Figure size 864x1152 with 3 Axes>"
            ],
            "image/png": "[encoded data removed]"
          },
          "metadata": {
            "needs_background": "light"
          }
        }
      ]
    },
    {
      "cell_type": "markdown",
      "source": [
        "## Evaluation\n",
        "\n",
        "We have now isolated the non-mute sections of the audio file and trimmed leading and trailing silence from each section. We can now apply this to the entire file to generate our generalization dataset."
      ],
      "metadata": {
        "id": "sEFJc7-mWDFX"
      }
    },
    {
      "cell_type": "code",
      "source": [
        "def steelpan_crepe_pred_audio(audio, model_samplerate, frame_size=1024,\n",
        "                        step_size=10, onset=True, onset_length=0.05,\n",
        "                        threshold_pow=1e-06):\n",
        "  \n",
        "  audio = audio.astype(np.float32)\n",
        "\n",
        "  # Format the audio into frames\n",
        "  hop_length = int(samplerate * step_size / 1000)\n",
        "  n_frames = 1 + int((len(audio) - frame_size) / hop_length)\n",
        "  frames = as_strided(audio, shape=(frame_size, n_frames),\n",
        "                      strides=(audio.itemsize, hop_length * audio.itemsize))\n",
        "  frames = frames.transpose().copy()\n",
        "\n",
        "  # Find the first frame where the levels meet threshold_pow\n",
        "  for f in range(len(frames)):\n",
        "    if frame_energy(frames[f]) > threshold_pow:\n",
        "      start_frame = f\n",
        "      break\n",
        "  \n",
        "  # truncate to onset or when audio dips below threshold\n",
        "  if onset:\n",
        "    end_frame = f + int(onset_length * 1000 / step_size)\n",
        "  else:\n",
        "    for f in range(len(frames) - 1, -1, -1):\n",
        "      if frame_energy(frames[f]) > threshold_pow:\n",
        "        end_frame = f + 1\n",
        "        break\n",
        "\n",
        "  frames = frames[start_frame:end_frame]\n",
        "\n",
        "  # normalize each frame\n",
        "  frames -= np.mean(frames, axis=1)[:, np.newaxis]\n",
        "  frames /= np.std(frames, axis=1)[:, np.newaxis]\n",
        "\n",
        "  # get model activations\n",
        "  activations = model(frames).numpy()\n",
        "  cents = []\n",
        "  \n",
        "  # prep cents mapping\n",
        "  # Replaced the number from Crepe because that calibrates predictions to be\n",
        "  # about 50 cents flat. I wonder if they set their bins up differently than\n",
        "  # I did...\n",
        "  cents_mapping = (np.linspace(0, 7180, 360) + 2051.1487628680297) #1997.3794084376191)\n",
        "\n",
        "  for i in range(activations.shape[0]):\n",
        "    salience = activations[i, :]\n",
        "\n",
        "    # convert to local average in cents\n",
        "    center = int(np.argmax(salience))\n",
        "    start = max(0, center - 4)\n",
        "    end = min(len(salience), center + 5)\n",
        "    salience = salience[start:end]\n",
        "    product_sum = np.sum(salience * cents_mapping[start:end])\n",
        "    weight_sum = np.sum(salience)\n",
        "    ratio = product_sum / weight_sum\n",
        "    cents.append(ratio)\n",
        "\n",
        "  cents = np.array(cents)\n",
        "  frequency = 10 * 2 ** (cents / 1200)\n",
        "  frequency[np.isnan(frequency)] = 0\n",
        "\n",
        "  return frequency"
      ],
      "metadata": {
        "id": "dBp-75f5a_gD"
      },
      "execution_count": 36,
      "outputs": []
    },
    {
      "cell_type": "code",
      "source": [
        "def split_andy_narell_dataset(x, splits, samplerate=16000, step_size=10,\n",
        "                              onset=False, onset_length=0.05):\n",
        "  \n",
        "  # organize by target\n",
        "\n",
        "  full_estimations = []\n",
        "  full_targets = []\n",
        "\n",
        "  split_count = 0\n",
        "\n",
        "  for idx in range(len(splits)):\n",
        "    # split audio\n",
        "    split_audio = x[splits[idx][0]:splits[idx][1]]\n",
        "    # trim silence\n",
        "    split_audio, _ = librosa.effects.trim(split_audio, top_db=24,\n",
        "                                          frame_length=128, hop_length=64)\n",
        "    \n",
        "    # calculate target\n",
        "    target = (idx // 8) + 60 # 8 hits per note, starting at midi note 60, moving upwards chromatically\n",
        "\n",
        "    # get predictions for audio split\n",
        "    '''split_estimations =steelpan_crepe_pred_audio(split_audio,\n",
        "                                                 model_samplerate=samplerate,\n",
        "                                                 frame_size=frame_size,\n",
        "                                                 step_size=step_size,\n",
        "                                                 onset=onset,\n",
        "                                                 onset_length=onset_length,\n",
        "                                                 threshold_pow=1e-06)'''\n",
        "\n",
        "    '''split_estimations, _, _ = librosa.pyin(split_audio, fmin=librosa.note_to_hz('C2'),\n",
        "                                     fmax=librosa.note_to_hz('C7'),\n",
        "                                     sr=samplerate, frame_length=1024,\n",
        "                                     hop_length=512)'''\n",
        "\n",
        "    times, split_estimations, _, _ = crepe.predict(split_audio, sr=samplerate,\n",
        "                                          model_capacity='full',\n",
        "                                          viterbi=True, step_size=step_size,\n",
        "                                          verbose=0)\n",
        "\n",
        "    # remove nans\n",
        "    split_estimations = split_estimations[~np.isnan(split_estimations)]\n",
        "    \n",
        "    full_estimations.append(split_estimations)\n",
        "    targets = [target for _ in range(len(split_estimations))]\n",
        "    full_targets.append(targets)\n",
        "\n",
        "    split_count += 1\n",
        "    if split_count % 25 == 0:\n",
        "      print(f'Progress: {split_count}/{len(splits)} processed')\n",
        "\n",
        "  full_estimations = np.concatenate(full_estimations)\n",
        "  full_targets = np.concatenate(full_targets)\n",
        "  print(f'Progress: {split_count}/{len(splits)}')\n",
        "\n",
        "  return full_estimations, full_targets"
      ],
      "metadata": {
        "id": "hPrtC0M4PF0T"
      },
      "execution_count": 52,
      "outputs": []
    },
    {
      "cell_type": "markdown",
      "source": [
        "### Raw pitch accuracy"
      ],
      "metadata": {
        "id": "KYphAa0TprKO"
      }
    },
    {
      "cell_type": "code",
      "source": [
        "est, targets = split_andy_narell_dataset(narell_audio, non_mute_sections)"
      ],
      "metadata": {
        "colab": {
          "base_uri": "https://localhost:8080/"
        },
        "id": "Q13MgdCrPFwT",
        "outputId": "ef71bddb-bb2f-4656-b85e-5c482e6fc334"
      },
      "execution_count": 53,
      "outputs": [
        {
          "output_type": "stream",
          "name": "stdout",
          "text": [
            "Progress: 25/232 processed\n",
            "Progress: 50/232 processed\n",
            "Progress: 75/232 processed\n",
            "Progress: 100/232 processed\n",
            "Progress: 125/232 processed\n",
            "Progress: 150/232 processed\n",
            "Progress: 175/232 processed\n",
            "Progress: 200/232 processed\n",
            "Progress: 225/232 processed\n",
            "Progress: 232/232\n"
          ]
        }
      ]
    },
    {
      "cell_type": "code",
      "source": [
        "print(est.shape)\n",
        "print(targets.shape)"
      ],
      "metadata": {
        "colab": {
          "base_uri": "https://localhost:8080/"
        },
        "id": "aiwJNbpnPFsq",
        "outputId": "1155a1ef-7881-4eb5-9764-7f7b2771b411"
      },
      "execution_count": 54,
      "outputs": [
        {
          "output_type": "stream",
          "name": "stdout",
          "text": [
            "(13994,)\n",
            "(13994,)\n"
          ]
        }
      ]
    },
    {
      "cell_type": "code",
      "source": [
        "i = 250\n",
        "\n",
        "print(np.round(librosa.hz_to_midi(est[i*48:(i+1)*48]),2))\n",
        "print(targets[i*48:(i+1)*48])"
      ],
      "metadata": {
        "colab": {
          "base_uri": "https://localhost:8080/"
        },
        "id": "OwKnvT6Qq0pH",
        "outputId": "a24fa737-9866-4453-f24f-e082b87d7bec"
      },
      "execution_count": 55,
      "outputs": [
        {
          "output_type": "stream",
          "name": "stdout",
          "text": [
            "[83.03 83.02 83.01 82.98 82.98 82.99 82.97 82.96 82.97 83.07 83.1  83.06\n",
            " 82.99 82.93 82.97 83.02 83.01 82.98 82.95 82.96 83.02 83.07 83.1  83.02\n",
            " 82.8  83.03 83.01 83.01 83.02 83.02 83.03 83.03 83.02 83.02 83.02 83.01\n",
            " 83.   82.94 82.98 82.99 82.97 82.99 83.03 83.06 83.03 82.98 82.96 83.  ]\n",
            "[83 83 83 83 83 83 83 83 83 83 83 83 83 83 83 83 83 83 83 83 83 83 83 83\n",
            " 83 83 83 83 83 83 83 83 83 83 83 83 83 83 83 83 83 83 83 83 83 83 83 83]\n"
          ]
        }
      ]
    },
    {
      "cell_type": "code",
      "source": [
        "narell_rpa_50_matches = np.where(np.abs(librosa.hz_to_midi(est) - targets) < 0.5)\n",
        "narell_rpa_25_matches = np.where(np.abs(librosa.hz_to_midi(est) - targets) < 0.25)\n",
        "narell_rpa_10_matches = np.where(np.abs(librosa.hz_to_midi(est) - targets) < 0.1)"
      ],
      "metadata": {
        "id": "zT5Hn73HPFod"
      },
      "execution_count": 56,
      "outputs": []
    },
    {
      "cell_type": "code",
      "source": [
        "narell_rpa_50 = narell_rpa_50_matches[0].shape[0] / len(targets)\n",
        "print(f\"50 cent accuracy: {narell_rpa_50}\")\n",
        "narell_rpa_25 = narell_rpa_25_matches[0].shape[0] / len(targets)\n",
        "print(f\"25 cent accuracy: {narell_rpa_25}\")\n",
        "narell_rpa_10 = narell_rpa_10_matches[0].shape[0] / len(targets)\n",
        "print(f\"10 cent accuracy: {narell_rpa_10}\")"
      ],
      "metadata": {
        "colab": {
          "base_uri": "https://localhost:8080/"
        },
        "id": "zUZBscXOPFk9",
        "outputId": "6f5db047-ca11-4056-b20e-1690dca837e7"
      },
      "execution_count": 57,
      "outputs": [
        {
          "output_type": "stream",
          "name": "stdout",
          "text": [
            "50 cent accuracy: 0.8724453337144491\n",
            "25 cent accuracy: 0.8147063027011576\n",
            "10 cent accuracy: 0.6266256967271688\n"
          ]
        }
      ]
    },
    {
      "cell_type": "markdown",
      "source": [
        "File 1: in the 70s\n",
        "\n",
        "File 2: 87.9\n",
        "\n",
        "File 3: 82\n",
        "\n",
        "File 4: 85\n",
        "\n",
        "File 5: 84"
      ],
      "metadata": {
        "id": "dPmBpSR7Swtj"
      }
    },
    {
      "cell_type": "code",
      "source": [
        "narell_rpa_50_conf_int = 1.64 * np.sqrt( (narell_rpa_50 * (1 - narell_rpa_50))  / len(targets))\n",
        "print(f\"50 cent rpa std: {narell_rpa_50_conf_int}\")\n",
        "narell_rpa_25_conf_int = 1.64 * np.sqrt( (narell_rpa_25 * (1 - narell_rpa_25))  / len(targets))\n",
        "print(f\"25 cent rpa std: {narell_rpa_25_conf_int}\")\n",
        "narell_rpa_10_conf_int = 1.64 * np.sqrt( (narell_rpa_10 * (1 - narell_rpa_10))  / len(targets))\n",
        "print(f\"10 cent rpa std: {narell_rpa_10_conf_int}\")"
      ],
      "metadata": {
        "colab": {
          "base_uri": "https://localhost:8080/"
        },
        "id": "jsGi1Yo-PFgV",
        "outputId": "128ef3e6-a7af-4e1d-efe6-0db2c12e54c9"
      },
      "execution_count": 58,
      "outputs": [
        {
          "output_type": "stream",
          "name": "stdout",
          "text": [
            "50 cent rpa std: 0.004624770655804843\n",
            "25 cent rpa std: 0.0053864641647773295\n",
            "10 cent rpa std: 0.006705778840582562\n"
          ]
        }
      ]
    },
    {
      "cell_type": "markdown",
      "source": [
        "### Raw chorma accuracy\n",
        "\n"
      ],
      "metadata": {
        "id": "x6Ewc25dradF"
      }
    },
    {
      "cell_type": "code",
      "source": [
        "# offset by -0.5 to account for [11.5,12.5] is the octave error range\n",
        "narell_rca_50_matches = np.where(np.fmod( np.abs(librosa.hz_to_midi(est) - targets + 0.5), 12 ) < 1.0)\n",
        "narell_rca_25_matches = np.where(np.fmod( np.abs(librosa.hz_to_midi(est) - targets + 0.25), 12 ) < 0.5)\n",
        "narell_rca_10_matches = np.where(np.fmod( np.abs(librosa.hz_to_midi(est) - targets + 0.1), 12 ) < 0.2)"
      ],
      "metadata": {
        "id": "ML5CMv7vqpxD"
      },
      "execution_count": 59,
      "outputs": []
    },
    {
      "cell_type": "code",
      "source": [
        "narell_rca_50 = narell_rca_50_matches[0].shape[0] / len(targets)\n",
        "print(f\"50 cent accuracy: {narell_rca_50}\")\n",
        "narell_rca_25 = narell_rca_25_matches[0].shape[0] / len(targets)\n",
        "print(f\"25 cent accuracy: {narell_rca_25}\")\n",
        "narell_rca_10 = narell_rca_10_matches[0].shape[0] / len(targets)\n",
        "print(f\"10 cent accuracy: {narell_rca_10}\")"
      ],
      "metadata": {
        "colab": {
          "base_uri": "https://localhost:8080/"
        },
        "id": "qtGWA-L1rvOx",
        "outputId": "c9dc8fd9-29fe-40cc-cad3-5529dc954f95"
      },
      "execution_count": 60,
      "outputs": [
        {
          "output_type": "stream",
          "name": "stdout",
          "text": [
            "50 cent accuracy: 0.915678147777619\n",
            "25 cent accuracy: 0.8379305416607117\n",
            "10 cent accuracy: 0.662140917536087\n"
          ]
        }
      ]
    },
    {
      "cell_type": "code",
      "source": [
        "narell_rca_50_conf_int = 1.64 * np.sqrt( (narell_rca_50 * (1 - narell_rca_50))  / len(targets))\n",
        "print(f\"50 cent rpa std: {narell_rca_50_conf_int}\")\n",
        "narell_rca_25_conf_int = 1.64 * np.sqrt( (narell_rca_25 * (1 - narell_rca_25))  / len(targets))\n",
        "print(f\"25 cent rpa std: {narell_rca_25_conf_int}\")\n",
        "narell_rca_10_conf_int = 1.64 * np.sqrt( (narell_rca_10 * (1 - narell_rca_10))  / len(targets))\n",
        "print(f\"10 cent rpa std: {narell_rca_10_conf_int}\")"
      ],
      "metadata": {
        "colab": {
          "base_uri": "https://localhost:8080/"
        },
        "id": "xW8WG__Cr4M4",
        "outputId": "5e43a10d-4863-4c7d-8516-7a2f73bfc369"
      },
      "execution_count": 61,
      "outputs": [
        {
          "output_type": "stream",
          "name": "stdout",
          "text": [
            "50 cent rpa std: 0.0038522494973160537\n",
            "25 cent rpa std: 0.0051089013139596785\n",
            "10 cent rpa std: 0.006557162183560159\n"
          ]
        }
      ]
    },
    {
      "cell_type": "code",
      "source": [],
      "metadata": {
        "id": "0cR_8BK1sWHj"
      },
      "execution_count": 46,
      "outputs": []
    }
  ]
}