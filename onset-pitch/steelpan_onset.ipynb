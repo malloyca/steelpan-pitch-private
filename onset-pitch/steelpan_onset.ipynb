{
  "nbformat": 4,
  "nbformat_minor": 0,
  "metadata": {
    "colab": {
      "provenance": [],
      "authorship_tag": "ABX9TyNM7jwMibXvDS+PLxKaTmW0",
      "include_colab_link": true
    },
    "kernelspec": {
      "name": "python3",
      "display_name": "Python 3"
    },
    "language_info": {
      "name": "python"
    },
    "gpuClass": "standard"
  },
  "cells": [
    {
      "cell_type": "markdown",
      "metadata": {
        "id": "view-in-github",
        "colab_type": "text"
      },
      "source": [
        "<a href=\"https://colab.research.google.com/github/malloyca/steelpan-pitch/blob/main/onset-pitch/steelpan_onset.ipynb\" target=\"_parent\"><img src=\"https://colab.research.google.com/assets/colab-badge.svg\" alt=\"Open In Colab\"/></a>"
      ]
    },
    {
      "cell_type": "markdown",
      "source": [
        "# Steelpan Onset-based Pitch Detection\n",
        "\n",
        "For 183rd Meeting of the Acoustical Society of America, December 8, 2022."
      ],
      "metadata": {
        "id": "K4gWdZeIJnG9"
      }
    },
    {
      "cell_type": "markdown",
      "source": [
        "## Todo\n",
        "\n",
        "- Set up associated .csv file to store the performance based on `frame_length` and `hop_size` using pandas\n",
        "- Create chart of estimation data\n",
        "- Create a histogram of error amounts for each method (rounded to nearest MIDI integer / pitch class)\n",
        "  - This will give us insight into the kind of errors each method is making"
      ],
      "metadata": {
        "id": "bPcXtmgQXQ1B"
      }
    },
    {
      "cell_type": "code",
      "source": [
        "!pip install crepe\n",
        "import crepe"
      ],
      "metadata": {
        "colab": {
          "base_uri": "https://localhost:8080/"
        },
        "id": "42kLt07xu5Rx",
        "outputId": "c28b7377-de5d-4e61-dcc0-3be3599c5af6"
      },
      "execution_count": 1,
      "outputs": [
        {
          "output_type": "stream",
          "name": "stdout",
          "text": [
            "Looking in indexes: https://pypi.org/simple, https://us-python.pkg.dev/colab-wheels/public/simple/\n",
            "Collecting crepe\n",
            "  Downloading crepe-0.0.13.tar.gz (15 kB)\n",
            "Requirement already satisfied: numpy>=1.14.0 in /usr/local/lib/python3.8/dist-packages (from crepe) (1.21.6)\n",
            "Requirement already satisfied: scipy>=1.0.0 in /usr/local/lib/python3.8/dist-packages (from crepe) (1.7.3)\n",
            "Requirement already satisfied: matplotlib>=2.1.0 in /usr/local/lib/python3.8/dist-packages (from crepe) (3.2.2)\n",
            "Collecting resampy<0.3.0,>=0.2.0\n",
            "  Downloading resampy-0.2.2.tar.gz (323 kB)\n",
            "\u001b[K     |████████████████████████████████| 323 kB 12.9 MB/s \n",
            "\u001b[?25hRequirement already satisfied: h5py in /usr/local/lib/python3.8/dist-packages (from crepe) (3.1.0)\n",
            "Collecting hmmlearn<0.3.0,>=0.2.8\n",
            "  Downloading hmmlearn-0.2.8-cp38-cp38-manylinux_2_5_x86_64.manylinux1_x86_64.whl (217 kB)\n",
            "\u001b[K     |████████████████████████████████| 217 kB 66.8 MB/s \n",
            "\u001b[?25hRequirement already satisfied: imageio>=2.3.0 in /usr/local/lib/python3.8/dist-packages (from crepe) (2.9.0)\n",
            "Requirement already satisfied: scikit-learn>=0.16 in /usr/local/lib/python3.8/dist-packages (from crepe) (1.0.2)\n",
            "Requirement already satisfied: pillow in /usr/local/lib/python3.8/dist-packages (from imageio>=2.3.0->crepe) (7.1.2)\n",
            "Requirement already satisfied: cycler>=0.10 in /usr/local/lib/python3.8/dist-packages (from matplotlib>=2.1.0->crepe) (0.11.0)\n",
            "Requirement already satisfied: python-dateutil>=2.1 in /usr/local/lib/python3.8/dist-packages (from matplotlib>=2.1.0->crepe) (2.8.2)\n",
            "Requirement already satisfied: pyparsing!=2.0.4,!=2.1.2,!=2.1.6,>=2.0.1 in /usr/local/lib/python3.8/dist-packages (from matplotlib>=2.1.0->crepe) (3.0.9)\n",
            "Requirement already satisfied: kiwisolver>=1.0.1 in /usr/local/lib/python3.8/dist-packages (from matplotlib>=2.1.0->crepe) (1.4.4)\n",
            "Requirement already satisfied: six>=1.5 in /usr/local/lib/python3.8/dist-packages (from python-dateutil>=2.1->matplotlib>=2.1.0->crepe) (1.15.0)\n",
            "Requirement already satisfied: numba>=0.32 in /usr/local/lib/python3.8/dist-packages (from resampy<0.3.0,>=0.2.0->crepe) (0.56.4)\n",
            "Requirement already satisfied: setuptools in /usr/local/lib/python3.8/dist-packages (from numba>=0.32->resampy<0.3.0,>=0.2.0->crepe) (57.4.0)\n",
            "Requirement already satisfied: llvmlite<0.40,>=0.39.0dev0 in /usr/local/lib/python3.8/dist-packages (from numba>=0.32->resampy<0.3.0,>=0.2.0->crepe) (0.39.1)\n",
            "Requirement already satisfied: importlib-metadata in /usr/local/lib/python3.8/dist-packages (from numba>=0.32->resampy<0.3.0,>=0.2.0->crepe) (4.13.0)\n",
            "Requirement already satisfied: threadpoolctl>=2.0.0 in /usr/local/lib/python3.8/dist-packages (from scikit-learn>=0.16->crepe) (3.1.0)\n",
            "Requirement already satisfied: joblib>=0.11 in /usr/local/lib/python3.8/dist-packages (from scikit-learn>=0.16->crepe) (1.2.0)\n",
            "Requirement already satisfied: zipp>=0.5 in /usr/local/lib/python3.8/dist-packages (from importlib-metadata->numba>=0.32->resampy<0.3.0,>=0.2.0->crepe) (3.10.0)\n",
            "Building wheels for collected packages: crepe, resampy\n",
            "  Building wheel for crepe (setup.py) ... \u001b[?25l\u001b[?25hdone\n",
            "  Created wheel for crepe: filename=crepe-0.0.13-py3-none-any.whl size=134848712 sha256=46b69604433795108147f8d31d88999a36fe75282c595cd7e570c8e192a4afad\n",
            "  Stored in directory: /root/.cache/pip/wheels/d8/68/be/b163712f8f71a6939dbaf4c26bbda6612a1e609b795af7a15e\n",
            "  Building wheel for resampy (setup.py) ... \u001b[?25l\u001b[?25hdone\n",
            "  Created wheel for resampy: filename=resampy-0.2.2-py3-none-any.whl size=320730 sha256=b7b65adca574fbbf007b1d8def1eb32f07517fb66dd5f7a7147a89748ed97851\n",
            "  Stored in directory: /root/.cache/pip/wheels/6f/d1/5d/f13da53b1dcbc2624ff548456c9ffb526c914f53c12c318bb4\n",
            "Successfully built crepe resampy\n",
            "Installing collected packages: resampy, hmmlearn, crepe\n",
            "  Attempting uninstall: resampy\n",
            "    Found existing installation: resampy 0.4.2\n",
            "    Uninstalling resampy-0.4.2:\n",
            "      Successfully uninstalled resampy-0.4.2\n",
            "Successfully installed crepe-0.0.13 hmmlearn-0.2.8 resampy-0.2.2\n"
          ]
        }
      ]
    },
    {
      "cell_type": "code",
      "source": [
        "!pip install essentia\n",
        "import essentia.standard as es"
      ],
      "metadata": {
        "colab": {
          "base_uri": "https://localhost:8080/"
        },
        "id": "M8fjXLVCjCSn",
        "outputId": "41037c81-b715-4454-cf47-2e0adb89f724"
      },
      "execution_count": 2,
      "outputs": [
        {
          "output_type": "stream",
          "name": "stdout",
          "text": [
            "Looking in indexes: https://pypi.org/simple, https://us-python.pkg.dev/colab-wheels/public/simple/\n",
            "Collecting essentia\n",
            "  Downloading essentia-2.1b6.dev858-cp38-cp38-manylinux_2_17_x86_64.manylinux2014_x86_64.whl (13.6 MB)\n",
            "\u001b[K     |████████████████████████████████| 13.6 MB 12.6 MB/s \n",
            "\u001b[?25hRequirement already satisfied: pyyaml in /usr/local/lib/python3.8/dist-packages (from essentia) (6.0)\n",
            "Requirement already satisfied: six in /usr/local/lib/python3.8/dist-packages (from essentia) (1.15.0)\n",
            "Requirement already satisfied: numpy>=1.8.2 in /usr/local/lib/python3.8/dist-packages (from essentia) (1.21.6)\n",
            "Installing collected packages: essentia\n",
            "Successfully installed essentia-2.1b6.dev858\n"
          ]
        }
      ]
    },
    {
      "cell_type": "code",
      "execution_count": 3,
      "metadata": {
        "colab": {
          "base_uri": "https://localhost:8080/"
        },
        "id": "OlFNmf3yJlgL",
        "outputId": "2d171c3f-b746-479d-d786-abe0a2b6efdc"
      },
      "outputs": [
        {
          "output_type": "stream",
          "name": "stdout",
          "text": [
            "TensorFlow version: 2.9.2\n",
            "[PhysicalDevice(name='/physical_device:CPU:0', device_type='CPU')]\n"
          ]
        }
      ],
      "source": [
        "# imports\n",
        "import os\n",
        "from os import walk\n",
        "import numpy as np\n",
        "from numpy.lib.stride_tricks import as_strided\n",
        "import tensorflow as tf\n",
        "import pandas as pd\n",
        "import matplotlib.pyplot as plt\n",
        "import librosa\n",
        "from librosa import display\n",
        "\n",
        "print(f\"TensorFlow version: {tf.__version__}\")\n",
        "\n",
        "physical_devices = tf.config.list_physical_devices()\n",
        "print(physical_devices)"
      ]
    },
    {
      "cell_type": "code",
      "source": [
        "from google.colab import drive\n",
        "drive.mount('/content/drive')"
      ],
      "metadata": {
        "id": "KQNn9hhv2DJU",
        "outputId": "e9ba26d1-5f99-42b4-897c-67f30dcc0201",
        "colab": {
          "base_uri": "https://localhost:8080/"
        }
      },
      "execution_count": 4,
      "outputs": [
        {
          "output_type": "stream",
          "name": "stdout",
          "text": [
            "Mounted at /content/drive\n"
          ]
        }
      ]
    },
    {
      "cell_type": "code",
      "source": [
        "# download the tiny SASSE dataset # TODO: update dataset to newer version\n",
        "!gdown \"1hRfdF0ko2ItGK0y9z4xU_7VQLgRIx4Ql&confirm=t\"\n",
        "!unzip -u -qq '/content/SASSE_tiny_16.zip'"
      ],
      "metadata": {
        "id": "CB0UJjvHKDKv",
        "outputId": "40ddb13f-346e-4ca3-ea35-98218fb93b07",
        "colab": {
          "base_uri": "https://localhost:8080/"
        }
      },
      "execution_count": 5,
      "outputs": [
        {
          "output_type": "stream",
          "name": "stdout",
          "text": [
            "Downloading...\n",
            "From: https://drive.google.com/uc?id=1hRfdF0ko2ItGK0y9z4xU_7VQLgRIx4Ql&confirm=t\n",
            "To: /content/SASSE_tiny_16.zip\n",
            "100% 40.9M/40.9M [00:00<00:00, 76.9MB/s]\n"
          ]
        }
      ]
    },
    {
      "cell_type": "code",
      "source": [
        "# download the SASSE-16k dataset\n",
        "!gdown \"11volHbUTp1X0NyrtiEgjRtgwivwaw1Bs&confirm=t\"\n",
        "!unzip -u -qq '/content/SASSE_16.zip'"
      ],
      "metadata": {
        "colab": {
          "base_uri": "https://localhost:8080/"
        },
        "id": "d9X1Sy-x8q0d",
        "outputId": "c4ece45f-5708-46dd-883a-61ddb010adc0"
      },
      "execution_count": 6,
      "outputs": [
        {
          "output_type": "stream",
          "name": "stdout",
          "text": [
            "Downloading...\n",
            "From: https://drive.google.com/uc?id=11volHbUTp1X0NyrtiEgjRtgwivwaw1Bs&confirm=t\n",
            "To: /content/SASSE_16.zip\n",
            "100% 443M/443M [00:04<00:00, 102MB/s]\n"
          ]
        }
      ]
    },
    {
      "cell_type": "code",
      "source": [
        "# download the SASSE-48k dataset\n",
        "!gdown \"1U3IfVjQ_xCc7ZqVZpR9oPNAtPfA26CKs&confirm=t\"\n",
        "!unzip -u -qq '/content/SASSE_48.zip'"
      ],
      "metadata": {
        "colab": {
          "base_uri": "https://localhost:8080/"
        },
        "id": "KYt3WQQf9OZC",
        "outputId": "1fa3de56-6d6d-464e-867d-0c061a8d8ec0"
      },
      "execution_count": 7,
      "outputs": [
        {
          "output_type": "stream",
          "name": "stdout",
          "text": [
            "Downloading...\n",
            "From: https://drive.google.com/uc?id=1U3IfVjQ_xCc7ZqVZpR9oPNAtPfA26CKs&confirm=t\n",
            "To: /content/SASSE_48.zip\n",
            "100% 1.10G/1.10G [00:11<00:00, 93.4MB/s]\n"
          ]
        }
      ]
    },
    {
      "cell_type": "markdown",
      "source": [
        "# Steelpan Note Transients"
      ],
      "metadata": {
        "id": "Q45Fx-EZlF74"
      }
    },
    {
      "cell_type": "markdown",
      "source": [
        "Let's begin by examining the attack transients of a few steelpan samples."
      ],
      "metadata": {
        "id": "Q9u-xCH5lKho"
      }
    },
    {
      "cell_type": "code",
      "source": [
        "frame_length = 2048\n",
        "sr = 22050\n",
        "attack_time = es.LogAttackTime(sampleRate=sr, startAttackThreshold=0.1, stopAttackThreshold=0.95)"
      ],
      "metadata": {
        "id": "26qc-LMu69-s"
      },
      "execution_count": 8,
      "outputs": []
    },
    {
      "cell_type": "code",
      "source": [
        "audio_01, sr = librosa.load('/content/SASSE_48/validation/60_valid_sample_7.wav')\n",
        "\n",
        "lat, attack_start, attack_stop = attack_time(audio_01)\n",
        "start, stop = int(sr * attack_start), int(sr * attack_stop)\n",
        "\n",
        "#plot first 50 ms\n",
        "fig, ax = plt.subplots()\n",
        "librosa.display.waveshow(audio_01[:int(0.05*sr)], sr=sr, ax=ax)\n",
        "plt.show()"
      ],
      "metadata": {
        "id": "9vNHpUuXlKIs",
        "outputId": "0dcc220b-7931-47f0-cd8e-2f171ca1edb7",
        "colab": {
          "base_uri": "https://localhost:8080/",
          "height": 279
        }
      },
      "execution_count": 9,
      "outputs": [
        {
          "output_type": "display_data",
          "data": {
            "text/plain": [
              "<Figure size 432x288 with 1 Axes>"
            ],
            "image/png": "[encoded data removed]"
          },
          "metadata": {
            "needs_background": "light"
          }
        }
      ]
    },
    {
      "cell_type": "code",
      "source": [
        "print(f\"Attack length: {(attack_stop - attack_start) * 1000} ms\")\n",
        "print(f\"Number of samples: {int((attack_stop - attack_start)*sr)}\")\n",
        "fig, ax = plt.subplots()\n",
        "librosa.display.waveshow(audio_01[int(attack_start * sr) : int(attack_stop * sr)])\n",
        "plt.show()"
      ],
      "metadata": {
        "colab": {
          "base_uri": "https://localhost:8080/",
          "height": 313
        },
        "id": "Rqz6l84zrOw9",
        "outputId": "9aceebd4-5fee-4f04-ca58-99504f0ac370"
      },
      "execution_count": 10,
      "outputs": [
        {
          "output_type": "stream",
          "name": "stdout",
          "text": [
            "Attack length: 15.011338517069817 ms\n",
            "Number of samples: 331\n"
          ]
        },
        {
          "output_type": "display_data",
          "data": {
            "text/plain": [
              "<Figure size 432x288 with 1 Axes>"
            ],
            "image/png": "[encoded data removed]"
          },
          "metadata": {
            "needs_background": "light"
          }
        }
      ]
    },
    {
      "cell_type": "code",
      "source": [
        "audio = audio_01\n",
        "\n",
        "yin_out = librosa.yin(audio[:frame_length], fmin=librosa.note_to_hz('C2'), fmax=librosa.note_to_hz('C7'))\n",
        "yin_out = librosa.hz_to_midi(yin_out)\n",
        "print(\"Yin pitch estimations\")\n",
        "print(f\"50 ms: {np.round(yin_out,2)}\")\n",
        "\n",
        "yin_out = librosa.yin(audio[start:stop], fmin=librosa.note_to_hz('C2'), fmax=librosa.note_to_hz('C7'))\n",
        "yin_out = librosa.hz_to_midi(yin_out)\n",
        "print(f\"attack predictions: {np.round(yin_out, 2)}\")"
      ],
      "metadata": {
        "id": "xOUK5T5MnBaX",
        "outputId": "2ebc415e-8a9c-459f-b53e-1c3a3f7539f0",
        "colab": {
          "base_uri": "https://localhost:8080/"
        }
      },
      "execution_count": 11,
      "outputs": [
        {
          "output_type": "stream",
          "name": "stdout",
          "text": [
            "Yin pitch estimations\n",
            "50 ms: [60.68 60.91 60.68 60.43 60.42]\n",
            "attack predictions: [48.3]\n"
          ]
        }
      ]
    },
    {
      "cell_type": "code",
      "source": [
        "audio = audio_01\n",
        "\n",
        "pyin_out, _, _ = librosa.pyin(audio[:frame_length], fmin=librosa.note_to_hz('C2'), fmax=librosa.note_to_hz('C7'))\n",
        "pyin_out = librosa.hz_to_midi(pyin_out)\n",
        "print(\"pYin pitch estimations\")\n",
        "print(f\"50ms: {pyin_out}\")\n",
        "\n",
        "pyin_out, _, _ = librosa.pyin(audio[start:stop], fmin=librosa.note_to_hz('C2'), fmax=librosa.note_to_hz('C7'))\n",
        "pyin_out = librosa.hz_to_midi(pyin_out)\n",
        "print(f\"attack: {pyin_out}\")"
      ],
      "metadata": {
        "id": "GTzJ7im_oj6n",
        "outputId": "4c8fd389-1547-4022-8e64-11e438a089de",
        "colab": {
          "base_uri": "https://localhost:8080/"
        }
      },
      "execution_count": 12,
      "outputs": [
        {
          "output_type": "stream",
          "name": "stdout",
          "text": [
            "pYin pitch estimations\n",
            "50ms: [ nan 60.9 60.7 60.4 60.4]\n",
            "attack: [nan]\n"
          ]
        }
      ]
    },
    {
      "cell_type": "code",
      "source": [
        "audio = audio_01\n",
        "\n",
        "time, crepe_pred, _, _ = crepe.predict(audio, sr, viterbi=True)\n",
        "crepe_pred = librosa.hz_to_midi(crepe_pred)\n",
        "print(\"Crepe pitch estimations\")\n",
        "print(f\"50 ms: {np.round(crepe_pred,2)}\")\n",
        "\n",
        "time, crepe_pred, _, _ = crepe.predict(audio[start:stop], sr, viterbi=True)\n",
        "crepe_pred = librosa.hz_to_midi(crepe_pred)\n",
        "print(f\"attack: {np.round(crepe_pred,2)}\")"
      ],
      "metadata": {
        "colab": {
          "base_uri": "https://localhost:8080/"
        },
        "id": "174Pv228v1kA",
        "outputId": "d875e07e-de9e-4df5-ef8d-fa01eefef73a"
      },
      "execution_count": 13,
      "outputs": [
        {
          "output_type": "stream",
          "name": "stdout",
          "text": [
            "8/8 [==============================] - 10s 1s/step\n",
            "Crepe pitch estimations\n",
            "50 ms: [60.65 60.51 60.46 60.42 60.32 60.36 60.46 60.46 60.4  60.27 60.18 60.16\n",
            " 60.14 60.12 60.14 60.15 60.14 60.12 60.09 60.08 60.09 60.11 60.13 60.13\n",
            " 60.12 60.09 60.09 60.09 60.11 60.11 60.11 60.11 60.09 60.06 60.07 60.09\n",
            " 60.09 60.09 60.08 60.08 60.07 60.08 60.08 60.1  60.08 60.08 60.07 60.07\n",
            " 60.08 60.09 60.1  60.09 60.08 60.07 60.07 60.07 60.11 60.12 60.12 60.1\n",
            " 60.08 60.08 60.08 60.08 60.09 60.08 60.06 60.07 60.07 60.08 60.08 60.08\n",
            " 60.07 60.07 60.06 60.07 60.08 60.09 60.07 60.06 60.07 60.07 60.06 60.08\n",
            " 60.08 60.07 60.06 60.06 60.07 60.08 60.07 60.06 60.07 60.06 60.07 60.08\n",
            " 60.1  60.08 60.07 60.07 60.07 60.07 60.09 60.09 60.1  60.07 60.06 60.07\n",
            " 60.09 60.08 60.09 60.08 60.07 60.09 60.1  60.1  60.08 60.07 60.07 60.08\n",
            " 60.07 60.09 60.08 60.07 60.07 60.07 60.06 60.06 60.07 60.1  60.08 60.07\n",
            " 60.07 60.07 60.09 60.09 60.06 60.07 60.08 60.1  60.1  60.09 60.1  60.09\n",
            " 60.07 60.07 60.07 60.07 60.1  60.12 60.11 60.08 60.05 60.05 60.07 60.06\n",
            " 60.06 60.12 60.14 60.14 60.1  60.08 59.99 59.99 60.07 60.23 60.3  60.24\n",
            " 60.06 60.07 60.05 59.97 59.98 59.99 60.02 60.09 60.15 60.17 60.02 60.12\n",
            " 60.16 60.04 59.98 60.   60.02 60.06 60.12 59.91 59.78 59.77 59.75 60.01\n",
            " 60.11 60.17 60.33 60.24 60.08 60.14 59.73 59.44 59.93 59.74 59.86 58.18\n",
            " 56.11 56.18 57.01 58.6  59.93 60.73 60.   59.95 58.58 56.79 56.3  56.28\n",
            " 54.52 52.37 49.66 47.81 47.63 47.56 47.39 47.47 47.52 47.49 47.6  47.48\n",
            " 47.7  47.45 46.99 46.22 44.42 42.94 42.99]\n",
            "1/1 [==============================] - 0s 99ms/step\n",
            "attack: [60.86 60.67]\n"
          ]
        }
      ]
    },
    {
      "cell_type": "markdown",
      "source": [
        "### What this shows\n",
        "\n",
        "What the tests show for performing this on just the attack portion as determined by Essentia is that accuracy on such a small section is difficult and the algorithms clearly rely on longer contexts for accuracy."
      ],
      "metadata": {
        "id": "LvPWo1BbvSCt"
      }
    },
    {
      "cell_type": "code",
      "source": [
        "audio_rev = audio[::-1]\n",
        "\n",
        "time, crepe_pred, _, _ = crepe.predict(audio_rev, sr, viterbi=True)\n",
        "crepe_pred = librosa.hz_to_midi(crepe_pred)\n",
        "print(f\"50 ms: {np.round(crepe_pred,2)}\")\n",
        "\n",
        "#plot first 50 ms\n",
        "fig, ax = plt.subplots()\n",
        "librosa.display.waveshow(audio_rev, sr=sr, ax=ax)\n",
        "plt.show()"
      ],
      "metadata": {
        "colab": {
          "base_uri": "https://localhost:8080/",
          "height": 690
        },
        "id": "idDzTzZLytb8",
        "outputId": "fd625790-7736-4957-d60a-59dcd35c12c5"
      },
      "execution_count": null,
      "outputs": [
        {
          "output_type": "stream",
          "name": "stdout",
          "text": [
            "8/8 [==============================] - 12s 1s/step\n",
            "50 ms: [55.62 55.53 54.5  53.96 53.08 52.62 52.06 51.4  50.87 50.03 48.38 47.3\n",
            " 47.77 47.66 47.98 47.92 47.78 47.63 49.17 50.85 51.99 53.65 54.85 54.88\n",
            " 54.93 54.88 54.92 55.02 56.5  56.3  56.66 57.98 59.65 59.88 59.72 59.46\n",
            " 59.37 59.81 60.16 60.17 60.15 60.07 60.28 60.01 59.71 59.79 59.91 60.01\n",
            " 60.08 60.07 60.02 60.03 59.99 60.06 60.02 59.98 60.08 60.12 60.08 60.01\n",
            " 59.98 60.01 60.02 60.   59.95 60.1  60.27 60.36 60.27 60.09 60.01 59.98\n",
            " 60.03 60.05 60.11 60.15 60.11 60.11 60.08 60.07 60.04 60.02 60.04 60.07\n",
            " 60.09 60.11 60.1  60.07 60.05 60.06 60.06 60.07 60.07 60.07 60.08 60.08\n",
            " 60.07 60.06 60.05 60.07 60.06 60.05 60.05 60.06 60.07 60.08 60.06 60.05\n",
            " 60.04 60.05 60.06 60.06 60.07 60.07 60.07 60.07 60.06 60.04 60.08 60.08\n",
            " 60.1  60.08 60.08 60.06 60.08 60.06 60.08 60.06 60.06 60.05 60.06 60.07\n",
            " 60.07 60.06 60.06 60.05 60.05 60.06 60.07 60.06 60.06 60.05 60.06 60.05\n",
            " 60.06 60.06 60.05 60.05 60.05 60.05 60.06 60.06 60.06 60.06 60.05 60.04\n",
            " 60.05 60.06 60.07 60.07 60.06 60.05 60.05 60.06 60.07 60.07 60.07 60.06\n",
            " 60.05 60.06 60.07 60.06 60.08 60.07 60.06 60.07 60.09 60.1  60.11 60.08\n",
            " 60.07 60.06 60.06 60.07 60.08 60.08 60.08 60.05 60.06 60.07 60.06 60.08\n",
            " 60.08 60.07 60.06 60.06 60.06 60.09 60.07 60.09 60.07 60.07 60.06 60.08\n",
            " 60.09 60.11 60.1  60.09 60.09 60.09 60.1  60.12 60.12 60.12 60.11 60.08\n",
            " 60.09 60.1  60.13 60.15 60.15 60.15 60.15 60.15 60.18 60.25 60.33 60.49\n",
            " 60.5  60.41 60.37 60.35 60.39 60.35 60.33]\n"
          ]
        },
        {
          "output_type": "stream",
          "name": "stderr",
          "text": [
            "/usr/local/lib/python3.7/dist-packages/librosa/util/utils.py:200: UserWarning: librosa.util.frame called with axis=-1 on a non-contiguous input. This will result in a copy.\n",
            "  \"on a non-contiguous input. This will result in a copy.\".format(axis)\n"
          ]
        },
        {
          "output_type": "display_data",
          "data": {
            "text/plain": [
              "<Figure size 432x288 with 1 Axes>"
            ],
            "image/png": "[encoded data removed]"
          },
          "metadata": {
            "needs_background": "light"
          }
        }
      ]
    },
    {
      "cell_type": "markdown",
      "source": [
        "### Thoughts on bi-directional analysis\n",
        "\n",
        "Interestingly, what this cell shows is that doing pitch detection in reverse gives different results. My intuition is that this could be caused by one of two things:\n",
        "1. You are just catching the audio at different points. This would be similar to changing the start point of the analysis.\n",
        "  - I'm leaning against this, however, since you'd think that the results would still be similar. The beginnings and endings of the two prediction arrays vary quite a bit, however. This leads me to my second hypothesis:\n",
        "2. That since this is probabilistic (it uses the Viterbi algorithm) - and thus dependent on previous predictions - the direction of the processing affects the output values. The question then becomes, can we improve pitch detection results by performing bi-directional analysis?\n",
        "  - An initial test of this would be to analyze an annotated dataset both forwards and backwards and then combining/averaging that data somehow. Another intersting approach would be to build a pitch detection architecture that does the bi-directional analysis by default.\n",
        "  - The unfortunate limitation of this method would be that it really only works for offline analysis."
      ],
      "metadata": {
        "id": "Ww5c_rg8z_9O"
      }
    },
    {
      "cell_type": "code",
      "source": [
        "audio_02, sr = librosa.load('/content/SASSE_48/validation/65_valid_sample_33.wav')\n",
        "\n",
        "#plot first 50 ms\n",
        "fig, ax = plt.subplots()\n",
        "librosa.display.waveshow(audio_02[:int(0.05*sr)], sr=sr, ax=ax)\n",
        "plt.show()"
      ],
      "metadata": {
        "id": "pDCMR1I-lKFr",
        "outputId": "09d8e46b-91ef-4a07-d351-45ce44851070",
        "colab": {
          "base_uri": "https://localhost:8080/",
          "height": 279
        }
      },
      "execution_count": null,
      "outputs": [
        {
          "output_type": "display_data",
          "data": {
            "text/plain": [
              "<Figure size 432x288 with 1 Axes>"
            ],
            "image/png": "[encoded data removed]"
          },
          "metadata": {
            "needs_background": "light"
          }
        }
      ]
    },
    {
      "cell_type": "code",
      "source": [
        "yin_out = librosa.yin(audio_02[:frame_length], fmin=librosa.note_to_hz('C2'), fmax=librosa.note_to_hz('C7'))\n",
        "yin_out = librosa.hz_to_midi(yin_out)\n",
        "print(np.round(yin_out,2))"
      ],
      "metadata": {
        "id": "jfaYyAzNlKC4",
        "outputId": "797f0648-afc2-4624-916c-ff797aae3cb2",
        "colab": {
          "base_uri": "https://localhost:8080/"
        }
      },
      "execution_count": null,
      "outputs": [
        {
          "output_type": "stream",
          "name": "stdout",
          "text": [
            "[65.26 65.33 65.25 65.1  65.01]\n"
          ]
        }
      ]
    },
    {
      "cell_type": "code",
      "source": [
        "pyin_out, _, _ = librosa.pyin(audio_02[:frame_length], fmin=librosa.note_to_hz('C2'), fmax=librosa.note_to_hz('C7'))\n",
        "pyin_out = librosa.hz_to_midi(pyin_out)\n",
        "print(pyin_out)"
      ],
      "metadata": {
        "id": "t2W_wVsjlKAD",
        "outputId": "750b8f7c-7836-4d76-9ae6-cfdc81bddad0",
        "colab": {
          "base_uri": "https://localhost:8080/"
        }
      },
      "execution_count": null,
      "outputs": [
        {
          "output_type": "stream",
          "name": "stdout",
          "text": [
            "[ nan 65.3 65.2 65.1 65. ]\n"
          ]
        }
      ]
    },
    {
      "cell_type": "code",
      "source": [
        "time, crepe_pred, _, _ = crepe.predict(audio_02[:frame_length], sr, viterbi=True)\n",
        "crepe_pred = librosa.hz_to_midi(crepe_pred)\n",
        "print(np.round(crepe_pred,2))"
      ],
      "metadata": {
        "colab": {
          "base_uri": "https://localhost:8080/"
        },
        "id": "JmF0VMG5wTqt",
        "outputId": "2ba012d5-ec42-403e-db23-5dd548fb7824"
      },
      "execution_count": null,
      "outputs": [
        {
          "output_type": "stream",
          "name": "stdout",
          "text": [
            "1/1 [==============================] - 0s 354ms/step\n",
            "[65.04 65.02 65.07 65.04 64.99 65.01 65.01 65.   65.   64.98]\n"
          ]
        }
      ]
    },
    {
      "cell_type": "code",
      "source": [
        "audio_03, sr = librosa.load('/content/SASSE_48/validation/70_valid_sample_86.wav')\n",
        "\n",
        "#plot first 50 ms\n",
        "fig, ax = plt.subplots()\n",
        "librosa.display.waveshow(audio_03[:int(0.05*sr)], sr=sr, ax=ax)\n",
        "plt.show()"
      ],
      "metadata": {
        "id": "gGBFkOMRlJ9R",
        "outputId": "af1852a2-5b69-4077-a762-8d16c6bab54d",
        "colab": {
          "base_uri": "https://localhost:8080/",
          "height": 279
        }
      },
      "execution_count": null,
      "outputs": [
        {
          "output_type": "display_data",
          "data": {
            "text/plain": [
              "<Figure size 432x288 with 1 Axes>"
            ],
            "image/png": "[encoded data removed]"
          },
          "metadata": {
            "needs_background": "light"
          }
        }
      ]
    },
    {
      "cell_type": "code",
      "source": [
        "yin_out = librosa.yin(audio_03[:frame_length], fmin=librosa.note_to_hz('C2'), fmax=librosa.note_to_hz('C7'))\n",
        "yin_out = librosa.hz_to_midi(yin_out)\n",
        "print(np.round(yin_out,2))"
      ],
      "metadata": {
        "id": "Obrf-AQclJ6c",
        "outputId": "d63fd89f-5a80-41c5-d1ea-9eda901bc3a8",
        "colab": {
          "base_uri": "https://localhost:8080/"
        }
      },
      "execution_count": null,
      "outputs": [
        {
          "output_type": "stream",
          "name": "stdout",
          "text": [
            "[70.06 70.17 70.06 70.05 70.06]\n"
          ]
        }
      ]
    },
    {
      "cell_type": "code",
      "source": [
        "pyin_out, _, _ = librosa.pyin(audio_03[:frame_length], fmin=librosa.note_to_hz('C2'), fmax=librosa.note_to_hz('C7'))\n",
        "pyin_out = librosa.hz_to_midi(pyin_out)\n",
        "print(pyin_out)"
      ],
      "metadata": {
        "id": "oEShzD_4lJ3z",
        "outputId": "2fbc7359-8312-485f-b381-eabea9bbf0a7",
        "colab": {
          "base_uri": "https://localhost:8080/"
        }
      },
      "execution_count": null,
      "outputs": [
        {
          "output_type": "stream",
          "name": "stdout",
          "text": [
            "[ nan 70.2 70.1 70.  70.1]\n"
          ]
        }
      ]
    },
    {
      "cell_type": "code",
      "source": [
        "time, crepe_pred, _, _ = crepe.predict(audio_03[:frame_length], sr, viterbi=True)\n",
        "crepe_pred = librosa.hz_to_midi(crepe_pred)\n",
        "print(np.round(crepe_pred,2))"
      ],
      "metadata": {
        "colab": {
          "base_uri": "https://localhost:8080/"
        },
        "id": "_0idg-0KwcuL",
        "outputId": "884d44da-8028-42dd-e349-dcdc95104822"
      },
      "execution_count": null,
      "outputs": [
        {
          "output_type": "stream",
          "name": "stdout",
          "text": [
            "1/1 [==============================] - 0s 359ms/step\n",
            "[70.07 70.03 70.03 70.05 70.04 70.05 70.05 70.03 70.   70.  ]\n"
          ]
        }
      ]
    },
    {
      "cell_type": "code",
      "source": [
        "audio_04, sr = librosa.load('/content/SASSE_48/validation/71_valid_sample_19.wav')\n",
        "\n",
        "#plot first 50 ms\n",
        "fig, ax = plt.subplots()\n",
        "librosa.display.waveshow(audio_03[:int(0.05*sr)], sr=sr, ax=ax)\n",
        "plt.show()"
      ],
      "metadata": {
        "id": "JmSgai2slJ0-",
        "colab": {
          "base_uri": "https://localhost:8080/",
          "height": 279
        },
        "outputId": "b551218c-01e4-4836-d0f0-adde86861a1e"
      },
      "execution_count": null,
      "outputs": [
        {
          "output_type": "display_data",
          "data": {
            "text/plain": [
              "<Figure size 432x288 with 1 Axes>"
            ],
            "image/png": "[encoded data removed]"
          },
          "metadata": {
            "needs_background": "light"
          }
        }
      ]
    },
    {
      "cell_type": "code",
      "source": [
        "yin_out = librosa.yin(audio_04[:frame_length], fmin=librosa.note_to_hz('C2'), fmax=librosa.note_to_hz('C7'))\n",
        "yin_out = librosa.hz_to_midi(yin_out)\n",
        "print(np.round(yin_out,2))"
      ],
      "metadata": {
        "id": "lTGjyMNclJyK",
        "colab": {
          "base_uri": "https://localhost:8080/"
        },
        "outputId": "38f967e5-0320-470e-e69b-c7c221dc1780"
      },
      "execution_count": null,
      "outputs": [
        {
          "output_type": "stream",
          "name": "stdout",
          "text": [
            "[71.15 71.26 71.14 71.06 71.07]\n"
          ]
        }
      ]
    },
    {
      "cell_type": "code",
      "source": [
        "pyin_out, _, _ = librosa.pyin(audio_04[:frame_length], fmin=librosa.note_to_hz('C2'), fmax=librosa.note_to_hz('C7'))\n",
        "pyin_out = librosa.hz_to_midi(pyin_out)\n",
        "print(pyin_out)"
      ],
      "metadata": {
        "id": "rGR26feplJvM",
        "colab": {
          "base_uri": "https://localhost:8080/"
        },
        "outputId": "7df280b7-39f0-4828-e704-c9a897eb8755"
      },
      "execution_count": null,
      "outputs": [
        {
          "output_type": "stream",
          "name": "stdout",
          "text": [
            "[ nan 71.3 71.1 71.1 71.1]\n"
          ]
        }
      ]
    },
    {
      "cell_type": "code",
      "source": [
        "time, crepe_pred, _, _ = crepe.predict(audio_04[:frame_length], sr, viterbi=True)\n",
        "crepe_pred = librosa.hz_to_midi(crepe_pred)\n",
        "print(np.round(crepe_pred,2))"
      ],
      "metadata": {
        "id": "VEBNX-HwlJlV",
        "colab": {
          "base_uri": "https://localhost:8080/"
        },
        "outputId": "2a8e5f1c-95dd-4a7f-bcf1-8427cbe179bc"
      },
      "execution_count": null,
      "outputs": [
        {
          "output_type": "stream",
          "name": "stdout",
          "text": [
            "1/1 [==============================] - 0s 369ms/step\n",
            "[71.24 71.13 71.11 71.08 71.06 71.06 71.04 71.03 71.02 71.03]\n"
          ]
        }
      ]
    },
    {
      "cell_type": "markdown",
      "source": [
        "# Evaluating Yin, pYin, and CRéPE"
      ],
      "metadata": {
        "id": "MHoies5-tbjP"
      }
    },
    {
      "cell_type": "code",
      "source": [
        "# prep\n",
        "csv_path = '/content/drive/MyDrive/Research Projects/Steelpan pitch detection/onset-pitch/onset-pitch_evaluation.csv'\n",
        "evaluation_df = pd.read_csv(csv_path)"
      ],
      "metadata": {
        "id": "aTpfc-klXBna"
      },
      "execution_count": 14,
      "outputs": []
    },
    {
      "cell_type": "code",
      "source": [
        "evaluation_df.head()"
      ],
      "metadata": {
        "id": "Nz60Hawea0Ry",
        "outputId": "0bcd017d-c2a4-4e02-ce33-04f8c15b91c1",
        "colab": {
          "base_uri": "https://localhost:8080/",
          "height": 49
        }
      },
      "execution_count": 15,
      "outputs": [
        {
          "output_type": "execute_result",
          "data": {
            "text/plain": [
              "Empty DataFrame\n",
              "Columns: [Dataset, Algorithm, samplerate, frame length, hop size, 50 cent accuracy, 25 cent accuracy, 10 cent accuracy, frames analyzed]\n",
              "Index: []"
            ],
            "text/html": [
              "\n",
              "  <div id=\"df-7ee7fcbe-fa01-4139-b1ec-d7e7043b85b0\">\n",
              "    <div class=\"colab-df-container\">\n",
              "      <div>\n",
              "<style scoped>\n",
              "    .dataframe tbody tr th:only-of-type {\n",
              "        vertical-align: middle;\n",
              "    }\n",
              "\n",
              "    .dataframe tbody tr th {\n",
              "        vertical-align: top;\n",
              "    }\n",
              "\n",
              "    .dataframe thead th {\n",
              "        text-align: right;\n",
              "    }\n",
              "</style>\n",
              "<table border=\"1\" class=\"dataframe\">\n",
              "  <thead>\n",
              "    <tr style=\"text-align: right;\">\n",
              "      <th></th>\n",
              "      <th>Dataset</th>\n",
              "      <th>Algorithm</th>\n",
              "      <th>samplerate</th>\n",
              "      <th>frame length</th>\n",
              "      <th>hop size</th>\n",
              "      <th>50 cent accuracy</th>\n",
              "      <th>25 cent accuracy</th>\n",
              "      <th>10 cent accuracy</th>\n",
              "      <th>frames analyzed</th>\n",
              "    </tr>\n",
              "  </thead>\n",
              "  <tbody>\n",
              "  </tbody>\n",
              "</table>\n",
              "</div>\n",
              "      <button class=\"colab-df-convert\" onclick=\"convertToInteractive('df-7ee7fcbe-fa01-4139-b1ec-d7e7043b85b0')\"\n",
              "              title=\"Convert this dataframe to an interactive table.\"\n",
              "              style=\"display:none;\">\n",
              "        \n",
              "  <svg xmlns=\"http://www.w3.org/2000/svg\" height=\"24px\"viewBox=\"0 0 24 24\"\n",
              "       width=\"24px\">\n",
              "    <path d=\"M0 0h24v24H0V0z\" fill=\"none\"/>\n",
              "    <path d=\"M18.56 5.44l.94 2.06.94-2.06 2.06-.94-2.06-.94-.94-2.06-.94 2.06-2.06.94zm-11 1L8.5 8.5l.94-2.06 2.06-.94-2.06-.94L8.5 2.5l-.94 2.06-2.06.94zm10 10l.94 2.06.94-2.06 2.06-.94-2.06-.94-.94-2.06-.94 2.06-2.06.94z\"/><path d=\"M17.41 7.96l-1.37-1.37c-.4-.4-.92-.59-1.43-.59-.52 0-1.04.2-1.43.59L10.3 9.45l-7.72 7.72c-.78.78-.78 2.05 0 2.83L4 21.41c.39.39.9.59 1.41.59.51 0 1.02-.2 1.41-.59l7.78-7.78 2.81-2.81c.8-.78.8-2.07 0-2.86zM5.41 20L4 18.59l7.72-7.72 1.47 1.35L5.41 20z\"/>\n",
              "  </svg>\n",
              "      </button>\n",
              "      \n",
              "  <style>\n",
              "    .colab-df-container {\n",
              "      display:flex;\n",
              "      flex-wrap:wrap;\n",
              "      gap: 12px;\n",
              "    }\n",
              "\n",
              "    .colab-df-convert {\n",
              "      background-color: #E8F0FE;\n",
              "      border: none;\n",
              "      border-radius: 50%;\n",
              "      cursor: pointer;\n",
              "      display: none;\n",
              "      fill: #1967D2;\n",
              "      height: 32px;\n",
              "      padding: 0 0 0 0;\n",
              "      width: 32px;\n",
              "    }\n",
              "\n",
              "    .colab-df-convert:hover {\n",
              "      background-color: #E2EBFA;\n",
              "      box-shadow: 0px 1px 2px rgba(60, 64, 67, 0.3), 0px 1px 3px 1px rgba(60, 64, 67, 0.15);\n",
              "      fill: #174EA6;\n",
              "    }\n",
              "\n",
              "    [theme=dark] .colab-df-convert {\n",
              "      background-color: #3B4455;\n",
              "      fill: #D2E3FC;\n",
              "    }\n",
              "\n",
              "    [theme=dark] .colab-df-convert:hover {\n",
              "      background-color: #434B5C;\n",
              "      box-shadow: 0px 1px 3px 1px rgba(0, 0, 0, 0.15);\n",
              "      filter: drop-shadow(0px 1px 2px rgba(0, 0, 0, 0.3));\n",
              "      fill: #FFFFFF;\n",
              "    }\n",
              "  </style>\n",
              "\n",
              "      <script>\n",
              "        const buttonEl =\n",
              "          document.querySelector('#df-7ee7fcbe-fa01-4139-b1ec-d7e7043b85b0 button.colab-df-convert');\n",
              "        buttonEl.style.display =\n",
              "          google.colab.kernel.accessAllowed ? 'block' : 'none';\n",
              "\n",
              "        async function convertToInteractive(key) {\n",
              "          const element = document.querySelector('#df-7ee7fcbe-fa01-4139-b1ec-d7e7043b85b0');\n",
              "          const dataTable =\n",
              "            await google.colab.kernel.invokeFunction('convertToInteractive',\n",
              "                                                     [key], {});\n",
              "          if (!dataTable) return;\n",
              "\n",
              "          const docLinkHtml = 'Like what you see? Visit the ' +\n",
              "            '<a target=\"_blank\" href=https://colab.research.google.com/notebooks/data_table.ipynb>data table notebook</a>'\n",
              "            + ' to learn more about interactive tables.';\n",
              "          element.innerHTML = '';\n",
              "          dataTable['output_type'] = 'display_data';\n",
              "          await google.colab.output.renderOutput(dataTable, element);\n",
              "          const docLink = document.createElement('div');\n",
              "          docLink.innerHTML = docLinkHtml;\n",
              "          element.appendChild(docLink);\n",
              "        }\n",
              "      </script>\n",
              "    </div>\n",
              "  </div>\n",
              "  "
            ]
          },
          "metadata": {},
          "execution_count": 15
        }
      ]
    },
    {
      "cell_type": "markdown",
      "source": [
        "## YIN evaluation"
      ],
      "metadata": {
        "id": "jf-SZCZyVL4Q"
      }
    },
    {
      "cell_type": "code",
      "source": [
        "def get_yin_estimation(sample_path, samplerate, target, frame_size, hop_size,\n",
        "                       attack_length=0.05):\n",
        "  \n",
        "  # load sample\n",
        "  loader = es.MonoLoader(filename=sample_path, sampleRate=samplerate)\n",
        "  audio = loader()\n",
        "\n",
        "  # trim the sample to the first 50 ms\n",
        "  start_stop = es.StartStopSilence(threshold=-60)\n",
        "  start_frame, stop_frame = 0, 0\n",
        "  for frame in es.FrameGenerator(audio, frame_size, hop_size):\n",
        "    start_frame, stop_frame = start_stop(frame)\n",
        "\n",
        "  start_time = float(start_frame * hop_size) / float(samplerate)\n",
        "  frame_length = frame_size / samplerate\n",
        "  end_time = start_time + attack_length #+ frame_length # pad the attack length by frame_length\n",
        "  \n",
        "  # trim audio\n",
        "  trimmer = es.Trimmer(startTime=start_time, endTime=end_time,\n",
        "                       sampleRate=samplerate)\n",
        "  trimmed_audio = trimmer(audio)\n",
        "\n",
        "  # get yin pitch estimations\n",
        "  pitch_estimations = librosa.yin(trimmed_audio, fmin=librosa.note_to_hz('C2'),\n",
        "                                  fmax=librosa.note_to_hz('C7'), sr=samplerate,\n",
        "                                  frame_length=frame_size, hop_length=hop_size)\n",
        "  \n",
        "  # filter out NaNs\n",
        "  pitch_estimations = pitch_estimations[~np.isnan(pitch_estimations)]\n",
        "\n",
        "  # populate array of target values to match size of estimations array\n",
        "  targets = [float(target)] * pitch_estimations.shape[0]\n",
        "\n",
        "  return pitch_estimations, targets"
      ],
      "metadata": {
        "id": "Tcq1GWEGtpui"
      },
      "execution_count": 59,
      "outputs": []
    },
    {
      "cell_type": "code",
      "source": [
        "# test to make sure it's working\n",
        "get_yin_estimation('/content/SASSE_tiny_16/train/60_train_sample_101.wav',\n",
        "                   samplerate=16000, target=60, frame_size=1024, hop_size=512)"
      ],
      "metadata": {
        "id": "POXGvToRP0NJ",
        "outputId": "e6ae65ff-53a4-4d2b-dc70-eac887a1d7fb",
        "colab": {
          "base_uri": "https://localhost:8080/"
        }
      },
      "execution_count": 60,
      "outputs": [
        {
          "output_type": "execute_result",
          "data": {
            "text/plain": [
              "(array([261.16396013, 261.54450673]), [60.0, 60.0])"
            ]
          },
          "metadata": {},
          "execution_count": 60
        }
      ]
    },
    {
      "cell_type": "code",
      "source": [
        "def process_folder_yin(directory, samplerate, frame_size, hop_size,\n",
        "                        attack_length=0.05):\n",
        "  folder_pitches = []\n",
        "  folder_targets = []\n",
        "  file_count = 0\n",
        "  count = 0\n",
        "\n",
        "  for (dir_path, _, filenames) in os.walk(directory):\n",
        "    num_files = len(filenames)\n",
        "    for filename in filenames:\n",
        "      file_path = os.path.join(dir_path, filename)\n",
        "\n",
        "      # in my formatting, the target is given by the first numbers in the filename\n",
        "      target = filename.split(\"_\")[0]\n",
        "      pitches, targets = get_yin_estimation(file_path, samplerate=samplerate,\n",
        "                                            target=target,\n",
        "                                            frame_size=frame_size,\n",
        "                                            hop_size=hop_size,\n",
        "                                            attack_length=attack_length)\n",
        "      \n",
        "      folder_pitches.append(pitches)\n",
        "      folder_targets.append(targets)\n",
        "\n",
        "      file_count += 1\n",
        "      print(f'Progress: {file_count}/{num_files}')\n",
        "\n",
        "  folder_pitches = np.concatenate(folder_pitches)\n",
        "  folder_targets = np.concatenate(folder_targets)\n",
        "  print(f\"Num files processed: {file_count}\")\n",
        "  return folder_pitches, folder_targets"
      ],
      "metadata": {
        "id": "vDLvIvkDtpns"
      },
      "execution_count": 62,
      "outputs": []
    },
    {
      "cell_type": "code",
      "source": [
        "yin_estimates, yin_targets = process_folder_yin('/content/SASSE_tiny_16/validation', samplerate=16000,\n",
        "                                                frame_size=128, hop_size=64,\n",
        "                                                attack_length=0.02)"
      ],
      "metadata": {
        "id": "A_uI2AQHYU0u",
        "outputId": "c31530e0-91f1-40e3-e5f1-740bee2a6ffa",
        "colab": {
          "base_uri": "https://localhost:8080/"
        }
      },
      "execution_count": 91,
      "outputs": [
        {
          "output_type": "stream",
          "name": "stdout",
          "text": [
            "Progress: 1/300\n",
            "Progress: 2/300\n",
            "Progress: 3/300\n",
            "Progress: 4/300\n",
            "Progress: 5/300\n",
            "Progress: 6/300\n",
            "Progress: 7/300\n",
            "Progress: 8/300\n",
            "Progress: 9/300\n",
            "Progress: 10/300\n",
            "Progress: 11/300\n",
            "Progress: 12/300\n",
            "Progress: 13/300\n",
            "Progress: 14/300\n",
            "Progress: 15/300\n",
            "Progress: 16/300\n",
            "Progress: 17/300\n",
            "Progress: 18/300\n",
            "Progress: 19/300\n",
            "Progress: 20/300\n",
            "Progress: 21/300\n",
            "Progress: 22/300\n",
            "Progress: 23/300\n",
            "Progress: 24/300\n",
            "Progress: 25/300\n",
            "Progress: 26/300\n",
            "Progress: 27/300\n",
            "Progress: 28/300\n",
            "Progress: 29/300\n",
            "Progress: 30/300\n",
            "Progress: 31/300\n",
            "Progress: 32/300\n",
            "Progress: 33/300\n",
            "Progress: 34/300\n",
            "Progress: 35/300\n",
            "Progress: 36/300\n",
            "Progress: 37/300\n",
            "Progress: 38/300\n",
            "Progress: 39/300\n",
            "Progress: 40/300\n",
            "Progress: 41/300\n",
            "Progress: 42/300\n",
            "Progress: 43/300\n",
            "Progress: 44/300\n",
            "Progress: 45/300\n",
            "Progress: 46/300\n",
            "Progress: 47/300\n",
            "Progress: 48/300\n",
            "Progress: 49/300\n",
            "Progress: 50/300\n",
            "Progress: 51/300\n",
            "Progress: 52/300\n",
            "Progress: 53/300\n",
            "Progress: 54/300\n",
            "Progress: 55/300\n",
            "Progress: 56/300\n",
            "Progress: 57/300\n",
            "Progress: 58/300\n",
            "Progress: 59/300\n",
            "Progress: 60/300\n",
            "Progress: 61/300\n",
            "Progress: 62/300\n",
            "Progress: 63/300\n",
            "Progress: 64/300\n",
            "Progress: 65/300\n",
            "Progress: 66/300\n",
            "Progress: 67/300\n",
            "Progress: 68/300\n",
            "Progress: 69/300\n",
            "Progress: 70/300\n",
            "Progress: 71/300\n",
            "Progress: 72/300\n",
            "Progress: 73/300\n",
            "Progress: 74/300\n",
            "Progress: 75/300\n",
            "Progress: 76/300\n",
            "Progress: 77/300\n",
            "Progress: 78/300\n",
            "Progress: 79/300\n",
            "Progress: 80/300\n",
            "Progress: 81/300\n",
            "Progress: 82/300\n",
            "Progress: 83/300\n",
            "Progress: 84/300\n",
            "Progress: 85/300\n",
            "Progress: 86/300\n",
            "Progress: 87/300\n",
            "Progress: 88/300\n",
            "Progress: 89/300\n",
            "Progress: 90/300\n",
            "Progress: 91/300\n",
            "Progress: 92/300\n",
            "Progress: 93/300\n",
            "Progress: 94/300\n",
            "Progress: 95/300\n",
            "Progress: 96/300\n",
            "Progress: 97/300\n",
            "Progress: 98/300\n",
            "Progress: 99/300\n",
            "Progress: 100/300\n",
            "Progress: 101/300\n",
            "Progress: 102/300\n",
            "Progress: 103/300\n",
            "Progress: 104/300\n",
            "Progress: 105/300\n",
            "Progress: 106/300\n",
            "Progress: 107/300\n",
            "Progress: 108/300\n",
            "Progress: 109/300\n",
            "Progress: 110/300\n",
            "Progress: 111/300\n",
            "Progress: 112/300\n",
            "Progress: 113/300\n",
            "Progress: 114/300\n",
            "Progress: 115/300\n",
            "Progress: 116/300\n",
            "Progress: 117/300\n",
            "Progress: 118/300\n",
            "Progress: 119/300\n",
            "Progress: 120/300\n",
            "Progress: 121/300\n",
            "Progress: 122/300\n",
            "Progress: 123/300\n",
            "Progress: 124/300\n",
            "Progress: 125/300\n",
            "Progress: 126/300\n",
            "Progress: 127/300\n",
            "Progress: 128/300\n",
            "Progress: 129/300\n",
            "Progress: 130/300\n",
            "Progress: 131/300\n",
            "Progress: 132/300\n",
            "Progress: 133/300\n",
            "Progress: 134/300\n",
            "Progress: 135/300\n",
            "Progress: 136/300\n",
            "Progress: 137/300\n",
            "Progress: 138/300\n",
            "Progress: 139/300\n",
            "Progress: 140/300\n",
            "Progress: 141/300\n",
            "Progress: 142/300\n",
            "Progress: 143/300\n",
            "Progress: 144/300\n",
            "Progress: 145/300\n",
            "Progress: 146/300\n",
            "Progress: 147/300\n",
            "Progress: 148/300\n",
            "Progress: 149/300\n",
            "Progress: 150/300\n",
            "Progress: 151/300\n",
            "Progress: 152/300\n",
            "Progress: 153/300\n",
            "Progress: 154/300\n",
            "Progress: 155/300\n",
            "Progress: 156/300\n",
            "Progress: 157/300\n",
            "Progress: 158/300\n",
            "Progress: 159/300\n",
            "Progress: 160/300\n",
            "Progress: 161/300\n",
            "Progress: 162/300\n",
            "Progress: 163/300\n",
            "Progress: 164/300\n",
            "Progress: 165/300\n",
            "Progress: 166/300\n",
            "Progress: 167/300\n",
            "Progress: 168/300\n",
            "Progress: 169/300\n",
            "Progress: 170/300\n",
            "Progress: 171/300\n",
            "Progress: 172/300\n",
            "Progress: 173/300\n",
            "Progress: 174/300\n",
            "Progress: 175/300\n",
            "Progress: 176/300\n",
            "Progress: 177/300\n",
            "Progress: 178/300\n",
            "Progress: 179/300\n",
            "Progress: 180/300\n",
            "Progress: 181/300\n",
            "Progress: 182/300\n",
            "Progress: 183/300\n",
            "Progress: 184/300\n",
            "Progress: 185/300\n",
            "Progress: 186/300\n",
            "Progress: 187/300\n",
            "Progress: 188/300\n",
            "Progress: 189/300\n",
            "Progress: 190/300\n",
            "Progress: 191/300\n",
            "Progress: 192/300\n",
            "Progress: 193/300\n",
            "Progress: 194/300\n",
            "Progress: 195/300\n",
            "Progress: 196/300\n",
            "Progress: 197/300\n",
            "Progress: 198/300\n",
            "Progress: 199/300\n",
            "Progress: 200/300\n",
            "Progress: 201/300\n",
            "Progress: 202/300\n",
            "Progress: 203/300\n",
            "Progress: 204/300\n",
            "Progress: 205/300\n",
            "Progress: 206/300\n",
            "Progress: 207/300\n",
            "Progress: 208/300\n",
            "Progress: 209/300\n",
            "Progress: 210/300\n",
            "Progress: 211/300\n",
            "Progress: 212/300\n",
            "Progress: 213/300\n",
            "Progress: 214/300\n",
            "Progress: 215/300\n",
            "Progress: 216/300\n",
            "Progress: 217/300\n",
            "Progress: 218/300\n",
            "Progress: 219/300\n",
            "Progress: 220/300\n",
            "Progress: 221/300\n",
            "Progress: 222/300\n",
            "Progress: 223/300\n",
            "Progress: 224/300\n",
            "Progress: 225/300\n",
            "Progress: 226/300\n",
            "Progress: 227/300\n",
            "Progress: 228/300\n",
            "Progress: 229/300\n",
            "Progress: 230/300\n",
            "Progress: 231/300\n",
            "Progress: 232/300\n",
            "Progress: 233/300\n",
            "Progress: 234/300\n",
            "Progress: 235/300\n",
            "Progress: 236/300\n",
            "Progress: 237/300\n",
            "Progress: 238/300\n",
            "Progress: 239/300\n",
            "Progress: 240/300\n",
            "Progress: 241/300\n",
            "Progress: 242/300\n",
            "Progress: 243/300\n",
            "Progress: 244/300\n",
            "Progress: 245/300\n",
            "Progress: 246/300\n",
            "Progress: 247/300\n",
            "Progress: 248/300\n",
            "Progress: 249/300\n",
            "Progress: 250/300\n",
            "Progress: 251/300\n",
            "Progress: 252/300\n",
            "Progress: 253/300\n",
            "Progress: 254/300\n",
            "Progress: 255/300\n",
            "Progress: 256/300\n",
            "Progress: 257/300\n",
            "Progress: 258/300\n",
            "Progress: 259/300\n",
            "Progress: 260/300\n",
            "Progress: 261/300\n",
            "Progress: 262/300\n",
            "Progress: 263/300\n",
            "Progress: 264/300\n",
            "Progress: 265/300\n",
            "Progress: 266/300\n",
            "Progress: 267/300\n",
            "Progress: 268/300\n",
            "Progress: 269/300\n",
            "Progress: 270/300\n",
            "Progress: 271/300\n",
            "Progress: 272/300\n",
            "Progress: 273/300\n",
            "Progress: 274/300\n",
            "Progress: 275/300\n",
            "Progress: 276/300\n",
            "Progress: 277/300\n",
            "Progress: 278/300\n",
            "Progress: 279/300\n",
            "Progress: 280/300\n",
            "Progress: 281/300\n",
            "Progress: 282/300\n",
            "Progress: 283/300\n",
            "Progress: 284/300\n",
            "Progress: 285/300\n",
            "Progress: 286/300\n",
            "Progress: 287/300\n",
            "Progress: 288/300\n",
            "Progress: 289/300\n",
            "Progress: 290/300\n",
            "Progress: 291/300\n",
            "Progress: 292/300\n",
            "Progress: 293/300\n",
            "Progress: 294/300\n",
            "Progress: 295/300\n",
            "Progress: 296/300\n",
            "Progress: 297/300\n",
            "Progress: 298/300\n",
            "Progress: 299/300\n",
            "Progress: 300/300\n",
            "Num files processed: 300\n"
          ]
        }
      ]
    },
    {
      "cell_type": "code",
      "source": [
        "print(yin_estimates.shape, yin_targets.shape)"
      ],
      "metadata": {
        "id": "V_b3Ed0ytjlF",
        "outputId": "b951e196-cdca-4be5-84a3-675c8d4afa86",
        "colab": {
          "base_uri": "https://localhost:8080/"
        }
      },
      "execution_count": 92,
      "outputs": [
        {
          "output_type": "stream",
          "name": "stdout",
          "text": [
            "(1800,) (1800,)\n"
          ]
        }
      ]
    },
    {
      "cell_type": "code",
      "source": [
        "yin_matches_50 = np.where(np.abs(librosa.hz_to_midi(yin_estimates) - yin_targets) < 0.5)\n",
        "yin_matches_25 = np.where(np.abs(librosa.hz_to_midi(yin_estimates) - yin_targets) < 0.25)\n",
        "yin_matches_10 = np.where(np.abs(librosa.hz_to_midi(yin_estimates) - yin_targets) < 0.1)"
      ],
      "metadata": {
        "id": "sPydjU4BX3MF"
      },
      "execution_count": 93,
      "outputs": []
    },
    {
      "cell_type": "code",
      "source": [
        "print(f\"50 cent accuracy: {yin_matches_50[0].shape[0] / len(yin_targets)}\")\n",
        "print(f\"25 cent accuracy: {yin_matches_25[0].shape[0] / len(yin_targets)}\")\n",
        "print(f\"10 cent accuracy: {yin_matches_10[0].shape[0] / len(yin_targets)}\")"
      ],
      "metadata": {
        "id": "mE6GSXm0X3Jc",
        "outputId": "f48c93a1-8284-4b7a-8609-66e4d5dc4171",
        "colab": {
          "base_uri": "https://localhost:8080/"
        }
      },
      "execution_count": 94,
      "outputs": [
        {
          "output_type": "stream",
          "name": "stdout",
          "text": [
            "50 cent accuracy: 0.4388888888888889\n",
            "25 cent accuracy: 0.3005555555555556\n",
            "10 cent accuracy: 0.1411111111111111\n"
          ]
        }
      ]
    },
    {
      "cell_type": "code",
      "source": [],
      "metadata": {
        "id": "WQBk5HoRX3Af"
      },
      "execution_count": null,
      "outputs": []
    },
    {
      "cell_type": "markdown",
      "source": [
        "## pYin evaluation"
      ],
      "metadata": {
        "id": "Njqv7MeDhTRG"
      }
    },
    {
      "cell_type": "code",
      "source": [
        "def get_pyin_estimation(sample_path, samplerate, target, frame_size, hop_size,\n",
        "                        attack_length=0.05):\n",
        "\n",
        "  # load sample\n",
        "  loader = es.MonoLoader(filename=sample_path, sampleRate=samplerate)\n",
        "  audio = loader()\n",
        "\n",
        "  # trim the sample to the first 50 ms\n",
        "  start_stop = es.StartStopSilence(threshold=-60)\n",
        "  start_frame, stop_frame = 0, 0\n",
        "  for frame in es.FrameGenerator(audio, frame_size, hop_size):\n",
        "    start_frame, stop_frame = start_stop(frame)\n",
        "\n",
        "  start_time = float(start_frame * hop_size) / float(samplerate)\n",
        "  bonus_time = hop_size / samplerate\n",
        "  end_time = start_time + attack_length + bonus_time\n",
        "\n",
        "  # trim audio\n",
        "  trimmer = es.Trimmer(startTime=start_time, endTime=end_time,\n",
        "                       sampleRate=samplerate)\n",
        "  trimmed_audio = trimmer(audio)\n",
        "\n",
        "  # get pyin pitch estimations\n",
        "  pitch_estimations, _, _ = librosa.pyin(trimmed_audio, fmin=librosa.note_to_hz('C2'),\n",
        "                               fmax=librosa.note_to_hz('C7'), sr=samplerate,\n",
        "                               frame_length=frame_size, hop_length=hop_size)\n",
        "  \n",
        "  # filter out NaNs\n",
        "  pitch_estimations = pitch_estimations[~np.isnan(pitch_estimations)]\n",
        "  \n",
        "  # populate array of target values to match size of estimations array\n",
        "  targets = [float(target)] * pitch_estimations.shape[0]\n",
        "\n",
        "  return pitch_estimations, targets"
      ],
      "metadata": {
        "id": "tTDlChUJtjgg"
      },
      "execution_count": 75,
      "outputs": []
    },
    {
      "cell_type": "code",
      "source": [
        "# test to make sure it's working\n",
        "get_pyin_estimation('/content/SASSE_tiny_16/train/60_train_sample_101.wav',\n",
        "                   samplerate=16000, target=60, frame_size=1024, hop_size=512)"
      ],
      "metadata": {
        "id": "bG7gLR91Ru7O",
        "outputId": "486aa050-aec9-4b87-c595-f82a28896c9f",
        "colab": {
          "base_uri": "https://localhost:8080/"
        }
      },
      "execution_count": 76,
      "outputs": [
        {
          "output_type": "execute_result",
          "data": {
            "text/plain": [
              "(array([261.6255653 , 263.14114678]), [60.0, 60.0])"
            ]
          },
          "metadata": {},
          "execution_count": 76
        }
      ]
    },
    {
      "cell_type": "code",
      "source": [
        "def process_folder_pyin(directory, samplerate, frame_size, hop_size,\n",
        "                        attack_length=0.05):\n",
        "  folder_pitches = []\n",
        "  folder_targets = []\n",
        "  file_count = 0\n",
        "  count = 0\n",
        "\n",
        "  for (dir_path, _, filenames) in os.walk(directory):\n",
        "    num_files = len(filenames)\n",
        "    for filename in filenames:\n",
        "      file_path = os.path.join(dir_path, filename)\n",
        "\n",
        "      # in my formatting, the target is given by the first numbers in the filename\n",
        "      target = filename.split(\"_\")[0]\n",
        "      pitches, targets = get_pyin_estimation(file_path, samplerate=samplerate,\n",
        "                                             target=target,\n",
        "                                             frame_size=frame_size,\n",
        "                                             hop_size=hop_size,\n",
        "                                             attack_length=attack_length)\n",
        "      \n",
        "      folder_pitches.append(pitches)\n",
        "      folder_targets.append(targets)\n",
        "\n",
        "      file_count += 1\n",
        "      print(f'Progress: {file_count}/{num_files}')\n",
        "\n",
        "  folder_pitches = np.concatenate(folder_pitches)\n",
        "  folder_targets = np.concatenate(folder_targets)\n",
        "  print(f\"Num files processed: {file_count}\")\n",
        "  return folder_pitches, folder_targets"
      ],
      "metadata": {
        "id": "dNgBc0BLtjRF"
      },
      "execution_count": 77,
      "outputs": []
    },
    {
      "cell_type": "code",
      "source": [
        "pyin_estimates, pyin_targets = process_folder_pyin('/content/SASSE_tiny_16/validation', samplerate=16000,\n",
        "                                                   frame_size=256, hop_size=128,\n",
        "                                                   attack_length=0.02)"
      ],
      "metadata": {
        "id": "OFcCCT6nIggo",
        "outputId": "64875946-cf08-4b08-d6cc-196bb302263c",
        "colab": {
          "base_uri": "https://localhost:8080/"
        }
      },
      "execution_count": 87,
      "outputs": [
        {
          "output_type": "stream",
          "name": "stdout",
          "text": [
            "Progress: 1/300\n",
            "Progress: 2/300\n",
            "Progress: 3/300\n",
            "Progress: 4/300\n",
            "Progress: 5/300\n",
            "Progress: 6/300\n",
            "Progress: 7/300\n",
            "Progress: 8/300\n",
            "Progress: 9/300\n",
            "Progress: 10/300\n",
            "Progress: 11/300\n",
            "Progress: 12/300\n",
            "Progress: 13/300\n",
            "Progress: 14/300\n",
            "Progress: 15/300\n",
            "Progress: 16/300\n",
            "Progress: 17/300\n",
            "Progress: 18/300\n",
            "Progress: 19/300\n",
            "Progress: 20/300\n",
            "Progress: 21/300\n",
            "Progress: 22/300\n",
            "Progress: 23/300\n",
            "Progress: 24/300\n",
            "Progress: 25/300\n",
            "Progress: 26/300\n",
            "Progress: 27/300\n",
            "Progress: 28/300\n",
            "Progress: 29/300\n",
            "Progress: 30/300\n",
            "Progress: 31/300\n",
            "Progress: 32/300\n",
            "Progress: 33/300\n",
            "Progress: 34/300\n",
            "Progress: 35/300\n",
            "Progress: 36/300\n",
            "Progress: 37/300\n",
            "Progress: 38/300\n",
            "Progress: 39/300\n",
            "Progress: 40/300\n",
            "Progress: 41/300\n",
            "Progress: 42/300\n",
            "Progress: 43/300\n",
            "Progress: 44/300\n",
            "Progress: 45/300\n",
            "Progress: 46/300\n",
            "Progress: 47/300\n",
            "Progress: 48/300\n",
            "Progress: 49/300\n",
            "Progress: 50/300\n",
            "Progress: 51/300\n",
            "Progress: 52/300\n",
            "Progress: 53/300\n",
            "Progress: 54/300\n",
            "Progress: 55/300\n",
            "Progress: 56/300\n",
            "Progress: 57/300\n",
            "Progress: 58/300\n",
            "Progress: 59/300\n",
            "Progress: 60/300\n",
            "Progress: 61/300\n",
            "Progress: 62/300\n",
            "Progress: 63/300\n",
            "Progress: 64/300\n",
            "Progress: 65/300\n",
            "Progress: 66/300\n",
            "Progress: 67/300\n",
            "Progress: 68/300\n",
            "Progress: 69/300\n",
            "Progress: 70/300\n",
            "Progress: 71/300\n",
            "Progress: 72/300\n",
            "Progress: 73/300\n",
            "Progress: 74/300\n",
            "Progress: 75/300\n",
            "Progress: 76/300\n",
            "Progress: 77/300\n",
            "Progress: 78/300\n",
            "Progress: 79/300\n",
            "Progress: 80/300\n",
            "Progress: 81/300\n",
            "Progress: 82/300\n",
            "Progress: 83/300\n",
            "Progress: 84/300\n",
            "Progress: 85/300\n",
            "Progress: 86/300\n",
            "Progress: 87/300\n",
            "Progress: 88/300\n",
            "Progress: 89/300\n",
            "Progress: 90/300\n",
            "Progress: 91/300\n",
            "Progress: 92/300\n",
            "Progress: 93/300\n",
            "Progress: 94/300\n",
            "Progress: 95/300\n",
            "Progress: 96/300\n",
            "Progress: 97/300\n",
            "Progress: 98/300\n",
            "Progress: 99/300\n",
            "Progress: 100/300\n",
            "Progress: 101/300\n",
            "Progress: 102/300\n",
            "Progress: 103/300\n",
            "Progress: 104/300\n",
            "Progress: 105/300\n",
            "Progress: 106/300\n",
            "Progress: 107/300\n",
            "Progress: 108/300\n",
            "Progress: 109/300\n",
            "Progress: 110/300\n",
            "Progress: 111/300\n",
            "Progress: 112/300\n",
            "Progress: 113/300\n",
            "Progress: 114/300\n",
            "Progress: 115/300\n",
            "Progress: 116/300\n",
            "Progress: 117/300\n",
            "Progress: 118/300\n",
            "Progress: 119/300\n",
            "Progress: 120/300\n",
            "Progress: 121/300\n",
            "Progress: 122/300\n",
            "Progress: 123/300\n",
            "Progress: 124/300\n",
            "Progress: 125/300\n",
            "Progress: 126/300\n",
            "Progress: 127/300\n",
            "Progress: 128/300\n",
            "Progress: 129/300\n",
            "Progress: 130/300\n",
            "Progress: 131/300\n",
            "Progress: 132/300\n",
            "Progress: 133/300\n",
            "Progress: 134/300\n",
            "Progress: 135/300\n",
            "Progress: 136/300\n",
            "Progress: 137/300\n",
            "Progress: 138/300\n",
            "Progress: 139/300\n",
            "Progress: 140/300\n",
            "Progress: 141/300\n",
            "Progress: 142/300\n",
            "Progress: 143/300\n",
            "Progress: 144/300\n",
            "Progress: 145/300\n",
            "Progress: 146/300\n",
            "Progress: 147/300\n",
            "Progress: 148/300\n",
            "Progress: 149/300\n",
            "Progress: 150/300\n",
            "Progress: 151/300\n",
            "Progress: 152/300\n",
            "Progress: 153/300\n",
            "Progress: 154/300\n",
            "Progress: 155/300\n",
            "Progress: 156/300\n",
            "Progress: 157/300\n",
            "Progress: 158/300\n",
            "Progress: 159/300\n",
            "Progress: 160/300\n",
            "Progress: 161/300\n",
            "Progress: 162/300\n",
            "Progress: 163/300\n",
            "Progress: 164/300\n",
            "Progress: 165/300\n",
            "Progress: 166/300\n",
            "Progress: 167/300\n",
            "Progress: 168/300\n",
            "Progress: 169/300\n",
            "Progress: 170/300\n",
            "Progress: 171/300\n",
            "Progress: 172/300\n",
            "Progress: 173/300\n",
            "Progress: 174/300\n",
            "Progress: 175/300\n",
            "Progress: 176/300\n",
            "Progress: 177/300\n",
            "Progress: 178/300\n",
            "Progress: 179/300\n",
            "Progress: 180/300\n",
            "Progress: 181/300\n",
            "Progress: 182/300\n",
            "Progress: 183/300\n",
            "Progress: 184/300\n",
            "Progress: 185/300\n",
            "Progress: 186/300\n",
            "Progress: 187/300\n",
            "Progress: 188/300\n",
            "Progress: 189/300\n",
            "Progress: 190/300\n",
            "Progress: 191/300\n",
            "Progress: 192/300\n",
            "Progress: 193/300\n",
            "Progress: 194/300\n",
            "Progress: 195/300\n",
            "Progress: 196/300\n",
            "Progress: 197/300\n",
            "Progress: 198/300\n",
            "Progress: 199/300\n",
            "Progress: 200/300\n",
            "Progress: 201/300\n",
            "Progress: 202/300\n",
            "Progress: 203/300\n",
            "Progress: 204/300\n",
            "Progress: 205/300\n",
            "Progress: 206/300\n",
            "Progress: 207/300\n",
            "Progress: 208/300\n",
            "Progress: 209/300\n",
            "Progress: 210/300\n",
            "Progress: 211/300\n",
            "Progress: 212/300\n",
            "Progress: 213/300\n",
            "Progress: 214/300\n",
            "Progress: 215/300\n",
            "Progress: 216/300\n",
            "Progress: 217/300\n",
            "Progress: 218/300\n",
            "Progress: 219/300\n",
            "Progress: 220/300\n",
            "Progress: 221/300\n",
            "Progress: 222/300\n",
            "Progress: 223/300\n",
            "Progress: 224/300\n",
            "Progress: 225/300\n",
            "Progress: 226/300\n",
            "Progress: 227/300\n",
            "Progress: 228/300\n",
            "Progress: 229/300\n",
            "Progress: 230/300\n",
            "Progress: 231/300\n",
            "Progress: 232/300\n",
            "Progress: 233/300\n",
            "Progress: 234/300\n",
            "Progress: 235/300\n",
            "Progress: 236/300\n",
            "Progress: 237/300\n",
            "Progress: 238/300\n",
            "Progress: 239/300\n",
            "Progress: 240/300\n",
            "Progress: 241/300\n",
            "Progress: 242/300\n",
            "Progress: 243/300\n",
            "Progress: 244/300\n",
            "Progress: 245/300\n",
            "Progress: 246/300\n",
            "Progress: 247/300\n",
            "Progress: 248/300\n",
            "Progress: 249/300\n",
            "Progress: 250/300\n",
            "Progress: 251/300\n",
            "Progress: 252/300\n",
            "Progress: 253/300\n",
            "Progress: 254/300\n",
            "Progress: 255/300\n",
            "Progress: 256/300\n",
            "Progress: 257/300\n",
            "Progress: 258/300\n",
            "Progress: 259/300\n",
            "Progress: 260/300\n",
            "Progress: 261/300\n",
            "Progress: 262/300\n",
            "Progress: 263/300\n",
            "Progress: 264/300\n",
            "Progress: 265/300\n",
            "Progress: 266/300\n",
            "Progress: 267/300\n",
            "Progress: 268/300\n",
            "Progress: 269/300\n",
            "Progress: 270/300\n",
            "Progress: 271/300\n",
            "Progress: 272/300\n",
            "Progress: 273/300\n",
            "Progress: 274/300\n",
            "Progress: 275/300\n",
            "Progress: 276/300\n",
            "Progress: 277/300\n",
            "Progress: 278/300\n",
            "Progress: 279/300\n",
            "Progress: 280/300\n",
            "Progress: 281/300\n",
            "Progress: 282/300\n",
            "Progress: 283/300\n",
            "Progress: 284/300\n",
            "Progress: 285/300\n",
            "Progress: 286/300\n",
            "Progress: 287/300\n",
            "Progress: 288/300\n",
            "Progress: 289/300\n",
            "Progress: 290/300\n",
            "Progress: 291/300\n",
            "Progress: 292/300\n",
            "Progress: 293/300\n",
            "Progress: 294/300\n",
            "Progress: 295/300\n",
            "Progress: 296/300\n",
            "Progress: 297/300\n",
            "Progress: 298/300\n",
            "Progress: 299/300\n",
            "Progress: 300/300\n",
            "Num files processed: 300\n"
          ]
        }
      ]
    },
    {
      "cell_type": "code",
      "source": [
        "print(pyin_estimates.shape, pyin_targets.shape)"
      ],
      "metadata": {
        "id": "M7-2jqZ1IgcK",
        "outputId": "551a2528-3bf9-4dc3-9153-e1e20d727832",
        "colab": {
          "base_uri": "https://localhost:8080/"
        }
      },
      "execution_count": 88,
      "outputs": [
        {
          "output_type": "stream",
          "name": "stdout",
          "text": [
            "(792,) (792,)\n"
          ]
        }
      ]
    },
    {
      "cell_type": "code",
      "source": [
        "pyin_matches_50 = np.where(np.abs(librosa.hz_to_midi(pyin_estimates) - pyin_targets) < 0.5)\n",
        "pyin_matches_25 = np.where(np.abs(librosa.hz_to_midi(pyin_estimates) - pyin_targets) < 0.25)\n",
        "pyin_matches_10 = np.where(np.abs(librosa.hz_to_midi(pyin_estimates) - pyin_targets) < 0.1)"
      ],
      "metadata": {
        "id": "lokHKqYNIgOj"
      },
      "execution_count": 89,
      "outputs": []
    },
    {
      "cell_type": "code",
      "source": [
        "print(f\"50 cent accuracy: {pyin_matches_50[0].shape[0] / len(pyin_targets)}\")\n",
        "print(f\"25 cent accuracy: {pyin_matches_25[0].shape[0] / len(pyin_targets)}\")\n",
        "print(f\"10 cent accuracy: {pyin_matches_10[0].shape[0] / len(pyin_targets)}\")"
      ],
      "metadata": {
        "id": "LZ3Kbmn3QvPB",
        "outputId": "fb848f05-391a-438c-a760-c7db85726532",
        "colab": {
          "base_uri": "https://localhost:8080/"
        }
      },
      "execution_count": 90,
      "outputs": [
        {
          "output_type": "stream",
          "name": "stdout",
          "text": [
            "50 cent accuracy: 0.797979797979798\n",
            "25 cent accuracy: 0.6224747474747475\n",
            "10 cent accuracy: 0.3939393939393939\n"
          ]
        }
      ]
    },
    {
      "cell_type": "markdown",
      "source": [
        "## CRéPE Evaluation"
      ],
      "metadata": {
        "id": "iy8bqCnNx01_"
      }
    },
    {
      "cell_type": "code",
      "source": [
        "def get_crepe_estimation(sample_path, samplerate, target, frame_size, hop_size,\n",
        "                         attack_length=0.05, model_capacity='full', viterbi=False,\n",
        "                         step_size=10):\n",
        "\n",
        "  # load sample\n",
        "  loader = es.MonoLoader(filename=sample_path, sampleRate=samplerate)\n",
        "  audio = loader()\n",
        "\n",
        "  # trim the sample to the first 50 ms\n",
        "  start_stop = es.StartStopSilence(threshold=-60)\n",
        "  start_frame, stop_frame = 0, 0\n",
        "  for frame in es.FrameGenerator(audio, frame_size, hop_size):\n",
        "    start_frame, stop_frame = start_stop(frame)\n",
        "\n",
        "  start_time = float(start_frame * hop_size) / float(samplerate)\n",
        "  end_time = start_time + attack_length\n",
        "\n",
        "  # trim audio\n",
        "  trimmer = es.Trimmer(startTime=start_time, endTime=end_time,\n",
        "                       sampleRate=samplerate)\n",
        "  trimmed_audio = trimmer(audio)\n",
        "\n",
        "  # get crepe pitch estimations\n",
        "  times, crepe_pred, _, _ = crepe.predict(trimmed_audio, sr=samplerate,\n",
        "                                          model_capacity=model_capacity,\n",
        "                                          viterbi=viterbi, step_size=step_size)\n",
        "  \n",
        "  # filter out NaNs\n",
        "  crepe_pred = crepe_pred[~np.isnan(crepe_pred)]\n",
        "  \n",
        "  # populate array of target values to match size of estimations array\n",
        "  targets = [float(target)] * crepe_pred.shape[0]\n",
        "\n",
        "  return crepe_pred, targets"
      ],
      "metadata": {
        "id": "Hm99rrk0IgFf"
      },
      "execution_count": 97,
      "outputs": []
    },
    {
      "cell_type": "code",
      "source": [
        "def process_folder_crepe(directory, samplerate, frame_size, hop_size,\n",
        "                         attack_length=0.05, model_capacity='full', viterbi=False,\n",
        "                         step_size=10):\n",
        "  folder_pitches = []\n",
        "  folder_targets = []\n",
        "  file_count = 0\n",
        "  count = 0\n",
        "\n",
        "  for (dir_path, _, filenames) in os.walk(directory):\n",
        "    num_files = len(filenames)\n",
        "    for filename in filenames:\n",
        "      file_path = os.path.join(dir_path, filename)\n",
        "\n",
        "      # in my formatting, the target is given by the first numbers in the filename\n",
        "      target = filename.split(\"_\")[0]\n",
        "      pitches, targets = get_crepe_estimation(file_path, samplerate=samplerate,\n",
        "                                              target=target,\n",
        "                                              frame_size=frame_size,\n",
        "                                              hop_size=hop_size,\n",
        "                                              attack_length=attack_length,\n",
        "                                              viterbi=viterbi,\n",
        "                                              step_size=step_size)\n",
        "      \n",
        "      folder_pitches.append(pitches)\n",
        "      folder_targets.append(targets)\n",
        "\n",
        "      file_count += 1\n",
        "      print(f'Progress: {file_count}/{num_files}')\n",
        "\n",
        "  folder_pitches = np.concatenate(folder_pitches)\n",
        "  folder_targets = np.concatenate(folder_targets)\n",
        "  print(f\"Num files processed: {file_count}\")\n",
        "  return folder_pitches, folder_targets"
      ],
      "metadata": {
        "id": "n0d77Kc-IgCJ"
      },
      "execution_count": 117,
      "outputs": []
    },
    {
      "cell_type": "code",
      "source": [
        "crepe_estimates, crepe_targets = process_folder_crepe('/content/SASSE_tiny_16/validation',\n",
        "                                                      samplerate=16000,\n",
        "                                                      frame_size=256,\n",
        "                                                      hop_size=128,\n",
        "                                                      attack_length=0.02,\n",
        "                                                      model_capacity='full',\n",
        "                                                      viterbi=False,\n",
        "                                                      step_size=10)"
      ],
      "metadata": {
        "id": "XxyjRgAYzvhq",
        "outputId": "af0757a8-464f-42b5-d940-f65eeafd1f1c",
        "colab": {
          "base_uri": "https://localhost:8080/"
        }
      },
      "execution_count": 118,
      "outputs": [
        {
          "output_type": "stream",
          "name": "stdout",
          "text": [
            "1/1 [==============================] - 0s 158ms/step\n",
            "Progress: 1/300\n",
            "1/1 [==============================] - 0s 155ms/step\n",
            "Progress: 2/300\n",
            "1/1 [==============================] - 0s 153ms/step\n",
            "Progress: 3/300\n",
            "1/1 [==============================] - 0s 149ms/step\n",
            "Progress: 4/300\n",
            "1/1 [==============================] - 0s 150ms/step\n",
            "Progress: 5/300\n",
            "1/1 [==============================] - 0s 146ms/step\n",
            "Progress: 6/300\n",
            "1/1 [==============================] - 0s 154ms/step\n",
            "Progress: 7/300\n",
            "1/1 [==============================] - 0s 146ms/step\n",
            "Progress: 8/300\n",
            "1/1 [==============================] - 0s 140ms/step\n",
            "Progress: 9/300\n",
            "1/1 [==============================] - 0s 158ms/step\n",
            "Progress: 10/300\n",
            "1/1 [==============================] - 0s 140ms/step\n",
            "Progress: 11/300\n",
            "1/1 [==============================] - 0s 158ms/step\n",
            "Progress: 12/300\n",
            "1/1 [==============================] - 0s 144ms/step\n",
            "Progress: 13/300\n",
            "1/1 [==============================] - 0s 141ms/step\n",
            "Progress: 14/300\n",
            "1/1 [==============================] - 0s 149ms/step\n",
            "Progress: 15/300\n",
            "1/1 [==============================] - 0s 146ms/step\n",
            "Progress: 16/300\n",
            "1/1 [==============================] - 0s 140ms/step\n",
            "Progress: 17/300\n",
            "1/1 [==============================] - 0s 151ms/step\n",
            "Progress: 18/300\n",
            "1/1 [==============================] - 0s 148ms/step\n",
            "Progress: 19/300\n",
            "1/1 [==============================] - 0s 154ms/step\n",
            "Progress: 20/300\n",
            "1/1 [==============================] - 0s 144ms/step\n",
            "Progress: 21/300\n",
            "1/1 [==============================] - 0s 162ms/step\n",
            "Progress: 22/300\n",
            "1/1 [==============================] - 0s 153ms/step\n",
            "Progress: 23/300\n",
            "1/1 [==============================] - 0s 143ms/step\n",
            "Progress: 24/300\n",
            "1/1 [==============================] - 0s 153ms/step\n",
            "Progress: 25/300\n",
            "1/1 [==============================] - 0s 152ms/step\n",
            "Progress: 26/300\n",
            "1/1 [==============================] - 0s 165ms/step\n",
            "Progress: 27/300\n",
            "1/1 [==============================] - 0s 169ms/step\n",
            "Progress: 28/300\n",
            "1/1 [==============================] - 0s 147ms/step\n",
            "Progress: 29/300\n",
            "1/1 [==============================] - 0s 153ms/step\n",
            "Progress: 30/300\n",
            "1/1 [==============================] - 0s 159ms/step\n",
            "Progress: 31/300\n",
            "1/1 [==============================] - 0s 149ms/step\n",
            "Progress: 32/300\n",
            "1/1 [==============================] - 0s 155ms/step\n",
            "Progress: 33/300\n",
            "1/1 [==============================] - 0s 140ms/step\n",
            "Progress: 34/300\n",
            "1/1 [==============================] - 0s 143ms/step\n",
            "Progress: 35/300\n",
            "1/1 [==============================] - 0s 162ms/step\n",
            "Progress: 36/300\n",
            "1/1 [==============================] - 0s 144ms/step\n",
            "Progress: 37/300\n",
            "1/1 [==============================] - 0s 162ms/step\n",
            "Progress: 38/300\n",
            "1/1 [==============================] - 0s 146ms/step\n",
            "Progress: 39/300\n",
            "1/1 [==============================] - 0s 145ms/step\n",
            "Progress: 40/300\n",
            "1/1 [==============================] - 0s 153ms/step\n",
            "Progress: 41/300\n",
            "1/1 [==============================] - 0s 155ms/step\n",
            "Progress: 42/300\n",
            "1/1 [==============================] - 0s 158ms/step\n",
            "Progress: 43/300\n",
            "1/1 [==============================] - 0s 152ms/step\n",
            "Progress: 44/300\n",
            "1/1 [==============================] - 0s 160ms/step\n",
            "Progress: 45/300\n",
            "1/1 [==============================] - 0s 161ms/step\n",
            "Progress: 46/300\n",
            "1/1 [==============================] - 0s 152ms/step\n",
            "Progress: 47/300\n",
            "1/1 [==============================] - 0s 155ms/step\n",
            "Progress: 48/300\n",
            "1/1 [==============================] - 0s 138ms/step\n",
            "Progress: 49/300\n",
            "1/1 [==============================] - 0s 148ms/step\n",
            "Progress: 50/300\n",
            "1/1 [==============================] - 0s 141ms/step\n",
            "Progress: 51/300\n",
            "1/1 [==============================] - 0s 147ms/step\n",
            "Progress: 52/300\n",
            "1/1 [==============================] - 0s 153ms/step\n",
            "Progress: 53/300\n",
            "1/1 [==============================] - 0s 139ms/step\n",
            "Progress: 54/300\n",
            "1/1 [==============================] - 0s 148ms/step\n",
            "Progress: 55/300\n",
            "1/1 [==============================] - 0s 142ms/step\n",
            "Progress: 56/300\n",
            "1/1 [==============================] - 0s 143ms/step\n",
            "Progress: 57/300\n",
            "1/1 [==============================] - 0s 156ms/step\n",
            "Progress: 58/300\n",
            "1/1 [==============================] - 0s 143ms/step\n",
            "Progress: 59/300\n",
            "1/1 [==============================] - 0s 144ms/step\n",
            "Progress: 60/300\n",
            "1/1 [==============================] - 0s 145ms/step\n",
            "Progress: 61/300\n",
            "1/1 [==============================] - 0s 150ms/step\n",
            "Progress: 62/300\n",
            "1/1 [==============================] - 0s 142ms/step\n",
            "Progress: 63/300\n",
            "1/1 [==============================] - 0s 209ms/step\n",
            "Progress: 64/300\n",
            "1/1 [==============================] - 1s 542ms/step\n",
            "Progress: 65/300\n",
            "1/1 [==============================] - 0s 251ms/step\n",
            "Progress: 66/300\n",
            "1/1 [==============================] - 0s 161ms/step\n",
            "Progress: 67/300\n",
            "1/1 [==============================] - 0s 138ms/step\n",
            "Progress: 68/300\n",
            "1/1 [==============================] - 0s 167ms/step\n",
            "Progress: 69/300\n",
            "1/1 [==============================] - 0s 147ms/step\n",
            "Progress: 70/300\n",
            "1/1 [==============================] - 0s 142ms/step\n",
            "Progress: 71/300\n",
            "1/1 [==============================] - 0s 145ms/step\n",
            "Progress: 72/300\n",
            "1/1 [==============================] - 0s 156ms/step\n",
            "Progress: 73/300\n",
            "1/1 [==============================] - 0s 157ms/step\n",
            "Progress: 74/300\n",
            "1/1 [==============================] - 0s 141ms/step\n",
            "Progress: 75/300\n",
            "1/1 [==============================] - 0s 154ms/step\n",
            "Progress: 76/300\n",
            "1/1 [==============================] - 0s 137ms/step\n",
            "Progress: 77/300\n",
            "1/1 [==============================] - 0s 148ms/step\n",
            "Progress: 78/300\n",
            "1/1 [==============================] - 0s 145ms/step\n",
            "Progress: 79/300\n",
            "1/1 [==============================] - 0s 141ms/step\n",
            "Progress: 80/300\n",
            "1/1 [==============================] - 0s 153ms/step\n",
            "Progress: 81/300\n",
            "1/1 [==============================] - 0s 144ms/step\n",
            "Progress: 82/300\n",
            "1/1 [==============================] - 0s 149ms/step\n",
            "Progress: 83/300\n",
            "1/1 [==============================] - 0s 150ms/step\n",
            "Progress: 84/300\n",
            "1/1 [==============================] - 0s 146ms/step\n",
            "Progress: 85/300\n",
            "1/1 [==============================] - 0s 140ms/step\n",
            "Progress: 86/300\n",
            "1/1 [==============================] - 0s 139ms/step\n",
            "Progress: 87/300\n",
            "1/1 [==============================] - 0s 146ms/step\n",
            "Progress: 88/300\n",
            "1/1 [==============================] - 0s 151ms/step\n",
            "Progress: 89/300\n",
            "1/1 [==============================] - 0s 148ms/step\n",
            "Progress: 90/300\n",
            "1/1 [==============================] - 0s 150ms/step\n",
            "Progress: 91/300\n",
            "1/1 [==============================] - 0s 147ms/step\n",
            "Progress: 92/300\n",
            "1/1 [==============================] - 0s 147ms/step\n",
            "Progress: 93/300\n",
            "1/1 [==============================] - 0s 147ms/step\n",
            "Progress: 94/300\n",
            "1/1 [==============================] - 0s 138ms/step\n",
            "Progress: 95/300\n",
            "1/1 [==============================] - 0s 142ms/step\n",
            "Progress: 96/300\n",
            "1/1 [==============================] - 0s 152ms/step\n",
            "Progress: 97/300\n",
            "1/1 [==============================] - 0s 145ms/step\n",
            "Progress: 98/300\n",
            "1/1 [==============================] - 0s 149ms/step\n",
            "Progress: 99/300\n",
            "1/1 [==============================] - 0s 153ms/step\n",
            "Progress: 100/300\n",
            "1/1 [==============================] - 0s 144ms/step\n",
            "Progress: 101/300\n",
            "1/1 [==============================] - 0s 145ms/step\n",
            "Progress: 102/300\n",
            "1/1 [==============================] - 0s 144ms/step\n",
            "Progress: 103/300\n",
            "1/1 [==============================] - 0s 155ms/step\n",
            "Progress: 104/300\n",
            "1/1 [==============================] - 0s 157ms/step\n",
            "Progress: 105/300\n",
            "1/1 [==============================] - 0s 149ms/step\n",
            "Progress: 106/300\n",
            "1/1 [==============================] - 0s 148ms/step\n",
            "Progress: 107/300\n",
            "1/1 [==============================] - 0s 158ms/step\n",
            "Progress: 108/300\n",
            "1/1 [==============================] - 0s 145ms/step\n",
            "Progress: 109/300\n",
            "1/1 [==============================] - 0s 146ms/step\n",
            "Progress: 110/300\n",
            "1/1 [==============================] - 0s 143ms/step\n",
            "Progress: 111/300\n",
            "1/1 [==============================] - 0s 143ms/step\n",
            "Progress: 112/300\n",
            "1/1 [==============================] - 0s 151ms/step\n",
            "Progress: 113/300\n",
            "1/1 [==============================] - 0s 144ms/step\n",
            "Progress: 114/300\n",
            "1/1 [==============================] - 0s 155ms/step\n",
            "Progress: 115/300\n",
            "1/1 [==============================] - 0s 156ms/step\n",
            "Progress: 116/300\n",
            "1/1 [==============================] - 0s 159ms/step\n",
            "Progress: 117/300\n",
            "1/1 [==============================] - 0s 153ms/step\n",
            "Progress: 118/300\n",
            "1/1 [==============================] - 0s 149ms/step\n",
            "Progress: 119/300\n",
            "1/1 [==============================] - 0s 154ms/step\n",
            "Progress: 120/300\n",
            "1/1 [==============================] - 0s 153ms/step\n",
            "Progress: 121/300\n",
            "1/1 [==============================] - 0s 153ms/step\n",
            "Progress: 122/300\n",
            "1/1 [==============================] - 0s 156ms/step\n",
            "Progress: 123/300\n",
            "1/1 [==============================] - 0s 149ms/step\n",
            "Progress: 124/300\n",
            "1/1 [==============================] - 0s 171ms/step\n",
            "Progress: 125/300\n",
            "1/1 [==============================] - 0s 140ms/step\n",
            "Progress: 126/300\n",
            "1/1 [==============================] - 0s 151ms/step\n",
            "Progress: 127/300\n",
            "1/1 [==============================] - 0s 161ms/step\n",
            "Progress: 128/300\n",
            "1/1 [==============================] - 0s 140ms/step\n",
            "Progress: 129/300\n",
            "1/1 [==============================] - 0s 162ms/step\n",
            "Progress: 130/300\n",
            "1/1 [==============================] - 0s 143ms/step\n",
            "Progress: 131/300\n",
            "1/1 [==============================] - 0s 146ms/step\n",
            "Progress: 132/300\n",
            "1/1 [==============================] - 0s 154ms/step\n",
            "Progress: 133/300\n",
            "1/1 [==============================] - 0s 153ms/step\n",
            "Progress: 134/300\n",
            "1/1 [==============================] - 0s 150ms/step\n",
            "Progress: 135/300\n",
            "1/1 [==============================] - 0s 148ms/step\n",
            "Progress: 136/300\n",
            "1/1 [==============================] - 0s 156ms/step\n",
            "Progress: 137/300\n",
            "1/1 [==============================] - 0s 149ms/step\n",
            "Progress: 138/300\n",
            "1/1 [==============================] - 0s 147ms/step\n",
            "Progress: 139/300\n",
            "1/1 [==============================] - 0s 148ms/step\n",
            "Progress: 140/300\n",
            "1/1 [==============================] - 0s 148ms/step\n",
            "Progress: 141/300\n",
            "1/1 [==============================] - 0s 150ms/step\n",
            "Progress: 142/300\n",
            "1/1 [==============================] - 0s 167ms/step\n",
            "Progress: 143/300\n",
            "1/1 [==============================] - 0s 147ms/step\n",
            "Progress: 144/300\n",
            "1/1 [==============================] - 0s 145ms/step\n",
            "Progress: 145/300\n",
            "1/1 [==============================] - 0s 150ms/step\n",
            "Progress: 146/300\n",
            "1/1 [==============================] - 0s 146ms/step\n",
            "Progress: 147/300\n",
            "1/1 [==============================] - 0s 145ms/step\n",
            "Progress: 148/300\n",
            "1/1 [==============================] - 0s 160ms/step\n",
            "Progress: 149/300\n",
            "1/1 [==============================] - 0s 149ms/step\n",
            "Progress: 150/300\n",
            "1/1 [==============================] - 0s 184ms/step\n",
            "Progress: 151/300\n",
            "1/1 [==============================] - 0s 144ms/step\n",
            "Progress: 152/300\n",
            "1/1 [==============================] - 0s 150ms/step\n",
            "Progress: 153/300\n",
            "1/1 [==============================] - 0s 147ms/step\n",
            "Progress: 154/300\n",
            "1/1 [==============================] - 0s 155ms/step\n",
            "Progress: 155/300\n",
            "1/1 [==============================] - 0s 150ms/step\n",
            "Progress: 156/300\n",
            "1/1 [==============================] - 0s 141ms/step\n",
            "Progress: 157/300\n",
            "1/1 [==============================] - 0s 156ms/step\n",
            "Progress: 158/300\n",
            "1/1 [==============================] - 0s 146ms/step\n",
            "Progress: 159/300\n",
            "1/1 [==============================] - 0s 140ms/step\n",
            "Progress: 160/300\n",
            "1/1 [==============================] - 0s 138ms/step\n",
            "Progress: 161/300\n",
            "1/1 [==============================] - 0s 156ms/step\n",
            "Progress: 162/300\n",
            "1/1 [==============================] - 0s 151ms/step\n",
            "Progress: 163/300\n",
            "1/1 [==============================] - 0s 136ms/step\n",
            "Progress: 164/300\n",
            "1/1 [==============================] - 0s 147ms/step\n",
            "Progress: 165/300\n",
            "1/1 [==============================] - 0s 147ms/step\n",
            "Progress: 166/300\n",
            "1/1 [==============================] - 0s 153ms/step\n",
            "Progress: 167/300\n",
            "1/1 [==============================] - 0s 139ms/step\n",
            "Progress: 168/300\n",
            "1/1 [==============================] - 0s 143ms/step\n",
            "Progress: 169/300\n",
            "1/1 [==============================] - 0s 153ms/step\n",
            "Progress: 170/300\n",
            "1/1 [==============================] - 0s 156ms/step\n",
            "Progress: 171/300\n",
            "1/1 [==============================] - 0s 143ms/step\n",
            "Progress: 172/300\n",
            "1/1 [==============================] - 0s 146ms/step\n",
            "Progress: 173/300\n",
            "1/1 [==============================] - 0s 155ms/step\n",
            "Progress: 174/300\n",
            "1/1 [==============================] - 0s 149ms/step\n",
            "Progress: 175/300\n",
            "1/1 [==============================] - 0s 164ms/step\n",
            "Progress: 176/300\n",
            "1/1 [==============================] - 0s 152ms/step\n",
            "Progress: 177/300\n",
            "1/1 [==============================] - 0s 155ms/step\n",
            "Progress: 178/300\n",
            "1/1 [==============================] - 0s 156ms/step\n",
            "Progress: 179/300\n",
            "1/1 [==============================] - 0s 156ms/step\n",
            "Progress: 180/300\n",
            "1/1 [==============================] - 0s 166ms/step\n",
            "Progress: 181/300\n",
            "1/1 [==============================] - 0s 172ms/step\n",
            "Progress: 182/300\n",
            "1/1 [==============================] - 0s 155ms/step\n",
            "Progress: 183/300\n",
            "1/1 [==============================] - 0s 140ms/step\n",
            "Progress: 184/300\n",
            "1/1 [==============================] - 0s 155ms/step\n",
            "Progress: 185/300\n",
            "1/1 [==============================] - 0s 151ms/step\n",
            "Progress: 186/300\n",
            "1/1 [==============================] - 0s 148ms/step\n",
            "Progress: 187/300\n",
            "1/1 [==============================] - 0s 151ms/step\n",
            "Progress: 188/300\n",
            "1/1 [==============================] - 0s 147ms/step\n",
            "Progress: 189/300\n",
            "1/1 [==============================] - 0s 141ms/step\n",
            "Progress: 190/300\n",
            "1/1 [==============================] - 0s 156ms/step\n",
            "Progress: 191/300\n",
            "1/1 [==============================] - 0s 158ms/step\n",
            "Progress: 192/300\n",
            "1/1 [==============================] - 0s 152ms/step\n",
            "Progress: 193/300\n",
            "1/1 [==============================] - 0s 142ms/step\n",
            "Progress: 194/300\n",
            "1/1 [==============================] - 0s 144ms/step\n",
            "Progress: 195/300\n",
            "1/1 [==============================] - 0s 153ms/step\n",
            "Progress: 196/300\n",
            "1/1 [==============================] - 0s 144ms/step\n",
            "Progress: 197/300\n",
            "1/1 [==============================] - 0s 150ms/step\n",
            "Progress: 198/300\n",
            "1/1 [==============================] - 0s 158ms/step\n",
            "Progress: 199/300\n",
            "1/1 [==============================] - 0s 149ms/step\n",
            "Progress: 200/300\n",
            "1/1 [==============================] - 0s 164ms/step\n",
            "Progress: 201/300\n",
            "1/1 [==============================] - 0s 159ms/step\n",
            "Progress: 202/300\n",
            "1/1 [==============================] - 0s 150ms/step\n",
            "Progress: 203/300\n",
            "1/1 [==============================] - 0s 145ms/step\n",
            "Progress: 204/300\n",
            "1/1 [==============================] - 0s 140ms/step\n",
            "Progress: 205/300\n",
            "1/1 [==============================] - 0s 160ms/step\n",
            "Progress: 206/300\n",
            "1/1 [==============================] - 0s 144ms/step\n",
            "Progress: 207/300\n",
            "1/1 [==============================] - 0s 146ms/step\n",
            "Progress: 208/300\n",
            "1/1 [==============================] - 0s 142ms/step\n",
            "Progress: 209/300\n",
            "1/1 [==============================] - 0s 147ms/step\n",
            "Progress: 210/300\n",
            "1/1 [==============================] - 0s 159ms/step\n",
            "Progress: 211/300\n",
            "1/1 [==============================] - 0s 144ms/step\n",
            "Progress: 212/300\n",
            "1/1 [==============================] - 0s 154ms/step\n",
            "Progress: 213/300\n",
            "1/1 [==============================] - 0s 145ms/step\n",
            "Progress: 214/300\n",
            "1/1 [==============================] - 0s 144ms/step\n",
            "Progress: 215/300\n",
            "1/1 [==============================] - 0s 153ms/step\n",
            "Progress: 216/300\n",
            "1/1 [==============================] - 0s 149ms/step\n",
            "Progress: 217/300\n",
            "1/1 [==============================] - 0s 150ms/step\n",
            "Progress: 218/300\n",
            "1/1 [==============================] - 0s 148ms/step\n",
            "Progress: 219/300\n",
            "1/1 [==============================] - 0s 147ms/step\n",
            "Progress: 220/300\n",
            "1/1 [==============================] - 0s 167ms/step\n",
            "Progress: 221/300\n",
            "1/1 [==============================] - 0s 160ms/step\n",
            "Progress: 222/300\n",
            "1/1 [==============================] - 0s 152ms/step\n",
            "Progress: 223/300\n",
            "1/1 [==============================] - 0s 144ms/step\n",
            "Progress: 224/300\n",
            "1/1 [==============================] - 0s 163ms/step\n",
            "Progress: 225/300\n",
            "1/1 [==============================] - 0s 168ms/step\n",
            "Progress: 226/300\n",
            "1/1 [==============================] - 0s 182ms/step\n",
            "Progress: 227/300\n",
            "1/1 [==============================] - 0s 157ms/step\n",
            "Progress: 228/300\n",
            "1/1 [==============================] - 0s 152ms/step\n",
            "Progress: 229/300\n",
            "1/1 [==============================] - 0s 163ms/step\n",
            "Progress: 230/300\n",
            "1/1 [==============================] - 0s 173ms/step\n",
            "Progress: 231/300\n",
            "1/1 [==============================] - 0s 151ms/step\n",
            "Progress: 232/300\n",
            "1/1 [==============================] - 0s 148ms/step\n",
            "Progress: 233/300\n",
            "1/1 [==============================] - 0s 151ms/step\n",
            "Progress: 234/300\n",
            "1/1 [==============================] - 0s 143ms/step\n",
            "Progress: 235/300\n",
            "1/1 [==============================] - 0s 151ms/step\n",
            "Progress: 236/300\n",
            "1/1 [==============================] - 0s 161ms/step\n",
            "Progress: 237/300\n",
            "1/1 [==============================] - 0s 156ms/step\n",
            "Progress: 238/300\n",
            "1/1 [==============================] - 0s 141ms/step\n",
            "Progress: 239/300\n",
            "1/1 [==============================] - 0s 164ms/step\n",
            "Progress: 240/300\n",
            "1/1 [==============================] - 0s 159ms/step\n",
            "Progress: 241/300\n",
            "1/1 [==============================] - 0s 162ms/step\n",
            "Progress: 242/300\n",
            "1/1 [==============================] - 0s 146ms/step\n",
            "Progress: 243/300\n",
            "1/1 [==============================] - 0s 161ms/step\n",
            "Progress: 244/300\n",
            "1/1 [==============================] - 0s 159ms/step\n",
            "Progress: 245/300\n",
            "1/1 [==============================] - 0s 152ms/step\n",
            "Progress: 246/300\n",
            "1/1 [==============================] - 0s 151ms/step\n",
            "Progress: 247/300\n",
            "1/1 [==============================] - 0s 143ms/step\n",
            "Progress: 248/300\n",
            "1/1 [==============================] - 0s 147ms/step\n",
            "Progress: 249/300\n",
            "1/1 [==============================] - 0s 142ms/step\n",
            "Progress: 250/300\n",
            "1/1 [==============================] - 0s 159ms/step\n",
            "Progress: 251/300\n",
            "1/1 [==============================] - 0s 157ms/step\n",
            "Progress: 252/300\n",
            "1/1 [==============================] - 0s 144ms/step\n",
            "Progress: 253/300\n",
            "1/1 [==============================] - 0s 157ms/step\n",
            "Progress: 254/300\n",
            "1/1 [==============================] - 0s 159ms/step\n",
            "Progress: 255/300\n",
            "1/1 [==============================] - 0s 157ms/step\n",
            "Progress: 256/300\n",
            "1/1 [==============================] - 0s 161ms/step\n",
            "Progress: 257/300\n",
            "1/1 [==============================] - 0s 150ms/step\n",
            "Progress: 258/300\n",
            "1/1 [==============================] - 0s 143ms/step\n",
            "Progress: 259/300\n",
            "1/1 [==============================] - 0s 142ms/step\n",
            "Progress: 260/300\n",
            "1/1 [==============================] - 0s 152ms/step\n",
            "Progress: 261/300\n",
            "1/1 [==============================] - 0s 137ms/step\n",
            "Progress: 262/300\n",
            "1/1 [==============================] - 0s 150ms/step\n",
            "Progress: 263/300\n",
            "1/1 [==============================] - 0s 150ms/step\n",
            "Progress: 264/300\n",
            "1/1 [==============================] - 0s 144ms/step\n",
            "Progress: 265/300\n",
            "1/1 [==============================] - 0s 153ms/step\n",
            "Progress: 266/300\n",
            "1/1 [==============================] - 0s 153ms/step\n",
            "Progress: 267/300\n",
            "1/1 [==============================] - 0s 164ms/step\n",
            "Progress: 268/300\n",
            "1/1 [==============================] - 0s 143ms/step\n",
            "Progress: 269/300\n",
            "1/1 [==============================] - 0s 148ms/step\n",
            "Progress: 270/300\n",
            "1/1 [==============================] - 0s 156ms/step\n",
            "Progress: 271/300\n",
            "1/1 [==============================] - 0s 141ms/step\n",
            "Progress: 272/300\n",
            "1/1 [==============================] - 0s 142ms/step\n",
            "Progress: 273/300\n",
            "1/1 [==============================] - 0s 141ms/step\n",
            "Progress: 274/300\n",
            "1/1 [==============================] - 0s 156ms/step\n",
            "Progress: 275/300\n",
            "1/1 [==============================] - 0s 149ms/step\n",
            "Progress: 276/300\n",
            "1/1 [==============================] - 0s 161ms/step\n",
            "Progress: 277/300\n",
            "1/1 [==============================] - 0s 145ms/step\n",
            "Progress: 278/300\n",
            "1/1 [==============================] - 0s 158ms/step\n",
            "Progress: 279/300\n",
            "1/1 [==============================] - 0s 146ms/step\n",
            "Progress: 280/300\n",
            "1/1 [==============================] - 0s 175ms/step\n",
            "Progress: 281/300\n",
            "1/1 [==============================] - 0s 144ms/step\n",
            "Progress: 282/300\n",
            "1/1 [==============================] - 0s 161ms/step\n",
            "Progress: 283/300\n",
            "1/1 [==============================] - 0s 145ms/step\n",
            "Progress: 284/300\n",
            "1/1 [==============================] - 0s 148ms/step\n",
            "Progress: 285/300\n",
            "1/1 [==============================] - 0s 161ms/step\n",
            "Progress: 286/300\n",
            "1/1 [==============================] - 0s 145ms/step\n",
            "Progress: 287/300\n",
            "1/1 [==============================] - 0s 150ms/step\n",
            "Progress: 288/300\n",
            "1/1 [==============================] - 0s 150ms/step\n",
            "Progress: 289/300\n",
            "1/1 [==============================] - 0s 146ms/step\n",
            "Progress: 290/300\n",
            "1/1 [==============================] - 0s 163ms/step\n",
            "Progress: 291/300\n",
            "1/1 [==============================] - 0s 145ms/step\n",
            "Progress: 292/300\n",
            "1/1 [==============================] - 0s 150ms/step\n",
            "Progress: 293/300\n",
            "1/1 [==============================] - 0s 155ms/step\n",
            "Progress: 294/300\n",
            "1/1 [==============================] - 0s 259ms/step\n",
            "Progress: 295/300\n",
            "1/1 [==============================] - 0s 262ms/step\n",
            "Progress: 296/300\n",
            "1/1 [==============================] - 0s 271ms/step\n",
            "Progress: 297/300\n",
            "1/1 [==============================] - 0s 268ms/step\n",
            "Progress: 298/300\n",
            "1/1 [==============================] - 0s 256ms/step\n",
            "Progress: 299/300\n",
            "1/1 [==============================] - 0s 264ms/step\n",
            "Progress: 300/300\n",
            "Num files processed: 300\n"
          ]
        }
      ]
    },
    {
      "cell_type": "code",
      "source": [
        "print(crepe_estimates.shape, crepe_targets.shape)"
      ],
      "metadata": {
        "id": "tDW88NoatjMO",
        "outputId": "79e0d2b3-b998-4fdc-c6e5-dd43b81f24d1",
        "colab": {
          "base_uri": "https://localhost:8080/"
        }
      },
      "execution_count": 119,
      "outputs": [
        {
          "output_type": "stream",
          "name": "stdout",
          "text": [
            "(900,) (900,)\n"
          ]
        }
      ]
    },
    {
      "cell_type": "code",
      "source": [
        "crepe_matches_50 = np.where(np.abs(librosa.hz_to_midi(crepe_estimates) - crepe_targets) < 0.5)\n",
        "crepe_matches_25 = np.where(np.abs(librosa.hz_to_midi(crepe_estimates) - crepe_targets) < 0.25)\n",
        "crepe_matches_10 = np.where(np.abs(librosa.hz_to_midi(crepe_estimates) - crepe_targets) < 0.1)"
      ],
      "metadata": {
        "id": "dWMhZl-FzqqK"
      },
      "execution_count": 120,
      "outputs": []
    },
    {
      "cell_type": "code",
      "source": [
        "print(f\"50 cent accuracy: {crepe_matches_50[0].shape[0] / len(crepe_targets)}\")\n",
        "print(f\"25 cent accuracy: {crepe_matches_25[0].shape[0] / len(crepe_targets)}\")\n",
        "print(f\"10 cent accuracy: {crepe_matches_10[0].shape[0] / len(crepe_targets)}\")"
      ],
      "metadata": {
        "id": "9TZC03zU3Kzs",
        "outputId": "06cdfe6b-a2fe-4f58-abb4-0f254bcbe754",
        "colab": {
          "base_uri": "https://localhost:8080/"
        }
      },
      "execution_count": 121,
      "outputs": [
        {
          "output_type": "stream",
          "name": "stdout",
          "text": [
            "50 cent accuracy: 0.7422222222222222\n",
            "25 cent accuracy: 0.6133333333333333\n",
            "10 cent accuracy: 0.3688888888888889\n"
          ]
        }
      ]
    },
    {
      "cell_type": "code",
      "source": [],
      "metadata": {
        "id": "F89CBfzXzqed"
      },
      "execution_count": null,
      "outputs": []
    },
    {
      "cell_type": "code",
      "source": [],
      "metadata": {
        "id": "0bfAXYXNti6S"
      },
      "execution_count": null,
      "outputs": []
    },
    {
      "cell_type": "markdown",
      "source": [
        "# CRéPE-style network"
      ],
      "metadata": {
        "id": "A16_AKxUOzeh"
      }
    },
    {
      "cell_type": "markdown",
      "source": [
        "## Model Builder"
      ],
      "metadata": {
        "id": "4v9CkCCcO3So"
      }
    },
    {
      "cell_type": "code",
      "source": [
        "models = {\n",
        "    'tiny': None,\n",
        "    'small': None,\n",
        "    'medium': None,\n",
        "    'large': None,\n",
        "    'full': None\n",
        "}\n",
        "\n",
        "# the model is trained on 16 kHz audio for now # TODO: upgrade to a higher samplerate\n",
        "model_samplerate = 1600\n",
        "\n",
        "def make_model(model_capacity, metrics, weights=None):\n",
        "  '''\n",
        "  model_capacity: tiny, small, medium, large, full\n",
        "  weights: path of .h5 weight file\n",
        "  '''\n",
        "\n",
        "  from tensorflow.keras.layers import Input, Reshape, Conv2D, BatchNormalization\n",
        "  from tensorflow.keras.layers import MaxPool2D, Dropout, Permute, Flatten, Dense\n",
        "  from tensorflow.keras.models import Model\n",
        "\n",
        "  capacity_multiplier = {\n",
        "      'tiny': 4, 'small': 8, 'medium': 16, 'large': 24, 'full': 32\n",
        "  }[model_capacity]\n",
        "\n",
        "  layers = [1, 2, 3, 4, 5, 6]\n",
        "  filters = [n * capacity_multiplier for n in [32, 4, 4, 4, 8, 16]]\n",
        "  widths = [512, 64, 64, 64, 64, 64]\n",
        "  strides = [(4,1), (1,1), (1,1), (1,1), (1,1), (1,1)]\n",
        "\n",
        "  x = Input(shape=(1024,), name='input', dtype='float32')\n",
        "  y = Reshape(target_shape=(1024, 1, 1), name='input-reshape')(x)\n",
        "\n",
        "  for l, f, w, s in zip(layers, filters, widths, strides):\n",
        "    y = Conv2D(f, (w, 1), strides=s, padding='same',\n",
        "               activation='relu', name=\"conv%d\" % l)(y)\n",
        "    y = BatchNormalization(name=\"conv%d-BN\" % l)(y)\n",
        "    y = MaxPool2D(pool_size=(2, 1), strides=None, padding='valid',\n",
        "                  name=\"conv%d-maxpool\" % l)(y)\n",
        "    y = Dropout(0.25, name=\"conv%d-dropout\" % l)(y)\n",
        "\n",
        "  y = Permute((2, 1, 3), name=\"transpose\")(y)\n",
        "  y = Flatten(name=\"flatten\")(y)\n",
        "  y = Dense(360, activation='sigmoid', name=\"classifier\")(y)\n",
        "\n",
        "  model = Model(inputs=x, outputs=y)\n",
        "\n",
        "  if weights != None:\n",
        "    model.load_weights(weights)\n",
        "  model.compile(tf.keras.optimizers.Adam(learning_rate=0.0002),\n",
        "                'binary_crossentropy', metrics=metrics)\n",
        "  \n",
        "  models[model_capacity] = model\n",
        "\n",
        "  return model"
      ],
      "metadata": {
        "id": "UzftyuMuOHgx"
      },
      "execution_count": 122,
      "outputs": []
    },
    {
      "cell_type": "code",
      "source": [
        "# todo - Just use Librosa's db_to_power instead?\n",
        "def db_to_pow(db):\n",
        "  '''Convert from dB to power'''\n",
        "  return 10**(db / 10)\n",
        "\n",
        "\n",
        "def frame_energy(frame):\n",
        "  '''Calculates the average energy for a frame\n",
        "    \n",
        "    Parameters\n",
        "    ----------\n",
        "    frame : np.array\n",
        "      audio frame in np.float32 format\n",
        "\n",
        "    Returns\n",
        "    -------\n",
        "    average_energy : float\n",
        "      Average energy level for frame\n",
        "  '''\n",
        "\n",
        "  # Square the sample values to convert to energy values\n",
        "  energy = frame**2\n",
        "\n",
        "  # Sum the energy values to get total energy\n",
        "  total_energy = np.sum(energy)\n",
        "\n",
        "  # Divide by length to get average energy\n",
        "  return total_energy / len(frame)"
      ],
      "metadata": {
        "id": "z3aNDeWLhg7X"
      },
      "execution_count": 124,
      "outputs": []
    },
    {
      "cell_type": "code",
      "source": [
        "def process_audio_file(filepath, samplerate=16000, threshold_pow=1e-06,\n",
        "                       frame_size=1024, step_size=5, onset=True,\n",
        "                       onset_length=0.05):\n",
        "  '''\n",
        "  Processes a single audio file by formatting it into frames and extracting the label.\n",
        "  \n",
        "  Parameters\n",
        "  ----------\n",
        "  filepath : string\n",
        "  Filepath for audio.\n",
        "\n",
        "  threshold_pow : float\n",
        "  Frames with average energy less than this are clipped.\n",
        "\n",
        "  frame_size : int\n",
        "  Number of samples per audio frame\n",
        "\n",
        "  step_size : float\n",
        "  Space between each frame (in milliseconds).\n",
        "\n",
        "  onset : bool\n",
        "  Flag to process only the onsets\n",
        "\n",
        "  onset_length : float\n",
        "  Amount of time to consider as the onset (s)\n",
        "\n",
        "  Returns\n",
        "  -------\n",
        "  frames : np.array dtype=float\n",
        "  The normalized and clipped audio, in frame form.\n",
        "\n",
        "  labels : int[]\n",
        "  The pitch of the audio file, in MIDI. It's duplicated\n",
        "  because the model requires one label for each frame.\n",
        "  '''\n",
        "\n",
        "  '''loader = es.MonoLoader(filename=filepath, sampleRate=samplerate)\n",
        "  audio = loader()\n",
        "\n",
        "  # trim the audio to the first 50 ms\n",
        "  start_stop = es.StartStopSilence(threshold=threshold_pow)\n",
        "  start_frame, stop_frame = 0, 0\n",
        "  for frame in es.FrameGenerator(audio, frame_size, step_size):\n",
        "    start_frame, stop_frame = start_stop(frame)\n",
        "\n",
        "  start_time = float(start_frame * step_size) / float(samplerate)\n",
        "  end_time = start_time + onset_length\n",
        "\n",
        "  # time audio\n",
        "  trimmer = es.Trimmer(startTime=start_time, endTime=end_time)\n",
        "  trimmed_audio = trimmer(audio)'''\n",
        "\n",
        "  audio, _ = librosa.load(filepath, sr=samplerate)\n",
        "\n",
        "  # Format the audio into frames for Crepe\n",
        "  hop_length = int(samplerate * step_size / 1000)\n",
        "  n_frames = 1 + int((len(audio) - 1024) / hop_length)\n",
        "  frames = as_strided(audio, shape=(1024, n_frames),\n",
        "                      strides=(audio.itemsize, hop_length * audio.itemsize))\n",
        "  frames = frames.transpose().copy()\n",
        "\n",
        "  # Find the first frame where the levels meet threshold_pow\n",
        "  for f in range(len(frames)):\n",
        "    if frame_energy(frames[f]) > threshold_pow:\n",
        "      start_frame = f\n",
        "      break\n",
        "  \n",
        "  if onset:\n",
        "    end_frame = f + int(onset_length * 1000 / step_size)\n",
        "  else:\n",
        "    for f in range(len(frames) - 1, -1, -1):\n",
        "      if frame_energy(frames[f]) > threshold_pow:\n",
        "        end_frame = f + 1\n",
        "        break\n",
        "\n",
        "  frames = frames[start_frame:end_frame]\n",
        "\n",
        "  # Normalize each frame\n",
        "  frames -= np.mean(frames, axis=1)[:, np.newaxis]\n",
        "  frames /= np.std(frames, axis=1)[:, np.newaxis]\n",
        "\n",
        "  # Prep labels\n",
        "  labels = [int(os.path.basename(filepath).split(\"_\")[0]) for _ in range(end_frame - start_frame)]\n",
        "\n",
        "  return frames, labels"
      ],
      "metadata": {
        "id": "vDKHROskPrS0"
      },
      "execution_count": 130,
      "outputs": []
    },
    {
      "cell_type": "code",
      "source": [
        "f, l = process_audio_file('/content/SASSE_tiny_16/train/60_train_sample_101.wav', step_size=2)\n",
        "print(len(l))"
      ],
      "metadata": {
        "id": "NZh2MpqaYlCN",
        "outputId": "8590f5de-b37a-49f2-d4b9-36844c266d66",
        "colab": {
          "base_uri": "https://localhost:8080/"
        }
      },
      "execution_count": 132,
      "outputs": [
        {
          "output_type": "stream",
          "name": "stdout",
          "text": [
            "25\n"
          ]
        }
      ]
    },
    {
      "cell_type": "code",
      "source": [
        "def load_audio_batch(dir, samplerate=16000, threshold_db=-60, step_size=5,\n",
        "                     onset=True, onset_length=0.05, blur=True):\n",
        "  '''\n",
        "    Loads and processes all audio files from a directory, returning a single\n",
        "    array of audio frames and labels. Will load audio from nested dirs as well.\n",
        "\n",
        "    Parameters\n",
        "    ----------\n",
        "    dir : string\n",
        "    Starting dirpath to load audio from.\n",
        "\n",
        "    threshold_db : float\n",
        "    Frames with average energy less than this are clipped (this is converted dB -> power first).\n",
        "\n",
        "    Returns\n",
        "    -------\n",
        "    frames_list : np.array dtype=float\n",
        "    Audio frames from all loaded audio files.\n",
        "\n",
        "    labels_list : np.array dtype=float\n",
        "    The labels for the model. It is formatted as a one-hot vector\n",
        "    with Gaussian blur applied, so indices closer to the correct\n",
        "    index are closer to 1 (e.g. if the correct index is 200 then\n",
        "    index 198 might be 0.953 but index 50 might be 0.067).\n",
        "  '''\n",
        "\n",
        "  frames_list = []\n",
        "  labels_list = []\n",
        "  threshold_pow = db_to_pow(threshold_db)\n",
        "\n",
        "  for (dirpath, _, filenames) in walk(dir):\n",
        "    for filename in filenames:\n",
        "      frames, labels = process_audio_file(dirpath + \"/\" + filename,\n",
        "                                          samplerate=samplerate,\n",
        "                                          threshold_pow=threshold_pow,\n",
        "                                          step_size=step_size, onset=onset,\n",
        "                                          onset_length=onset_length)\n",
        "\n",
        "      frames_list.append(frames)\n",
        "      labels_list += labels\n",
        "\n",
        "  # assemble frames from all files into one array\n",
        "  frames_list = np.concatenate(frames_list)\n",
        "\n",
        "  # convert MIDI to Crepe cents one-hot vector (0-360)\n",
        "  with tf.device('/cpu:0'):\n",
        "    lables_list = np.array(tf.one_hot(5 * (np.array(labels_list) - 24), 360))\n",
        "\n",
        "  # apply Gaussian blur\n",
        "  if blur:\n",
        "    cents_i = np.arange(360)\n",
        "    for i in range(len(labels_list)):\n",
        "      cents_true = np.where(labels_list[i] == 1)[0][0]\n",
        "      labels_list[i] = np.exp(-((20 *(cents_i - cents_true)) ** 2) / (2 * (25 ** 2)))\n",
        "\n",
        "  return frames_list, labels_list"
      ],
      "metadata": {
        "id": "c6jLMAXdysUX"
      },
      "execution_count": 133,
      "outputs": []
    },
    {
      "cell_type": "code",
      "source": [
        "metrics = \"Accuracy\"\n",
        "model = make_model('full', metrics=metrics)\n",
        "model.summary()"
      ],
      "metadata": {
        "id": "UHAGCprwysJ9",
        "outputId": "d15a54ca-f17e-427e-c492-19b40e8ff907",
        "colab": {
          "base_uri": "https://localhost:8080/"
        }
      },
      "execution_count": 134,
      "outputs": [
        {
          "output_type": "stream",
          "name": "stdout",
          "text": [
            "Model: \"model_2\"\n",
            "_________________________________________________________________\n",
            " Layer (type)                Output Shape              Param #   \n",
            "=================================================================\n",
            " input (InputLayer)          [(None, 1024)]            0         \n",
            "                                                                 \n",
            " input-reshape (Reshape)     (None, 1024, 1, 1)        0         \n",
            "                                                                 \n",
            " conv1 (Conv2D)              (None, 256, 1, 1024)      525312    \n",
            "                                                                 \n",
            " conv1-BN (BatchNormalizatio  (None, 256, 1, 1024)     4096      \n",
            " n)                                                              \n",
            "                                                                 \n",
            " conv1-maxpool (MaxPooling2D  (None, 128, 1, 1024)     0         \n",
            " )                                                               \n",
            "                                                                 \n",
            " conv1-dropout (Dropout)     (None, 128, 1, 1024)      0         \n",
            "                                                                 \n",
            " conv2 (Conv2D)              (None, 128, 1, 128)       8388736   \n",
            "                                                                 \n",
            " conv2-BN (BatchNormalizatio  (None, 128, 1, 128)      512       \n",
            " n)                                                              \n",
            "                                                                 \n",
            " conv2-maxpool (MaxPooling2D  (None, 64, 1, 128)       0         \n",
            " )                                                               \n",
            "                                                                 \n",
            " conv2-dropout (Dropout)     (None, 64, 1, 128)        0         \n",
            "                                                                 \n",
            " conv3 (Conv2D)              (None, 64, 1, 128)        1048704   \n",
            "                                                                 \n",
            " conv3-BN (BatchNormalizatio  (None, 64, 1, 128)       512       \n",
            " n)                                                              \n",
            "                                                                 \n",
            " conv3-maxpool (MaxPooling2D  (None, 32, 1, 128)       0         \n",
            " )                                                               \n",
            "                                                                 \n",
            " conv3-dropout (Dropout)     (None, 32, 1, 128)        0         \n",
            "                                                                 \n",
            " conv4 (Conv2D)              (None, 32, 1, 128)        1048704   \n",
            "                                                                 \n",
            " conv4-BN (BatchNormalizatio  (None, 32, 1, 128)       512       \n",
            " n)                                                              \n",
            "                                                                 \n",
            " conv4-maxpool (MaxPooling2D  (None, 16, 1, 128)       0         \n",
            " )                                                               \n",
            "                                                                 \n",
            " conv4-dropout (Dropout)     (None, 16, 1, 128)        0         \n",
            "                                                                 \n",
            " conv5 (Conv2D)              (None, 16, 1, 256)        2097408   \n",
            "                                                                 \n",
            " conv5-BN (BatchNormalizatio  (None, 16, 1, 256)       1024      \n",
            " n)                                                              \n",
            "                                                                 \n",
            " conv5-maxpool (MaxPooling2D  (None, 8, 1, 256)        0         \n",
            " )                                                               \n",
            "                                                                 \n",
            " conv5-dropout (Dropout)     (None, 8, 1, 256)         0         \n",
            "                                                                 \n",
            " conv6 (Conv2D)              (None, 8, 1, 512)         8389120   \n",
            "                                                                 \n",
            " conv6-BN (BatchNormalizatio  (None, 8, 1, 512)        2048      \n",
            " n)                                                              \n",
            "                                                                 \n",
            " conv6-maxpool (MaxPooling2D  (None, 4, 1, 512)        0         \n",
            " )                                                               \n",
            "                                                                 \n",
            " conv6-dropout (Dropout)     (None, 4, 1, 512)         0         \n",
            "                                                                 \n",
            " transpose (Permute)         (None, 1, 4, 512)         0         \n",
            "                                                                 \n",
            " flatten (Flatten)           (None, 2048)              0         \n",
            "                                                                 \n",
            " classifier (Dense)          (None, 360)               737640    \n",
            "                                                                 \n",
            "=================================================================\n",
            "Total params: 22,244,328\n",
            "Trainable params: 22,239,976\n",
            "Non-trainable params: 4,352\n",
            "_________________________________________________________________\n"
          ]
        }
      ]
    },
    {
      "cell_type": "code",
      "source": [],
      "metadata": {
        "id": "1xXCZjMpyr6Y"
      },
      "execution_count": null,
      "outputs": []
    },
    {
      "cell_type": "code",
      "source": [],
      "metadata": {
        "id": "dQ5L1bPKyr0D"
      },
      "execution_count": null,
      "outputs": []
    },
    {
      "cell_type": "code",
      "source": [],
      "metadata": {
        "id": "nKYvMx71yruP"
      },
      "execution_count": null,
      "outputs": []
    },
    {
      "cell_type": "code",
      "source": [],
      "metadata": {
        "id": "FpGkkN6byrk_"
      },
      "execution_count": null,
      "outputs": []
    },
    {
      "cell_type": "code",
      "source": [],
      "metadata": {
        "id": "gGHPH07Xyre_"
      },
      "execution_count": null,
      "outputs": []
    },
    {
      "cell_type": "code",
      "source": [],
      "metadata": {
        "id": "L8VmWL4ayrYP"
      },
      "execution_count": null,
      "outputs": []
    },
    {
      "cell_type": "code",
      "source": [],
      "metadata": {
        "id": "WWaDfiAsyrJS"
      },
      "execution_count": null,
      "outputs": []
    },
    {
      "cell_type": "code",
      "source": [],
      "metadata": {
        "id": "_1e6ZAm_P1uG"
      },
      "execution_count": null,
      "outputs": []
    }
  ]
}