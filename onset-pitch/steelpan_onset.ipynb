{
  "nbformat": 4,
  "nbformat_minor": 0,
  "metadata": {
    "colab": {
      "provenance": [],
      "toc_visible": true,
      "authorship_tag": "ABX9TyN+yJa1h4r4xDuEWF9Wh6qV",
      "include_colab_link": true
    },
    "kernelspec": {
      "name": "python3",
      "display_name": "Python 3"
    },
    "language_info": {
      "name": "python"
    }
  },
  "cells": [
    {
      "cell_type": "markdown",
      "metadata": {
        "id": "view-in-github",
        "colab_type": "text"
      },
      "source": [
        "<a href=\"https://colab.research.google.com/github/malloyca/steelpan-pitch/blob/main/onset-pitch/steelpan_onset.ipynb\" target=\"_parent\"><img src=\"https://colab.research.google.com/assets/colab-badge.svg\" alt=\"Open In Colab\"/></a>"
      ]
    },
    {
      "cell_type": "markdown",
      "source": [
        "# Steelpan Onset-based Pitch Detection\n",
        "\n",
        "For 183rd Meeting of the Acoustical Society of America, December 8, 2022."
      ],
      "metadata": {
        "id": "K4gWdZeIJnG9"
      }
    },
    {
      "cell_type": "code",
      "source": [
        "!pip install crepe\n",
        "import crepe"
      ],
      "metadata": {
        "colab": {
          "base_uri": "https://localhost:8080/"
        },
        "id": "42kLt07xu5Rx",
        "outputId": "154f9f47-64d0-4621-fe41-03d6b2968eb2"
      },
      "execution_count": 3,
      "outputs": [
        {
          "output_type": "stream",
          "name": "stdout",
          "text": [
            "Looking in indexes: https://pypi.org/simple, https://us-python.pkg.dev/colab-wheels/public/simple/\n",
            "Requirement already satisfied: crepe in /usr/local/lib/python3.7/dist-packages (0.0.13)\n",
            "Requirement already satisfied: matplotlib>=2.1.0 in /usr/local/lib/python3.7/dist-packages (from crepe) (3.2.2)\n",
            "Requirement already satisfied: scikit-learn>=0.16 in /usr/local/lib/python3.7/dist-packages (from crepe) (1.0.2)\n",
            "Requirement already satisfied: h5py in /usr/local/lib/python3.7/dist-packages (from crepe) (3.1.0)\n",
            "Requirement already satisfied: imageio>=2.3.0 in /usr/local/lib/python3.7/dist-packages (from crepe) (2.9.0)\n",
            "Requirement already satisfied: scipy>=1.0.0 in /usr/local/lib/python3.7/dist-packages (from crepe) (1.7.3)\n",
            "Requirement already satisfied: hmmlearn<0.3.0,>=0.2.8 in /usr/local/lib/python3.7/dist-packages (from crepe) (0.2.8)\n",
            "Requirement already satisfied: resampy<0.3.0,>=0.2.0 in /usr/local/lib/python3.7/dist-packages (from crepe) (0.2.2)\n",
            "Requirement already satisfied: numpy>=1.14.0 in /usr/local/lib/python3.7/dist-packages (from crepe) (1.21.6)\n",
            "Requirement already satisfied: pillow in /usr/local/lib/python3.7/dist-packages (from imageio>=2.3.0->crepe) (7.1.2)\n",
            "Requirement already satisfied: kiwisolver>=1.0.1 in /usr/local/lib/python3.7/dist-packages (from matplotlib>=2.1.0->crepe) (1.4.4)\n",
            "Requirement already satisfied: python-dateutil>=2.1 in /usr/local/lib/python3.7/dist-packages (from matplotlib>=2.1.0->crepe) (2.8.2)\n",
            "Requirement already satisfied: pyparsing!=2.0.4,!=2.1.2,!=2.1.6,>=2.0.1 in /usr/local/lib/python3.7/dist-packages (from matplotlib>=2.1.0->crepe) (3.0.9)\n",
            "Requirement already satisfied: cycler>=0.10 in /usr/local/lib/python3.7/dist-packages (from matplotlib>=2.1.0->crepe) (0.11.0)\n",
            "Requirement already satisfied: typing-extensions in /usr/local/lib/python3.7/dist-packages (from kiwisolver>=1.0.1->matplotlib>=2.1.0->crepe) (4.1.1)\n",
            "Requirement already satisfied: six>=1.5 in /usr/local/lib/python3.7/dist-packages (from python-dateutil>=2.1->matplotlib>=2.1.0->crepe) (1.15.0)\n",
            "Requirement already satisfied: numba>=0.32 in /usr/local/lib/python3.7/dist-packages (from resampy<0.3.0,>=0.2.0->crepe) (0.56.4)\n",
            "Requirement already satisfied: llvmlite<0.40,>=0.39.0dev0 in /usr/local/lib/python3.7/dist-packages (from numba>=0.32->resampy<0.3.0,>=0.2.0->crepe) (0.39.1)\n",
            "Requirement already satisfied: importlib-metadata in /usr/local/lib/python3.7/dist-packages (from numba>=0.32->resampy<0.3.0,>=0.2.0->crepe) (4.13.0)\n",
            "Requirement already satisfied: setuptools in /usr/local/lib/python3.7/dist-packages (from numba>=0.32->resampy<0.3.0,>=0.2.0->crepe) (57.4.0)\n",
            "Requirement already satisfied: threadpoolctl>=2.0.0 in /usr/local/lib/python3.7/dist-packages (from scikit-learn>=0.16->crepe) (3.1.0)\n",
            "Requirement already satisfied: joblib>=0.11 in /usr/local/lib/python3.7/dist-packages (from scikit-learn>=0.16->crepe) (1.2.0)\n",
            "Requirement already satisfied: cached-property in /usr/local/lib/python3.7/dist-packages (from h5py->crepe) (1.5.2)\n",
            "Requirement already satisfied: zipp>=0.5 in /usr/local/lib/python3.7/dist-packages (from importlib-metadata->numba>=0.32->resampy<0.3.0,>=0.2.0->crepe) (3.10.0)\n"
          ]
        }
      ]
    },
    {
      "cell_type": "code",
      "source": [
        "!pip install essentia\n",
        "import essentia.standard as es"
      ],
      "metadata": {
        "id": "M8fjXLVCjCSn",
        "outputId": "ca3186e6-d437-450f-972a-5b4d569b52b4",
        "colab": {
          "base_uri": "https://localhost:8080/"
        }
      },
      "execution_count": 25,
      "outputs": [
        {
          "output_type": "stream",
          "name": "stdout",
          "text": [
            "Looking in indexes: https://pypi.org/simple, https://us-python.pkg.dev/colab-wheels/public/simple/\n",
            "Collecting essentia\n",
            "  Downloading essentia-2.1b6.dev858-cp37-cp37m-manylinux_2_17_x86_64.manylinux2014_x86_64.whl (13.6 MB)\n",
            "\u001b[K     |████████████████████████████████| 13.6 MB 21.3 MB/s \n",
            "\u001b[?25hRequirement already satisfied: six in /usr/local/lib/python3.7/dist-packages (from essentia) (1.15.0)\n",
            "Requirement already satisfied: pyyaml in /usr/local/lib/python3.7/dist-packages (from essentia) (6.0)\n",
            "Requirement already satisfied: numpy>=1.8.2 in /usr/local/lib/python3.7/dist-packages (from essentia) (1.21.6)\n",
            "Installing collected packages: essentia\n",
            "Successfully installed essentia-2.1b6.dev858\n"
          ]
        }
      ]
    },
    {
      "cell_type": "code",
      "execution_count": 4,
      "metadata": {
        "colab": {
          "base_uri": "https://localhost:8080/"
        },
        "id": "OlFNmf3yJlgL",
        "outputId": "226e3107-1c8f-48ec-f19b-ea1867967fe0"
      },
      "outputs": [
        {
          "output_type": "stream",
          "name": "stdout",
          "text": [
            "TensorFlow version: 2.9.2\n",
            "[PhysicalDevice(name='/physical_device:CPU:0', device_type='CPU')]\n"
          ]
        }
      ],
      "source": [
        "# imports\n",
        "import tensorflow as tf\n",
        "import numpy as np\n",
        "import matplotlib.pyplot as plt\n",
        "import librosa\n",
        "from librosa import display\n",
        "\n",
        "print(f\"TensorFlow version: {tf.__version__}\")\n",
        "\n",
        "physical_devices = tf.config.list_physical_devices()\n",
        "print(physical_devices)"
      ]
    },
    {
      "cell_type": "code",
      "source": [
        "# download the SASSE dataset # TODO: update dataset to newer version\n",
        "#!gdown 1hRfdF0ko2ItGK0y9z4xU_7VQLgRIx4Ql\n",
        "#!unzip -u -qq '/content/SASSE_tiny_16.zip'"
      ],
      "metadata": {
        "id": "CB0UJjvHKDKv"
      },
      "execution_count": 5,
      "outputs": []
    },
    {
      "cell_type": "code",
      "source": [
        "# download the SASSE-16k dataset\n",
        "!gdown 11volHbUTp1X0NyrtiEgjRtgwivwaw1Bs\n",
        "!unzip -u -qq '/content/SASSE_16.zip'"
      ],
      "metadata": {
        "colab": {
          "base_uri": "https://localhost:8080/"
        },
        "id": "d9X1Sy-x8q0d",
        "outputId": "b8af5637-2296-407e-ff1d-ac87e5086cf7"
      },
      "execution_count": 6,
      "outputs": [
        {
          "output_type": "stream",
          "name": "stdout",
          "text": [
            "Downloading...\n",
            "From: https://drive.google.com/uc?id=11volHbUTp1X0NyrtiEgjRtgwivwaw1Bs\n",
            "To: /content/SASSE_16.zip\n",
            "100% 443M/443M [00:02<00:00, 178MB/s]\n"
          ]
        }
      ]
    },
    {
      "cell_type": "code",
      "source": [
        "# download the SASSE-48k dataset\n",
        "!gdown 1U3IfVjQ_xCc7ZqVZpR9oPNAtPfA26CKs\n",
        "!unzip -u -qq '/content/SASSE_48.zip'"
      ],
      "metadata": {
        "colab": {
          "base_uri": "https://localhost:8080/"
        },
        "id": "KYt3WQQf9OZC",
        "outputId": "a5d8b1b9-3577-4d04-941e-f1e7836122aa"
      },
      "execution_count": 7,
      "outputs": [
        {
          "output_type": "stream",
          "name": "stdout",
          "text": [
            "Downloading...\n",
            "From: https://drive.google.com/uc?id=1U3IfVjQ_xCc7ZqVZpR9oPNAtPfA26CKs\n",
            "To: /content/SASSE_48.zip\n",
            "100% 1.10G/1.10G [00:07<00:00, 138MB/s]\n"
          ]
        }
      ]
    },
    {
      "cell_type": "markdown",
      "source": [
        "# Steelpan Note Transients"
      ],
      "metadata": {
        "id": "Q45Fx-EZlF74"
      }
    },
    {
      "cell_type": "markdown",
      "source": [
        "Let's begin by examining the attack transients of a few steelpan samples."
      ],
      "metadata": {
        "id": "Q9u-xCH5lKho"
      }
    },
    {
      "cell_type": "code",
      "source": [
        "frame_length = 2048\n",
        "sr = 22050\n",
        "attack_time = es.LogAttackTime(sampleRate=sr, startAttackThreshold=0.1, stopAttackThreshold=0.95)"
      ],
      "metadata": {
        "id": "26qc-LMu69-s"
      },
      "execution_count": 53,
      "outputs": []
    },
    {
      "cell_type": "code",
      "source": [
        "audio_01, sr = librosa.load('/content/SASSE_48/validation/60_valid_sample_7.wav')\n",
        "\n",
        "lat, attack_start, attack_stop = attack_time(audio_01)\n",
        "start, stop = int(sr * attack_start), int(sr * attack_stop)\n",
        "\n",
        "#plot first 50 ms\n",
        "fig, ax = plt.subplots()\n",
        "librosa.display.waveshow(audio_01[:int(0.05*sr)], sr=sr, ax=ax)\n",
        "plt.show()"
      ],
      "metadata": {
        "id": "9vNHpUuXlKIs",
        "outputId": "6923fef2-c614-4988-ee41-cf0e2fa9ca1f",
        "colab": {
          "base_uri": "https://localhost:8080/",
          "height": 279
        }
      },
      "execution_count": 54,
      "outputs": [
        {
          "output_type": "display_data",
          "data": {
            "text/plain": [
              "<Figure size 432x288 with 1 Axes>"
            ],
            "image/png": "[encoded data removed]"
          },
          "metadata": {
            "needs_background": "light"
          }
        }
      ]
    },
    {
      "cell_type": "code",
      "source": [
        "print(f\"Attack length: {(attack_stop - attack_start) * 1000} ms\")\n",
        "print(f\"Number of samples: {int((attack_stop - attack_start)*sr)}\")\n",
        "fig, ax = plt.subplots()\n",
        "librosa.display.waveshow(audio_01[int(attack_start * sr) : int(attack_stop * sr)])\n",
        "plt.show()"
      ],
      "metadata": {
        "id": "Rqz6l84zrOw9",
        "outputId": "3e193452-f17d-46b5-a5fd-c9a644c1b3b7",
        "colab": {
          "base_uri": "https://localhost:8080/",
          "height": 313
        }
      },
      "execution_count": 55,
      "outputs": [
        {
          "output_type": "stream",
          "name": "stdout",
          "text": [
            "Attack length: 15.011338517069817 ms\n",
            "Number of samples: 331\n"
          ]
        },
        {
          "output_type": "display_data",
          "data": {
            "text/plain": [
              "<Figure size 432x288 with 1 Axes>"
            ],
            "image/png": "[encoded data removed]"
          },
          "metadata": {
            "needs_background": "light"
          }
        }
      ]
    },
    {
      "cell_type": "code",
      "source": [
        "audio = audio_01\n",
        "\n",
        "yin_out = librosa.yin(audio[:frame_length], fmin=librosa.note_to_hz('C2'), fmax=librosa.note_to_hz('C7'))\n",
        "yin_out = librosa.hz_to_midi(yin_out)\n",
        "print(f\"50 ms: {np.round(yin_out,2)}\")\n",
        "\n",
        "yin_out = librosa.yin(audio[start:stop], fmin=librosa.note_to_hz('C2'), fmax=librosa.note_to_hz('C7'))\n",
        "yin_out = librosa.hz_to_midi(yin_out)\n",
        "print(f\"attack predictions: {np.round(yin_out, 2)}\")"
      ],
      "metadata": {
        "id": "xOUK5T5MnBaX",
        "outputId": "ff631ade-b46d-4012-c467-2d0be66cae41",
        "colab": {
          "base_uri": "https://localhost:8080/"
        }
      },
      "execution_count": 56,
      "outputs": [
        {
          "output_type": "stream",
          "name": "stdout",
          "text": [
            "50 ms: [60.68 60.91 60.68 60.43 60.42]\n",
            "attack predictions: [48.3]\n"
          ]
        }
      ]
    },
    {
      "cell_type": "code",
      "source": [
        "audio = audio_01\n",
        "\n",
        "pyin_out, _, _ = librosa.pyin(audio[:frame_length], fmin=librosa.note_to_hz('C2'), fmax=librosa.note_to_hz('C7'))\n",
        "pyin_out = librosa.hz_to_midi(pyin_out)\n",
        "print(f\"50ms: {pyin_out}\")\n",
        "\n",
        "pyin_out, _, _ = librosa.pyin(audio[start:stop], fmin=librosa.note_to_hz('C2'), fmax=librosa.note_to_hz('C7'))\n",
        "pyin_out = librosa.hz_to_midi(pyin_out)\n",
        "print(f\"attack: {pyin_out}\")"
      ],
      "metadata": {
        "id": "GTzJ7im_oj6n",
        "outputId": "4af691aa-439c-4415-8052-1ed29353fd5c",
        "colab": {
          "base_uri": "https://localhost:8080/"
        }
      },
      "execution_count": 57,
      "outputs": [
        {
          "output_type": "stream",
          "name": "stdout",
          "text": [
            "50ms: [ nan 60.9 60.7 60.4 60.4]\n",
            "attack: [nan]\n"
          ]
        }
      ]
    },
    {
      "cell_type": "code",
      "source": [
        "audio = audio_01\n",
        "\n",
        "time, crepe_pred, _, _ = crepe.predict(audio, sr, viterbi=True)\n",
        "crepe_pred = librosa.hz_to_midi(crepe_pred)\n",
        "print(f\"50 ms: {np.round(crepe_pred,2)}\")\n",
        "\n",
        "time, crepe_pred, _, _ = crepe.predict(audio[start:stop], sr, viterbi=True)\n",
        "crepe_pred = librosa.hz_to_midi(crepe_pred)\n",
        "print(f\"attack: {np.round(crepe_pred,2)}\")"
      ],
      "metadata": {
        "colab": {
          "base_uri": "https://localhost:8080/"
        },
        "id": "174Pv228v1kA",
        "outputId": "931337b0-044d-4e79-9351-5e58d6047856"
      },
      "execution_count": 59,
      "outputs": [
        {
          "output_type": "stream",
          "name": "stdout",
          "text": [
            "8/8 [==============================] - 12s 1s/step\n",
            "50 ms: [60.65 60.51 60.46 60.42 60.32 60.36 60.46 60.46 60.4  60.27 60.18 60.16\n",
            " 60.14 60.12 60.14 60.15 60.14 60.12 60.09 60.08 60.09 60.11 60.13 60.13\n",
            " 60.12 60.09 60.09 60.09 60.11 60.11 60.11 60.11 60.09 60.06 60.07 60.09\n",
            " 60.09 60.09 60.08 60.08 60.07 60.08 60.08 60.1  60.08 60.08 60.07 60.07\n",
            " 60.08 60.09 60.1  60.09 60.08 60.07 60.07 60.07 60.11 60.12 60.12 60.1\n",
            " 60.08 60.08 60.08 60.08 60.09 60.08 60.06 60.07 60.07 60.08 60.08 60.08\n",
            " 60.07 60.07 60.06 60.07 60.08 60.09 60.07 60.06 60.07 60.07 60.06 60.08\n",
            " 60.08 60.07 60.06 60.06 60.07 60.08 60.07 60.06 60.07 60.06 60.07 60.08\n",
            " 60.1  60.08 60.07 60.07 60.07 60.07 60.09 60.09 60.1  60.07 60.06 60.07\n",
            " 60.09 60.08 60.09 60.08 60.07 60.09 60.1  60.1  60.08 60.07 60.07 60.08\n",
            " 60.07 60.09 60.08 60.07 60.07 60.07 60.06 60.06 60.07 60.1  60.08 60.07\n",
            " 60.07 60.07 60.09 60.09 60.06 60.07 60.08 60.1  60.1  60.09 60.1  60.09\n",
            " 60.07 60.07 60.07 60.07 60.1  60.12 60.11 60.08 60.05 60.05 60.07 60.06\n",
            " 60.06 60.12 60.14 60.14 60.1  60.08 59.99 59.99 60.07 60.23 60.3  60.24\n",
            " 60.06 60.07 60.05 59.97 59.98 59.99 60.02 60.09 60.15 60.17 60.02 60.12\n",
            " 60.16 60.04 59.98 60.   60.02 60.06 60.12 59.91 59.78 59.77 59.75 60.01\n",
            " 60.11 60.17 60.33 60.24 60.08 60.14 59.73 59.44 59.93 59.74 59.86 58.18\n",
            " 56.11 56.18 57.01 58.6  59.93 60.73 60.   59.95 58.58 56.79 56.3  56.28\n",
            " 54.52 52.37 49.66 47.81 47.63 47.56 47.39 47.47 47.52 47.49 47.6  47.48\n",
            " 47.7  47.45 46.99 46.22 44.42 42.94 42.99]\n",
            "1/1 [==============================] - 0s 127ms/step\n",
            "attack: [60.86 60.67]\n"
          ]
        }
      ]
    },
    {
      "cell_type": "markdown",
      "source": [
        "### What this shows\n",
        "\n",
        "What the tests show for performing this on just the attack portion as determined by Essentia is that accuracy on such a small section is difficult and the algorithms clearly rely on longer contexts for accuracy."
      ],
      "metadata": {
        "id": "LvPWo1BbvSCt"
      }
    },
    {
      "cell_type": "code",
      "source": [
        "audio_rev = audio[::-1]\n",
        "\n",
        "time, crepe_pred, _, _ = crepe.predict(audio_rev, sr, viterbi=True)\n",
        "crepe_pred = librosa.hz_to_midi(crepe_pred)\n",
        "print(f\"50 ms: {np.round(crepe_pred,2)}\")\n",
        "\n",
        "#plot first 50 ms\n",
        "fig, ax = plt.subplots()\n",
        "librosa.display.waveshow(audio_rev, sr=sr, ax=ax)\n",
        "plt.show()"
      ],
      "metadata": {
        "id": "idDzTzZLytb8",
        "outputId": "8217d9a5-40f0-476b-fcb6-f39d2dee8445",
        "colab": {
          "base_uri": "https://localhost:8080/",
          "height": 670
        }
      },
      "execution_count": 67,
      "outputs": [
        {
          "output_type": "stream",
          "name": "stdout",
          "text": [
            "8/8 [==============================] - 14s 2s/step\n",
            "50 ms: [55.62 55.53 54.5  53.96 53.08 52.62 52.06 51.4  50.87 50.03 48.38 47.3\n",
            " 47.77 47.66 47.98 47.92 47.78 47.63 49.17 50.85 51.99 53.65 54.85 54.88\n",
            " 54.93 54.88 54.92 55.02 56.5  56.3  56.66 57.98 59.65 59.88 59.72 59.46\n",
            " 59.37 59.81 60.16 60.17 60.15 60.07 60.28 60.01 59.71 59.79 59.91 60.01\n",
            " 60.08 60.07 60.02 60.03 59.99 60.06 60.02 59.98 60.08 60.12 60.08 60.01\n",
            " 59.98 60.01 60.02 60.   59.95 60.1  60.27 60.36 60.27 60.09 60.01 59.98\n",
            " 60.03 60.05 60.11 60.15 60.11 60.11 60.08 60.07 60.04 60.02 60.04 60.07\n",
            " 60.09 60.11 60.1  60.07 60.05 60.06 60.06 60.07 60.07 60.07 60.08 60.08\n",
            " 60.07 60.06 60.05 60.07 60.06 60.05 60.05 60.06 60.07 60.08 60.06 60.05\n",
            " 60.04 60.05 60.06 60.06 60.07 60.07 60.07 60.07 60.06 60.04 60.08 60.08\n",
            " 60.1  60.08 60.08 60.06 60.08 60.06 60.08 60.06 60.06 60.05 60.06 60.07\n",
            " 60.07 60.06 60.06 60.05 60.05 60.06 60.07 60.06 60.06 60.05 60.06 60.05\n",
            " 60.06 60.06 60.05 60.05 60.05 60.05 60.06 60.06 60.06 60.06 60.05 60.04\n",
            " 60.05 60.06 60.07 60.07 60.06 60.05 60.05 60.06 60.07 60.07 60.07 60.06\n",
            " 60.05 60.06 60.07 60.06 60.08 60.07 60.06 60.07 60.09 60.1  60.11 60.08\n",
            " 60.07 60.06 60.06 60.07 60.08 60.08 60.08 60.05 60.06 60.07 60.06 60.08\n",
            " 60.08 60.07 60.06 60.06 60.06 60.09 60.07 60.09 60.07 60.07 60.06 60.08\n",
            " 60.09 60.11 60.1  60.09 60.09 60.09 60.1  60.12 60.12 60.12 60.11 60.08\n",
            " 60.09 60.1  60.13 60.15 60.15 60.15 60.15 60.15 60.18 60.25 60.33 60.49\n",
            " 60.5  60.41 60.37 60.35 60.39 60.35 60.33]\n"
          ]
        },
        {
          "output_type": "stream",
          "name": "stderr",
          "text": [
            "/usr/local/lib/python3.7/dist-packages/librosa/util/utils.py:200: UserWarning: librosa.util.frame called with axis=-1 on a non-contiguous input. This will result in a copy.\n",
            "  \"on a non-contiguous input. This will result in a copy.\".format(axis)\n"
          ]
        },
        {
          "output_type": "display_data",
          "data": {
            "text/plain": [
              "<Figure size 432x288 with 1 Axes>"
            ],
            "image/png": "[encoded data removed]"
          },
          "metadata": {
            "needs_background": "light"
          }
        }
      ]
    },
    {
      "cell_type": "markdown",
      "source": [
        "### Thoughts on bi-directional analysis\n",
        "\n",
        "Interestingly, what this cell shows is that doing pitch detection in reverse gives different results. My intuition is that this could be caused by one of two things:\n",
        "1. You are just catching the audio at different points. This would be similar to changing the start point of the analysis.\n",
        "  - I'm leaning against this, however, since you'd think that the results would still be similar. The beginnings and endings of the two prediction arrays vary quite a bit, however. This leads me to my second hypothesis:\n",
        "2. That since this is probabilistic (it uses the Viterbi algorithm) - and thus dependent on previous predictions - the direction of the processing affects the output values. The question then becomes, can we improve pitch detection results by performing bi-directional analysis?\n",
        "  - An initial test of this would be to analyze an annotated dataset both forwards and backwards and then combining/averaging that data somehow. Another intersting approach would be to build a pitch detection architecture that does the bi-directional analysis by default.\n",
        "  - The unfortunate limitation of this method would be that it really only works for offline analysis."
      ],
      "metadata": {
        "id": "Ww5c_rg8z_9O"
      }
    },
    {
      "cell_type": "code",
      "source": [
        "audio_02, sr = librosa.load('/content/SASSE_48/validation/65_valid_sample_33.wav')\n",
        "\n",
        "#plot first 50 ms\n",
        "fig, ax = plt.subplots()\n",
        "librosa.display.waveshow(audio_02[:int(0.05*sr)], sr=sr, ax=ax)\n",
        "plt.show()"
      ],
      "metadata": {
        "id": "pDCMR1I-lKFr",
        "outputId": "3ad0ebd5-139b-4408-cec4-c48b4b749027",
        "colab": {
          "base_uri": "https://localhost:8080/",
          "height": 279
        }
      },
      "execution_count": 13,
      "outputs": [
        {
          "output_type": "display_data",
          "data": {
            "text/plain": [
              "<Figure size 432x288 with 1 Axes>"
            ],
            "image/png": "[encoded data removed]"
          },
          "metadata": {
            "needs_background": "light"
          }
        }
      ]
    },
    {
      "cell_type": "code",
      "source": [
        "yin_out = librosa.yin(audio_02[:frame_length], fmin=librosa.note_to_hz('C2'), fmax=librosa.note_to_hz('C7'))\n",
        "yin_out = librosa.hz_to_midi(yin_out)\n",
        "print(np.round(yin_out,2))"
      ],
      "metadata": {
        "id": "jfaYyAzNlKC4",
        "outputId": "c6ccbce7-19fe-4a02-824d-fdfbf8c1ac41",
        "colab": {
          "base_uri": "https://localhost:8080/"
        }
      },
      "execution_count": 14,
      "outputs": [
        {
          "output_type": "stream",
          "name": "stdout",
          "text": [
            "[65.26 65.33 65.25 65.1  65.01]\n"
          ]
        }
      ]
    },
    {
      "cell_type": "code",
      "source": [
        "pyin_out, _, _ = librosa.pyin(audio_02[:frame_length], fmin=librosa.note_to_hz('C2'), fmax=librosa.note_to_hz('C7'))\n",
        "pyin_out = librosa.hz_to_midi(pyin_out)\n",
        "print(pyin_out)"
      ],
      "metadata": {
        "id": "t2W_wVsjlKAD",
        "outputId": "e6ade659-baf8-406a-c79e-64a0bf9e1b35",
        "colab": {
          "base_uri": "https://localhost:8080/"
        }
      },
      "execution_count": 15,
      "outputs": [
        {
          "output_type": "stream",
          "name": "stdout",
          "text": [
            "[ nan 65.3 65.2 65.1 65. ]\n"
          ]
        }
      ]
    },
    {
      "cell_type": "code",
      "source": [
        "time, crepe_pred, _, _ = crepe.predict(audio_02[:frame_length], sr, viterbi=True)\n",
        "crepe_pred = librosa.hz_to_midi(crepe_pred)\n",
        "print(np.round(crepe_pred,2))"
      ],
      "metadata": {
        "colab": {
          "base_uri": "https://localhost:8080/"
        },
        "id": "JmF0VMG5wTqt",
        "outputId": "94a1e918-95ba-414f-ae21-c61f419a9f7d"
      },
      "execution_count": 16,
      "outputs": [
        {
          "output_type": "stream",
          "name": "stdout",
          "text": [
            "1/1 [==============================] - 0s 494ms/step\n",
            "[65.04 65.02 65.07 65.04 64.99 65.01 65.01 65.   65.   64.98]\n"
          ]
        }
      ]
    },
    {
      "cell_type": "code",
      "source": [
        "audio_03, sr = librosa.load('/content/SASSE_48/validation/70_valid_sample_86.wav')\n",
        "\n",
        "#plot first 50 ms\n",
        "fig, ax = plt.subplots()\n",
        "librosa.display.waveshow(audio_03[:int(0.05*sr)], sr=sr, ax=ax)\n",
        "plt.show()"
      ],
      "metadata": {
        "id": "gGBFkOMRlJ9R",
        "outputId": "53f18330-8f93-494c-e2c8-37b2e8d2a31a",
        "colab": {
          "base_uri": "https://localhost:8080/",
          "height": 279
        }
      },
      "execution_count": 17,
      "outputs": [
        {
          "output_type": "display_data",
          "data": {
            "text/plain": [
              "<Figure size 432x288 with 1 Axes>"
            ],
            "image/png": "[encoded data removed]"
          },
          "metadata": {
            "needs_background": "light"
          }
        }
      ]
    },
    {
      "cell_type": "code",
      "source": [
        "yin_out = librosa.yin(audio_03[:frame_length], fmin=librosa.note_to_hz('C2'), fmax=librosa.note_to_hz('C7'))\n",
        "yin_out = librosa.hz_to_midi(yin_out)\n",
        "print(np.round(yin_out,2))"
      ],
      "metadata": {
        "id": "Obrf-AQclJ6c",
        "outputId": "4fe808fd-2c4a-47f3-9e7b-c61f00715725",
        "colab": {
          "base_uri": "https://localhost:8080/"
        }
      },
      "execution_count": 18,
      "outputs": [
        {
          "output_type": "stream",
          "name": "stdout",
          "text": [
            "[70.06 70.17 70.06 70.05 70.06]\n"
          ]
        }
      ]
    },
    {
      "cell_type": "code",
      "source": [
        "pyin_out, _, _ = librosa.pyin(audio_03[:frame_length], fmin=librosa.note_to_hz('C2'), fmax=librosa.note_to_hz('C7'))\n",
        "pyin_out = librosa.hz_to_midi(pyin_out)\n",
        "print(pyin_out)"
      ],
      "metadata": {
        "id": "oEShzD_4lJ3z",
        "outputId": "31241d82-de58-4497-936e-ae7d33097d34",
        "colab": {
          "base_uri": "https://localhost:8080/"
        }
      },
      "execution_count": 19,
      "outputs": [
        {
          "output_type": "stream",
          "name": "stdout",
          "text": [
            "[ nan 70.2 70.1 70.  70.1]\n"
          ]
        }
      ]
    },
    {
      "cell_type": "code",
      "source": [
        "time, crepe_pred, _, _ = crepe.predict(audio_03[:frame_length], sr, viterbi=True)\n",
        "crepe_pred = librosa.hz_to_midi(crepe_pred)\n",
        "print(np.round(crepe_pred,2))"
      ],
      "metadata": {
        "colab": {
          "base_uri": "https://localhost:8080/"
        },
        "id": "_0idg-0KwcuL",
        "outputId": "3d4a2f94-41f3-4b3c-b53c-db4bfd3d5113"
      },
      "execution_count": 20,
      "outputs": [
        {
          "output_type": "stream",
          "name": "stdout",
          "text": [
            "1/1 [==============================] - 1s 514ms/step\n",
            "[70.07 70.03 70.03 70.05 70.04 70.05 70.05 70.03 70.   70.  ]\n"
          ]
        }
      ]
    },
    {
      "cell_type": "code",
      "source": [
        "audio_04, sr = librosa.load('/content/SASSE_48/validation/71_valid_sample_19.wav')\n",
        "\n",
        "#plot first 50 ms\n",
        "fig, ax = plt.subplots()\n",
        "librosa.display.waveshow(audio_03[:int(0.05*sr)], sr=sr, ax=ax)\n",
        "plt.show()"
      ],
      "metadata": {
        "id": "JmSgai2slJ0-",
        "colab": {
          "base_uri": "https://localhost:8080/",
          "height": 279
        },
        "outputId": "f0fda3de-eb6c-4e6c-e143-0dfa33dbb90f"
      },
      "execution_count": 21,
      "outputs": [
        {
          "output_type": "display_data",
          "data": {
            "text/plain": [
              "<Figure size 432x288 with 1 Axes>"
            ],
            "image/png": "[encoded data removed]"
          },
          "metadata": {
            "needs_background": "light"
          }
        }
      ]
    },
    {
      "cell_type": "code",
      "source": [
        "yin_out = librosa.yin(audio_04[:frame_length], fmin=librosa.note_to_hz('C2'), fmax=librosa.note_to_hz('C7'))\n",
        "yin_out = librosa.hz_to_midi(yin_out)\n",
        "print(np.round(yin_out,2))"
      ],
      "metadata": {
        "id": "lTGjyMNclJyK",
        "colab": {
          "base_uri": "https://localhost:8080/"
        },
        "outputId": "3e5d05fa-d0dd-4204-a277-1509ce525658"
      },
      "execution_count": 22,
      "outputs": [
        {
          "output_type": "stream",
          "name": "stdout",
          "text": [
            "[71.15 71.26 71.14 71.06 71.07]\n"
          ]
        }
      ]
    },
    {
      "cell_type": "code",
      "source": [
        "pyin_out, _, _ = librosa.pyin(audio_04[:frame_length], fmin=librosa.note_to_hz('C2'), fmax=librosa.note_to_hz('C7'))\n",
        "pyin_out = librosa.hz_to_midi(pyin_out)\n",
        "print(pyin_out)"
      ],
      "metadata": {
        "id": "rGR26feplJvM",
        "colab": {
          "base_uri": "https://localhost:8080/"
        },
        "outputId": "cf94c488-c676-4637-b8e3-ca8061c70a5b"
      },
      "execution_count": 23,
      "outputs": [
        {
          "output_type": "stream",
          "name": "stdout",
          "text": [
            "[ nan 71.3 71.1 71.1 71.1]\n"
          ]
        }
      ]
    },
    {
      "cell_type": "code",
      "source": [
        "time, crepe_pred, _, _ = crepe.predict(audio_04[:frame_length], sr, viterbi=True)\n",
        "crepe_pred = librosa.hz_to_midi(crepe_pred)\n",
        "print(np.round(crepe_pred,2))"
      ],
      "metadata": {
        "id": "VEBNX-HwlJlV",
        "colab": {
          "base_uri": "https://localhost:8080/"
        },
        "outputId": "41e6f733-5f13-4bf2-dbac-44c3bea50601"
      },
      "execution_count": 24,
      "outputs": [
        {
          "output_type": "stream",
          "name": "stdout",
          "text": [
            "1/1 [==============================] - 0s 490ms/step\n",
            "[71.24 71.13 71.11 71.08 71.06 71.06 71.04 71.03 71.02 71.03]\n"
          ]
        }
      ]
    },
    {
      "cell_type": "markdown",
      "source": [
        "# Evaluating Yin, pYin, and CRéPE"
      ],
      "metadata": {
        "id": "MHoies5-tbjP"
      }
    },
    {
      "cell_type": "code",
      "source": [],
      "metadata": {
        "id": "Tcq1GWEGtpui"
      },
      "execution_count": null,
      "outputs": []
    },
    {
      "cell_type": "code",
      "source": [],
      "metadata": {
        "id": "vDLvIvkDtpns"
      },
      "execution_count": null,
      "outputs": []
    },
    {
      "cell_type": "code",
      "source": [],
      "metadata": {
        "id": "V_b3Ed0ytjlF"
      },
      "execution_count": null,
      "outputs": []
    },
    {
      "cell_type": "markdown",
      "source": [
        "## pYin evaluation"
      ],
      "metadata": {
        "id": "Njqv7MeDhTRG"
      }
    },
    {
      "cell_type": "code",
      "source": [
        "def get_pyin_estimation(sample_path, samplerate, attack_length):\n",
        "\n",
        "  # load sample\n",
        "  loader = es.MonoLoader(filename=sample_path, sampleRate=samplerate)\n",
        "  audio = loader()\n",
        "\n",
        "  # trim the sample to the first 50\n",
        "  start_stop = es.StartStopsi"
      ],
      "metadata": {
        "id": "tTDlChUJtjgg"
      },
      "execution_count": null,
      "outputs": []
    },
    {
      "cell_type": "code",
      "source": [],
      "metadata": {
        "id": "VkNIjRJVtjZG"
      },
      "execution_count": null,
      "outputs": []
    },
    {
      "cell_type": "code",
      "source": [],
      "metadata": {
        "id": "ZTexExPKtjVd"
      },
      "execution_count": null,
      "outputs": []
    },
    {
      "cell_type": "code",
      "source": [],
      "metadata": {
        "id": "dNgBc0BLtjRF"
      },
      "execution_count": null,
      "outputs": []
    },
    {
      "cell_type": "code",
      "source": [],
      "metadata": {
        "id": "tDW88NoatjMO"
      },
      "execution_count": null,
      "outputs": []
    },
    {
      "cell_type": "code",
      "source": [],
      "metadata": {
        "id": "0bfAXYXNti6S"
      },
      "execution_count": null,
      "outputs": []
    },
    {
      "cell_type": "markdown",
      "source": [
        "# CRéPE-style network"
      ],
      "metadata": {
        "id": "A16_AKxUOzeh"
      }
    },
    {
      "cell_type": "markdown",
      "source": [
        "## Model Builder"
      ],
      "metadata": {
        "id": "4v9CkCCcO3So"
      }
    },
    {
      "cell_type": "code",
      "source": [
        "models = {\n",
        "    'tiny': None,\n",
        "    'small': None,\n",
        "    'medium': None,\n",
        "    'large': None,\n",
        "    'full': None\n",
        "}\n",
        "\n",
        "# the model is trained on 16 kHz audio for now # TODO: upgrade to a higher samplerate\n",
        "model_samplerate = 1600\n",
        "\n",
        "def make_model(model_capacity, metrics, weights=None):\n",
        "  '''\n",
        "  model_capacity: tiny, small, medium, large, full\n",
        "  weights: path of .h5 weight file\n",
        "  '''\n",
        "\n",
        "  from tensorflow.keras.layers import Input, Reshape, Conv2D, BatchNormalization\n",
        "  from tensorflow.keras.layers import MaxPool2D, Dropout, Permute, Flatten, Dense\n",
        "  from tensorflow.keras.models import Model\n",
        "\n",
        "  capacity_multiplier = {\n",
        "      'tiny': 4, 'small': 8, 'medium': 16, 'large': 24, 'full': 32\n",
        "  }(model_capacity)\n",
        "\n",
        "  layers = [1, 2, 3, 4, 5, 6]\n",
        "  filters = [n * capacity_multiplier for n in [32, 4, 4, 4, 8, 16]]\n",
        "  widths = [512, 64, 64, 64, 64, 64]\n",
        "  strides = [(4,1), (1,1), (1,1), (1,1), (1,1), (1,1)]\n",
        "\n",
        "  x = Input(shape=(1024,), name='input', dtype='float32')\n",
        "  y = Reshape(target_shape=(1024, 1, 1), name='input-reshape')(x)\n",
        "\n",
        "  for l, f, w, s in zip(layers, filters, widths, strides):\n",
        "    y = Conv2d(f, (w, 1), strides=s, padding='same',\n",
        "               activation='relu', name=\"conv%d\" % l)(y)\n",
        "    y = BatchNormalization(name=\"conv%d-BN\" % l)(y)\n",
        "    y = MaxPool2D(pool_size=(2, 1), strides=None, padding='valid',\n",
        "                  name=\"conv%d-maxpool\" % l)(y)\n",
        "    y = Dropout(0.25, name=\"conv%d-dropout\" % l)(y)\n",
        "\n",
        "  y = Permute((2, 1, 3), name=\"transpose\")(y)\n",
        "  y = Flatten(name=\"flatten\")(y)\n",
        "  y = Dense(360, activation='sigmoid', name=\"classifier\")(y)\n",
        "\n",
        "  model = Model(inputs=x, outputs=y)\n",
        "\n",
        "  if weights != None:\n",
        "    model.load_weights(weights)\n",
        "  model.compile(tf.keras.optimizers.Adam(learning_rate=0.0002),\n",
        "                'binary_crossentropy', metrics=metrics)\n",
        "  \n",
        "  models[model_capacity] = model\n",
        "\n",
        "  return model"
      ],
      "metadata": {
        "id": "UzftyuMuOHgx"
      },
      "execution_count": null,
      "outputs": []
    },
    {
      "cell_type": "code",
      "source": [
        "# todo - Just use Librosa's db_to_power instead?\n",
        "def db_to_pow(db):\n",
        "  '''Convert from dB to power'''\n",
        "  return 10**(db / 10)\n",
        "\n",
        "\n",
        "def frame_energy(frame):\n",
        "  '''Calculates the average energy for a frame\n",
        "    \n",
        "    Parameters\n",
        "    ----------\n",
        "    frame : np.array\n",
        "      audio frame in np.float32 format\n",
        "\n",
        "    Returns\n",
        "    -------\n",
        "    average_energy : float\n",
        "      Average energy level for frame\n",
        "  '''\n",
        "\n",
        "  # Square the sample values to convert to energy values\n",
        "  energy = frame**2\n",
        "\n",
        "  # Sum the energy values to get total energy\n",
        "  total_energy = np.sum(energy)\n",
        "\n",
        "  # Divide by length to get average energy\n",
        "  return total_energy / len(frame)"
      ],
      "metadata": {
        "id": "z3aNDeWLhg7X"
      },
      "execution_count": null,
      "outputs": []
    },
    {
      "cell_type": "code",
      "source": [
        "make_model(_, _)"
      ],
      "metadata": {
        "id": "vDKHROskPrS0"
      },
      "execution_count": null,
      "outputs": []
    },
    {
      "cell_type": "code",
      "source": [],
      "metadata": {
        "id": "oFJ3nUm7Psgg"
      },
      "execution_count": null,
      "outputs": []
    },
    {
      "cell_type": "code",
      "source": [],
      "metadata": {
        "id": "_1e6ZAm_P1uG"
      },
      "execution_count": null,
      "outputs": []
    }
  ]
}