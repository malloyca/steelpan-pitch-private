{
  "nbformat": 4,
  "nbformat_minor": 0,
  "metadata": {
    "colab": {
      "provenance": [],
      "authorship_tag": "ABX9TyOBK2CGxtRWkse+Znoy4R9M",
      "include_colab_link": true
    },
    "kernelspec": {
      "name": "python3",
      "display_name": "Python 3"
    },
    "language_info": {
      "name": "python"
    }
  },
  "cells": [
    {
      "cell_type": "markdown",
      "metadata": {
        "id": "view-in-github",
        "colab_type": "text"
      },
      "source": [
        "<a href=\"https://colab.research.google.com/github/malloyca/steelpan-pitch/blob/main/onset-pitch/steelpan_onset.ipynb\" target=\"_parent\"><img src=\"https://colab.research.google.com/assets/colab-badge.svg\" alt=\"Open In Colab\"/></a>"
      ]
    },
    {
      "cell_type": "markdown",
      "source": [
        "# Steelpan Onset-based Pitch Detection\n",
        "\n",
        "For 183rd Meeting of the Acoustical Society of America, December 8, 2022."
      ],
      "metadata": {
        "id": "K4gWdZeIJnG9"
      }
    },
    {
      "cell_type": "code",
      "execution_count": 1,
      "metadata": {
        "colab": {
          "base_uri": "https://localhost:8080/"
        },
        "id": "OlFNmf3yJlgL",
        "outputId": "8fb969d2-a13d-4adc-f511-8e539d5ba532"
      },
      "outputs": [
        {
          "output_type": "stream",
          "name": "stdout",
          "text": [
            "TensorFlow version: 2.9.2\n",
            "[PhysicalDevice(name='/physical_device:CPU:0', device_type='CPU')]\n"
          ]
        }
      ],
      "source": [
        "# imports\n",
        "\n",
        "import tensorflow as tf\n",
        "import numpy as np\n",
        "import matplotlib.pyplot as plt\n",
        "import librosa\n",
        "from librosa import display\n",
        "\n",
        "print(f\"TensorFlow version: {tf.__version__}\")\n",
        "\n",
        "physical_devices = tf.config.list_physical_devices()\n",
        "print(physical_devices)"
      ]
    },
    {
      "cell_type": "code",
      "source": [
        "# download the SASSE dataset # TODO: update dataset to newer version\n",
        "!gdown 1hRfdF0ko2ItGK0y9z4xU_7VQLgRIx4Ql\n",
        "!unzip -qq '/content/SASSE_tiny_16.zip'"
      ],
      "metadata": {
        "colab": {
          "base_uri": "https://localhost:8080/"
        },
        "id": "CB0UJjvHKDKv",
        "outputId": "401c4a73-aacd-4074-ee62-07a51564013d"
      },
      "execution_count": 6,
      "outputs": [
        {
          "output_type": "stream",
          "name": "stdout",
          "text": [
            "Downloading...\n",
            "From: https://drive.google.com/uc?id=1hRfdF0ko2ItGK0y9z4xU_7VQLgRIx4Ql\n",
            "To: /content/SASSE_tiny_16.zip\n",
            "100% 40.9M/40.9M [00:00<00:00, 209MB/s]\n",
            "replace SASSE_tiny_16/train/73_train_sample_58.wav? [y]es, [n]o, [A]ll, [N]one, [r]ename: N\n"
          ]
        }
      ]
    },
    {
      "cell_type": "markdown",
      "source": [
        "# Steelpan Note Transients"
      ],
      "metadata": {
        "id": "Q45Fx-EZlF74"
      }
    },
    {
      "cell_type": "markdown",
      "source": [
        "Let's begin by examining the attack transients of a few steelpan samples."
      ],
      "metadata": {
        "id": "Q9u-xCH5lKho"
      }
    },
    {
      "cell_type": "code",
      "source": [
        "audio_01, sr = librosa.load('/content/SASSE_tiny_16/train/60_train_sample_101.wav')\n",
        "\n",
        "#plot first 50 ms\n",
        "fig, ax = plt.subplots()\n",
        "librosa.display.waveshow(audio_01[:int(0.05*sr)], sr=sr, ax=ax)\n",
        "plt.show()"
      ],
      "metadata": {
        "id": "9vNHpUuXlKIs",
        "outputId": "824bb0e0-f5d9-44ec-e1fb-1870eb680b07",
        "colab": {
          "base_uri": "https://localhost:8080/",
          "height": 279
        }
      },
      "execution_count": 3,
      "outputs": [
        {
          "output_type": "display_data",
          "data": {
            "text/plain": [
              "<Figure size 432x288 with 1 Axes>"
            ],
            "image/png": "[encoded data removed]"
          },
          "metadata": {
            "needs_background": "light"
          }
        }
      ]
    },
    {
      "cell_type": "code",
      "source": [
        "frame_length = 2048\n",
        "yin_out = librosa.yin(audio_01[:frame_length], fmin=librosa.note_to_hz('C2'), fmax=librosa.note_to_hz('C7'))\n",
        "yin_out = librosa.hz_to_midi(yin_out)\n",
        "print(yin_out)"
      ],
      "metadata": {
        "id": "xOUK5T5MnBaX",
        "outputId": "36df5e17-6cef-4680-8598-6ba0a5ecdad7",
        "colab": {
          "base_uri": "https://localhost:8080/"
        }
      },
      "execution_count": 4,
      "outputs": [
        {
          "output_type": "stream",
          "name": "stdout",
          "text": [
            "[60.00674299 59.94693127 60.00902527 60.10209892 60.16317091]\n"
          ]
        }
      ]
    },
    {
      "cell_type": "code",
      "source": [
        "frame_length = 2048\n",
        "pyin_out, _, _ = librosa.pyin(audio_01[:frame_length], fmin=librosa.note_to_hz('C2'), fmax=librosa.note_to_hz('C7'))\n",
        "pyin_out = librosa.hz_to_midi(pyin_out)\n",
        "print(pyin_out)"
      ],
      "metadata": {
        "id": "GTzJ7im_oj6n",
        "outputId": "8d9be22d-0d6a-4ec3-e66b-b2a5694263f9",
        "colab": {
          "base_uri": "https://localhost:8080/"
        }
      },
      "execution_count": 5,
      "outputs": [
        {
          "output_type": "stream",
          "name": "stdout",
          "text": [
            "[ nan 59.9 60.  60.1 60.2]\n"
          ]
        }
      ]
    },
    {
      "cell_type": "code",
      "source": [
        "audio_02, sr = librosa.load('/content/SASSE_tiny_16/train/65_train_sample_5.wav')\n",
        "\n",
        "#plot first 50 ms\n",
        "fig, ax = plt.subplots()\n",
        "librosa.display.waveshow(audio_02[:int(0.05*sr)], sr=sr, ax=ax)\n",
        "plt.show()"
      ],
      "metadata": {
        "id": "pDCMR1I-lKFr",
        "outputId": "30f7daec-dab0-450c-e151-2162f51d98e6",
        "colab": {
          "base_uri": "https://localhost:8080/",
          "height": 279
        }
      },
      "execution_count": 7,
      "outputs": [
        {
          "output_type": "display_data",
          "data": {
            "text/plain": [
              "<Figure size 432x288 with 1 Axes>"
            ],
            "image/png": "[encoded data removed]"
          },
          "metadata": {
            "needs_background": "light"
          }
        }
      ]
    },
    {
      "cell_type": "code",
      "source": [
        "frame_length = 2048\n",
        "yin_out = librosa.yin(audio_02[:frame_length], fmin=librosa.note_to_hz('C2'), fmax=librosa.note_to_hz('C7'))\n",
        "yin_out = librosa.hz_to_midi(yin_out)\n",
        "print(yin_out)"
      ],
      "metadata": {
        "id": "jfaYyAzNlKC4",
        "outputId": "5bc7336c-509e-4fb7-bf74-0c8234b029e2",
        "colab": {
          "base_uri": "https://localhost:8080/"
        }
      },
      "execution_count": 8,
      "outputs": [
        {
          "output_type": "stream",
          "name": "stdout",
          "text": [
            "[65.15781051 65.29300178 65.11050067 65.05926868 64.99918137]\n"
          ]
        }
      ]
    },
    {
      "cell_type": "code",
      "source": [
        "frame_length = 2048\n",
        "pyin_out, _, _ = librosa.pyin(audio_02[:frame_length], fmin=librosa.note_to_hz('C2'), fmax=librosa.note_to_hz('C7'))\n",
        "pyin_out = librosa.hz_to_midi(pyin_out)\n",
        "print(pyin_out)"
      ],
      "metadata": {
        "id": "t2W_wVsjlKAD",
        "outputId": "9c472e59-a3f1-49d2-d8a5-965599cf5782",
        "colab": {
          "base_uri": "https://localhost:8080/"
        }
      },
      "execution_count": 9,
      "outputs": [
        {
          "output_type": "stream",
          "name": "stdout",
          "text": [
            "[ nan 65.3 65.1 65.1 65. ]\n"
          ]
        }
      ]
    },
    {
      "cell_type": "code",
      "source": [
        "audio_03, sr = librosa.load('/content/SASSE_tiny_16/train/80_train_sample_142.wav')\n",
        "\n",
        "#plot first 50 ms\n",
        "fig, ax = plt.subplots()\n",
        "librosa.display.waveshow(audio_03[:int(0.05*sr)], sr=sr, ax=ax)\n",
        "plt.show()"
      ],
      "metadata": {
        "id": "gGBFkOMRlJ9R",
        "outputId": "2c016cd0-2bf8-4469-a20f-006a108b0ca0",
        "colab": {
          "base_uri": "https://localhost:8080/",
          "height": 279
        }
      },
      "execution_count": 10,
      "outputs": [
        {
          "output_type": "display_data",
          "data": {
            "text/plain": [
              "<Figure size 432x288 with 1 Axes>"
            ],
            "image/png": "[encoded data removed]"
          },
          "metadata": {
            "needs_background": "light"
          }
        }
      ]
    },
    {
      "cell_type": "code",
      "source": [
        "frame_length = 2048\n",
        "yin_out = librosa.yin(audio_03[:frame_length], fmin=librosa.note_to_hz('C2'), fmax=librosa.note_to_hz('C7'))\n",
        "yin_out = librosa.hz_to_midi(yin_out)\n",
        "print(yin_out)"
      ],
      "metadata": {
        "id": "Obrf-AQclJ6c",
        "outputId": "0de0f6d6-5658-4bd5-fead-bf7c0fccf04d",
        "colab": {
          "base_uri": "https://localhost:8080/"
        }
      },
      "execution_count": 11,
      "outputs": [
        {
          "output_type": "stream",
          "name": "stdout",
          "text": [
            "[80.0008385  79.98258798 79.99847746 80.03224232 80.0220681 ]\n"
          ]
        }
      ]
    },
    {
      "cell_type": "code",
      "source": [
        "frame_length = 2048\n",
        "pyin_out, _, _ = librosa.pyin(audio_03[:frame_length], fmin=librosa.note_to_hz('C2'), fmax=librosa.note_to_hz('C7'))\n",
        "pyin_out = librosa.hz_to_midi(pyin_out)\n",
        "print(pyin_out)"
      ],
      "metadata": {
        "id": "oEShzD_4lJ3z",
        "outputId": "44a541e8-09e8-4a05-d84c-d17ec8c2daa9",
        "colab": {
          "base_uri": "https://localhost:8080/"
        }
      },
      "execution_count": 12,
      "outputs": [
        {
          "output_type": "stream",
          "name": "stdout",
          "text": [
            "[nan 80. 80. 80. 80.]\n"
          ]
        }
      ]
    },
    {
      "cell_type": "code",
      "source": [],
      "metadata": {
        "id": "JmSgai2slJ0-"
      },
      "execution_count": null,
      "outputs": []
    },
    {
      "cell_type": "code",
      "source": [],
      "metadata": {
        "id": "lTGjyMNclJyK"
      },
      "execution_count": null,
      "outputs": []
    },
    {
      "cell_type": "code",
      "source": [],
      "metadata": {
        "id": "rGR26feplJvM"
      },
      "execution_count": null,
      "outputs": []
    },
    {
      "cell_type": "code",
      "source": [],
      "metadata": {
        "id": "VEBNX-HwlJlV"
      },
      "execution_count": null,
      "outputs": []
    },
    {
      "cell_type": "markdown",
      "source": [
        "# CRéPE-style network"
      ],
      "metadata": {
        "id": "A16_AKxUOzeh"
      }
    },
    {
      "cell_type": "markdown",
      "source": [
        "## Model Builder"
      ],
      "metadata": {
        "id": "4v9CkCCcO3So"
      }
    },
    {
      "cell_type": "code",
      "source": [
        "models = {\n",
        "    'tiny': None,\n",
        "    'small': None,\n",
        "    'medium': None,\n",
        "    'large': None,\n",
        "    'full': None\n",
        "}\n",
        "\n",
        "# the model is trained on 16 kHz audio for now # TODO: upgrade to a higher samplerate\n",
        "model_samplerate = 1600\n",
        "\n",
        "def make_model(model_capacity, metrics, weights=None):\n",
        "  '''\n",
        "  model_capacity: tiny, small, medium, large, full\n",
        "  weights: path of .h5 weight file\n",
        "  '''\n",
        "\n",
        "  from tensorflow.keras.layers import Input, Reshape, Conv2D, BatchNormalization\n",
        "  from tensorflow.keras.layers import MaxPool2D, Dropout, Permute, Flatten, Dense\n",
        "  from tensorflow.keras.models import Model\n",
        "\n",
        "  capacity_multiplier = {\n",
        "      'tiny': 4, 'small': 8, 'medium': 16, 'large': 24, 'full': 32\n",
        "  }(model_capacity)\n",
        "\n",
        "  layers = [1, 2, 3, 4, 5, 6]\n",
        "  filters = [n * capacity_multiplier for n in [32, 4, 4, 4, 8, 16]]\n",
        "  widths = [512, 64, 64, 64, 64, 64]\n",
        "  strides = [(4,1), (1,1), (1,1), (1,1), (1,1), (1,1)]\n",
        "\n",
        "  x = Input(shape=(1024,), name='input', dtype='float32')\n",
        "  y = Reshape(target_shape=(1024, 1, 1), name='input-reshape')(x)\n",
        "\n",
        "  for l, f, w, s in zip(layers, filters, widths, strides):\n",
        "    y = Conv2d(f, (w, 1), strides=s, padding='same',\n",
        "               activation='relu', name=\"conv%d\" % l)(y)\n",
        "    y = BatchNormalization(name=\"conv%d-BN\" % l)(y)\n",
        "    y = MaxPool2D(pool_size=(2, 1), strides=None, padding='valid',\n",
        "                  name=\"conv%d-maxpool\" % l)(y)\n",
        "    y = Dropout(0.25, name=\"conv%d-dropout\" % l)(y)\n",
        "\n",
        "  y = Permute((2, 1, 3), name=\"transpose\")(y)\n",
        "  y = Flatten(name=\"flatten\")(y)\n",
        "  y = Dense(360, activation='sigmoid', name=\"classifier\")(y)\n",
        "\n",
        "  model = Model(inputs=x, outputs=y)\n",
        "\n",
        "  if weights != None:\n",
        "    model.load_weights(weights)\n",
        "  model.compile(tf.keras.optimizers.Adam(learning_rate=0.0002),\n",
        "                'binary_crossentropy', metrics=metrics)\n",
        "  \n",
        "  models[model_capacity] = model\n",
        "\n",
        "  return model"
      ],
      "metadata": {
        "id": "UzftyuMuOHgx"
      },
      "execution_count": null,
      "outputs": []
    },
    {
      "cell_type": "code",
      "source": [
        "# todo - Just use Librosa's db_to_power instead?\n",
        "def db_to_pow(db):\n",
        "  '''Convert from dB to power'''\n",
        "  return 10**(db / 10)\n",
        "\n",
        "\n",
        "def frame_energy(frame):\n",
        "  '''Calculates the average energy for a frame\n",
        "    \n",
        "    Parameters\n",
        "    ----------\n",
        "    frame : np.array\n",
        "      audio frame in np.float32 format\n",
        "\n",
        "    Returns\n",
        "    -------\n",
        "    average_energy : float\n",
        "      Average energy level for frame\n",
        "  '''\n",
        "\n",
        "  # Square the sample values to convert to energy values\n",
        "  energy = frame**2\n",
        "\n",
        "  # Sum the energy values to get total energy\n",
        "  total_energy = np.sum(energy)\n",
        "\n",
        "  # Divide by length to get average energy\n",
        "  return total_energy / len(frame)"
      ],
      "metadata": {
        "id": "z3aNDeWLhg7X"
      },
      "execution_count": null,
      "outputs": []
    },
    {
      "cell_type": "code",
      "source": [
        "make_model(_, _)"
      ],
      "metadata": {
        "id": "vDKHROskPrS0"
      },
      "execution_count": null,
      "outputs": []
    },
    {
      "cell_type": "code",
      "source": [],
      "metadata": {
        "id": "oFJ3nUm7Psgg"
      },
      "execution_count": null,
      "outputs": []
    },
    {
      "cell_type": "code",
      "source": [],
      "metadata": {
        "id": "_1e6ZAm_P1uG"
      },
      "execution_count": null,
      "outputs": []
    }
  ]
}