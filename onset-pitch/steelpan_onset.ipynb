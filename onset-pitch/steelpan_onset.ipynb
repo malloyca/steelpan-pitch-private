{
  "nbformat": 4,
  "nbformat_minor": 0,
  "metadata": {
    "colab": {
      "provenance": [],
      "authorship_tag": "ABX9TyNmhs9Bh9ovzjlBCmsQAvAl",
      "include_colab_link": true
    },
    "kernelspec": {
      "name": "python3",
      "display_name": "Python 3"
    },
    "language_info": {
      "name": "python"
    }
  },
  "cells": [
    {
      "cell_type": "markdown",
      "metadata": {
        "id": "view-in-github",
        "colab_type": "text"
      },
      "source": [
        "<a href=\"https://colab.research.google.com/github/malloyca/steelpan-pitch/blob/main/onset-pitch/steelpan_onset.ipynb\" target=\"_parent\"><img src=\"https://colab.research.google.com/assets/colab-badge.svg\" alt=\"Open In Colab\"/></a>"
      ]
    },
    {
      "cell_type": "markdown",
      "source": [
        "# Steelpan Onset-based Pitch Detection\n",
        "\n",
        "For 183rd Meeting of the Acoustical Society of America, December 8, 2022."
      ],
      "metadata": {
        "id": "K4gWdZeIJnG9"
      }
    },
    {
      "cell_type": "code",
      "execution_count": 5,
      "metadata": {
        "colab": {
          "base_uri": "https://localhost:8080/"
        },
        "id": "OlFNmf3yJlgL",
        "outputId": "fc989b6f-27cb-4041-dc02-14c781c8badd"
      },
      "outputs": [
        {
          "output_type": "stream",
          "name": "stdout",
          "text": [
            "TensorFlow version: 2.9.2\n",
            "[PhysicalDevice(name='/physical_device:CPU:0', device_type='CPU')]\n"
          ]
        }
      ],
      "source": [
        "# imports\n",
        "\n",
        "import tensorflow as tf\n",
        "import numpy as np\n",
        "import librosa\n",
        "\n",
        "print(f\"TensorFlow version: {tf.__version__}\")\n",
        "\n",
        "physical_devices = tf.config.list_physical_devices()\n",
        "print(physical_devices)"
      ]
    },
    {
      "cell_type": "code",
      "source": [
        "# download the SASSE dataset # TODO: update dataset to newer version\n",
        "!gdown --id 1hRfdF0ko2ItGK0y9z4xU_7VQLgRIx4Ql\n",
        "!unzip -qq '/content/SASSE_tiny_16.zip'"
      ],
      "metadata": {
        "colab": {
          "base_uri": "https://localhost:8080/"
        },
        "id": "CB0UJjvHKDKv",
        "outputId": "04f8573d-2a70-4b7f-aa8f-3bc4dd3a0187"
      },
      "execution_count": 8,
      "outputs": [
        {
          "output_type": "stream",
          "name": "stdout",
          "text": [
            "/usr/local/lib/python3.7/dist-packages/gdown/cli.py:131: FutureWarning: Option `--id` was deprecated in version 4.3.1 and will be removed in 5.0. You don't need to pass it anymore to use a file ID.\n",
            "  category=FutureWarning,\n",
            "Downloading...\n",
            "From: https://drive.google.com/uc?id=1hRfdF0ko2ItGK0y9z4xU_7VQLgRIx4Ql\n",
            "To: /content/SASSE_tiny_16.zip\n",
            "100% 40.9M/40.9M [00:00<00:00, 242MB/s]\n",
            "replace SASSE_tiny_16/train/73_train_sample_58.wav? [y]es, [n]o, [A]ll, [N]one, [r]ename: A\n"
          ]
        }
      ]
    },
    {
      "cell_type": "markdown",
      "source": [
        "# CRéPE-style network"
      ],
      "metadata": {
        "id": "A16_AKxUOzeh"
      }
    },
    {
      "cell_type": "markdown",
      "source": [
        "## Model Builder"
      ],
      "metadata": {
        "id": "4v9CkCCcO3So"
      }
    },
    {
      "cell_type": "code",
      "source": [
        "models = {\n",
        "    'tiny': None,\n",
        "    'small': None,\n",
        "    'medium': None,\n",
        "    'large': None,\n",
        "    'full': None\n",
        "}\n",
        "\n",
        "# the model is trained on 16 kHz audio for now # TODO: upgrade to a higher samplerate\n",
        "model_samplerate = 1600\n",
        "\n",
        "def make_model(model_capacity, metrics, weights=None):\n",
        "  '''\n",
        "  model_capacity: tiny, small, medium, large, full\n",
        "  weights: path of .h5 weight file\n",
        "  '''\n",
        "\n",
        "  from tensorflow.keras.layers import Input, Reshape, Conv2D, BatchNormalization\n",
        "  from tensorflow.keras.layers import MaxPool2D, Dropout, Permute, Flatten, Dense\n",
        "  from tensorflow.keras.models import Model\n",
        "\n",
        "  capacity_multiplier = {\n",
        "      'tiny': 4, 'small': 8, 'medium': 16, 'large': 24, 'full': 32\n",
        "  }(model_capacity)\n",
        "\n",
        "  layers = [1, 2, 3, 4, 5, 6]\n",
        "  filters = [n * capacity_multiplier for n in [32, 4, 4, 4, 8, 16]]\n",
        "  widths = [512, 64, 64, 64, 64, 64]\n",
        "  strides = [(4,1), (1,1), (1,1), (1,1), (1,1), (1,1)]\n",
        "\n",
        "  x = Input(shape=(1024,), name='input', dtype='float32')\n",
        "  y = Reshape(target_shape=(1024, 1, 1), name='input-reshape')(x)\n",
        "\n",
        "  for l, f, w, s in zip(layers, filters, widths, strides):\n",
        "    y = Conv2d(f, (w, 1), strides=s, padding='same',\n",
        "               activation='relu', name=\"conv%d\" % l)(y)\n",
        "    y = BatchNormalization(name=\"conv%d-BN\" % l)(y)\n",
        "    y = MaxPool2D(pool_size=(2, 1), strides=None, padding='valid',\n",
        "                  name=\"conv%d-maxpool\" % l)(y)\n",
        "    y = Dropout(0.25, name=\"conv%d-dropout\" % l)(y)\n",
        "\n",
        "  y = Permute((2, 1, 3), name=\"transpose\")(y)\n",
        "  y = Flatten(name=\"flatten\")(y)\n",
        "  y = Dense(360, activation='sigmoid', name=\"classifier\")(y)\n",
        "\n",
        "  model = Model(inputs=x, outputs=y)\n",
        "\n",
        "  if weights != None:\n",
        "    model.load_weights(weights)\n",
        "  model.compile(tf.keras.optimizers.Adam(learning_rate=0.0002),\n",
        "                'binary_crossentropy', metrics=metrics)\n",
        "  \n",
        "  models[model_capacity] = model\n",
        "\n",
        "  return model"
      ],
      "metadata": {
        "id": "UzftyuMuOHgx"
      },
      "execution_count": 14,
      "outputs": []
    },
    {
      "cell_type": "code",
      "source": [
        "make_model(_, _)"
      ],
      "metadata": {
        "id": "vDKHROskPrS0"
      },
      "execution_count": 11,
      "outputs": []
    },
    {
      "cell_type": "code",
      "source": [],
      "metadata": {
        "id": "oFJ3nUm7Psgg"
      },
      "execution_count": 12,
      "outputs": []
    },
    {
      "cell_type": "code",
      "source": [],
      "metadata": {
        "id": "_1e6ZAm_P1uG"
      },
      "execution_count": null,
      "outputs": []
    }
  ]
}