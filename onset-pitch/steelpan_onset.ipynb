{
  "nbformat": 4,
  "nbformat_minor": 0,
  "metadata": {
    "colab": {
      "provenance": [],
      "authorship_tag": "ABX9TyM4ln5Di2lbD81HgV/WSek3",
      "include_colab_link": true
    },
    "kernelspec": {
      "name": "python3",
      "display_name": "Python 3"
    },
    "language_info": {
      "name": "python"
    }
  },
  "cells": [
    {
      "cell_type": "markdown",
      "metadata": {
        "id": "view-in-github",
        "colab_type": "text"
      },
      "source": [
        "<a href=\"https://colab.research.google.com/github/malloyca/steelpan-pitch/blob/main/onset-pitch/steelpan_onset.ipynb\" target=\"_parent\"><img src=\"https://colab.research.google.com/assets/colab-badge.svg\" alt=\"Open In Colab\"/></a>"
      ]
    },
    {
      "cell_type": "markdown",
      "source": [
        "# Steelpan Onset-based Pitch Detection\n",
        "\n",
        "For 183rd Meeting of the Acoustical Society of America, December 8, 2022."
      ],
      "metadata": {
        "id": "K4gWdZeIJnG9"
      }
    },
    {
      "cell_type": "code",
      "execution_count": 1,
      "metadata": {
        "colab": {
          "base_uri": "https://localhost:8080/"
        },
        "id": "OlFNmf3yJlgL",
        "outputId": "510d683e-1432-44e6-abe4-c61b4ff8d0c0"
      },
      "outputs": [
        {
          "output_type": "stream",
          "name": "stdout",
          "text": [
            "TensorFlow version: 2.9.2\n",
            "[PhysicalDevice(name='/physical_device:CPU:0', device_type='CPU')]\n"
          ]
        }
      ],
      "source": [
        "# imports\n",
        "\n",
        "import tensorflow as tf\n",
        "import numpy as np\n",
        "import matplotlib.pyplot as plt\n",
        "import librosa\n",
        "from librosa import display\n",
        "\n",
        "print(f\"TensorFlow version: {tf.__version__}\")\n",
        "\n",
        "physical_devices = tf.config.list_physical_devices()\n",
        "print(physical_devices)"
      ]
    },
    {
      "cell_type": "code",
      "source": [
        "!pip install crepe\n",
        "import crepe"
      ],
      "metadata": {
        "id": "42kLt07xu5Rx",
        "outputId": "b578f9f9-4f36-4d0f-f62a-633f2f3fbfad",
        "colab": {
          "base_uri": "https://localhost:8080/"
        }
      },
      "execution_count": 2,
      "outputs": [
        {
          "output_type": "stream",
          "name": "stdout",
          "text": [
            "Looking in indexes: https://pypi.org/simple, https://us-python.pkg.dev/colab-wheels/public/simple/\n",
            "Requirement already satisfied: crepe in /usr/local/lib/python3.7/dist-packages (0.0.13)\n",
            "Requirement already satisfied: numpy>=1.14.0 in /usr/local/lib/python3.7/dist-packages (from crepe) (1.21.6)\n",
            "Requirement already satisfied: scipy>=1.0.0 in /usr/local/lib/python3.7/dist-packages (from crepe) (1.7.3)\n",
            "Requirement already satisfied: hmmlearn<0.3.0,>=0.2.8 in /usr/local/lib/python3.7/dist-packages (from crepe) (0.2.8)\n",
            "Requirement already satisfied: matplotlib>=2.1.0 in /usr/local/lib/python3.7/dist-packages (from crepe) (3.2.2)\n",
            "Requirement already satisfied: h5py in /usr/local/lib/python3.7/dist-packages (from crepe) (3.1.0)\n",
            "Requirement already satisfied: imageio>=2.3.0 in /usr/local/lib/python3.7/dist-packages (from crepe) (2.9.0)\n",
            "Requirement already satisfied: scikit-learn>=0.16 in /usr/local/lib/python3.7/dist-packages (from crepe) (1.0.2)\n",
            "Requirement already satisfied: resampy<0.3.0,>=0.2.0 in /usr/local/lib/python3.7/dist-packages (from crepe) (0.2.2)\n",
            "Requirement already satisfied: pillow in /usr/local/lib/python3.7/dist-packages (from imageio>=2.3.0->crepe) (7.1.2)\n",
            "Requirement already satisfied: python-dateutil>=2.1 in /usr/local/lib/python3.7/dist-packages (from matplotlib>=2.1.0->crepe) (2.8.2)\n",
            "Requirement already satisfied: kiwisolver>=1.0.1 in /usr/local/lib/python3.7/dist-packages (from matplotlib>=2.1.0->crepe) (1.4.4)\n",
            "Requirement already satisfied: pyparsing!=2.0.4,!=2.1.2,!=2.1.6,>=2.0.1 in /usr/local/lib/python3.7/dist-packages (from matplotlib>=2.1.0->crepe) (3.0.9)\n",
            "Requirement already satisfied: cycler>=0.10 in /usr/local/lib/python3.7/dist-packages (from matplotlib>=2.1.0->crepe) (0.11.0)\n",
            "Requirement already satisfied: typing-extensions in /usr/local/lib/python3.7/dist-packages (from kiwisolver>=1.0.1->matplotlib>=2.1.0->crepe) (4.1.1)\n",
            "Requirement already satisfied: six>=1.5 in /usr/local/lib/python3.7/dist-packages (from python-dateutil>=2.1->matplotlib>=2.1.0->crepe) (1.15.0)\n",
            "Requirement already satisfied: numba>=0.32 in /usr/local/lib/python3.7/dist-packages (from resampy<0.3.0,>=0.2.0->crepe) (0.56.4)\n",
            "Requirement already satisfied: importlib-metadata in /usr/local/lib/python3.7/dist-packages (from numba>=0.32->resampy<0.3.0,>=0.2.0->crepe) (4.13.0)\n",
            "Requirement already satisfied: llvmlite<0.40,>=0.39.0dev0 in /usr/local/lib/python3.7/dist-packages (from numba>=0.32->resampy<0.3.0,>=0.2.0->crepe) (0.39.1)\n",
            "Requirement already satisfied: setuptools in /usr/local/lib/python3.7/dist-packages (from numba>=0.32->resampy<0.3.0,>=0.2.0->crepe) (57.4.0)\n",
            "Requirement already satisfied: joblib>=0.11 in /usr/local/lib/python3.7/dist-packages (from scikit-learn>=0.16->crepe) (1.2.0)\n",
            "Requirement already satisfied: threadpoolctl>=2.0.0 in /usr/local/lib/python3.7/dist-packages (from scikit-learn>=0.16->crepe) (3.1.0)\n",
            "Requirement already satisfied: cached-property in /usr/local/lib/python3.7/dist-packages (from h5py->crepe) (1.5.2)\n",
            "Requirement already satisfied: zipp>=0.5 in /usr/local/lib/python3.7/dist-packages (from importlib-metadata->numba>=0.32->resampy<0.3.0,>=0.2.0->crepe) (3.10.0)\n"
          ]
        }
      ]
    },
    {
      "cell_type": "code",
      "source": [
        "# download the SASSE dataset # TODO: update dataset to newer version\n",
        "#!gdown 1hRfdF0ko2ItGK0y9z4xU_7VQLgRIx4Ql\n",
        "#!unzip -u -qq '/content/SASSE_tiny_16.zip'"
      ],
      "metadata": {
        "colab": {
          "base_uri": "https://localhost:8080/"
        },
        "id": "CB0UJjvHKDKv",
        "outputId": "d9c07ff4-8bd3-4efd-fe4e-a1fcb9be5f57"
      },
      "execution_count": 4,
      "outputs": [
        {
          "output_type": "stream",
          "name": "stdout",
          "text": [
            "Downloading...\n",
            "From: https://drive.google.com/uc?id=1hRfdF0ko2ItGK0y9z4xU_7VQLgRIx4Ql\n",
            "To: /content/SASSE_tiny_16.zip\n",
            "100% 40.9M/40.9M [00:00<00:00, 66.5MB/s]\n"
          ]
        }
      ]
    },
    {
      "cell_type": "code",
      "source": [
        "# download the SASSE-16k dataset\n",
        "!gdown 11volHbUTp1X0NyrtiEgjRtgwivwaw1Bs\n",
        "!unzip -u -qq '/content/SASSE_16.zip'"
      ],
      "metadata": {
        "id": "d9X1Sy-x8q0d",
        "outputId": "ddc25afc-4480-4bf0-c1f2-cdad869da034",
        "colab": {
          "base_uri": "https://localhost:8080/"
        }
      },
      "execution_count": 28,
      "outputs": [
        {
          "output_type": "stream",
          "name": "stdout",
          "text": [
            "Downloading...\n",
            "From: https://drive.google.com/uc?id=11volHbUTp1X0NyrtiEgjRtgwivwaw1Bs\n",
            "To: /content/SASSE_16.zip\n",
            "100% 443M/443M [00:01<00:00, 223MB/s]\n"
          ]
        }
      ]
    },
    {
      "cell_type": "code",
      "source": [
        "# download the SASSE-48k dataset\n",
        "!gdown 1U3IfVjQ_xCc7ZqVZpR9oPNAtPfA26CKs\n",
        "!unzip -u -qq '/content/SASSE_48.zip'"
      ],
      "metadata": {
        "id": "KYt3WQQf9OZC",
        "outputId": "5b248fb1-4318-4d05-bdc4-48015591fcbf",
        "colab": {
          "base_uri": "https://localhost:8080/"
        }
      },
      "execution_count": 30,
      "outputs": [
        {
          "output_type": "stream",
          "name": "stdout",
          "text": [
            "Downloading...\n",
            "From: https://drive.google.com/uc?id=1U3IfVjQ_xCc7ZqVZpR9oPNAtPfA26CKs\n",
            "To: /content/SASSE_48.zip\n",
            "100% 1.10G/1.10G [00:06<00:00, 182MB/s]\n"
          ]
        }
      ]
    },
    {
      "cell_type": "markdown",
      "source": [
        "# Steelpan Note Transients"
      ],
      "metadata": {
        "id": "Q45Fx-EZlF74"
      }
    },
    {
      "cell_type": "markdown",
      "source": [
        "Let's begin by examining the attack transients of a few steelpan samples."
      ],
      "metadata": {
        "id": "Q9u-xCH5lKho"
      }
    },
    {
      "cell_type": "code",
      "source": [
        "frame_length = 2048"
      ],
      "metadata": {
        "id": "26qc-LMu69-s"
      },
      "execution_count": 23,
      "outputs": []
    },
    {
      "cell_type": "code",
      "source": [
        "audio_01, sr = librosa.load('/content/SASSE_tiny_16/train/60_train_sample_101.wav')\n",
        "\n",
        "#plot first 50 ms\n",
        "fig, ax = plt.subplots()\n",
        "librosa.display.waveshow(audio_01[:int(0.05*sr)], sr=sr, ax=ax)\n",
        "plt.show()"
      ],
      "metadata": {
        "id": "9vNHpUuXlKIs",
        "outputId": "f15dfb2c-12d4-4abc-b69a-62e4bb1a4995",
        "colab": {
          "base_uri": "https://localhost:8080/",
          "height": 279
        }
      },
      "execution_count": 5,
      "outputs": [
        {
          "output_type": "display_data",
          "data": {
            "text/plain": [
              "<Figure size 432x288 with 1 Axes>"
            ],
            "image/png": "[encoded data removed]"
          },
          "metadata": {
            "needs_background": "light"
          }
        }
      ]
    },
    {
      "cell_type": "code",
      "source": [
        "yin_out = librosa.yin(audio_01[:frame_length], fmin=librosa.note_to_hz('C2'), fmax=librosa.note_to_hz('C7'))\n",
        "yin_out = librosa.hz_to_midi(yin_out)\n",
        "print(np.round(yin_out,2))"
      ],
      "metadata": {
        "id": "xOUK5T5MnBaX",
        "outputId": "708ba664-0465-4245-b42d-d8827b75e76f",
        "colab": {
          "base_uri": "https://localhost:8080/"
        }
      },
      "execution_count": 6,
      "outputs": [
        {
          "output_type": "stream",
          "name": "stdout",
          "text": [
            "[60.01 59.95 60.01 60.1  60.16]\n"
          ]
        }
      ]
    },
    {
      "cell_type": "code",
      "source": [
        "pyin_out, _, _ = librosa.pyin(audio_01[:frame_length], fmin=librosa.note_to_hz('C2'), fmax=librosa.note_to_hz('C7'))\n",
        "pyin_out = librosa.hz_to_midi(pyin_out)\n",
        "print(pyin_out)"
      ],
      "metadata": {
        "id": "GTzJ7im_oj6n",
        "outputId": "3d5a233a-9482-4ad0-81ee-3751a2d2a3ef",
        "colab": {
          "base_uri": "https://localhost:8080/"
        }
      },
      "execution_count": 7,
      "outputs": [
        {
          "output_type": "stream",
          "name": "stdout",
          "text": [
            "[ nan 59.9 60.  60.1 60.2]\n"
          ]
        }
      ]
    },
    {
      "cell_type": "code",
      "source": [
        "time, crepe_pred, _, _ = crepe.predict(audio_01[:frame_length], sr, viterbi=True)\n",
        "crepe_pred = librosa.hz_to_midi(crepe_pred)\n",
        "print(np.round(crepe_pred,2))"
      ],
      "metadata": {
        "id": "174Pv228v1kA",
        "outputId": "c39ac1ea-5975-4caa-80f5-5a12ebde5593",
        "colab": {
          "base_uri": "https://localhost:8080/"
        }
      },
      "execution_count": 10,
      "outputs": [
        {
          "output_type": "stream",
          "name": "stdout",
          "text": [
            "1/1 [==============================] - 1s 733ms/step\n",
            "[60.29 60.25 60.19 60.14 60.12 60.1  60.07 60.06 60.07 60.14]\n"
          ]
        }
      ]
    },
    {
      "cell_type": "code",
      "source": [
        "audio_02, sr = librosa.load('/content/SASSE_tiny_16/train/65_train_sample_5.wav')\n",
        "\n",
        "#plot first 50 ms\n",
        "fig, ax = plt.subplots()\n",
        "librosa.display.waveshow(audio_02[:int(0.05*sr)], sr=sr, ax=ax)\n",
        "plt.show()"
      ],
      "metadata": {
        "id": "pDCMR1I-lKFr",
        "outputId": "2aad0c16-0bf6-4f5a-f57b-797e08e6b1ea",
        "colab": {
          "base_uri": "https://localhost:8080/",
          "height": 279
        }
      },
      "execution_count": 11,
      "outputs": [
        {
          "output_type": "display_data",
          "data": {
            "text/plain": [
              "<Figure size 432x288 with 1 Axes>"
            ],
            "image/png": "[encoded data removed]"
          },
          "metadata": {
            "needs_background": "light"
          }
        }
      ]
    },
    {
      "cell_type": "code",
      "source": [
        "yin_out = librosa.yin(audio_02[:frame_length], fmin=librosa.note_to_hz('C2'), fmax=librosa.note_to_hz('C7'))\n",
        "yin_out = librosa.hz_to_midi(yin_out)\n",
        "print(np.round(yin_out,2))"
      ],
      "metadata": {
        "id": "jfaYyAzNlKC4",
        "outputId": "18670aab-cde9-4002-897c-8f61d10f7b0c",
        "colab": {
          "base_uri": "https://localhost:8080/"
        }
      },
      "execution_count": 12,
      "outputs": [
        {
          "output_type": "stream",
          "name": "stdout",
          "text": [
            "[65.16 65.29 65.11 65.06 65.  ]\n"
          ]
        }
      ]
    },
    {
      "cell_type": "code",
      "source": [
        "pyin_out, _, _ = librosa.pyin(audio_02[:frame_length], fmin=librosa.note_to_hz('C2'), fmax=librosa.note_to_hz('C7'))\n",
        "pyin_out = librosa.hz_to_midi(pyin_out)\n",
        "print(pyin_out)"
      ],
      "metadata": {
        "id": "t2W_wVsjlKAD",
        "outputId": "de7b784d-60ec-4700-9402-ca0b3d6b566f",
        "colab": {
          "base_uri": "https://localhost:8080/"
        }
      },
      "execution_count": 13,
      "outputs": [
        {
          "output_type": "stream",
          "name": "stdout",
          "text": [
            "[ nan 65.3 65.1 65.1 65. ]\n"
          ]
        }
      ]
    },
    {
      "cell_type": "code",
      "source": [
        "time, crepe_pred, _, _ = crepe.predict(audio_02[:frame_length], sr, viterbi=True)\n",
        "crepe_pred = librosa.hz_to_midi(crepe_pred)\n",
        "print(np.round(crepe_pred,2))"
      ],
      "metadata": {
        "id": "JmF0VMG5wTqt",
        "outputId": "66ec9d86-5446-4825-84bd-a8547e3dffa1",
        "colab": {
          "base_uri": "https://localhost:8080/"
        }
      },
      "execution_count": 14,
      "outputs": [
        {
          "output_type": "stream",
          "name": "stdout",
          "text": [
            "1/1 [==============================] - 0s 478ms/step\n",
            "[65.21 65.12 65.08 65.05 65.04 65.03 65.02 65.01 64.99 64.96]\n"
          ]
        }
      ]
    },
    {
      "cell_type": "code",
      "source": [
        "audio_03, sr = librosa.load('/content/SASSE_tiny_16/train/80_train_sample_142.wav')\n",
        "\n",
        "#plot first 50 ms\n",
        "fig, ax = plt.subplots()\n",
        "librosa.display.waveshow(audio_03[:int(0.05*sr)], sr=sr, ax=ax)\n",
        "plt.show()"
      ],
      "metadata": {
        "id": "gGBFkOMRlJ9R",
        "outputId": "066a2d4b-3b6d-4ac1-e2c3-502c4e36da08",
        "colab": {
          "base_uri": "https://localhost:8080/",
          "height": 279
        }
      },
      "execution_count": 15,
      "outputs": [
        {
          "output_type": "display_data",
          "data": {
            "text/plain": [
              "<Figure size 432x288 with 1 Axes>"
            ],
            "image/png": "[encoded data removed]"
          },
          "metadata": {
            "needs_background": "light"
          }
        }
      ]
    },
    {
      "cell_type": "code",
      "source": [
        "yin_out = librosa.yin(audio_03[:frame_length], fmin=librosa.note_to_hz('C2'), fmax=librosa.note_to_hz('C7'))\n",
        "yin_out = librosa.hz_to_midi(yin_out)\n",
        "print(np.round(yin_out,2))"
      ],
      "metadata": {
        "id": "Obrf-AQclJ6c",
        "outputId": "fbf236d8-8bd3-4c56-8234-67d33bdcd977",
        "colab": {
          "base_uri": "https://localhost:8080/"
        }
      },
      "execution_count": 16,
      "outputs": [
        {
          "output_type": "stream",
          "name": "stdout",
          "text": [
            "[80.   79.98 80.   80.03 80.02]\n"
          ]
        }
      ]
    },
    {
      "cell_type": "code",
      "source": [
        "pyin_out, _, _ = librosa.pyin(audio_03[:frame_length], fmin=librosa.note_to_hz('C2'), fmax=librosa.note_to_hz('C7'))\n",
        "pyin_out = librosa.hz_to_midi(pyin_out)\n",
        "print(pyin_out)"
      ],
      "metadata": {
        "id": "oEShzD_4lJ3z",
        "outputId": "5a0318e3-8fa5-4a0b-b576-35efccf95b6d",
        "colab": {
          "base_uri": "https://localhost:8080/"
        }
      },
      "execution_count": 17,
      "outputs": [
        {
          "output_type": "stream",
          "name": "stdout",
          "text": [
            "[nan 80. 80. 80. 80.]\n"
          ]
        }
      ]
    },
    {
      "cell_type": "code",
      "source": [
        "time, crepe_pred, _, _ = crepe.predict(audio_03[:frame_length], sr, viterbi=True)\n",
        "crepe_pred = librosa.hz_to_midi(crepe_pred)\n",
        "print(np.round(crepe_pred,2))"
      ],
      "metadata": {
        "id": "_0idg-0KwcuL",
        "outputId": "68a26edd-d137-4b82-bb37-a956f4296bfc",
        "colab": {
          "base_uri": "https://localhost:8080/"
        }
      },
      "execution_count": 18,
      "outputs": [
        {
          "output_type": "stream",
          "name": "stdout",
          "text": [
            "1/1 [==============================] - 1s 831ms/step\n",
            "[80.07 80.04 80.02 80.03 80.03 80.03 80.05 80.03 80.03 80.01]\n"
          ]
        }
      ]
    },
    {
      "cell_type": "code",
      "source": [
        "audio_04, sr = librosa.load('/content/SASSE_tiny_16/train/88_train_sample_85.wav')\n",
        "\n",
        "#plot first 50 ms\n",
        "fig, ax = plt.subplots()\n",
        "librosa.display.waveshow(audio_03[:int(0.05*sr)], sr=sr, ax=ax)\n",
        "plt.show()"
      ],
      "metadata": {
        "id": "JmSgai2slJ0-",
        "outputId": "f0b302e0-e097-47f5-b629-d229d09c4828",
        "colab": {
          "base_uri": "https://localhost:8080/",
          "height": 279
        }
      },
      "execution_count": 19,
      "outputs": [
        {
          "output_type": "display_data",
          "data": {
            "text/plain": [
              "<Figure size 432x288 with 1 Axes>"
            ],
            "image/png": "[encoded data removed]"
          },
          "metadata": {
            "needs_background": "light"
          }
        }
      ]
    },
    {
      "cell_type": "code",
      "source": [
        "yin_out = librosa.yin(audio_04[:frame_length], fmin=librosa.note_to_hz('C2'), fmax=librosa.note_to_hz('C7'))\n",
        "yin_out = librosa.hz_to_midi(yin_out)\n",
        "print(np.round(yin_out,2))"
      ],
      "metadata": {
        "id": "lTGjyMNclJyK",
        "outputId": "9e8b619f-9ced-4310-ca58-f00a870e77b4",
        "colab": {
          "base_uri": "https://localhost:8080/"
        }
      },
      "execution_count": 20,
      "outputs": [
        {
          "output_type": "stream",
          "name": "stdout",
          "text": [
            "[87.97 69.1  69.06 88.01 88.05]\n"
          ]
        }
      ]
    },
    {
      "cell_type": "code",
      "source": [
        "pyin_out, _, _ = librosa.pyin(audio_04[:frame_length], fmin=librosa.note_to_hz('C2'), fmax=librosa.note_to_hz('C7'))\n",
        "pyin_out = librosa.hz_to_midi(pyin_out)\n",
        "print(pyin_out)"
      ],
      "metadata": {
        "id": "rGR26feplJvM",
        "outputId": "eeefc431-8ce3-4f2e-98a7-18f67777aba5",
        "colab": {
          "base_uri": "https://localhost:8080/"
        }
      },
      "execution_count": 21,
      "outputs": [
        {
          "output_type": "stream",
          "name": "stdout",
          "text": [
            "[ nan 87.9 88.  88.  88. ]\n"
          ]
        }
      ]
    },
    {
      "cell_type": "code",
      "source": [
        "time, crepe_pred, _, _ = crepe.predict(audio_04[:frame_length], sr, viterbi=True)\n",
        "crepe_pred = librosa.hz_to_midi(crepe_pred)\n",
        "print(np.round(crepe_pred,2))"
      ],
      "metadata": {
        "id": "VEBNX-HwlJlV",
        "outputId": "d69d4882-a17c-4091-c59d-d6156c62eb86",
        "colab": {
          "base_uri": "https://localhost:8080/"
        }
      },
      "execution_count": 22,
      "outputs": [
        {
          "output_type": "stream",
          "name": "stdout",
          "text": [
            "1/1 [==============================] - 1s 1s/step\n",
            "[87.96 88.1  88.06 88.02 88.   88.01 87.98 87.99 88.01 88.01]\n"
          ]
        }
      ]
    },
    {
      "cell_type": "markdown",
      "source": [
        "# Evaluating Yin, pYin, and CRéPE"
      ],
      "metadata": {
        "id": "MHoies5-tbjP"
      }
    },
    {
      "cell_type": "code",
      "source": [],
      "metadata": {
        "id": "Tcq1GWEGtpui"
      },
      "execution_count": null,
      "outputs": []
    },
    {
      "cell_type": "code",
      "source": [],
      "metadata": {
        "id": "vDLvIvkDtpns"
      },
      "execution_count": null,
      "outputs": []
    },
    {
      "cell_type": "code",
      "source": [],
      "metadata": {
        "id": "V_b3Ed0ytjlF"
      },
      "execution_count": null,
      "outputs": []
    },
    {
      "cell_type": "code",
      "source": [],
      "metadata": {
        "id": "tTDlChUJtjgg"
      },
      "execution_count": null,
      "outputs": []
    },
    {
      "cell_type": "code",
      "source": [],
      "metadata": {
        "id": "VkNIjRJVtjZG"
      },
      "execution_count": null,
      "outputs": []
    },
    {
      "cell_type": "code",
      "source": [],
      "metadata": {
        "id": "ZTexExPKtjVd"
      },
      "execution_count": null,
      "outputs": []
    },
    {
      "cell_type": "code",
      "source": [],
      "metadata": {
        "id": "dNgBc0BLtjRF"
      },
      "execution_count": null,
      "outputs": []
    },
    {
      "cell_type": "code",
      "source": [],
      "metadata": {
        "id": "tDW88NoatjMO"
      },
      "execution_count": null,
      "outputs": []
    },
    {
      "cell_type": "code",
      "source": [],
      "metadata": {
        "id": "0bfAXYXNti6S"
      },
      "execution_count": null,
      "outputs": []
    },
    {
      "cell_type": "markdown",
      "source": [
        "# CRéPE-style network"
      ],
      "metadata": {
        "id": "A16_AKxUOzeh"
      }
    },
    {
      "cell_type": "markdown",
      "source": [
        "## Model Builder"
      ],
      "metadata": {
        "id": "4v9CkCCcO3So"
      }
    },
    {
      "cell_type": "code",
      "source": [
        "models = {\n",
        "    'tiny': None,\n",
        "    'small': None,\n",
        "    'medium': None,\n",
        "    'large': None,\n",
        "    'full': None\n",
        "}\n",
        "\n",
        "# the model is trained on 16 kHz audio for now # TODO: upgrade to a higher samplerate\n",
        "model_samplerate = 1600\n",
        "\n",
        "def make_model(model_capacity, metrics, weights=None):\n",
        "  '''\n",
        "  model_capacity: tiny, small, medium, large, full\n",
        "  weights: path of .h5 weight file\n",
        "  '''\n",
        "\n",
        "  from tensorflow.keras.layers import Input, Reshape, Conv2D, BatchNormalization\n",
        "  from tensorflow.keras.layers import MaxPool2D, Dropout, Permute, Flatten, Dense\n",
        "  from tensorflow.keras.models import Model\n",
        "\n",
        "  capacity_multiplier = {\n",
        "      'tiny': 4, 'small': 8, 'medium': 16, 'large': 24, 'full': 32\n",
        "  }(model_capacity)\n",
        "\n",
        "  layers = [1, 2, 3, 4, 5, 6]\n",
        "  filters = [n * capacity_multiplier for n in [32, 4, 4, 4, 8, 16]]\n",
        "  widths = [512, 64, 64, 64, 64, 64]\n",
        "  strides = [(4,1), (1,1), (1,1), (1,1), (1,1), (1,1)]\n",
        "\n",
        "  x = Input(shape=(1024,), name='input', dtype='float32')\n",
        "  y = Reshape(target_shape=(1024, 1, 1), name='input-reshape')(x)\n",
        "\n",
        "  for l, f, w, s in zip(layers, filters, widths, strides):\n",
        "    y = Conv2d(f, (w, 1), strides=s, padding='same',\n",
        "               activation='relu', name=\"conv%d\" % l)(y)\n",
        "    y = BatchNormalization(name=\"conv%d-BN\" % l)(y)\n",
        "    y = MaxPool2D(pool_size=(2, 1), strides=None, padding='valid',\n",
        "                  name=\"conv%d-maxpool\" % l)(y)\n",
        "    y = Dropout(0.25, name=\"conv%d-dropout\" % l)(y)\n",
        "\n",
        "  y = Permute((2, 1, 3), name=\"transpose\")(y)\n",
        "  y = Flatten(name=\"flatten\")(y)\n",
        "  y = Dense(360, activation='sigmoid', name=\"classifier\")(y)\n",
        "\n",
        "  model = Model(inputs=x, outputs=y)\n",
        "\n",
        "  if weights != None:\n",
        "    model.load_weights(weights)\n",
        "  model.compile(tf.keras.optimizers.Adam(learning_rate=0.0002),\n",
        "                'binary_crossentropy', metrics=metrics)\n",
        "  \n",
        "  models[model_capacity] = model\n",
        "\n",
        "  return model"
      ],
      "metadata": {
        "id": "UzftyuMuOHgx"
      },
      "execution_count": null,
      "outputs": []
    },
    {
      "cell_type": "code",
      "source": [
        "# todo - Just use Librosa's db_to_power instead?\n",
        "def db_to_pow(db):\n",
        "  '''Convert from dB to power'''\n",
        "  return 10**(db / 10)\n",
        "\n",
        "\n",
        "def frame_energy(frame):\n",
        "  '''Calculates the average energy for a frame\n",
        "    \n",
        "    Parameters\n",
        "    ----------\n",
        "    frame : np.array\n",
        "      audio frame in np.float32 format\n",
        "\n",
        "    Returns\n",
        "    -------\n",
        "    average_energy : float\n",
        "      Average energy level for frame\n",
        "  '''\n",
        "\n",
        "  # Square the sample values to convert to energy values\n",
        "  energy = frame**2\n",
        "\n",
        "  # Sum the energy values to get total energy\n",
        "  total_energy = np.sum(energy)\n",
        "\n",
        "  # Divide by length to get average energy\n",
        "  return total_energy / len(frame)"
      ],
      "metadata": {
        "id": "z3aNDeWLhg7X"
      },
      "execution_count": null,
      "outputs": []
    },
    {
      "cell_type": "code",
      "source": [
        "make_model(_, _)"
      ],
      "metadata": {
        "id": "vDKHROskPrS0"
      },
      "execution_count": null,
      "outputs": []
    },
    {
      "cell_type": "code",
      "source": [],
      "metadata": {
        "id": "oFJ3nUm7Psgg"
      },
      "execution_count": null,
      "outputs": []
    },
    {
      "cell_type": "code",
      "source": [],
      "metadata": {
        "id": "_1e6ZAm_P1uG"
      },
      "execution_count": null,
      "outputs": []
    }
  ]
}